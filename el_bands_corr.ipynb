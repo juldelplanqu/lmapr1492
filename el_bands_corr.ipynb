{
 "cells": [
  {
   "cell_type": "code",
   "execution_count": 100,
   "id": "e928a32b",
   "metadata": {},
   "outputs": [],
   "source": [
    "import numpy as np\n",
    "from mp_api.client import MPRester\n",
    "from pymatgen.core.operations import SymmOp\n",
    "from pymatgen.symmetry.analyzer import SpacegroupAnalyzer\n",
    "from pymatgen.electronic_structure import bandstructure\n",
    "from pymatgen.electronic_structure.plotter import BSPlotter\n",
    "from lmapr1492 import plot_brillouin_zone, get_plot_bs, get_plot_dos, get_plot_bs_and_dos, get_branch_wavevectors, latex_fix\n",
    "from plotly.subplots import make_subplots\n",
    "import plotly.graph_objects as go\n",
    "from matplotlib import pyplot as plt "
   ]
  },
  {
   "cell_type": "code",
   "execution_count": 101,
   "id": "fa0145b2",
   "metadata": {},
   "outputs": [],
   "source": [
    "mp_key = \"kPLAfUWZpfzd6GRd9caSEcAaWKf3DxYL\"\n",
    "mp_id = \"mp-569677\""
   ]
  },
  {
   "cell_type": "code",
   "execution_count": 102,
   "id": "092013ab",
   "metadata": {},
   "outputs": [
    {
     "data": {
      "application/vnd.jupyter.widget-view+json": {
       "model_id": "4fdcfc32c4374e1da377ad9b18a26585",
       "version_major": 2,
       "version_minor": 0
      },
      "text/plain": [
       "Retrieving MaterialsDoc documents:   0%|          | 0/1 [00:00<?, ?it/s]"
      ]
     },
     "metadata": {},
     "output_type": "display_data"
    },
    {
     "data": {
      "application/vnd.jupyter.widget-view+json": {
       "model_id": "2a7fc209b4be4f69bf96c37e16e92898",
       "version_major": 2,
       "version_minor": 0
      },
      "text/plain": [
       "Retrieving ElectronicStructureDoc documents:   0%|          | 0/1 [00:00<?, ?it/s]"
      ]
     },
     "metadata": {},
     "output_type": "display_data"
    },
    {
     "data": {
      "application/vnd.jupyter.widget-view+json": {
       "model_id": "cdbb494cece34ae69254fbe57365907e",
       "version_major": 2,
       "version_minor": 0
      },
      "text/plain": [
       "Retrieving ElectronicStructureDoc documents:   0%|          | 0/1 [00:00<?, ?it/s]"
      ]
     },
     "metadata": {},
     "output_type": "display_data"
    }
   ],
   "source": [
    "with MPRester(mp_key) as m:\n",
    "    prim_struc = m.get_structure_by_material_id(mp_id)\n",
    "    el_bs = m.get_bandstructure_by_material_id(mp_id)\n",
    "    el_dos = m.get_dos_by_material_id(mp_id)\n",
    "conv_struc = SpacegroupAnalyzer(prim_struc).get_conventional_standard_structure()\n",
    "symmops = SpacegroupAnalyzer(conv_struc).get_space_group_operations()"
   ]
  },
  {
   "cell_type": "markdown",
   "id": "aa10fbdb",
   "metadata": {},
   "source": [
    "# Première zone de Brillouin"
   ]
  },
  {
   "cell_type": "code",
   "execution_count": 98,
   "id": "9eef3aa2",
   "metadata": {},
   "outputs": [],
   "source": [
    "import itertools\n",
    "import plotly.graph_objects as go\n",
    "from plotly.subplots import make_subplots\n",
    "# Plotting of the Brillouin zone\n",
    "def go_points(points, size=4, color=\"black\", labels=None):\n",
    "    mode = \"markers\" if labels is None else \"markers+text\"\n",
    "\n",
    "    if labels is not None:\n",
    "        for il in range(len(labels)):\n",
    "            labels[il] = latex_fix(labels[il])\n",
    "\n",
    "    import plotly.graph_objects as go\n",
    "    return go.Scatter3d(\n",
    "        x=[v[0] for v in points],\n",
    "        y=[v[1] for v in points],\n",
    "        z=[v[2] for v in points],\n",
    "        marker=dict(size=size, color=color),\n",
    "        mode=mode,\n",
    "        text=labels,\n",
    "        textfont_color=color,\n",
    "        showlegend=False\n",
    "    )\n",
    "\n",
    "def go_line(v1, v2, color=\"black\", width=2, mode=\"lines\", text=\"\"):\n",
    "    import plotly.graph_objects as go\n",
    "    return go.Scatter3d(\n",
    "        mode=mode,\n",
    "        x=[v1[0], v2[0]],\n",
    "        y=[v1[1], v2[1]],\n",
    "        z=[v1[2], v2[2]],\n",
    "        line=dict(color=color),\n",
    "        text=text,\n",
    "        showlegend=False\n",
    "    )"
   ]
  },
  {
   "cell_type": "code",
   "execution_count": 99,
   "id": "b0c2631c",
   "metadata": {},
   "outputs": [
    {
     "data": {
      "application/vnd.plotly.v1+json": {
       "config": {
        "plotlyServerURL": "https://plot.ly"
       },
       "data": [
        {
         "line": {
          "color": "black"
         },
         "mode": "lines",
         "showlegend": false,
         "text": "",
         "type": "scatter3d",
         "x": [
          -5.551115123125783e-17,
          0.27063627652297007
         ],
         "y": [
          -0.5655632002276814,
          -0.4966062330411687
         ],
         "z": [
          -0.9098583725758828,
          -0.9098583725758826
         ]
        },
        {
         "line": {
          "color": "black"
         },
         "mode": "lines",
         "showlegend": false,
         "text": "",
         "type": "scatter3d",
         "x": [
          -5.551115123125783e-17,
          -0.2706362765229703
         ],
         "y": [
          -0.5655632002276814,
          -0.4966062330411687
         ],
         "z": [
          -0.9098583725758828,
          -0.9098583725758829
         ]
        },
        {
         "line": {
          "color": "black"
         },
         "mode": "lines",
         "showlegend": false,
         "text": "",
         "type": "scatter3d",
         "x": [
          0.27063627652297007,
          0.27063627652297007
         ],
         "y": [
          -0.4966062330411687,
          0.49660623304116874
         ],
         "z": [
          -0.9098583725758826,
          -0.9098583725758826
         ]
        },
        {
         "line": {
          "color": "black"
         },
         "mode": "lines",
         "showlegend": false,
         "text": "",
         "type": "scatter3d",
         "x": [
          0.27063627652297007,
          5.551115123125783e-17
         ],
         "y": [
          0.49660623304116874,
          0.565563200227681
         ],
         "z": [
          -0.9098583725758826,
          -0.9098583725758826
         ]
        },
        {
         "line": {
          "color": "black"
         },
         "mode": "lines",
         "showlegend": false,
         "text": "",
         "type": "scatter3d",
         "x": [
          5.551115123125783e-17,
          -0.27063627652297007
         ],
         "y": [
          0.565563200227681,
          0.4966062330411687
         ],
         "z": [
          -0.9098583725758826,
          -0.9098583725758828
         ]
        },
        {
         "line": {
          "color": "black"
         },
         "mode": "lines",
         "showlegend": false,
         "text": "",
         "type": "scatter3d",
         "x": [
          -0.27063627652297007,
          -0.2706362765229703
         ],
         "y": [
          0.4966062330411687,
          -0.4966062330411687
         ],
         "z": [
          -0.9098583725758828,
          -0.9098583725758829
         ]
        },
        {
         "line": {
          "color": "black"
         },
         "mode": "lines",
         "showlegend": false,
         "text": "",
         "type": "scatter3d",
         "x": [
          -0.12653314560653245,
          5.551115123125783e-17
         ],
         "y": [
          1.062169593963779,
          0.565563200227681
         ],
         "z": [
          -0.05906877122243648,
          -0.9098583725758826
         ]
        },
        {
         "line": {
          "color": "black"
         },
         "mode": "lines",
         "showlegend": false,
         "text": "",
         "type": "scatter3d",
         "x": [
          -0.12653314560653245,
          -0.3971694221295024
         ],
         "y": [
          1.062169593963779,
          0.9932126267772666
         ],
         "z": [
          -0.05906877122243648,
          -0.05906877122243648
         ]
        },
        {
         "line": {
          "color": "black"
         },
         "mode": "lines",
         "showlegend": false,
         "text": "",
         "type": "scatter3d",
         "x": [
          -0.27063627652297007,
          -0.3971694221295024
         ],
         "y": [
          0.4966062330411687,
          0.9932126267772666
         ],
         "z": [
          -0.9098583725758828,
          -0.05906877122243648
         ]
        },
        {
         "line": {
          "color": "black"
         },
         "mode": "lines",
         "showlegend": false,
         "text": "",
         "type": "scatter3d",
         "x": [
          -0.12653314560653245,
          0.12653314560653245
         ],
         "y": [
          -1.0621695939637792,
          -1.062169593963779
         ],
         "z": [
          -0.0590687712224367,
          0.05906877122243648
         ]
        },
        {
         "line": {
          "color": "black"
         },
         "mode": "lines",
         "showlegend": false,
         "text": "",
         "type": "scatter3d",
         "x": [
          -0.12653314560653245,
          -5.551115123125783e-17
         ],
         "y": [
          -1.0621695939637792,
          -0.5655632002276814
         ],
         "z": [
          -0.0590687712224367,
          -0.9098583725758828
         ]
        },
        {
         "line": {
          "color": "black"
         },
         "mode": "lines",
         "showlegend": false,
         "text": "",
         "type": "scatter3d",
         "x": [
          0.12653314560653245,
          0.3971694221295027
         ],
         "y": [
          -1.062169593963779,
          -0.9932126267772666
         ],
         "z": [
          0.05906877122243648,
          0.059068771222436534
         ]
        },
        {
         "line": {
          "color": "black"
         },
         "mode": "lines",
         "showlegend": false,
         "text": "",
         "type": "scatter3d",
         "x": [
          0.3971694221295027,
          0.5237025677360352
         ],
         "y": [
          -0.9932126267772666,
          -0.4966062330411685
         ],
         "z": [
          0.059068771222436534,
          -0.7917208301310096
         ]
        },
        {
         "line": {
          "color": "black"
         },
         "mode": "lines",
         "showlegend": false,
         "text": "",
         "type": "scatter3d",
         "x": [
          0.5237025677360352,
          0.27063627652297007
         ],
         "y": [
          -0.4966062330411685,
          -0.4966062330411687
         ],
         "z": [
          -0.7917208301310096,
          -0.9098583725758826
         ]
        },
        {
         "line": {
          "color": "black"
         },
         "mode": "lines",
         "showlegend": false,
         "text": "",
         "type": "scatter3d",
         "x": [
          -0.12653314560653245,
          -0.3971694221295029
         ],
         "y": [
          -1.0621695939637792,
          -0.9932126267772668
         ],
         "z": [
          -0.0590687712224367,
          -0.0590687712224367
         ]
        },
        {
         "line": {
          "color": "black"
         },
         "mode": "lines",
         "showlegend": false,
         "text": "",
         "type": "scatter3d",
         "x": [
          -0.2706362765229703,
          -0.3971694221295029
         ],
         "y": [
          -0.4966062330411687,
          -0.9932126267772668
         ],
         "z": [
          -0.9098583725758829,
          -0.0590687712224367
         ]
        },
        {
         "line": {
          "color": "black"
         },
         "mode": "lines",
         "showlegend": false,
         "text": "",
         "type": "scatter3d",
         "x": [
          -0.3971694221295029,
          -0.5237025677360351
         ],
         "y": [
          -0.9932126267772668,
          -0.49660623304116885
         ],
         "z": [
          -0.0590687712224367,
          0.7917208301310096
         ]
        },
        {
         "line": {
          "color": "black"
         },
         "mode": "lines",
         "showlegend": false,
         "text": "",
         "type": "scatter3d",
         "x": [
          -0.5237025677360351,
          -0.5237025677360351
         ],
         "y": [
          -0.49660623304116885,
          0.49660623304116874
         ],
         "z": [
          0.7917208301310096,
          0.7917208301310096
         ]
        },
        {
         "line": {
          "color": "black"
         },
         "mode": "lines",
         "showlegend": false,
         "text": "",
         "type": "scatter3d",
         "x": [
          -0.5237025677360351,
          -0.3971694221295024
         ],
         "y": [
          0.49660623304116874,
          0.9932126267772666
         ],
         "z": [
          0.7917208301310096,
          -0.05906877122243648
         ]
        },
        {
         "line": {
          "color": "black"
         },
         "mode": "lines",
         "showlegend": false,
         "text": "",
         "type": "scatter3d",
         "x": [
          -0.12653314560653245,
          0.12653314560653245
         ],
         "y": [
          1.062169593963779,
          1.062169593963779
         ],
         "z": [
          -0.05906877122243648,
          0.0590687712224367
         ]
        },
        {
         "line": {
          "color": "black"
         },
         "mode": "lines",
         "showlegend": false,
         "text": "",
         "type": "scatter3d",
         "x": [
          0.12653314560653245,
          0.3971694221295025
         ],
         "y": [
          1.062169593963779,
          0.9932126267772667
         ],
         "z": [
          0.0590687712224367,
          0.0590687712224367
         ]
        },
        {
         "line": {
          "color": "black"
         },
         "mode": "lines",
         "showlegend": false,
         "text": "",
         "type": "scatter3d",
         "x": [
          0.3971694221295025,
          0.5237025677360352
         ],
         "y": [
          0.9932126267772667,
          0.49660623304116874
         ],
         "z": [
          0.0590687712224367,
          -0.7917208301310096
         ]
        },
        {
         "line": {
          "color": "black"
         },
         "mode": "lines",
         "showlegend": false,
         "text": "",
         "type": "scatter3d",
         "x": [
          0.5237025677360352,
          0.27063627652297007
         ],
         "y": [
          0.49660623304116874,
          0.49660623304116874
         ],
         "z": [
          -0.7917208301310096,
          -0.9098583725758826
         ]
        },
        {
         "line": {
          "color": "black"
         },
         "mode": "lines",
         "showlegend": false,
         "text": "",
         "type": "scatter3d",
         "x": [
          0.5237025677360352,
          0.5237025677360352
         ],
         "y": [
          -0.4966062330411685,
          0.49660623304116874
         ],
         "z": [
          -0.7917208301310096,
          -0.7917208301310096
         ]
        },
        {
         "line": {
          "color": "black"
         },
         "mode": "lines",
         "showlegend": false,
         "text": "",
         "type": "scatter3d",
         "x": [
          -0.2706362765229703,
          0
         ],
         "y": [
          0.49660623304116874,
          0.5655632002276809
         ],
         "z": [
          0.9098583725758828,
          0.9098583725758828
         ]
        },
        {
         "line": {
          "color": "black"
         },
         "mode": "lines",
         "showlegend": false,
         "text": "",
         "type": "scatter3d",
         "x": [
          -0.2706362765229703,
          -0.2706362765229703
         ],
         "y": [
          0.49660623304116874,
          -0.49660623304116874
         ],
         "z": [
          0.9098583725758828,
          0.9098583725758828
         ]
        },
        {
         "line": {
          "color": "black"
         },
         "mode": "lines",
         "showlegend": false,
         "text": "",
         "type": "scatter3d",
         "x": [
          0,
          0.2706362765229704
         ],
         "y": [
          0.5655632002276809,
          0.49660623304116874
         ],
         "z": [
          0.9098583725758828,
          0.9098583725758828
         ]
        },
        {
         "line": {
          "color": "black"
         },
         "mode": "lines",
         "showlegend": false,
         "text": "",
         "type": "scatter3d",
         "x": [
          0.2706362765229704,
          0.27063627652297045
         ],
         "y": [
          0.49660623304116874,
          -0.4966062330411687
         ],
         "z": [
          0.9098583725758828,
          0.9098583725758828
         ]
        },
        {
         "line": {
          "color": "black"
         },
         "mode": "lines",
         "showlegend": false,
         "text": "",
         "type": "scatter3d",
         "x": [
          0.27063627652297045,
          -1.9709561705414665e-16
         ],
         "y": [
          -0.4966062330411687,
          -0.5655632002276809
         ],
         "z": [
          0.9098583725758828,
          0.9098583725758828
         ]
        },
        {
         "line": {
          "color": "black"
         },
         "mode": "lines",
         "showlegend": false,
         "text": "",
         "type": "scatter3d",
         "x": [
          -1.9709561705414665e-16,
          -0.2706362765229703
         ],
         "y": [
          -0.5655632002276809,
          -0.49660623304116874
         ],
         "z": [
          0.9098583725758828,
          0.9098583725758828
         ]
        },
        {
         "line": {
          "color": "black"
         },
         "mode": "lines",
         "showlegend": false,
         "text": "",
         "type": "scatter3d",
         "x": [
          -0.5237025677360351,
          -0.2706362765229703
         ],
         "y": [
          0.49660623304116874,
          0.49660623304116874
         ],
         "z": [
          0.7917208301310096,
          0.9098583725758828
         ]
        },
        {
         "line": {
          "color": "black"
         },
         "mode": "lines",
         "showlegend": false,
         "text": "",
         "type": "scatter3d",
         "x": [
          -0.5237025677360351,
          -0.2706362765229703
         ],
         "y": [
          -0.49660623304116885,
          -0.49660623304116874
         ],
         "z": [
          0.7917208301310096,
          0.9098583725758828
         ]
        },
        {
         "line": {
          "color": "black"
         },
         "mode": "lines",
         "showlegend": false,
         "text": "",
         "type": "scatter3d",
         "x": [
          0.12653314560653245,
          0
         ],
         "y": [
          1.062169593963779,
          0.5655632002276809
         ],
         "z": [
          0.0590687712224367,
          0.9098583725758828
         ]
        },
        {
         "line": {
          "color": "black"
         },
         "mode": "lines",
         "showlegend": false,
         "text": "",
         "type": "scatter3d",
         "x": [
          0.3971694221295025,
          0.2706362765229704
         ],
         "y": [
          0.9932126267772667,
          0.49660623304116874
         ],
         "z": [
          0.0590687712224367,
          0.9098583725758828
         ]
        },
        {
         "line": {
          "color": "black"
         },
         "mode": "lines",
         "showlegend": false,
         "text": "",
         "type": "scatter3d",
         "x": [
          0.12653314560653245,
          -1.9709561705414665e-16
         ],
         "y": [
          -1.062169593963779,
          -0.5655632002276809
         ],
         "z": [
          0.05906877122243648,
          0.9098583725758828
         ]
        },
        {
         "line": {
          "color": "black"
         },
         "mode": "lines",
         "showlegend": false,
         "text": "",
         "type": "scatter3d",
         "x": [
          0.3971694221295027,
          0.27063627652297045
         ],
         "y": [
          -0.9932126267772666,
          -0.4966062330411687
         ],
         "z": [
          0.059068771222436534,
          0.9098583725758828
         ]
        }
       ],
       "layout": {
        "scene": {
         "xaxis": {
          "range": [
           -1.15,
           1.15
          ],
          "visible": false
         },
         "yaxis": {
          "range": [
           -1.15,
           1.15
          ],
          "visible": false
         },
         "zaxis": {
          "range": [
           -1.15,
           1.15
          ],
          "visible": false
         }
        },
        "template": {
         "data": {
          "bar": [
           {
            "error_x": {
             "color": "#2a3f5f"
            },
            "error_y": {
             "color": "#2a3f5f"
            },
            "marker": {
             "line": {
              "color": "#E5ECF6",
              "width": 0.5
             },
             "pattern": {
              "fillmode": "overlay",
              "size": 10,
              "solidity": 0.2
             }
            },
            "type": "bar"
           }
          ],
          "barpolar": [
           {
            "marker": {
             "line": {
              "color": "#E5ECF6",
              "width": 0.5
             },
             "pattern": {
              "fillmode": "overlay",
              "size": 10,
              "solidity": 0.2
             }
            },
            "type": "barpolar"
           }
          ],
          "carpet": [
           {
            "aaxis": {
             "endlinecolor": "#2a3f5f",
             "gridcolor": "white",
             "linecolor": "white",
             "minorgridcolor": "white",
             "startlinecolor": "#2a3f5f"
            },
            "baxis": {
             "endlinecolor": "#2a3f5f",
             "gridcolor": "white",
             "linecolor": "white",
             "minorgridcolor": "white",
             "startlinecolor": "#2a3f5f"
            },
            "type": "carpet"
           }
          ],
          "choropleth": [
           {
            "colorbar": {
             "outlinewidth": 0,
             "ticks": ""
            },
            "type": "choropleth"
           }
          ],
          "contour": [
           {
            "colorbar": {
             "outlinewidth": 0,
             "ticks": ""
            },
            "colorscale": [
             [
              0,
              "#0d0887"
             ],
             [
              0.1111111111111111,
              "#46039f"
             ],
             [
              0.2222222222222222,
              "#7201a8"
             ],
             [
              0.3333333333333333,
              "#9c179e"
             ],
             [
              0.4444444444444444,
              "#bd3786"
             ],
             [
              0.5555555555555556,
              "#d8576b"
             ],
             [
              0.6666666666666666,
              "#ed7953"
             ],
             [
              0.7777777777777778,
              "#fb9f3a"
             ],
             [
              0.8888888888888888,
              "#fdca26"
             ],
             [
              1,
              "#f0f921"
             ]
            ],
            "type": "contour"
           }
          ],
          "contourcarpet": [
           {
            "colorbar": {
             "outlinewidth": 0,
             "ticks": ""
            },
            "type": "contourcarpet"
           }
          ],
          "heatmap": [
           {
            "colorbar": {
             "outlinewidth": 0,
             "ticks": ""
            },
            "colorscale": [
             [
              0,
              "#0d0887"
             ],
             [
              0.1111111111111111,
              "#46039f"
             ],
             [
              0.2222222222222222,
              "#7201a8"
             ],
             [
              0.3333333333333333,
              "#9c179e"
             ],
             [
              0.4444444444444444,
              "#bd3786"
             ],
             [
              0.5555555555555556,
              "#d8576b"
             ],
             [
              0.6666666666666666,
              "#ed7953"
             ],
             [
              0.7777777777777778,
              "#fb9f3a"
             ],
             [
              0.8888888888888888,
              "#fdca26"
             ],
             [
              1,
              "#f0f921"
             ]
            ],
            "type": "heatmap"
           }
          ],
          "heatmapgl": [
           {
            "colorbar": {
             "outlinewidth": 0,
             "ticks": ""
            },
            "colorscale": [
             [
              0,
              "#0d0887"
             ],
             [
              0.1111111111111111,
              "#46039f"
             ],
             [
              0.2222222222222222,
              "#7201a8"
             ],
             [
              0.3333333333333333,
              "#9c179e"
             ],
             [
              0.4444444444444444,
              "#bd3786"
             ],
             [
              0.5555555555555556,
              "#d8576b"
             ],
             [
              0.6666666666666666,
              "#ed7953"
             ],
             [
              0.7777777777777778,
              "#fb9f3a"
             ],
             [
              0.8888888888888888,
              "#fdca26"
             ],
             [
              1,
              "#f0f921"
             ]
            ],
            "type": "heatmapgl"
           }
          ],
          "histogram": [
           {
            "marker": {
             "pattern": {
              "fillmode": "overlay",
              "size": 10,
              "solidity": 0.2
             }
            },
            "type": "histogram"
           }
          ],
          "histogram2d": [
           {
            "colorbar": {
             "outlinewidth": 0,
             "ticks": ""
            },
            "colorscale": [
             [
              0,
              "#0d0887"
             ],
             [
              0.1111111111111111,
              "#46039f"
             ],
             [
              0.2222222222222222,
              "#7201a8"
             ],
             [
              0.3333333333333333,
              "#9c179e"
             ],
             [
              0.4444444444444444,
              "#bd3786"
             ],
             [
              0.5555555555555556,
              "#d8576b"
             ],
             [
              0.6666666666666666,
              "#ed7953"
             ],
             [
              0.7777777777777778,
              "#fb9f3a"
             ],
             [
              0.8888888888888888,
              "#fdca26"
             ],
             [
              1,
              "#f0f921"
             ]
            ],
            "type": "histogram2d"
           }
          ],
          "histogram2dcontour": [
           {
            "colorbar": {
             "outlinewidth": 0,
             "ticks": ""
            },
            "colorscale": [
             [
              0,
              "#0d0887"
             ],
             [
              0.1111111111111111,
              "#46039f"
             ],
             [
              0.2222222222222222,
              "#7201a8"
             ],
             [
              0.3333333333333333,
              "#9c179e"
             ],
             [
              0.4444444444444444,
              "#bd3786"
             ],
             [
              0.5555555555555556,
              "#d8576b"
             ],
             [
              0.6666666666666666,
              "#ed7953"
             ],
             [
              0.7777777777777778,
              "#fb9f3a"
             ],
             [
              0.8888888888888888,
              "#fdca26"
             ],
             [
              1,
              "#f0f921"
             ]
            ],
            "type": "histogram2dcontour"
           }
          ],
          "mesh3d": [
           {
            "colorbar": {
             "outlinewidth": 0,
             "ticks": ""
            },
            "type": "mesh3d"
           }
          ],
          "parcoords": [
           {
            "line": {
             "colorbar": {
              "outlinewidth": 0,
              "ticks": ""
             }
            },
            "type": "parcoords"
           }
          ],
          "pie": [
           {
            "automargin": true,
            "type": "pie"
           }
          ],
          "scatter": [
           {
            "fillpattern": {
             "fillmode": "overlay",
             "size": 10,
             "solidity": 0.2
            },
            "type": "scatter"
           }
          ],
          "scatter3d": [
           {
            "line": {
             "colorbar": {
              "outlinewidth": 0,
              "ticks": ""
             }
            },
            "marker": {
             "colorbar": {
              "outlinewidth": 0,
              "ticks": ""
             }
            },
            "type": "scatter3d"
           }
          ],
          "scattercarpet": [
           {
            "marker": {
             "colorbar": {
              "outlinewidth": 0,
              "ticks": ""
             }
            },
            "type": "scattercarpet"
           }
          ],
          "scattergeo": [
           {
            "marker": {
             "colorbar": {
              "outlinewidth": 0,
              "ticks": ""
             }
            },
            "type": "scattergeo"
           }
          ],
          "scattergl": [
           {
            "marker": {
             "colorbar": {
              "outlinewidth": 0,
              "ticks": ""
             }
            },
            "type": "scattergl"
           }
          ],
          "scattermapbox": [
           {
            "marker": {
             "colorbar": {
              "outlinewidth": 0,
              "ticks": ""
             }
            },
            "type": "scattermapbox"
           }
          ],
          "scatterpolar": [
           {
            "marker": {
             "colorbar": {
              "outlinewidth": 0,
              "ticks": ""
             }
            },
            "type": "scatterpolar"
           }
          ],
          "scatterpolargl": [
           {
            "marker": {
             "colorbar": {
              "outlinewidth": 0,
              "ticks": ""
             }
            },
            "type": "scatterpolargl"
           }
          ],
          "scatterternary": [
           {
            "marker": {
             "colorbar": {
              "outlinewidth": 0,
              "ticks": ""
             }
            },
            "type": "scatterternary"
           }
          ],
          "surface": [
           {
            "colorbar": {
             "outlinewidth": 0,
             "ticks": ""
            },
            "colorscale": [
             [
              0,
              "#0d0887"
             ],
             [
              0.1111111111111111,
              "#46039f"
             ],
             [
              0.2222222222222222,
              "#7201a8"
             ],
             [
              0.3333333333333333,
              "#9c179e"
             ],
             [
              0.4444444444444444,
              "#bd3786"
             ],
             [
              0.5555555555555556,
              "#d8576b"
             ],
             [
              0.6666666666666666,
              "#ed7953"
             ],
             [
              0.7777777777777778,
              "#fb9f3a"
             ],
             [
              0.8888888888888888,
              "#fdca26"
             ],
             [
              1,
              "#f0f921"
             ]
            ],
            "type": "surface"
           }
          ],
          "table": [
           {
            "cells": {
             "fill": {
              "color": "#EBF0F8"
             },
             "line": {
              "color": "white"
             }
            },
            "header": {
             "fill": {
              "color": "#C8D4E3"
             },
             "line": {
              "color": "white"
             }
            },
            "type": "table"
           }
          ]
         },
         "layout": {
          "annotationdefaults": {
           "arrowcolor": "#2a3f5f",
           "arrowhead": 0,
           "arrowwidth": 1
          },
          "autotypenumbers": "strict",
          "coloraxis": {
           "colorbar": {
            "outlinewidth": 0,
            "ticks": ""
           }
          },
          "colorscale": {
           "diverging": [
            [
             0,
             "#8e0152"
            ],
            [
             0.1,
             "#c51b7d"
            ],
            [
             0.2,
             "#de77ae"
            ],
            [
             0.3,
             "#f1b6da"
            ],
            [
             0.4,
             "#fde0ef"
            ],
            [
             0.5,
             "#f7f7f7"
            ],
            [
             0.6,
             "#e6f5d0"
            ],
            [
             0.7,
             "#b8e186"
            ],
            [
             0.8,
             "#7fbc41"
            ],
            [
             0.9,
             "#4d9221"
            ],
            [
             1,
             "#276419"
            ]
           ],
           "sequential": [
            [
             0,
             "#0d0887"
            ],
            [
             0.1111111111111111,
             "#46039f"
            ],
            [
             0.2222222222222222,
             "#7201a8"
            ],
            [
             0.3333333333333333,
             "#9c179e"
            ],
            [
             0.4444444444444444,
             "#bd3786"
            ],
            [
             0.5555555555555556,
             "#d8576b"
            ],
            [
             0.6666666666666666,
             "#ed7953"
            ],
            [
             0.7777777777777778,
             "#fb9f3a"
            ],
            [
             0.8888888888888888,
             "#fdca26"
            ],
            [
             1,
             "#f0f921"
            ]
           ],
           "sequentialminus": [
            [
             0,
             "#0d0887"
            ],
            [
             0.1111111111111111,
             "#46039f"
            ],
            [
             0.2222222222222222,
             "#7201a8"
            ],
            [
             0.3333333333333333,
             "#9c179e"
            ],
            [
             0.4444444444444444,
             "#bd3786"
            ],
            [
             0.5555555555555556,
             "#d8576b"
            ],
            [
             0.6666666666666666,
             "#ed7953"
            ],
            [
             0.7777777777777778,
             "#fb9f3a"
            ],
            [
             0.8888888888888888,
             "#fdca26"
            ],
            [
             1,
             "#f0f921"
            ]
           ]
          },
          "colorway": [
           "#636efa",
           "#EF553B",
           "#00cc96",
           "#ab63fa",
           "#FFA15A",
           "#19d3f3",
           "#FF6692",
           "#B6E880",
           "#FF97FF",
           "#FECB52"
          ],
          "font": {
           "color": "#2a3f5f"
          },
          "geo": {
           "bgcolor": "white",
           "lakecolor": "white",
           "landcolor": "#E5ECF6",
           "showlakes": true,
           "showland": true,
           "subunitcolor": "white"
          },
          "hoverlabel": {
           "align": "left"
          },
          "hovermode": "closest",
          "mapbox": {
           "style": "light"
          },
          "paper_bgcolor": "white",
          "plot_bgcolor": "#E5ECF6",
          "polar": {
           "angularaxis": {
            "gridcolor": "white",
            "linecolor": "white",
            "ticks": ""
           },
           "bgcolor": "#E5ECF6",
           "radialaxis": {
            "gridcolor": "white",
            "linecolor": "white",
            "ticks": ""
           }
          },
          "scene": {
           "xaxis": {
            "backgroundcolor": "#E5ECF6",
            "gridcolor": "white",
            "gridwidth": 2,
            "linecolor": "white",
            "showbackground": true,
            "ticks": "",
            "zerolinecolor": "white"
           },
           "yaxis": {
            "backgroundcolor": "#E5ECF6",
            "gridcolor": "white",
            "gridwidth": 2,
            "linecolor": "white",
            "showbackground": true,
            "ticks": "",
            "zerolinecolor": "white"
           },
           "zaxis": {
            "backgroundcolor": "#E5ECF6",
            "gridcolor": "white",
            "gridwidth": 2,
            "linecolor": "white",
            "showbackground": true,
            "ticks": "",
            "zerolinecolor": "white"
           }
          },
          "shapedefaults": {
           "line": {
            "color": "#2a3f5f"
           }
          },
          "ternary": {
           "aaxis": {
            "gridcolor": "white",
            "linecolor": "white",
            "ticks": ""
           },
           "baxis": {
            "gridcolor": "white",
            "linecolor": "white",
            "ticks": ""
           },
           "bgcolor": "#E5ECF6",
           "caxis": {
            "gridcolor": "white",
            "linecolor": "white",
            "ticks": ""
           }
          },
          "title": {
           "x": 0.05
          },
          "xaxis": {
           "automargin": true,
           "gridcolor": "white",
           "linecolor": "white",
           "ticks": "",
           "title": {
            "standoff": 15
           },
           "zerolinecolor": "white",
           "zerolinewidth": 2
          },
          "yaxis": {
           "automargin": true,
           "gridcolor": "white",
           "linecolor": "white",
           "ticks": "",
           "title": {
            "standoff": 15
           },
           "zerolinecolor": "white",
           "zerolinewidth": 2
          }
         }
        }
       }
      },
      "text/html": [
       "<div>                            <div id=\"d968d9ee-63b5-46bb-9938-5986eec8963c\" class=\"plotly-graph-div\" style=\"height:525px; width:100%;\"></div>            <script type=\"text/javascript\">                require([\"plotly\"], function(Plotly) {                    window.PLOTLYENV=window.PLOTLYENV || {};                                    if (document.getElementById(\"d968d9ee-63b5-46bb-9938-5986eec8963c\")) {                    Plotly.newPlot(                        \"d968d9ee-63b5-46bb-9938-5986eec8963c\",                        [{\"line\":{\"color\":\"black\"},\"mode\":\"lines\",\"showlegend\":false,\"text\":\"\",\"x\":[-5.551115123125783e-17,0.27063627652297007],\"y\":[-0.5655632002276814,-0.4966062330411687],\"z\":[-0.9098583725758828,-0.9098583725758826],\"type\":\"scatter3d\"},{\"line\":{\"color\":\"black\"},\"mode\":\"lines\",\"showlegend\":false,\"text\":\"\",\"x\":[-5.551115123125783e-17,-0.2706362765229703],\"y\":[-0.5655632002276814,-0.4966062330411687],\"z\":[-0.9098583725758828,-0.9098583725758829],\"type\":\"scatter3d\"},{\"line\":{\"color\":\"black\"},\"mode\":\"lines\",\"showlegend\":false,\"text\":\"\",\"x\":[0.27063627652297007,0.27063627652297007],\"y\":[-0.4966062330411687,0.49660623304116874],\"z\":[-0.9098583725758826,-0.9098583725758826],\"type\":\"scatter3d\"},{\"line\":{\"color\":\"black\"},\"mode\":\"lines\",\"showlegend\":false,\"text\":\"\",\"x\":[0.27063627652297007,5.551115123125783e-17],\"y\":[0.49660623304116874,0.565563200227681],\"z\":[-0.9098583725758826,-0.9098583725758826],\"type\":\"scatter3d\"},{\"line\":{\"color\":\"black\"},\"mode\":\"lines\",\"showlegend\":false,\"text\":\"\",\"x\":[5.551115123125783e-17,-0.27063627652297007],\"y\":[0.565563200227681,0.4966062330411687],\"z\":[-0.9098583725758826,-0.9098583725758828],\"type\":\"scatter3d\"},{\"line\":{\"color\":\"black\"},\"mode\":\"lines\",\"showlegend\":false,\"text\":\"\",\"x\":[-0.27063627652297007,-0.2706362765229703],\"y\":[0.4966062330411687,-0.4966062330411687],\"z\":[-0.9098583725758828,-0.9098583725758829],\"type\":\"scatter3d\"},{\"line\":{\"color\":\"black\"},\"mode\":\"lines\",\"showlegend\":false,\"text\":\"\",\"x\":[-0.12653314560653245,5.551115123125783e-17],\"y\":[1.062169593963779,0.565563200227681],\"z\":[-0.05906877122243648,-0.9098583725758826],\"type\":\"scatter3d\"},{\"line\":{\"color\":\"black\"},\"mode\":\"lines\",\"showlegend\":false,\"text\":\"\",\"x\":[-0.12653314560653245,-0.3971694221295024],\"y\":[1.062169593963779,0.9932126267772666],\"z\":[-0.05906877122243648,-0.05906877122243648],\"type\":\"scatter3d\"},{\"line\":{\"color\":\"black\"},\"mode\":\"lines\",\"showlegend\":false,\"text\":\"\",\"x\":[-0.27063627652297007,-0.3971694221295024],\"y\":[0.4966062330411687,0.9932126267772666],\"z\":[-0.9098583725758828,-0.05906877122243648],\"type\":\"scatter3d\"},{\"line\":{\"color\":\"black\"},\"mode\":\"lines\",\"showlegend\":false,\"text\":\"\",\"x\":[-0.12653314560653245,0.12653314560653245],\"y\":[-1.0621695939637792,-1.062169593963779],\"z\":[-0.0590687712224367,0.05906877122243648],\"type\":\"scatter3d\"},{\"line\":{\"color\":\"black\"},\"mode\":\"lines\",\"showlegend\":false,\"text\":\"\",\"x\":[-0.12653314560653245,-5.551115123125783e-17],\"y\":[-1.0621695939637792,-0.5655632002276814],\"z\":[-0.0590687712224367,-0.9098583725758828],\"type\":\"scatter3d\"},{\"line\":{\"color\":\"black\"},\"mode\":\"lines\",\"showlegend\":false,\"text\":\"\",\"x\":[0.12653314560653245,0.3971694221295027],\"y\":[-1.062169593963779,-0.9932126267772666],\"z\":[0.05906877122243648,0.059068771222436534],\"type\":\"scatter3d\"},{\"line\":{\"color\":\"black\"},\"mode\":\"lines\",\"showlegend\":false,\"text\":\"\",\"x\":[0.3971694221295027,0.5237025677360352],\"y\":[-0.9932126267772666,-0.4966062330411685],\"z\":[0.059068771222436534,-0.7917208301310096],\"type\":\"scatter3d\"},{\"line\":{\"color\":\"black\"},\"mode\":\"lines\",\"showlegend\":false,\"text\":\"\",\"x\":[0.5237025677360352,0.27063627652297007],\"y\":[-0.4966062330411685,-0.4966062330411687],\"z\":[-0.7917208301310096,-0.9098583725758826],\"type\":\"scatter3d\"},{\"line\":{\"color\":\"black\"},\"mode\":\"lines\",\"showlegend\":false,\"text\":\"\",\"x\":[-0.12653314560653245,-0.3971694221295029],\"y\":[-1.0621695939637792,-0.9932126267772668],\"z\":[-0.0590687712224367,-0.0590687712224367],\"type\":\"scatter3d\"},{\"line\":{\"color\":\"black\"},\"mode\":\"lines\",\"showlegend\":false,\"text\":\"\",\"x\":[-0.2706362765229703,-0.3971694221295029],\"y\":[-0.4966062330411687,-0.9932126267772668],\"z\":[-0.9098583725758829,-0.0590687712224367],\"type\":\"scatter3d\"},{\"line\":{\"color\":\"black\"},\"mode\":\"lines\",\"showlegend\":false,\"text\":\"\",\"x\":[-0.3971694221295029,-0.5237025677360351],\"y\":[-0.9932126267772668,-0.49660623304116885],\"z\":[-0.0590687712224367,0.7917208301310096],\"type\":\"scatter3d\"},{\"line\":{\"color\":\"black\"},\"mode\":\"lines\",\"showlegend\":false,\"text\":\"\",\"x\":[-0.5237025677360351,-0.5237025677360351],\"y\":[-0.49660623304116885,0.49660623304116874],\"z\":[0.7917208301310096,0.7917208301310096],\"type\":\"scatter3d\"},{\"line\":{\"color\":\"black\"},\"mode\":\"lines\",\"showlegend\":false,\"text\":\"\",\"x\":[-0.5237025677360351,-0.3971694221295024],\"y\":[0.49660623304116874,0.9932126267772666],\"z\":[0.7917208301310096,-0.05906877122243648],\"type\":\"scatter3d\"},{\"line\":{\"color\":\"black\"},\"mode\":\"lines\",\"showlegend\":false,\"text\":\"\",\"x\":[-0.12653314560653245,0.12653314560653245],\"y\":[1.062169593963779,1.062169593963779],\"z\":[-0.05906877122243648,0.0590687712224367],\"type\":\"scatter3d\"},{\"line\":{\"color\":\"black\"},\"mode\":\"lines\",\"showlegend\":false,\"text\":\"\",\"x\":[0.12653314560653245,0.3971694221295025],\"y\":[1.062169593963779,0.9932126267772667],\"z\":[0.0590687712224367,0.0590687712224367],\"type\":\"scatter3d\"},{\"line\":{\"color\":\"black\"},\"mode\":\"lines\",\"showlegend\":false,\"text\":\"\",\"x\":[0.3971694221295025,0.5237025677360352],\"y\":[0.9932126267772667,0.49660623304116874],\"z\":[0.0590687712224367,-0.7917208301310096],\"type\":\"scatter3d\"},{\"line\":{\"color\":\"black\"},\"mode\":\"lines\",\"showlegend\":false,\"text\":\"\",\"x\":[0.5237025677360352,0.27063627652297007],\"y\":[0.49660623304116874,0.49660623304116874],\"z\":[-0.7917208301310096,-0.9098583725758826],\"type\":\"scatter3d\"},{\"line\":{\"color\":\"black\"},\"mode\":\"lines\",\"showlegend\":false,\"text\":\"\",\"x\":[0.5237025677360352,0.5237025677360352],\"y\":[-0.4966062330411685,0.49660623304116874],\"z\":[-0.7917208301310096,-0.7917208301310096],\"type\":\"scatter3d\"},{\"line\":{\"color\":\"black\"},\"mode\":\"lines\",\"showlegend\":false,\"text\":\"\",\"x\":[-0.2706362765229703,0.0],\"y\":[0.49660623304116874,0.5655632002276809],\"z\":[0.9098583725758828,0.9098583725758828],\"type\":\"scatter3d\"},{\"line\":{\"color\":\"black\"},\"mode\":\"lines\",\"showlegend\":false,\"text\":\"\",\"x\":[-0.2706362765229703,-0.2706362765229703],\"y\":[0.49660623304116874,-0.49660623304116874],\"z\":[0.9098583725758828,0.9098583725758828],\"type\":\"scatter3d\"},{\"line\":{\"color\":\"black\"},\"mode\":\"lines\",\"showlegend\":false,\"text\":\"\",\"x\":[0.0,0.2706362765229704],\"y\":[0.5655632002276809,0.49660623304116874],\"z\":[0.9098583725758828,0.9098583725758828],\"type\":\"scatter3d\"},{\"line\":{\"color\":\"black\"},\"mode\":\"lines\",\"showlegend\":false,\"text\":\"\",\"x\":[0.2706362765229704,0.27063627652297045],\"y\":[0.49660623304116874,-0.4966062330411687],\"z\":[0.9098583725758828,0.9098583725758828],\"type\":\"scatter3d\"},{\"line\":{\"color\":\"black\"},\"mode\":\"lines\",\"showlegend\":false,\"text\":\"\",\"x\":[0.27063627652297045,-1.9709561705414665e-16],\"y\":[-0.4966062330411687,-0.5655632002276809],\"z\":[0.9098583725758828,0.9098583725758828],\"type\":\"scatter3d\"},{\"line\":{\"color\":\"black\"},\"mode\":\"lines\",\"showlegend\":false,\"text\":\"\",\"x\":[-1.9709561705414665e-16,-0.2706362765229703],\"y\":[-0.5655632002276809,-0.49660623304116874],\"z\":[0.9098583725758828,0.9098583725758828],\"type\":\"scatter3d\"},{\"line\":{\"color\":\"black\"},\"mode\":\"lines\",\"showlegend\":false,\"text\":\"\",\"x\":[-0.5237025677360351,-0.2706362765229703],\"y\":[0.49660623304116874,0.49660623304116874],\"z\":[0.7917208301310096,0.9098583725758828],\"type\":\"scatter3d\"},{\"line\":{\"color\":\"black\"},\"mode\":\"lines\",\"showlegend\":false,\"text\":\"\",\"x\":[-0.5237025677360351,-0.2706362765229703],\"y\":[-0.49660623304116885,-0.49660623304116874],\"z\":[0.7917208301310096,0.9098583725758828],\"type\":\"scatter3d\"},{\"line\":{\"color\":\"black\"},\"mode\":\"lines\",\"showlegend\":false,\"text\":\"\",\"x\":[0.12653314560653245,0.0],\"y\":[1.062169593963779,0.5655632002276809],\"z\":[0.0590687712224367,0.9098583725758828],\"type\":\"scatter3d\"},{\"line\":{\"color\":\"black\"},\"mode\":\"lines\",\"showlegend\":false,\"text\":\"\",\"x\":[0.3971694221295025,0.2706362765229704],\"y\":[0.9932126267772667,0.49660623304116874],\"z\":[0.0590687712224367,0.9098583725758828],\"type\":\"scatter3d\"},{\"line\":{\"color\":\"black\"},\"mode\":\"lines\",\"showlegend\":false,\"text\":\"\",\"x\":[0.12653314560653245,-1.9709561705414665e-16],\"y\":[-1.062169593963779,-0.5655632002276809],\"z\":[0.05906877122243648,0.9098583725758828],\"type\":\"scatter3d\"},{\"line\":{\"color\":\"black\"},\"mode\":\"lines\",\"showlegend\":false,\"text\":\"\",\"x\":[0.3971694221295027,0.27063627652297045],\"y\":[-0.9932126267772666,-0.4966062330411687],\"z\":[0.059068771222436534,0.9098583725758828],\"type\":\"scatter3d\"}],                        {\"template\":{\"data\":{\"histogram2dcontour\":[{\"type\":\"histogram2dcontour\",\"colorbar\":{\"outlinewidth\":0,\"ticks\":\"\"},\"colorscale\":[[0.0,\"#0d0887\"],[0.1111111111111111,\"#46039f\"],[0.2222222222222222,\"#7201a8\"],[0.3333333333333333,\"#9c179e\"],[0.4444444444444444,\"#bd3786\"],[0.5555555555555556,\"#d8576b\"],[0.6666666666666666,\"#ed7953\"],[0.7777777777777778,\"#fb9f3a\"],[0.8888888888888888,\"#fdca26\"],[1.0,\"#f0f921\"]]}],\"choropleth\":[{\"type\":\"choropleth\",\"colorbar\":{\"outlinewidth\":0,\"ticks\":\"\"}}],\"histogram2d\":[{\"type\":\"histogram2d\",\"colorbar\":{\"outlinewidth\":0,\"ticks\":\"\"},\"colorscale\":[[0.0,\"#0d0887\"],[0.1111111111111111,\"#46039f\"],[0.2222222222222222,\"#7201a8\"],[0.3333333333333333,\"#9c179e\"],[0.4444444444444444,\"#bd3786\"],[0.5555555555555556,\"#d8576b\"],[0.6666666666666666,\"#ed7953\"],[0.7777777777777778,\"#fb9f3a\"],[0.8888888888888888,\"#fdca26\"],[1.0,\"#f0f921\"]]}],\"heatmap\":[{\"type\":\"heatmap\",\"colorbar\":{\"outlinewidth\":0,\"ticks\":\"\"},\"colorscale\":[[0.0,\"#0d0887\"],[0.1111111111111111,\"#46039f\"],[0.2222222222222222,\"#7201a8\"],[0.3333333333333333,\"#9c179e\"],[0.4444444444444444,\"#bd3786\"],[0.5555555555555556,\"#d8576b\"],[0.6666666666666666,\"#ed7953\"],[0.7777777777777778,\"#fb9f3a\"],[0.8888888888888888,\"#fdca26\"],[1.0,\"#f0f921\"]]}],\"heatmapgl\":[{\"type\":\"heatmapgl\",\"colorbar\":{\"outlinewidth\":0,\"ticks\":\"\"},\"colorscale\":[[0.0,\"#0d0887\"],[0.1111111111111111,\"#46039f\"],[0.2222222222222222,\"#7201a8\"],[0.3333333333333333,\"#9c179e\"],[0.4444444444444444,\"#bd3786\"],[0.5555555555555556,\"#d8576b\"],[0.6666666666666666,\"#ed7953\"],[0.7777777777777778,\"#fb9f3a\"],[0.8888888888888888,\"#fdca26\"],[1.0,\"#f0f921\"]]}],\"contourcarpet\":[{\"type\":\"contourcarpet\",\"colorbar\":{\"outlinewidth\":0,\"ticks\":\"\"}}],\"contour\":[{\"type\":\"contour\",\"colorbar\":{\"outlinewidth\":0,\"ticks\":\"\"},\"colorscale\":[[0.0,\"#0d0887\"],[0.1111111111111111,\"#46039f\"],[0.2222222222222222,\"#7201a8\"],[0.3333333333333333,\"#9c179e\"],[0.4444444444444444,\"#bd3786\"],[0.5555555555555556,\"#d8576b\"],[0.6666666666666666,\"#ed7953\"],[0.7777777777777778,\"#fb9f3a\"],[0.8888888888888888,\"#fdca26\"],[1.0,\"#f0f921\"]]}],\"surface\":[{\"type\":\"surface\",\"colorbar\":{\"outlinewidth\":0,\"ticks\":\"\"},\"colorscale\":[[0.0,\"#0d0887\"],[0.1111111111111111,\"#46039f\"],[0.2222222222222222,\"#7201a8\"],[0.3333333333333333,\"#9c179e\"],[0.4444444444444444,\"#bd3786\"],[0.5555555555555556,\"#d8576b\"],[0.6666666666666666,\"#ed7953\"],[0.7777777777777778,\"#fb9f3a\"],[0.8888888888888888,\"#fdca26\"],[1.0,\"#f0f921\"]]}],\"mesh3d\":[{\"type\":\"mesh3d\",\"colorbar\":{\"outlinewidth\":0,\"ticks\":\"\"}}],\"scatter\":[{\"fillpattern\":{\"fillmode\":\"overlay\",\"size\":10,\"solidity\":0.2},\"type\":\"scatter\"}],\"parcoords\":[{\"type\":\"parcoords\",\"line\":{\"colorbar\":{\"outlinewidth\":0,\"ticks\":\"\"}}}],\"scatterpolargl\":[{\"type\":\"scatterpolargl\",\"marker\":{\"colorbar\":{\"outlinewidth\":0,\"ticks\":\"\"}}}],\"bar\":[{\"error_x\":{\"color\":\"#2a3f5f\"},\"error_y\":{\"color\":\"#2a3f5f\"},\"marker\":{\"line\":{\"color\":\"#E5ECF6\",\"width\":0.5},\"pattern\":{\"fillmode\":\"overlay\",\"size\":10,\"solidity\":0.2}},\"type\":\"bar\"}],\"scattergeo\":[{\"type\":\"scattergeo\",\"marker\":{\"colorbar\":{\"outlinewidth\":0,\"ticks\":\"\"}}}],\"scatterpolar\":[{\"type\":\"scatterpolar\",\"marker\":{\"colorbar\":{\"outlinewidth\":0,\"ticks\":\"\"}}}],\"histogram\":[{\"marker\":{\"pattern\":{\"fillmode\":\"overlay\",\"size\":10,\"solidity\":0.2}},\"type\":\"histogram\"}],\"scattergl\":[{\"type\":\"scattergl\",\"marker\":{\"colorbar\":{\"outlinewidth\":0,\"ticks\":\"\"}}}],\"scatter3d\":[{\"type\":\"scatter3d\",\"line\":{\"colorbar\":{\"outlinewidth\":0,\"ticks\":\"\"}},\"marker\":{\"colorbar\":{\"outlinewidth\":0,\"ticks\":\"\"}}}],\"scattermapbox\":[{\"type\":\"scattermapbox\",\"marker\":{\"colorbar\":{\"outlinewidth\":0,\"ticks\":\"\"}}}],\"scatterternary\":[{\"type\":\"scatterternary\",\"marker\":{\"colorbar\":{\"outlinewidth\":0,\"ticks\":\"\"}}}],\"scattercarpet\":[{\"type\":\"scattercarpet\",\"marker\":{\"colorbar\":{\"outlinewidth\":0,\"ticks\":\"\"}}}],\"carpet\":[{\"aaxis\":{\"endlinecolor\":\"#2a3f5f\",\"gridcolor\":\"white\",\"linecolor\":\"white\",\"minorgridcolor\":\"white\",\"startlinecolor\":\"#2a3f5f\"},\"baxis\":{\"endlinecolor\":\"#2a3f5f\",\"gridcolor\":\"white\",\"linecolor\":\"white\",\"minorgridcolor\":\"white\",\"startlinecolor\":\"#2a3f5f\"},\"type\":\"carpet\"}],\"table\":[{\"cells\":{\"fill\":{\"color\":\"#EBF0F8\"},\"line\":{\"color\":\"white\"}},\"header\":{\"fill\":{\"color\":\"#C8D4E3\"},\"line\":{\"color\":\"white\"}},\"type\":\"table\"}],\"barpolar\":[{\"marker\":{\"line\":{\"color\":\"#E5ECF6\",\"width\":0.5},\"pattern\":{\"fillmode\":\"overlay\",\"size\":10,\"solidity\":0.2}},\"type\":\"barpolar\"}],\"pie\":[{\"automargin\":true,\"type\":\"pie\"}]},\"layout\":{\"autotypenumbers\":\"strict\",\"colorway\":[\"#636efa\",\"#EF553B\",\"#00cc96\",\"#ab63fa\",\"#FFA15A\",\"#19d3f3\",\"#FF6692\",\"#B6E880\",\"#FF97FF\",\"#FECB52\"],\"font\":{\"color\":\"#2a3f5f\"},\"hovermode\":\"closest\",\"hoverlabel\":{\"align\":\"left\"},\"paper_bgcolor\":\"white\",\"plot_bgcolor\":\"#E5ECF6\",\"polar\":{\"bgcolor\":\"#E5ECF6\",\"angularaxis\":{\"gridcolor\":\"white\",\"linecolor\":\"white\",\"ticks\":\"\"},\"radialaxis\":{\"gridcolor\":\"white\",\"linecolor\":\"white\",\"ticks\":\"\"}},\"ternary\":{\"bgcolor\":\"#E5ECF6\",\"aaxis\":{\"gridcolor\":\"white\",\"linecolor\":\"white\",\"ticks\":\"\"},\"baxis\":{\"gridcolor\":\"white\",\"linecolor\":\"white\",\"ticks\":\"\"},\"caxis\":{\"gridcolor\":\"white\",\"linecolor\":\"white\",\"ticks\":\"\"}},\"coloraxis\":{\"colorbar\":{\"outlinewidth\":0,\"ticks\":\"\"}},\"colorscale\":{\"sequential\":[[0.0,\"#0d0887\"],[0.1111111111111111,\"#46039f\"],[0.2222222222222222,\"#7201a8\"],[0.3333333333333333,\"#9c179e\"],[0.4444444444444444,\"#bd3786\"],[0.5555555555555556,\"#d8576b\"],[0.6666666666666666,\"#ed7953\"],[0.7777777777777778,\"#fb9f3a\"],[0.8888888888888888,\"#fdca26\"],[1.0,\"#f0f921\"]],\"sequentialminus\":[[0.0,\"#0d0887\"],[0.1111111111111111,\"#46039f\"],[0.2222222222222222,\"#7201a8\"],[0.3333333333333333,\"#9c179e\"],[0.4444444444444444,\"#bd3786\"],[0.5555555555555556,\"#d8576b\"],[0.6666666666666666,\"#ed7953\"],[0.7777777777777778,\"#fb9f3a\"],[0.8888888888888888,\"#fdca26\"],[1.0,\"#f0f921\"]],\"diverging\":[[0,\"#8e0152\"],[0.1,\"#c51b7d\"],[0.2,\"#de77ae\"],[0.3,\"#f1b6da\"],[0.4,\"#fde0ef\"],[0.5,\"#f7f7f7\"],[0.6,\"#e6f5d0\"],[0.7,\"#b8e186\"],[0.8,\"#7fbc41\"],[0.9,\"#4d9221\"],[1,\"#276419\"]]},\"xaxis\":{\"gridcolor\":\"white\",\"linecolor\":\"white\",\"ticks\":\"\",\"title\":{\"standoff\":15},\"zerolinecolor\":\"white\",\"automargin\":true,\"zerolinewidth\":2},\"yaxis\":{\"gridcolor\":\"white\",\"linecolor\":\"white\",\"ticks\":\"\",\"title\":{\"standoff\":15},\"zerolinecolor\":\"white\",\"automargin\":true,\"zerolinewidth\":2},\"scene\":{\"xaxis\":{\"backgroundcolor\":\"#E5ECF6\",\"gridcolor\":\"white\",\"linecolor\":\"white\",\"showbackground\":true,\"ticks\":\"\",\"zerolinecolor\":\"white\",\"gridwidth\":2},\"yaxis\":{\"backgroundcolor\":\"#E5ECF6\",\"gridcolor\":\"white\",\"linecolor\":\"white\",\"showbackground\":true,\"ticks\":\"\",\"zerolinecolor\":\"white\",\"gridwidth\":2},\"zaxis\":{\"backgroundcolor\":\"#E5ECF6\",\"gridcolor\":\"white\",\"linecolor\":\"white\",\"showbackground\":true,\"ticks\":\"\",\"zerolinecolor\":\"white\",\"gridwidth\":2}},\"shapedefaults\":{\"line\":{\"color\":\"#2a3f5f\"}},\"annotationdefaults\":{\"arrowcolor\":\"#2a3f5f\",\"arrowhead\":0,\"arrowwidth\":1},\"geo\":{\"bgcolor\":\"white\",\"landcolor\":\"#E5ECF6\",\"subunitcolor\":\"white\",\"showland\":true,\"showlakes\":true,\"lakecolor\":\"white\"},\"title\":{\"x\":0.05},\"mapbox\":{\"style\":\"light\"}}},\"scene\":{\"xaxis\":{\"visible\":false,\"range\":[-1.15,1.15]},\"yaxis\":{\"visible\":false,\"range\":[-1.15,1.15]},\"zaxis\":{\"visible\":false,\"range\":[-1.15,1.15]}}},                        {\"responsive\": true}                    ).then(function(){\n",
       "                            \n",
       "var gd = document.getElementById('d968d9ee-63b5-46bb-9938-5986eec8963c');\n",
       "var x = new MutationObserver(function (mutations, observer) {{\n",
       "        var display = window.getComputedStyle(gd).display;\n",
       "        if (!display || display === 'none') {{\n",
       "            console.log([gd, 'removed!']);\n",
       "            Plotly.purge(gd);\n",
       "            observer.disconnect();\n",
       "        }}\n",
       "}});\n",
       "\n",
       "// Listen for the removal of the full notebook cells\n",
       "var notebookContainer = gd.closest('#notebook-container');\n",
       "if (notebookContainer) {{\n",
       "    x.observe(notebookContainer, {childList: true});\n",
       "}}\n",
       "\n",
       "// Listen for the clearing of the current output cell\n",
       "var outputEl = gd.closest('.output');\n",
       "if (outputEl) {{\n",
       "    x.observe(outputEl, {childList: true});\n",
       "}}\n",
       "\n",
       "                        })                };                });            </script>        </div>"
      ]
     },
     "metadata": {},
     "output_type": "display_data"
    }
   ],
   "source": [
    "struc = el_bs.structure\n",
    "bz_lattice=struc.lattice.reciprocal_lattice\n",
    "bz = bz_lattice.get_wigner_seitz_cell()\n",
    "fig = go.Figure()\n",
    "for iface in range(len(bz)):  # pylint: disable=C0200\n",
    "        for line in itertools.combinations(bz[iface], 2):\n",
    "            for jface in range(len(bz)):\n",
    "                if (iface < jface\n",
    "                    and any(np.all(line[0] == x) for x in bz[jface])\n",
    "                    and any(np.all(line[1] == x) for x in bz[jface])):\n",
    "                    fig.add_trace(go_line(line[0], line[1]))\n",
    "fig.update_layout(\n",
    "    scene = dict(\n",
    "        xaxis = dict(visible=False, range=[-1.15,1.15],),\n",
    "        yaxis = dict(visible=False, range=[-1.15,1.15],),\n",
    "        zaxis = dict(visible=False, range=[-1.15,1.15],),\n",
    "    )\n",
    ")\n",
    "fig.show()"
   ]
  },
  {
   "cell_type": "code",
   "execution_count": 93,
   "id": "619ac281",
   "metadata": {
    "scrolled": false
   },
   "outputs": [
    {
     "data": {
      "application/vnd.plotly.v1+json": {
       "config": {
        "plotlyServerURL": "https://plot.ly"
       },
       "data": [
        {
         "line": {
          "color": "green"
         },
         "mode": "lines+text",
         "showlegend": false,
         "text": [
          "",
          "a"
         ],
         "type": "scatter3d",
         "x": [
          0,
          0.39716942212950274
         ],
         "y": [
          0,
          -1.5587758270049477
         ],
         "z": [
          0,
          -0.8507896013534463
         ]
        },
        {
         "line": {
          "color": "green"
         },
         "mode": "lines+text",
         "showlegend": false,
         "text": [
          "",
          "b"
         ],
         "type": "scatter3d",
         "x": [
          0,
          0.39716942212950274
         ],
         "y": [
          0,
          1.5587758270049477
         ],
         "z": [
          0,
          -0.8507896013534461
         ]
        },
        {
         "line": {
          "color": "green"
         },
         "mode": "lines+text",
         "showlegend": false,
         "text": [
          "",
          "c"
         ],
         "type": "scatter3d",
         "x": [
          0,
          0
         ],
         "y": [
          0,
          0
         ],
         "z": [
          0,
          1.8197167451517655
         ]
        },
        {
         "line": {
          "color": "black"
         },
         "mode": "lines",
         "showlegend": false,
         "text": "",
         "type": "scatter3d",
         "x": [
          -5.551115123125783e-17,
          0.27063627652297007
         ],
         "y": [
          -0.5655632002276814,
          -0.4966062330411687
         ],
         "z": [
          -0.9098583725758828,
          -0.9098583725758826
         ]
        },
        {
         "line": {
          "color": "black"
         },
         "mode": "lines",
         "showlegend": false,
         "text": "",
         "type": "scatter3d",
         "x": [
          -5.551115123125783e-17,
          -0.2706362765229703
         ],
         "y": [
          -0.5655632002276814,
          -0.4966062330411687
         ],
         "z": [
          -0.9098583725758828,
          -0.9098583725758829
         ]
        },
        {
         "line": {
          "color": "black"
         },
         "mode": "lines",
         "showlegend": false,
         "text": "",
         "type": "scatter3d",
         "x": [
          0.27063627652297007,
          0.27063627652297007
         ],
         "y": [
          -0.4966062330411687,
          0.49660623304116874
         ],
         "z": [
          -0.9098583725758826,
          -0.9098583725758826
         ]
        },
        {
         "line": {
          "color": "black"
         },
         "mode": "lines",
         "showlegend": false,
         "text": "",
         "type": "scatter3d",
         "x": [
          0.27063627652297007,
          5.551115123125783e-17
         ],
         "y": [
          0.49660623304116874,
          0.565563200227681
         ],
         "z": [
          -0.9098583725758826,
          -0.9098583725758826
         ]
        },
        {
         "line": {
          "color": "black"
         },
         "mode": "lines",
         "showlegend": false,
         "text": "",
         "type": "scatter3d",
         "x": [
          5.551115123125783e-17,
          -0.27063627652297007
         ],
         "y": [
          0.565563200227681,
          0.4966062330411687
         ],
         "z": [
          -0.9098583725758826,
          -0.9098583725758828
         ]
        },
        {
         "line": {
          "color": "black"
         },
         "mode": "lines",
         "showlegend": false,
         "text": "",
         "type": "scatter3d",
         "x": [
          -0.27063627652297007,
          -0.2706362765229703
         ],
         "y": [
          0.4966062330411687,
          -0.4966062330411687
         ],
         "z": [
          -0.9098583725758828,
          -0.9098583725758829
         ]
        },
        {
         "line": {
          "color": "black"
         },
         "mode": "lines",
         "showlegend": false,
         "text": "",
         "type": "scatter3d",
         "x": [
          -0.12653314560653245,
          5.551115123125783e-17
         ],
         "y": [
          1.062169593963779,
          0.565563200227681
         ],
         "z": [
          -0.05906877122243648,
          -0.9098583725758826
         ]
        },
        {
         "line": {
          "color": "black"
         },
         "mode": "lines",
         "showlegend": false,
         "text": "",
         "type": "scatter3d",
         "x": [
          -0.12653314560653245,
          -0.3971694221295024
         ],
         "y": [
          1.062169593963779,
          0.9932126267772666
         ],
         "z": [
          -0.05906877122243648,
          -0.05906877122243648
         ]
        },
        {
         "line": {
          "color": "black"
         },
         "mode": "lines",
         "showlegend": false,
         "text": "",
         "type": "scatter3d",
         "x": [
          -0.27063627652297007,
          -0.3971694221295024
         ],
         "y": [
          0.4966062330411687,
          0.9932126267772666
         ],
         "z": [
          -0.9098583725758828,
          -0.05906877122243648
         ]
        },
        {
         "line": {
          "color": "black"
         },
         "mode": "lines",
         "showlegend": false,
         "text": "",
         "type": "scatter3d",
         "x": [
          -0.12653314560653245,
          0.12653314560653245
         ],
         "y": [
          -1.0621695939637792,
          -1.062169593963779
         ],
         "z": [
          -0.0590687712224367,
          0.05906877122243648
         ]
        },
        {
         "line": {
          "color": "black"
         },
         "mode": "lines",
         "showlegend": false,
         "text": "",
         "type": "scatter3d",
         "x": [
          -0.12653314560653245,
          -5.551115123125783e-17
         ],
         "y": [
          -1.0621695939637792,
          -0.5655632002276814
         ],
         "z": [
          -0.0590687712224367,
          -0.9098583725758828
         ]
        },
        {
         "line": {
          "color": "black"
         },
         "mode": "lines",
         "showlegend": false,
         "text": "",
         "type": "scatter3d",
         "x": [
          0.12653314560653245,
          0.3971694221295027
         ],
         "y": [
          -1.062169593963779,
          -0.9932126267772666
         ],
         "z": [
          0.05906877122243648,
          0.059068771222436534
         ]
        },
        {
         "line": {
          "color": "black"
         },
         "mode": "lines",
         "showlegend": false,
         "text": "",
         "type": "scatter3d",
         "x": [
          0.3971694221295027,
          0.5237025677360352
         ],
         "y": [
          -0.9932126267772666,
          -0.4966062330411685
         ],
         "z": [
          0.059068771222436534,
          -0.7917208301310096
         ]
        },
        {
         "line": {
          "color": "black"
         },
         "mode": "lines",
         "showlegend": false,
         "text": "",
         "type": "scatter3d",
         "x": [
          0.5237025677360352,
          0.27063627652297007
         ],
         "y": [
          -0.4966062330411685,
          -0.4966062330411687
         ],
         "z": [
          -0.7917208301310096,
          -0.9098583725758826
         ]
        },
        {
         "line": {
          "color": "black"
         },
         "mode": "lines",
         "showlegend": false,
         "text": "",
         "type": "scatter3d",
         "x": [
          -0.12653314560653245,
          -0.3971694221295029
         ],
         "y": [
          -1.0621695939637792,
          -0.9932126267772668
         ],
         "z": [
          -0.0590687712224367,
          -0.0590687712224367
         ]
        },
        {
         "line": {
          "color": "black"
         },
         "mode": "lines",
         "showlegend": false,
         "text": "",
         "type": "scatter3d",
         "x": [
          -0.2706362765229703,
          -0.3971694221295029
         ],
         "y": [
          -0.4966062330411687,
          -0.9932126267772668
         ],
         "z": [
          -0.9098583725758829,
          -0.0590687712224367
         ]
        },
        {
         "line": {
          "color": "black"
         },
         "mode": "lines",
         "showlegend": false,
         "text": "",
         "type": "scatter3d",
         "x": [
          -0.3971694221295029,
          -0.5237025677360351
         ],
         "y": [
          -0.9932126267772668,
          -0.49660623304116885
         ],
         "z": [
          -0.0590687712224367,
          0.7917208301310096
         ]
        },
        {
         "line": {
          "color": "black"
         },
         "mode": "lines",
         "showlegend": false,
         "text": "",
         "type": "scatter3d",
         "x": [
          -0.5237025677360351,
          -0.5237025677360351
         ],
         "y": [
          -0.49660623304116885,
          0.49660623304116874
         ],
         "z": [
          0.7917208301310096,
          0.7917208301310096
         ]
        },
        {
         "line": {
          "color": "black"
         },
         "mode": "lines",
         "showlegend": false,
         "text": "",
         "type": "scatter3d",
         "x": [
          -0.5237025677360351,
          -0.3971694221295024
         ],
         "y": [
          0.49660623304116874,
          0.9932126267772666
         ],
         "z": [
          0.7917208301310096,
          -0.05906877122243648
         ]
        },
        {
         "line": {
          "color": "black"
         },
         "mode": "lines",
         "showlegend": false,
         "text": "",
         "type": "scatter3d",
         "x": [
          -0.12653314560653245,
          0.12653314560653245
         ],
         "y": [
          1.062169593963779,
          1.062169593963779
         ],
         "z": [
          -0.05906877122243648,
          0.0590687712224367
         ]
        },
        {
         "line": {
          "color": "black"
         },
         "mode": "lines",
         "showlegend": false,
         "text": "",
         "type": "scatter3d",
         "x": [
          0.12653314560653245,
          0.3971694221295025
         ],
         "y": [
          1.062169593963779,
          0.9932126267772667
         ],
         "z": [
          0.0590687712224367,
          0.0590687712224367
         ]
        },
        {
         "line": {
          "color": "black"
         },
         "mode": "lines",
         "showlegend": false,
         "text": "",
         "type": "scatter3d",
         "x": [
          0.3971694221295025,
          0.5237025677360352
         ],
         "y": [
          0.9932126267772667,
          0.49660623304116874
         ],
         "z": [
          0.0590687712224367,
          -0.7917208301310096
         ]
        },
        {
         "line": {
          "color": "black"
         },
         "mode": "lines",
         "showlegend": false,
         "text": "",
         "type": "scatter3d",
         "x": [
          0.5237025677360352,
          0.27063627652297007
         ],
         "y": [
          0.49660623304116874,
          0.49660623304116874
         ],
         "z": [
          -0.7917208301310096,
          -0.9098583725758826
         ]
        },
        {
         "line": {
          "color": "black"
         },
         "mode": "lines",
         "showlegend": false,
         "text": "",
         "type": "scatter3d",
         "x": [
          0.5237025677360352,
          0.5237025677360352
         ],
         "y": [
          -0.4966062330411685,
          0.49660623304116874
         ],
         "z": [
          -0.7917208301310096,
          -0.7917208301310096
         ]
        },
        {
         "line": {
          "color": "black"
         },
         "mode": "lines",
         "showlegend": false,
         "text": "",
         "type": "scatter3d",
         "x": [
          -0.2706362765229703,
          0
         ],
         "y": [
          0.49660623304116874,
          0.5655632002276809
         ],
         "z": [
          0.9098583725758828,
          0.9098583725758828
         ]
        },
        {
         "line": {
          "color": "black"
         },
         "mode": "lines",
         "showlegend": false,
         "text": "",
         "type": "scatter3d",
         "x": [
          -0.2706362765229703,
          -0.2706362765229703
         ],
         "y": [
          0.49660623304116874,
          -0.49660623304116874
         ],
         "z": [
          0.9098583725758828,
          0.9098583725758828
         ]
        },
        {
         "line": {
          "color": "black"
         },
         "mode": "lines",
         "showlegend": false,
         "text": "",
         "type": "scatter3d",
         "x": [
          0,
          0.2706362765229704
         ],
         "y": [
          0.5655632002276809,
          0.49660623304116874
         ],
         "z": [
          0.9098583725758828,
          0.9098583725758828
         ]
        },
        {
         "line": {
          "color": "black"
         },
         "mode": "lines",
         "showlegend": false,
         "text": "",
         "type": "scatter3d",
         "x": [
          0.2706362765229704,
          0.27063627652297045
         ],
         "y": [
          0.49660623304116874,
          -0.4966062330411687
         ],
         "z": [
          0.9098583725758828,
          0.9098583725758828
         ]
        },
        {
         "line": {
          "color": "black"
         },
         "mode": "lines",
         "showlegend": false,
         "text": "",
         "type": "scatter3d",
         "x": [
          0.27063627652297045,
          -1.9709561705414665e-16
         ],
         "y": [
          -0.4966062330411687,
          -0.5655632002276809
         ],
         "z": [
          0.9098583725758828,
          0.9098583725758828
         ]
        },
        {
         "line": {
          "color": "black"
         },
         "mode": "lines",
         "showlegend": false,
         "text": "",
         "type": "scatter3d",
         "x": [
          -1.9709561705414665e-16,
          -0.2706362765229703
         ],
         "y": [
          -0.5655632002276809,
          -0.49660623304116874
         ],
         "z": [
          0.9098583725758828,
          0.9098583725758828
         ]
        },
        {
         "line": {
          "color": "black"
         },
         "mode": "lines",
         "showlegend": false,
         "text": "",
         "type": "scatter3d",
         "x": [
          -0.5237025677360351,
          -0.2706362765229703
         ],
         "y": [
          0.49660623304116874,
          0.49660623304116874
         ],
         "z": [
          0.7917208301310096,
          0.9098583725758828
         ]
        },
        {
         "line": {
          "color": "black"
         },
         "mode": "lines",
         "showlegend": false,
         "text": "",
         "type": "scatter3d",
         "x": [
          -0.5237025677360351,
          -0.2706362765229703
         ],
         "y": [
          -0.49660623304116885,
          -0.49660623304116874
         ],
         "z": [
          0.7917208301310096,
          0.9098583725758828
         ]
        },
        {
         "line": {
          "color": "black"
         },
         "mode": "lines",
         "showlegend": false,
         "text": "",
         "type": "scatter3d",
         "x": [
          0.12653314560653245,
          0
         ],
         "y": [
          1.062169593963779,
          0.5655632002276809
         ],
         "z": [
          0.0590687712224367,
          0.9098583725758828
         ]
        },
        {
         "line": {
          "color": "black"
         },
         "mode": "lines",
         "showlegend": false,
         "text": "",
         "type": "scatter3d",
         "x": [
          0.3971694221295025,
          0.2706362765229704
         ],
         "y": [
          0.9932126267772667,
          0.49660623304116874
         ],
         "z": [
          0.0590687712224367,
          0.9098583725758828
         ]
        },
        {
         "line": {
          "color": "black"
         },
         "mode": "lines",
         "showlegend": false,
         "text": "",
         "type": "scatter3d",
         "x": [
          0.12653314560653245,
          -1.9709561705414665e-16
         ],
         "y": [
          -1.062169593963779,
          -0.5655632002276809
         ],
         "z": [
          0.05906877122243648,
          0.9098583725758828
         ]
        },
        {
         "line": {
          "color": "black"
         },
         "mode": "lines",
         "showlegend": false,
         "text": "",
         "type": "scatter3d",
         "x": [
          0.3971694221295027,
          0.27063627652297045
         ],
         "y": [
          -0.9932126267772666,
          -0.4966062330411687
         ],
         "z": [
          0.059068771222436534,
          0.9098583725758828
         ]
        },
        {
         "line": {
          "color": "red"
         },
         "mode": "lines",
         "showlegend": false,
         "text": "",
         "type": "scatter3d",
         "x": [
          0,
          0.19858471106475137
         ],
         "y": [
          0,
          -0.7793879135024738
         ],
         "z": [
          0,
          -0.42539480067672314
         ]
        },
        {
         "line": {
          "color": "red"
         },
         "mode": "lines",
         "showlegend": false,
         "text": "",
         "type": "scatter3d",
         "x": [
          0.19858471106475137,
          0.27063626037606026
         ],
         "y": [
          -0.7793879135024738,
          -0.4966062915877275
         ],
         "z": [
          -0.42539480067672314,
          -0.90985837966958
         ]
        },
        {
         "line": {
          "color": "red"
         },
         "mode": "lines",
         "showlegend": false,
         "text": "",
         "type": "scatter3d",
         "x": [
          0.5237025838829452,
          0.39716942212950274
         ],
         "y": [
          -0.4966062915877275,
          0
         ],
         "z": [
          -0.7917208230373124,
          0.05906877122243659
         ]
        },
        {
         "line": {
          "color": "red"
         },
         "mode": "lines",
         "showlegend": false,
         "text": "",
         "type": "scatter3d",
         "x": [
          0.39716942212950274,
          0
         ],
         "y": [
          0,
          0
         ],
         "z": [
          0.05906877122243659,
          0
         ]
        },
        {
         "line": {
          "color": "red"
         },
         "mode": "lines",
         "showlegend": false,
         "text": "",
         "type": "scatter3d",
         "x": [
          0,
          0.13531813018803016
         ],
         "y": [
          0,
          -0.5310847677086101
         ],
         "z": [
          0,
          -0.9098583761227315
         ]
        },
        {
         "line": {
          "color": "red"
         },
         "mode": "lines",
         "showlegend": false,
         "text": "",
         "type": "scatter3d",
         "x": [
          0.3971694221295028,
          0.39716942212950274
         ],
         "y": [
          -0.4966062915877276,
          0
         ],
         "z": [
          -0.8507896013534462,
          -0.8507896013534462
         ]
        },
        {
         "line": {
          "color": "red"
         },
         "mode": "lines",
         "showlegend": false,
         "text": "",
         "type": "scatter3d",
         "x": [
          0.39716942212950274,
          0.5237025838829452
         ],
         "y": [
          0,
          0
         ],
         "z": [
          -0.8507896013534462,
          -0.7917208230373125
         ]
        },
        {
         "line": {
          "color": "red"
         },
         "mode": "lines",
         "showlegend": false,
         "text": "",
         "type": "scatter3d",
         "x": [
          0.5237025838829452,
          0.39716942212950274
         ],
         "y": [
          0,
          0
         ],
         "z": [
          -0.7917208230373125,
          0.05906877122243659
         ]
        },
        {
         "line": {
          "color": "red"
         },
         "mode": "lines",
         "showlegend": false,
         "text": "",
         "type": "scatter3d",
         "x": [
          0.19858471106475137,
          0.460436003006224
         ],
         "y": [
          -0.7793879135024738,
          -0.7449094373815912
         ],
         "z": [
          -0.42539480067672314,
          -0.36632602590743796
         ]
        },
        {
         "marker": {
          "color": "red",
          "size": 4
         },
         "mode": "markers+text",
         "showlegend": false,
         "text": [
          "Î“",
          "B",
          "B_1",
          "F",
          "L",
          "L_1",
          "P",
          "P_1",
          "P_2",
          "Q",
          "X",
          "Z"
         ],
         "textfont": {
          "color": "red"
         },
         "type": "scatter3d",
         "x": [
          0,
          0.5237025838829452,
          0.27063626037606026,
          0.39716942212950274,
          0.19858471106475137,
          0,
          0.460436003006224,
          0.5237025838829452,
          0.2706362603760603,
          0.3971694221295028,
          0.13531813018803016,
          0.39716942212950274
         ],
         "y": [
          0,
          -0.4966062915877275,
          -0.4966062915877275,
          0,
          -0.7793879135024738,
          0,
          -0.7449094373815912,
          0,
          0,
          -0.4966062915877276,
          -0.5310847677086101,
          0
         ],
         "z": [
          0,
          -0.7917208230373124,
          -0.90985837966958,
          -0.8507896013534462,
          -0.42539480067672314,
          -0.9098583725758828,
          -0.36632602590743796,
          -0.7917208230373125,
          -0.90985837966958,
          -0.8507896013534462,
          -0.9098583761227315,
          0.05906877122243659
         ]
        }
       ],
       "layout": {
        "scene": {
         "xaxis": {
          "range": [
           -1.15,
           1.15
          ],
          "visible": false
         },
         "yaxis": {
          "range": [
           -1.15,
           1.15
          ],
          "visible": false
         },
         "zaxis": {
          "range": [
           -1.15,
           1.15
          ],
          "visible": false
         }
        },
        "template": {
         "data": {
          "bar": [
           {
            "error_x": {
             "color": "#2a3f5f"
            },
            "error_y": {
             "color": "#2a3f5f"
            },
            "marker": {
             "line": {
              "color": "#E5ECF6",
              "width": 0.5
             },
             "pattern": {
              "fillmode": "overlay",
              "size": 10,
              "solidity": 0.2
             }
            },
            "type": "bar"
           }
          ],
          "barpolar": [
           {
            "marker": {
             "line": {
              "color": "#E5ECF6",
              "width": 0.5
             },
             "pattern": {
              "fillmode": "overlay",
              "size": 10,
              "solidity": 0.2
             }
            },
            "type": "barpolar"
           }
          ],
          "carpet": [
           {
            "aaxis": {
             "endlinecolor": "#2a3f5f",
             "gridcolor": "white",
             "linecolor": "white",
             "minorgridcolor": "white",
             "startlinecolor": "#2a3f5f"
            },
            "baxis": {
             "endlinecolor": "#2a3f5f",
             "gridcolor": "white",
             "linecolor": "white",
             "minorgridcolor": "white",
             "startlinecolor": "#2a3f5f"
            },
            "type": "carpet"
           }
          ],
          "choropleth": [
           {
            "colorbar": {
             "outlinewidth": 0,
             "ticks": ""
            },
            "type": "choropleth"
           }
          ],
          "contour": [
           {
            "colorbar": {
             "outlinewidth": 0,
             "ticks": ""
            },
            "colorscale": [
             [
              0,
              "#0d0887"
             ],
             [
              0.1111111111111111,
              "#46039f"
             ],
             [
              0.2222222222222222,
              "#7201a8"
             ],
             [
              0.3333333333333333,
              "#9c179e"
             ],
             [
              0.4444444444444444,
              "#bd3786"
             ],
             [
              0.5555555555555556,
              "#d8576b"
             ],
             [
              0.6666666666666666,
              "#ed7953"
             ],
             [
              0.7777777777777778,
              "#fb9f3a"
             ],
             [
              0.8888888888888888,
              "#fdca26"
             ],
             [
              1,
              "#f0f921"
             ]
            ],
            "type": "contour"
           }
          ],
          "contourcarpet": [
           {
            "colorbar": {
             "outlinewidth": 0,
             "ticks": ""
            },
            "type": "contourcarpet"
           }
          ],
          "heatmap": [
           {
            "colorbar": {
             "outlinewidth": 0,
             "ticks": ""
            },
            "colorscale": [
             [
              0,
              "#0d0887"
             ],
             [
              0.1111111111111111,
              "#46039f"
             ],
             [
              0.2222222222222222,
              "#7201a8"
             ],
             [
              0.3333333333333333,
              "#9c179e"
             ],
             [
              0.4444444444444444,
              "#bd3786"
             ],
             [
              0.5555555555555556,
              "#d8576b"
             ],
             [
              0.6666666666666666,
              "#ed7953"
             ],
             [
              0.7777777777777778,
              "#fb9f3a"
             ],
             [
              0.8888888888888888,
              "#fdca26"
             ],
             [
              1,
              "#f0f921"
             ]
            ],
            "type": "heatmap"
           }
          ],
          "heatmapgl": [
           {
            "colorbar": {
             "outlinewidth": 0,
             "ticks": ""
            },
            "colorscale": [
             [
              0,
              "#0d0887"
             ],
             [
              0.1111111111111111,
              "#46039f"
             ],
             [
              0.2222222222222222,
              "#7201a8"
             ],
             [
              0.3333333333333333,
              "#9c179e"
             ],
             [
              0.4444444444444444,
              "#bd3786"
             ],
             [
              0.5555555555555556,
              "#d8576b"
             ],
             [
              0.6666666666666666,
              "#ed7953"
             ],
             [
              0.7777777777777778,
              "#fb9f3a"
             ],
             [
              0.8888888888888888,
              "#fdca26"
             ],
             [
              1,
              "#f0f921"
             ]
            ],
            "type": "heatmapgl"
           }
          ],
          "histogram": [
           {
            "marker": {
             "pattern": {
              "fillmode": "overlay",
              "size": 10,
              "solidity": 0.2
             }
            },
            "type": "histogram"
           }
          ],
          "histogram2d": [
           {
            "colorbar": {
             "outlinewidth": 0,
             "ticks": ""
            },
            "colorscale": [
             [
              0,
              "#0d0887"
             ],
             [
              0.1111111111111111,
              "#46039f"
             ],
             [
              0.2222222222222222,
              "#7201a8"
             ],
             [
              0.3333333333333333,
              "#9c179e"
             ],
             [
              0.4444444444444444,
              "#bd3786"
             ],
             [
              0.5555555555555556,
              "#d8576b"
             ],
             [
              0.6666666666666666,
              "#ed7953"
             ],
             [
              0.7777777777777778,
              "#fb9f3a"
             ],
             [
              0.8888888888888888,
              "#fdca26"
             ],
             [
              1,
              "#f0f921"
             ]
            ],
            "type": "histogram2d"
           }
          ],
          "histogram2dcontour": [
           {
            "colorbar": {
             "outlinewidth": 0,
             "ticks": ""
            },
            "colorscale": [
             [
              0,
              "#0d0887"
             ],
             [
              0.1111111111111111,
              "#46039f"
             ],
             [
              0.2222222222222222,
              "#7201a8"
             ],
             [
              0.3333333333333333,
              "#9c179e"
             ],
             [
              0.4444444444444444,
              "#bd3786"
             ],
             [
              0.5555555555555556,
              "#d8576b"
             ],
             [
              0.6666666666666666,
              "#ed7953"
             ],
             [
              0.7777777777777778,
              "#fb9f3a"
             ],
             [
              0.8888888888888888,
              "#fdca26"
             ],
             [
              1,
              "#f0f921"
             ]
            ],
            "type": "histogram2dcontour"
           }
          ],
          "mesh3d": [
           {
            "colorbar": {
             "outlinewidth": 0,
             "ticks": ""
            },
            "type": "mesh3d"
           }
          ],
          "parcoords": [
           {
            "line": {
             "colorbar": {
              "outlinewidth": 0,
              "ticks": ""
             }
            },
            "type": "parcoords"
           }
          ],
          "pie": [
           {
            "automargin": true,
            "type": "pie"
           }
          ],
          "scatter": [
           {
            "fillpattern": {
             "fillmode": "overlay",
             "size": 10,
             "solidity": 0.2
            },
            "type": "scatter"
           }
          ],
          "scatter3d": [
           {
            "line": {
             "colorbar": {
              "outlinewidth": 0,
              "ticks": ""
             }
            },
            "marker": {
             "colorbar": {
              "outlinewidth": 0,
              "ticks": ""
             }
            },
            "type": "scatter3d"
           }
          ],
          "scattercarpet": [
           {
            "marker": {
             "colorbar": {
              "outlinewidth": 0,
              "ticks": ""
             }
            },
            "type": "scattercarpet"
           }
          ],
          "scattergeo": [
           {
            "marker": {
             "colorbar": {
              "outlinewidth": 0,
              "ticks": ""
             }
            },
            "type": "scattergeo"
           }
          ],
          "scattergl": [
           {
            "marker": {
             "colorbar": {
              "outlinewidth": 0,
              "ticks": ""
             }
            },
            "type": "scattergl"
           }
          ],
          "scattermapbox": [
           {
            "marker": {
             "colorbar": {
              "outlinewidth": 0,
              "ticks": ""
             }
            },
            "type": "scattermapbox"
           }
          ],
          "scatterpolar": [
           {
            "marker": {
             "colorbar": {
              "outlinewidth": 0,
              "ticks": ""
             }
            },
            "type": "scatterpolar"
           }
          ],
          "scatterpolargl": [
           {
            "marker": {
             "colorbar": {
              "outlinewidth": 0,
              "ticks": ""
             }
            },
            "type": "scatterpolargl"
           }
          ],
          "scatterternary": [
           {
            "marker": {
             "colorbar": {
              "outlinewidth": 0,
              "ticks": ""
             }
            },
            "type": "scatterternary"
           }
          ],
          "surface": [
           {
            "colorbar": {
             "outlinewidth": 0,
             "ticks": ""
            },
            "colorscale": [
             [
              0,
              "#0d0887"
             ],
             [
              0.1111111111111111,
              "#46039f"
             ],
             [
              0.2222222222222222,
              "#7201a8"
             ],
             [
              0.3333333333333333,
              "#9c179e"
             ],
             [
              0.4444444444444444,
              "#bd3786"
             ],
             [
              0.5555555555555556,
              "#d8576b"
             ],
             [
              0.6666666666666666,
              "#ed7953"
             ],
             [
              0.7777777777777778,
              "#fb9f3a"
             ],
             [
              0.8888888888888888,
              "#fdca26"
             ],
             [
              1,
              "#f0f921"
             ]
            ],
            "type": "surface"
           }
          ],
          "table": [
           {
            "cells": {
             "fill": {
              "color": "#EBF0F8"
             },
             "line": {
              "color": "white"
             }
            },
            "header": {
             "fill": {
              "color": "#C8D4E3"
             },
             "line": {
              "color": "white"
             }
            },
            "type": "table"
           }
          ]
         },
         "layout": {
          "annotationdefaults": {
           "arrowcolor": "#2a3f5f",
           "arrowhead": 0,
           "arrowwidth": 1
          },
          "autotypenumbers": "strict",
          "coloraxis": {
           "colorbar": {
            "outlinewidth": 0,
            "ticks": ""
           }
          },
          "colorscale": {
           "diverging": [
            [
             0,
             "#8e0152"
            ],
            [
             0.1,
             "#c51b7d"
            ],
            [
             0.2,
             "#de77ae"
            ],
            [
             0.3,
             "#f1b6da"
            ],
            [
             0.4,
             "#fde0ef"
            ],
            [
             0.5,
             "#f7f7f7"
            ],
            [
             0.6,
             "#e6f5d0"
            ],
            [
             0.7,
             "#b8e186"
            ],
            [
             0.8,
             "#7fbc41"
            ],
            [
             0.9,
             "#4d9221"
            ],
            [
             1,
             "#276419"
            ]
           ],
           "sequential": [
            [
             0,
             "#0d0887"
            ],
            [
             0.1111111111111111,
             "#46039f"
            ],
            [
             0.2222222222222222,
             "#7201a8"
            ],
            [
             0.3333333333333333,
             "#9c179e"
            ],
            [
             0.4444444444444444,
             "#bd3786"
            ],
            [
             0.5555555555555556,
             "#d8576b"
            ],
            [
             0.6666666666666666,
             "#ed7953"
            ],
            [
             0.7777777777777778,
             "#fb9f3a"
            ],
            [
             0.8888888888888888,
             "#fdca26"
            ],
            [
             1,
             "#f0f921"
            ]
           ],
           "sequentialminus": [
            [
             0,
             "#0d0887"
            ],
            [
             0.1111111111111111,
             "#46039f"
            ],
            [
             0.2222222222222222,
             "#7201a8"
            ],
            [
             0.3333333333333333,
             "#9c179e"
            ],
            [
             0.4444444444444444,
             "#bd3786"
            ],
            [
             0.5555555555555556,
             "#d8576b"
            ],
            [
             0.6666666666666666,
             "#ed7953"
            ],
            [
             0.7777777777777778,
             "#fb9f3a"
            ],
            [
             0.8888888888888888,
             "#fdca26"
            ],
            [
             1,
             "#f0f921"
            ]
           ]
          },
          "colorway": [
           "#636efa",
           "#EF553B",
           "#00cc96",
           "#ab63fa",
           "#FFA15A",
           "#19d3f3",
           "#FF6692",
           "#B6E880",
           "#FF97FF",
           "#FECB52"
          ],
          "font": {
           "color": "#2a3f5f"
          },
          "geo": {
           "bgcolor": "white",
           "lakecolor": "white",
           "landcolor": "#E5ECF6",
           "showlakes": true,
           "showland": true,
           "subunitcolor": "white"
          },
          "hoverlabel": {
           "align": "left"
          },
          "hovermode": "closest",
          "mapbox": {
           "style": "light"
          },
          "paper_bgcolor": "white",
          "plot_bgcolor": "#E5ECF6",
          "polar": {
           "angularaxis": {
            "gridcolor": "white",
            "linecolor": "white",
            "ticks": ""
           },
           "bgcolor": "#E5ECF6",
           "radialaxis": {
            "gridcolor": "white",
            "linecolor": "white",
            "ticks": ""
           }
          },
          "scene": {
           "xaxis": {
            "backgroundcolor": "#E5ECF6",
            "gridcolor": "white",
            "gridwidth": 2,
            "linecolor": "white",
            "showbackground": true,
            "ticks": "",
            "zerolinecolor": "white"
           },
           "yaxis": {
            "backgroundcolor": "#E5ECF6",
            "gridcolor": "white",
            "gridwidth": 2,
            "linecolor": "white",
            "showbackground": true,
            "ticks": "",
            "zerolinecolor": "white"
           },
           "zaxis": {
            "backgroundcolor": "#E5ECF6",
            "gridcolor": "white",
            "gridwidth": 2,
            "linecolor": "white",
            "showbackground": true,
            "ticks": "",
            "zerolinecolor": "white"
           }
          },
          "shapedefaults": {
           "line": {
            "color": "#2a3f5f"
           }
          },
          "ternary": {
           "aaxis": {
            "gridcolor": "white",
            "linecolor": "white",
            "ticks": ""
           },
           "baxis": {
            "gridcolor": "white",
            "linecolor": "white",
            "ticks": ""
           },
           "bgcolor": "#E5ECF6",
           "caxis": {
            "gridcolor": "white",
            "linecolor": "white",
            "ticks": ""
           }
          },
          "title": {
           "x": 0.05
          },
          "xaxis": {
           "automargin": true,
           "gridcolor": "white",
           "linecolor": "white",
           "ticks": "",
           "title": {
            "standoff": 15
           },
           "zerolinecolor": "white",
           "zerolinewidth": 2
          },
          "yaxis": {
           "automargin": true,
           "gridcolor": "white",
           "linecolor": "white",
           "ticks": "",
           "title": {
            "standoff": 15
           },
           "zerolinecolor": "white",
           "zerolinewidth": 2
          }
         }
        }
       }
      },
      "text/html": [
       "<div>                            <div id=\"49862d63-6f71-47b2-86de-be0b311e5273\" class=\"plotly-graph-div\" style=\"height:525px; width:100%;\"></div>            <script type=\"text/javascript\">                require([\"plotly\"], function(Plotly) {                    window.PLOTLYENV=window.PLOTLYENV || {};                                    if (document.getElementById(\"49862d63-6f71-47b2-86de-be0b311e5273\")) {                    Plotly.newPlot(                        \"49862d63-6f71-47b2-86de-be0b311e5273\",                        [{\"line\":{\"color\":\"green\"},\"mode\":\"lines+text\",\"showlegend\":false,\"text\":[\"\",\"a\"],\"x\":[0.0,0.39716942212950274],\"y\":[0.0,-1.5587758270049477],\"z\":[0.0,-0.8507896013534463],\"type\":\"scatter3d\"},{\"line\":{\"color\":\"green\"},\"mode\":\"lines+text\",\"showlegend\":false,\"text\":[\"\",\"b\"],\"x\":[0.0,0.39716942212950274],\"y\":[0.0,1.5587758270049477],\"z\":[0.0,-0.8507896013534461],\"type\":\"scatter3d\"},{\"line\":{\"color\":\"green\"},\"mode\":\"lines+text\",\"showlegend\":false,\"text\":[\"\",\"c\"],\"x\":[0.0,0.0],\"y\":[0.0,0.0],\"z\":[0.0,1.8197167451517655],\"type\":\"scatter3d\"},{\"line\":{\"color\":\"black\"},\"mode\":\"lines\",\"showlegend\":false,\"text\":\"\",\"x\":[-5.551115123125783e-17,0.27063627652297007],\"y\":[-0.5655632002276814,-0.4966062330411687],\"z\":[-0.9098583725758828,-0.9098583725758826],\"type\":\"scatter3d\"},{\"line\":{\"color\":\"black\"},\"mode\":\"lines\",\"showlegend\":false,\"text\":\"\",\"x\":[-5.551115123125783e-17,-0.2706362765229703],\"y\":[-0.5655632002276814,-0.4966062330411687],\"z\":[-0.9098583725758828,-0.9098583725758829],\"type\":\"scatter3d\"},{\"line\":{\"color\":\"black\"},\"mode\":\"lines\",\"showlegend\":false,\"text\":\"\",\"x\":[0.27063627652297007,0.27063627652297007],\"y\":[-0.4966062330411687,0.49660623304116874],\"z\":[-0.9098583725758826,-0.9098583725758826],\"type\":\"scatter3d\"},{\"line\":{\"color\":\"black\"},\"mode\":\"lines\",\"showlegend\":false,\"text\":\"\",\"x\":[0.27063627652297007,5.551115123125783e-17],\"y\":[0.49660623304116874,0.565563200227681],\"z\":[-0.9098583725758826,-0.9098583725758826],\"type\":\"scatter3d\"},{\"line\":{\"color\":\"black\"},\"mode\":\"lines\",\"showlegend\":false,\"text\":\"\",\"x\":[5.551115123125783e-17,-0.27063627652297007],\"y\":[0.565563200227681,0.4966062330411687],\"z\":[-0.9098583725758826,-0.9098583725758828],\"type\":\"scatter3d\"},{\"line\":{\"color\":\"black\"},\"mode\":\"lines\",\"showlegend\":false,\"text\":\"\",\"x\":[-0.27063627652297007,-0.2706362765229703],\"y\":[0.4966062330411687,-0.4966062330411687],\"z\":[-0.9098583725758828,-0.9098583725758829],\"type\":\"scatter3d\"},{\"line\":{\"color\":\"black\"},\"mode\":\"lines\",\"showlegend\":false,\"text\":\"\",\"x\":[-0.12653314560653245,5.551115123125783e-17],\"y\":[1.062169593963779,0.565563200227681],\"z\":[-0.05906877122243648,-0.9098583725758826],\"type\":\"scatter3d\"},{\"line\":{\"color\":\"black\"},\"mode\":\"lines\",\"showlegend\":false,\"text\":\"\",\"x\":[-0.12653314560653245,-0.3971694221295024],\"y\":[1.062169593963779,0.9932126267772666],\"z\":[-0.05906877122243648,-0.05906877122243648],\"type\":\"scatter3d\"},{\"line\":{\"color\":\"black\"},\"mode\":\"lines\",\"showlegend\":false,\"text\":\"\",\"x\":[-0.27063627652297007,-0.3971694221295024],\"y\":[0.4966062330411687,0.9932126267772666],\"z\":[-0.9098583725758828,-0.05906877122243648],\"type\":\"scatter3d\"},{\"line\":{\"color\":\"black\"},\"mode\":\"lines\",\"showlegend\":false,\"text\":\"\",\"x\":[-0.12653314560653245,0.12653314560653245],\"y\":[-1.0621695939637792,-1.062169593963779],\"z\":[-0.0590687712224367,0.05906877122243648],\"type\":\"scatter3d\"},{\"line\":{\"color\":\"black\"},\"mode\":\"lines\",\"showlegend\":false,\"text\":\"\",\"x\":[-0.12653314560653245,-5.551115123125783e-17],\"y\":[-1.0621695939637792,-0.5655632002276814],\"z\":[-0.0590687712224367,-0.9098583725758828],\"type\":\"scatter3d\"},{\"line\":{\"color\":\"black\"},\"mode\":\"lines\",\"showlegend\":false,\"text\":\"\",\"x\":[0.12653314560653245,0.3971694221295027],\"y\":[-1.062169593963779,-0.9932126267772666],\"z\":[0.05906877122243648,0.059068771222436534],\"type\":\"scatter3d\"},{\"line\":{\"color\":\"black\"},\"mode\":\"lines\",\"showlegend\":false,\"text\":\"\",\"x\":[0.3971694221295027,0.5237025677360352],\"y\":[-0.9932126267772666,-0.4966062330411685],\"z\":[0.059068771222436534,-0.7917208301310096],\"type\":\"scatter3d\"},{\"line\":{\"color\":\"black\"},\"mode\":\"lines\",\"showlegend\":false,\"text\":\"\",\"x\":[0.5237025677360352,0.27063627652297007],\"y\":[-0.4966062330411685,-0.4966062330411687],\"z\":[-0.7917208301310096,-0.9098583725758826],\"type\":\"scatter3d\"},{\"line\":{\"color\":\"black\"},\"mode\":\"lines\",\"showlegend\":false,\"text\":\"\",\"x\":[-0.12653314560653245,-0.3971694221295029],\"y\":[-1.0621695939637792,-0.9932126267772668],\"z\":[-0.0590687712224367,-0.0590687712224367],\"type\":\"scatter3d\"},{\"line\":{\"color\":\"black\"},\"mode\":\"lines\",\"showlegend\":false,\"text\":\"\",\"x\":[-0.2706362765229703,-0.3971694221295029],\"y\":[-0.4966062330411687,-0.9932126267772668],\"z\":[-0.9098583725758829,-0.0590687712224367],\"type\":\"scatter3d\"},{\"line\":{\"color\":\"black\"},\"mode\":\"lines\",\"showlegend\":false,\"text\":\"\",\"x\":[-0.3971694221295029,-0.5237025677360351],\"y\":[-0.9932126267772668,-0.49660623304116885],\"z\":[-0.0590687712224367,0.7917208301310096],\"type\":\"scatter3d\"},{\"line\":{\"color\":\"black\"},\"mode\":\"lines\",\"showlegend\":false,\"text\":\"\",\"x\":[-0.5237025677360351,-0.5237025677360351],\"y\":[-0.49660623304116885,0.49660623304116874],\"z\":[0.7917208301310096,0.7917208301310096],\"type\":\"scatter3d\"},{\"line\":{\"color\":\"black\"},\"mode\":\"lines\",\"showlegend\":false,\"text\":\"\",\"x\":[-0.5237025677360351,-0.3971694221295024],\"y\":[0.49660623304116874,0.9932126267772666],\"z\":[0.7917208301310096,-0.05906877122243648],\"type\":\"scatter3d\"},{\"line\":{\"color\":\"black\"},\"mode\":\"lines\",\"showlegend\":false,\"text\":\"\",\"x\":[-0.12653314560653245,0.12653314560653245],\"y\":[1.062169593963779,1.062169593963779],\"z\":[-0.05906877122243648,0.0590687712224367],\"type\":\"scatter3d\"},{\"line\":{\"color\":\"black\"},\"mode\":\"lines\",\"showlegend\":false,\"text\":\"\",\"x\":[0.12653314560653245,0.3971694221295025],\"y\":[1.062169593963779,0.9932126267772667],\"z\":[0.0590687712224367,0.0590687712224367],\"type\":\"scatter3d\"},{\"line\":{\"color\":\"black\"},\"mode\":\"lines\",\"showlegend\":false,\"text\":\"\",\"x\":[0.3971694221295025,0.5237025677360352],\"y\":[0.9932126267772667,0.49660623304116874],\"z\":[0.0590687712224367,-0.7917208301310096],\"type\":\"scatter3d\"},{\"line\":{\"color\":\"black\"},\"mode\":\"lines\",\"showlegend\":false,\"text\":\"\",\"x\":[0.5237025677360352,0.27063627652297007],\"y\":[0.49660623304116874,0.49660623304116874],\"z\":[-0.7917208301310096,-0.9098583725758826],\"type\":\"scatter3d\"},{\"line\":{\"color\":\"black\"},\"mode\":\"lines\",\"showlegend\":false,\"text\":\"\",\"x\":[0.5237025677360352,0.5237025677360352],\"y\":[-0.4966062330411685,0.49660623304116874],\"z\":[-0.7917208301310096,-0.7917208301310096],\"type\":\"scatter3d\"},{\"line\":{\"color\":\"black\"},\"mode\":\"lines\",\"showlegend\":false,\"text\":\"\",\"x\":[-0.2706362765229703,0.0],\"y\":[0.49660623304116874,0.5655632002276809],\"z\":[0.9098583725758828,0.9098583725758828],\"type\":\"scatter3d\"},{\"line\":{\"color\":\"black\"},\"mode\":\"lines\",\"showlegend\":false,\"text\":\"\",\"x\":[-0.2706362765229703,-0.2706362765229703],\"y\":[0.49660623304116874,-0.49660623304116874],\"z\":[0.9098583725758828,0.9098583725758828],\"type\":\"scatter3d\"},{\"line\":{\"color\":\"black\"},\"mode\":\"lines\",\"showlegend\":false,\"text\":\"\",\"x\":[0.0,0.2706362765229704],\"y\":[0.5655632002276809,0.49660623304116874],\"z\":[0.9098583725758828,0.9098583725758828],\"type\":\"scatter3d\"},{\"line\":{\"color\":\"black\"},\"mode\":\"lines\",\"showlegend\":false,\"text\":\"\",\"x\":[0.2706362765229704,0.27063627652297045],\"y\":[0.49660623304116874,-0.4966062330411687],\"z\":[0.9098583725758828,0.9098583725758828],\"type\":\"scatter3d\"},{\"line\":{\"color\":\"black\"},\"mode\":\"lines\",\"showlegend\":false,\"text\":\"\",\"x\":[0.27063627652297045,-1.9709561705414665e-16],\"y\":[-0.4966062330411687,-0.5655632002276809],\"z\":[0.9098583725758828,0.9098583725758828],\"type\":\"scatter3d\"},{\"line\":{\"color\":\"black\"},\"mode\":\"lines\",\"showlegend\":false,\"text\":\"\",\"x\":[-1.9709561705414665e-16,-0.2706362765229703],\"y\":[-0.5655632002276809,-0.49660623304116874],\"z\":[0.9098583725758828,0.9098583725758828],\"type\":\"scatter3d\"},{\"line\":{\"color\":\"black\"},\"mode\":\"lines\",\"showlegend\":false,\"text\":\"\",\"x\":[-0.5237025677360351,-0.2706362765229703],\"y\":[0.49660623304116874,0.49660623304116874],\"z\":[0.7917208301310096,0.9098583725758828],\"type\":\"scatter3d\"},{\"line\":{\"color\":\"black\"},\"mode\":\"lines\",\"showlegend\":false,\"text\":\"\",\"x\":[-0.5237025677360351,-0.2706362765229703],\"y\":[-0.49660623304116885,-0.49660623304116874],\"z\":[0.7917208301310096,0.9098583725758828],\"type\":\"scatter3d\"},{\"line\":{\"color\":\"black\"},\"mode\":\"lines\",\"showlegend\":false,\"text\":\"\",\"x\":[0.12653314560653245,0.0],\"y\":[1.062169593963779,0.5655632002276809],\"z\":[0.0590687712224367,0.9098583725758828],\"type\":\"scatter3d\"},{\"line\":{\"color\":\"black\"},\"mode\":\"lines\",\"showlegend\":false,\"text\":\"\",\"x\":[0.3971694221295025,0.2706362765229704],\"y\":[0.9932126267772667,0.49660623304116874],\"z\":[0.0590687712224367,0.9098583725758828],\"type\":\"scatter3d\"},{\"line\":{\"color\":\"black\"},\"mode\":\"lines\",\"showlegend\":false,\"text\":\"\",\"x\":[0.12653314560653245,-1.9709561705414665e-16],\"y\":[-1.062169593963779,-0.5655632002276809],\"z\":[0.05906877122243648,0.9098583725758828],\"type\":\"scatter3d\"},{\"line\":{\"color\":\"black\"},\"mode\":\"lines\",\"showlegend\":false,\"text\":\"\",\"x\":[0.3971694221295027,0.27063627652297045],\"y\":[-0.9932126267772666,-0.4966062330411687],\"z\":[0.059068771222436534,0.9098583725758828],\"type\":\"scatter3d\"},{\"line\":{\"color\":\"red\"},\"mode\":\"lines\",\"showlegend\":false,\"text\":\"\",\"x\":[0.0,0.19858471106475137],\"y\":[0.0,-0.7793879135024738],\"z\":[0.0,-0.42539480067672314],\"type\":\"scatter3d\"},{\"line\":{\"color\":\"red\"},\"mode\":\"lines\",\"showlegend\":false,\"text\":\"\",\"x\":[0.19858471106475137,0.27063626037606026],\"y\":[-0.7793879135024738,-0.4966062915877275],\"z\":[-0.42539480067672314,-0.90985837966958],\"type\":\"scatter3d\"},{\"line\":{\"color\":\"red\"},\"mode\":\"lines\",\"showlegend\":false,\"text\":\"\",\"x\":[0.5237025838829452,0.39716942212950274],\"y\":[-0.4966062915877275,0.0],\"z\":[-0.7917208230373124,0.05906877122243659],\"type\":\"scatter3d\"},{\"line\":{\"color\":\"red\"},\"mode\":\"lines\",\"showlegend\":false,\"text\":\"\",\"x\":[0.39716942212950274,0.0],\"y\":[0.0,0.0],\"z\":[0.05906877122243659,0.0],\"type\":\"scatter3d\"},{\"line\":{\"color\":\"red\"},\"mode\":\"lines\",\"showlegend\":false,\"text\":\"\",\"x\":[0.0,0.13531813018803016],\"y\":[0.0,-0.5310847677086101],\"z\":[0.0,-0.9098583761227315],\"type\":\"scatter3d\"},{\"line\":{\"color\":\"red\"},\"mode\":\"lines\",\"showlegend\":false,\"text\":\"\",\"x\":[0.3971694221295028,0.39716942212950274],\"y\":[-0.4966062915877276,0.0],\"z\":[-0.8507896013534462,-0.8507896013534462],\"type\":\"scatter3d\"},{\"line\":{\"color\":\"red\"},\"mode\":\"lines\",\"showlegend\":false,\"text\":\"\",\"x\":[0.39716942212950274,0.5237025838829452],\"y\":[0.0,0.0],\"z\":[-0.8507896013534462,-0.7917208230373125],\"type\":\"scatter3d\"},{\"line\":{\"color\":\"red\"},\"mode\":\"lines\",\"showlegend\":false,\"text\":\"\",\"x\":[0.5237025838829452,0.39716942212950274],\"y\":[0.0,0.0],\"z\":[-0.7917208230373125,0.05906877122243659],\"type\":\"scatter3d\"},{\"line\":{\"color\":\"red\"},\"mode\":\"lines\",\"showlegend\":false,\"text\":\"\",\"x\":[0.19858471106475137,0.460436003006224],\"y\":[-0.7793879135024738,-0.7449094373815912],\"z\":[-0.42539480067672314,-0.36632602590743796],\"type\":\"scatter3d\"},{\"marker\":{\"color\":\"red\",\"size\":4},\"mode\":\"markers+text\",\"showlegend\":false,\"text\":[\"Î“\",\"B\",\"B_1\",\"F\",\"L\",\"L_1\",\"P\",\"P_1\",\"P_2\",\"Q\",\"X\",\"Z\"],\"textfont\":{\"color\":\"red\"},\"x\":[0.0,0.5237025838829452,0.27063626037606026,0.39716942212950274,0.19858471106475137,0.0,0.460436003006224,0.5237025838829452,0.2706362603760603,0.3971694221295028,0.13531813018803016,0.39716942212950274],\"y\":[0.0,-0.4966062915877275,-0.4966062915877275,0.0,-0.7793879135024738,0.0,-0.7449094373815912,0.0,0.0,-0.4966062915877276,-0.5310847677086101,0.0],\"z\":[0.0,-0.7917208230373124,-0.90985837966958,-0.8507896013534462,-0.42539480067672314,-0.9098583725758828,-0.36632602590743796,-0.7917208230373125,-0.90985837966958,-0.8507896013534462,-0.9098583761227315,0.05906877122243659],\"type\":\"scatter3d\"}],                        {\"template\":{\"data\":{\"histogram2dcontour\":[{\"type\":\"histogram2dcontour\",\"colorbar\":{\"outlinewidth\":0,\"ticks\":\"\"},\"colorscale\":[[0.0,\"#0d0887\"],[0.1111111111111111,\"#46039f\"],[0.2222222222222222,\"#7201a8\"],[0.3333333333333333,\"#9c179e\"],[0.4444444444444444,\"#bd3786\"],[0.5555555555555556,\"#d8576b\"],[0.6666666666666666,\"#ed7953\"],[0.7777777777777778,\"#fb9f3a\"],[0.8888888888888888,\"#fdca26\"],[1.0,\"#f0f921\"]]}],\"choropleth\":[{\"type\":\"choropleth\",\"colorbar\":{\"outlinewidth\":0,\"ticks\":\"\"}}],\"histogram2d\":[{\"type\":\"histogram2d\",\"colorbar\":{\"outlinewidth\":0,\"ticks\":\"\"},\"colorscale\":[[0.0,\"#0d0887\"],[0.1111111111111111,\"#46039f\"],[0.2222222222222222,\"#7201a8\"],[0.3333333333333333,\"#9c179e\"],[0.4444444444444444,\"#bd3786\"],[0.5555555555555556,\"#d8576b\"],[0.6666666666666666,\"#ed7953\"],[0.7777777777777778,\"#fb9f3a\"],[0.8888888888888888,\"#fdca26\"],[1.0,\"#f0f921\"]]}],\"heatmap\":[{\"type\":\"heatmap\",\"colorbar\":{\"outlinewidth\":0,\"ticks\":\"\"},\"colorscale\":[[0.0,\"#0d0887\"],[0.1111111111111111,\"#46039f\"],[0.2222222222222222,\"#7201a8\"],[0.3333333333333333,\"#9c179e\"],[0.4444444444444444,\"#bd3786\"],[0.5555555555555556,\"#d8576b\"],[0.6666666666666666,\"#ed7953\"],[0.7777777777777778,\"#fb9f3a\"],[0.8888888888888888,\"#fdca26\"],[1.0,\"#f0f921\"]]}],\"heatmapgl\":[{\"type\":\"heatmapgl\",\"colorbar\":{\"outlinewidth\":0,\"ticks\":\"\"},\"colorscale\":[[0.0,\"#0d0887\"],[0.1111111111111111,\"#46039f\"],[0.2222222222222222,\"#7201a8\"],[0.3333333333333333,\"#9c179e\"],[0.4444444444444444,\"#bd3786\"],[0.5555555555555556,\"#d8576b\"],[0.6666666666666666,\"#ed7953\"],[0.7777777777777778,\"#fb9f3a\"],[0.8888888888888888,\"#fdca26\"],[1.0,\"#f0f921\"]]}],\"contourcarpet\":[{\"type\":\"contourcarpet\",\"colorbar\":{\"outlinewidth\":0,\"ticks\":\"\"}}],\"contour\":[{\"type\":\"contour\",\"colorbar\":{\"outlinewidth\":0,\"ticks\":\"\"},\"colorscale\":[[0.0,\"#0d0887\"],[0.1111111111111111,\"#46039f\"],[0.2222222222222222,\"#7201a8\"],[0.3333333333333333,\"#9c179e\"],[0.4444444444444444,\"#bd3786\"],[0.5555555555555556,\"#d8576b\"],[0.6666666666666666,\"#ed7953\"],[0.7777777777777778,\"#fb9f3a\"],[0.8888888888888888,\"#fdca26\"],[1.0,\"#f0f921\"]]}],\"surface\":[{\"type\":\"surface\",\"colorbar\":{\"outlinewidth\":0,\"ticks\":\"\"},\"colorscale\":[[0.0,\"#0d0887\"],[0.1111111111111111,\"#46039f\"],[0.2222222222222222,\"#7201a8\"],[0.3333333333333333,\"#9c179e\"],[0.4444444444444444,\"#bd3786\"],[0.5555555555555556,\"#d8576b\"],[0.6666666666666666,\"#ed7953\"],[0.7777777777777778,\"#fb9f3a\"],[0.8888888888888888,\"#fdca26\"],[1.0,\"#f0f921\"]]}],\"mesh3d\":[{\"type\":\"mesh3d\",\"colorbar\":{\"outlinewidth\":0,\"ticks\":\"\"}}],\"scatter\":[{\"fillpattern\":{\"fillmode\":\"overlay\",\"size\":10,\"solidity\":0.2},\"type\":\"scatter\"}],\"parcoords\":[{\"type\":\"parcoords\",\"line\":{\"colorbar\":{\"outlinewidth\":0,\"ticks\":\"\"}}}],\"scatterpolargl\":[{\"type\":\"scatterpolargl\",\"marker\":{\"colorbar\":{\"outlinewidth\":0,\"ticks\":\"\"}}}],\"bar\":[{\"error_x\":{\"color\":\"#2a3f5f\"},\"error_y\":{\"color\":\"#2a3f5f\"},\"marker\":{\"line\":{\"color\":\"#E5ECF6\",\"width\":0.5},\"pattern\":{\"fillmode\":\"overlay\",\"size\":10,\"solidity\":0.2}},\"type\":\"bar\"}],\"scattergeo\":[{\"type\":\"scattergeo\",\"marker\":{\"colorbar\":{\"outlinewidth\":0,\"ticks\":\"\"}}}],\"scatterpolar\":[{\"type\":\"scatterpolar\",\"marker\":{\"colorbar\":{\"outlinewidth\":0,\"ticks\":\"\"}}}],\"histogram\":[{\"marker\":{\"pattern\":{\"fillmode\":\"overlay\",\"size\":10,\"solidity\":0.2}},\"type\":\"histogram\"}],\"scattergl\":[{\"type\":\"scattergl\",\"marker\":{\"colorbar\":{\"outlinewidth\":0,\"ticks\":\"\"}}}],\"scatter3d\":[{\"type\":\"scatter3d\",\"line\":{\"colorbar\":{\"outlinewidth\":0,\"ticks\":\"\"}},\"marker\":{\"colorbar\":{\"outlinewidth\":0,\"ticks\":\"\"}}}],\"scattermapbox\":[{\"type\":\"scattermapbox\",\"marker\":{\"colorbar\":{\"outlinewidth\":0,\"ticks\":\"\"}}}],\"scatterternary\":[{\"type\":\"scatterternary\",\"marker\":{\"colorbar\":{\"outlinewidth\":0,\"ticks\":\"\"}}}],\"scattercarpet\":[{\"type\":\"scattercarpet\",\"marker\":{\"colorbar\":{\"outlinewidth\":0,\"ticks\":\"\"}}}],\"carpet\":[{\"aaxis\":{\"endlinecolor\":\"#2a3f5f\",\"gridcolor\":\"white\",\"linecolor\":\"white\",\"minorgridcolor\":\"white\",\"startlinecolor\":\"#2a3f5f\"},\"baxis\":{\"endlinecolor\":\"#2a3f5f\",\"gridcolor\":\"white\",\"linecolor\":\"white\",\"minorgridcolor\":\"white\",\"startlinecolor\":\"#2a3f5f\"},\"type\":\"carpet\"}],\"table\":[{\"cells\":{\"fill\":{\"color\":\"#EBF0F8\"},\"line\":{\"color\":\"white\"}},\"header\":{\"fill\":{\"color\":\"#C8D4E3\"},\"line\":{\"color\":\"white\"}},\"type\":\"table\"}],\"barpolar\":[{\"marker\":{\"line\":{\"color\":\"#E5ECF6\",\"width\":0.5},\"pattern\":{\"fillmode\":\"overlay\",\"size\":10,\"solidity\":0.2}},\"type\":\"barpolar\"}],\"pie\":[{\"automargin\":true,\"type\":\"pie\"}]},\"layout\":{\"autotypenumbers\":\"strict\",\"colorway\":[\"#636efa\",\"#EF553B\",\"#00cc96\",\"#ab63fa\",\"#FFA15A\",\"#19d3f3\",\"#FF6692\",\"#B6E880\",\"#FF97FF\",\"#FECB52\"],\"font\":{\"color\":\"#2a3f5f\"},\"hovermode\":\"closest\",\"hoverlabel\":{\"align\":\"left\"},\"paper_bgcolor\":\"white\",\"plot_bgcolor\":\"#E5ECF6\",\"polar\":{\"bgcolor\":\"#E5ECF6\",\"angularaxis\":{\"gridcolor\":\"white\",\"linecolor\":\"white\",\"ticks\":\"\"},\"radialaxis\":{\"gridcolor\":\"white\",\"linecolor\":\"white\",\"ticks\":\"\"}},\"ternary\":{\"bgcolor\":\"#E5ECF6\",\"aaxis\":{\"gridcolor\":\"white\",\"linecolor\":\"white\",\"ticks\":\"\"},\"baxis\":{\"gridcolor\":\"white\",\"linecolor\":\"white\",\"ticks\":\"\"},\"caxis\":{\"gridcolor\":\"white\",\"linecolor\":\"white\",\"ticks\":\"\"}},\"coloraxis\":{\"colorbar\":{\"outlinewidth\":0,\"ticks\":\"\"}},\"colorscale\":{\"sequential\":[[0.0,\"#0d0887\"],[0.1111111111111111,\"#46039f\"],[0.2222222222222222,\"#7201a8\"],[0.3333333333333333,\"#9c179e\"],[0.4444444444444444,\"#bd3786\"],[0.5555555555555556,\"#d8576b\"],[0.6666666666666666,\"#ed7953\"],[0.7777777777777778,\"#fb9f3a\"],[0.8888888888888888,\"#fdca26\"],[1.0,\"#f0f921\"]],\"sequentialminus\":[[0.0,\"#0d0887\"],[0.1111111111111111,\"#46039f\"],[0.2222222222222222,\"#7201a8\"],[0.3333333333333333,\"#9c179e\"],[0.4444444444444444,\"#bd3786\"],[0.5555555555555556,\"#d8576b\"],[0.6666666666666666,\"#ed7953\"],[0.7777777777777778,\"#fb9f3a\"],[0.8888888888888888,\"#fdca26\"],[1.0,\"#f0f921\"]],\"diverging\":[[0,\"#8e0152\"],[0.1,\"#c51b7d\"],[0.2,\"#de77ae\"],[0.3,\"#f1b6da\"],[0.4,\"#fde0ef\"],[0.5,\"#f7f7f7\"],[0.6,\"#e6f5d0\"],[0.7,\"#b8e186\"],[0.8,\"#7fbc41\"],[0.9,\"#4d9221\"],[1,\"#276419\"]]},\"xaxis\":{\"gridcolor\":\"white\",\"linecolor\":\"white\",\"ticks\":\"\",\"title\":{\"standoff\":15},\"zerolinecolor\":\"white\",\"automargin\":true,\"zerolinewidth\":2},\"yaxis\":{\"gridcolor\":\"white\",\"linecolor\":\"white\",\"ticks\":\"\",\"title\":{\"standoff\":15},\"zerolinecolor\":\"white\",\"automargin\":true,\"zerolinewidth\":2},\"scene\":{\"xaxis\":{\"backgroundcolor\":\"#E5ECF6\",\"gridcolor\":\"white\",\"linecolor\":\"white\",\"showbackground\":true,\"ticks\":\"\",\"zerolinecolor\":\"white\",\"gridwidth\":2},\"yaxis\":{\"backgroundcolor\":\"#E5ECF6\",\"gridcolor\":\"white\",\"linecolor\":\"white\",\"showbackground\":true,\"ticks\":\"\",\"zerolinecolor\":\"white\",\"gridwidth\":2},\"zaxis\":{\"backgroundcolor\":\"#E5ECF6\",\"gridcolor\":\"white\",\"linecolor\":\"white\",\"showbackground\":true,\"ticks\":\"\",\"zerolinecolor\":\"white\",\"gridwidth\":2}},\"shapedefaults\":{\"line\":{\"color\":\"#2a3f5f\"}},\"annotationdefaults\":{\"arrowcolor\":\"#2a3f5f\",\"arrowhead\":0,\"arrowwidth\":1},\"geo\":{\"bgcolor\":\"white\",\"landcolor\":\"#E5ECF6\",\"subunitcolor\":\"white\",\"showland\":true,\"showlakes\":true,\"lakecolor\":\"white\"},\"title\":{\"x\":0.05},\"mapbox\":{\"style\":\"light\"}}},\"scene\":{\"xaxis\":{\"visible\":false,\"range\":[-1.15,1.15]},\"yaxis\":{\"visible\":false,\"range\":[-1.15,1.15]},\"zaxis\":{\"visible\":false,\"range\":[-1.15,1.15]}}},                        {\"responsive\": true}                    ).then(function(){\n",
       "                            \n",
       "var gd = document.getElementById('49862d63-6f71-47b2-86de-be0b311e5273');\n",
       "var x = new MutationObserver(function (mutations, observer) {{\n",
       "        var display = window.getComputedStyle(gd).display;\n",
       "        if (!display || display === 'none') {{\n",
       "            console.log([gd, 'removed!']);\n",
       "            Plotly.purge(gd);\n",
       "            observer.disconnect();\n",
       "        }}\n",
       "}});\n",
       "\n",
       "// Listen for the removal of the full notebook cells\n",
       "var notebookContainer = gd.closest('#notebook-container');\n",
       "if (notebookContainer) {{\n",
       "    x.observe(notebookContainer, {childList: true});\n",
       "}}\n",
       "\n",
       "// Listen for the clearing of the current output cell\n",
       "var outputEl = gd.closest('.output');\n",
       "if (outputEl) {{\n",
       "    x.observe(outputEl, {childList: true});\n",
       "}}\n",
       "\n",
       "                        })                };                });            </script>        </div>"
      ]
     },
     "metadata": {},
     "output_type": "display_data"
    }
   ],
   "source": [
    "plot_brillouin_zone(el_bs.structure)"
   ]
  },
  {
   "cell_type": "markdown",
   "id": "2c9bdb9c",
   "metadata": {},
   "source": [
    "# Bande électronique"
   ]
  },
  {
   "cell_type": "code",
   "execution_count": 104,
   "id": "c98442a9",
   "metadata": {},
   "outputs": [
    {
     "data": {
      "application/vnd.plotly.v1+json": {
       "config": {
        "plotlyServerURL": "https://plot.ly"
       },
       "data": [
        {
         "mode": "lines",
         "name": "band 12",
         "type": "scatter",
         "x": [
          0,
          0.0478872804126051,
          0.0957745608252102,
          0.1436618412378153,
          0.1915491216504204,
          0.23943640206302552,
          0.2873236824756306,
          0.3352109628882357,
          0.3830982433008408,
          0.4309855237134459,
          0.4788727859288848,
          0.52676006634149,
          0.5746473467540951,
          0.6225346271667003,
          0.6704219075793054,
          0.7183091879919103,
          0.7661964684045154,
          0.8140837488171206,
          0.8619710292297257,
          0.9098583096423308,
          0.9098583096423308,
          0.9569885861732094,
          1.0041188627040878,
          1.0512491392349663,
          1.0983794157658449,
          1.1455096922967234,
          1.1926399376520829,
          1.2397702141829614,
          1.2869004907138402,
          1.3340307672447187,
          1.3811610437755972,
          1.4282913203064758,
          1.4754215968373545,
          1.4754215968373545,
          1.5250822343582693,
          1.5747428718791838,
          1.6244035094000986,
          1.6740641157454943,
          1.7237247532664088,
          1.7733853907873236,
          1.8230460283082381,
          1.872706665829153,
          1.9223673033500674,
          1.9720279096954632,
          2.0216885472163777,
          2.0713491847372922,
          2.121009822258207,
          2.1706704597791213,
          2.220331097300036,
          2.2699917348209504,
          2.319652341166346,
          2.3693129786872604,
          2.418973616208175,
          2.4686342537290895,
          2.4686342537290895,
          2.513249577372131,
          2.5578648929844148,
          2.6024802166274563,
          2.64709553223974,
          2.6917108558827816,
          2.7363261714950653,
          2.780941495138107,
          2.8255568107503906,
          2.870172134393432,
          2.870172134393432,
          2.9184525693424144,
          2.9667330042913966,
          3.015013439240379,
          3.063293874189361,
          3.1115743091383434,
          3.1598547440873257,
          3.208135179036308,
          3.2564156451608093,
          3.3046960801097915,
          3.352976515058774,
          3.401256950007756,
          3.4495373849567383,
          3.497817819905721,
          3.5460982548547033,
          3.5943786898036856,
          3.6426591247526683,
          3.6909395597016506,
          3.739219994650633,
          3.787500429599615,
          3.8357808645485973,
          3.8840612994975796,
          3.932341734446562,
          3.932341734446562,
          3.9820023682373975,
          4.031663002028234,
          4.081323635819069,
          4.130984269609904,
          4.18064490340074,
          4.230305537191575,
          4.279966139806894,
          4.329626773597729,
          4.379287407388564,
          4.4289480411794,
          4.4289480411794,
          4.475495226087596,
          4.522042403298337,
          4.568589588206533,
          4.568589588206533,
          4.61637556013767,
          4.664161532068808,
          4.71194748600075,
          4.759733457931888,
          4.807519429863025,
          4.855305401794163,
          4.9030913737253,
          4.950877345656438,
          4.998663299588381,
          5.046449271519519,
          5.094235243450656,
          5.142021197382599,
          5.189807169313736,
          5.237593141244874,
          5.2853790951768165,
          5.333165067107954,
          5.3809510390390916,
          5.428737010970229,
          5.428737010970229,
          5.4738430574267225,
          5.518949095939828,
          5.564055142396321,
          5.609161180909426,
          5.65426722736592,
          5.699373265879025
         ],
         "y": [
          -1.4143,
          -1.44,
          -1.5163,
          -1.6404999999999998,
          -1.8068,
          -2.0063,
          -2.2285,
          -2.463,
          -2.7011,
          -2.9354,
          -3.1595999999999997,
          -3.3649999999999998,
          -3.463,
          -3.4213999999999998,
          -3.3717,
          -3.3244,
          -3.2826,
          -3.2497,
          -3.2285,
          -3.2212,
          -3.2212,
          -3.2208,
          -3.2195,
          -3.2172,
          -3.2135,
          -3.2081999999999997,
          -3.2014,
          -3.193,
          -3.1835999999999998,
          -3.3134,
          -3.4615,
          -3.5896,
          -3.4819999999999998,
          -3.4819999999999998,
          -3.3487,
          -3.2095,
          -3.2064,
          -3.2428,
          -3.2893,
          -3.3436,
          -3.4032,
          -3.4652,
          -3.3461,
          -3.1666,
          -2.9669,
          -2.7512,
          -2.5244,
          -2.2927999999999997,
          -2.0641,
          -1.8481999999999998,
          -1.6564999999999999,
          -1.5017,
          -1.3943999999999999,
          -1.3474,
          -1.3474,
          -1.3496,
          -1.3558999999999999,
          -1.3654,
          -1.3766,
          -1.3881999999999999,
          -1.3987,
          -1.4071,
          -1.4124999999999999,
          -1.4143,
          -1.4143,
          -1.4412,
          -1.5206,
          -1.6481999999999999,
          -1.8165,
          -2.0151,
          -2.2327,
          -2.4588,
          -2.6845,
          -2.9025,
          -3.1071,
          -3.2938,
          -3.4514,
          -3.4002,
          -3.3527,
          -3.3095,
          -3.2711,
          -3.238,
          -3.211,
          -3.2572,
          -3.3944,
          -3.5262,
          -3.5368,
          -3.5368,
          -3.3878,
          -3.2195,
          -3.1778,
          -3.1915,
          -3.2066,
          -3.2216,
          -3.2351,
          -3.2457,
          -3.2525,
          -3.2549,
          -3.2549,
          -3.2553,
          -3.2563999999999997,
          -3.2582,
          -3.2582,
          -3.281,
          -3.3138,
          -3.355,
          -3.4027,
          -3.4545,
          -3.5077,
          -3.4135,
          -3.2002,
          -2.9736,
          -2.7382,
          -2.4989,
          -2.2616,
          -2.0332,
          -1.8222,
          -1.6384999999999998,
          -1.4921,
          -1.3914,
          -1.3474,
          -3.2212,
          -3.2231,
          -3.2283,
          -3.2357,
          -3.2441,
          -3.2519,
          -3.2582
         ]
        },
        {
         "mode": "lines",
         "name": "band 13",
         "type": "scatter",
         "x": [
          0,
          0.0478872804126051,
          0.0957745608252102,
          0.1436618412378153,
          0.1915491216504204,
          0.23943640206302552,
          0.2873236824756306,
          0.3352109628882357,
          0.3830982433008408,
          0.4309855237134459,
          0.4788727859288848,
          0.52676006634149,
          0.5746473467540951,
          0.6225346271667003,
          0.6704219075793054,
          0.7183091879919103,
          0.7661964684045154,
          0.8140837488171206,
          0.8619710292297257,
          0.9098583096423308,
          0.9098583096423308,
          0.9569885861732094,
          1.0041188627040878,
          1.0512491392349663,
          1.0983794157658449,
          1.1455096922967234,
          1.1926399376520829,
          1.2397702141829614,
          1.2869004907138402,
          1.3340307672447187,
          1.3811610437755972,
          1.4282913203064758,
          1.4754215968373545,
          1.4754215968373545,
          1.5250822343582693,
          1.5747428718791838,
          1.6244035094000986,
          1.6740641157454943,
          1.7237247532664088,
          1.7733853907873236,
          1.8230460283082381,
          1.872706665829153,
          1.9223673033500674,
          1.9720279096954632,
          2.0216885472163777,
          2.0713491847372922,
          2.121009822258207,
          2.1706704597791213,
          2.220331097300036,
          2.2699917348209504,
          2.319652341166346,
          2.3693129786872604,
          2.418973616208175,
          2.4686342537290895,
          2.4686342537290895,
          2.513249577372131,
          2.5578648929844148,
          2.6024802166274563,
          2.64709553223974,
          2.6917108558827816,
          2.7363261714950653,
          2.780941495138107,
          2.8255568107503906,
          2.870172134393432,
          2.870172134393432,
          2.9184525693424144,
          2.9667330042913966,
          3.015013439240379,
          3.063293874189361,
          3.1115743091383434,
          3.1598547440873257,
          3.208135179036308,
          3.2564156451608093,
          3.3046960801097915,
          3.352976515058774,
          3.401256950007756,
          3.4495373849567383,
          3.497817819905721,
          3.5460982548547033,
          3.5943786898036856,
          3.6426591247526683,
          3.6909395597016506,
          3.739219994650633,
          3.787500429599615,
          3.8357808645485973,
          3.8840612994975796,
          3.932341734446562,
          3.932341734446562,
          3.9820023682373975,
          4.031663002028234,
          4.081323635819069,
          4.130984269609904,
          4.18064490340074,
          4.230305537191575,
          4.279966139806894,
          4.329626773597729,
          4.379287407388564,
          4.4289480411794,
          4.4289480411794,
          4.475495226087596,
          4.522042403298337,
          4.568589588206533,
          4.568589588206533,
          4.61637556013767,
          4.664161532068808,
          4.71194748600075,
          4.759733457931888,
          4.807519429863025,
          4.855305401794163,
          4.9030913737253,
          4.950877345656438,
          4.998663299588381,
          5.046449271519519,
          5.094235243450656,
          5.142021197382599,
          5.189807169313736,
          5.237593141244874,
          5.2853790951768165,
          5.333165067107954,
          5.3809510390390916,
          5.428737010970229,
          5.428737010970229,
          5.4738430574267225,
          5.518949095939828,
          5.564055142396321,
          5.609161180909426,
          5.65426722736592,
          5.699373265879025
         ],
         "y": [
          -1.4143,
          -1.4187999999999998,
          -1.4321,
          -1.4539,
          -1.484,
          -1.5213999999999999,
          -1.5652,
          -1.6140999999999999,
          -1.6663999999999999,
          -1.7205,
          -1.7748,
          -1.8276,
          -1.8775,
          -1.9232,
          -1.9637,
          -1.998,
          -2.0254,
          -2.0454,
          -2.0575,
          -2.0616,
          -2.0616,
          -2.0886,
          -2.1664,
          -2.2866,
          -2.4379999999999997,
          -2.6094,
          -2.7904999999999998,
          -2.9727,
          -3.1489,
          -3.174,
          -3.1654999999999998,
          -3.1598,
          -3.1586,
          -3.1586,
          -3.1645,
          -3.1782,
          -3.0601,
          -2.9089,
          -2.7546999999999997,
          -2.5995999999999997,
          -2.4459,
          -2.2959,
          -2.1519,
          -2.0162,
          -1.8907,
          -1.7771,
          -1.6764,
          -1.589,
          -1.5152999999999999,
          -1.4549999999999998,
          -1.408,
          -1.3743999999999998,
          -1.3540999999999999,
          -1.3474,
          -1.3474,
          -1.3496,
          -1.3558999999999999,
          -1.3654,
          -1.3766,
          -1.3881999999999999,
          -1.3987,
          -1.4071,
          -1.4124999999999999,
          -1.4143,
          -1.4143,
          -1.4187999999999998,
          -1.4324999999999999,
          -1.4562,
          -1.4910999999999999,
          -1.5383,
          -1.5989,
          -1.6735,
          -1.762,
          -1.8637,
          -1.9776,
          -2.1021,
          -2.2353,
          -2.3754,
          -2.5204,
          -2.6684,
          -2.8175,
          -2.9661,
          -3.1121,
          -3.187,
          -3.1721,
          -3.1624,
          -3.1585,
          -3.1585,
          -3.1602,
          -3.1669,
          -3.0372,
          -2.8474,
          -2.6582,
          -2.4793,
          -2.3217,
          -2.1974,
          -2.1174999999999997,
          -2.0898,
          -2.0898,
          -2.0888,
          -2.0857,
          -2.0808,
          -2.0808,
          -2.0704000000000002,
          -2.0513,
          -2.0239000000000003,
          -1.9888,
          -1.9465,
          -1.8979,
          -1.8440999999999999,
          -1.7862,
          -1.7256,
          -1.6638,
          -1.6026,
          -1.5437999999999998,
          -1.4895,
          -1.4415,
          -1.4018,
          -1.3719999999999999,
          -1.3536,
          -1.3474,
          -2.0616,
          -2.0624000000000002,
          -2.0648999999999997,
          -2.0686,
          -2.0728999999999997,
          -2.0772,
          -2.0808
         ]
        },
        {
         "mode": "lines",
         "name": "band 14",
         "type": "scatter",
         "x": [
          0,
          0.0478872804126051,
          0.0957745608252102,
          0.1436618412378153,
          0.1915491216504204,
          0.23943640206302552,
          0.2873236824756306,
          0.3352109628882357,
          0.3830982433008408,
          0.4309855237134459,
          0.4788727859288848,
          0.52676006634149,
          0.5746473467540951,
          0.6225346271667003,
          0.6704219075793054,
          0.7183091879919103,
          0.7661964684045154,
          0.8140837488171206,
          0.8619710292297257,
          0.9098583096423308,
          0.9098583096423308,
          0.9569885861732094,
          1.0041188627040878,
          1.0512491392349663,
          1.0983794157658449,
          1.1455096922967234,
          1.1926399376520829,
          1.2397702141829614,
          1.2869004907138402,
          1.3340307672447187,
          1.3811610437755972,
          1.4282913203064758,
          1.4754215968373545,
          1.4754215968373545,
          1.5250822343582693,
          1.5747428718791838,
          1.6244035094000986,
          1.6740641157454943,
          1.7237247532664088,
          1.7733853907873236,
          1.8230460283082381,
          1.872706665829153,
          1.9223673033500674,
          1.9720279096954632,
          2.0216885472163777,
          2.0713491847372922,
          2.121009822258207,
          2.1706704597791213,
          2.220331097300036,
          2.2699917348209504,
          2.319652341166346,
          2.3693129786872604,
          2.418973616208175,
          2.4686342537290895,
          2.4686342537290895,
          2.513249577372131,
          2.5578648929844148,
          2.6024802166274563,
          2.64709553223974,
          2.6917108558827816,
          2.7363261714950653,
          2.780941495138107,
          2.8255568107503906,
          2.870172134393432,
          2.870172134393432,
          2.9184525693424144,
          2.9667330042913966,
          3.015013439240379,
          3.063293874189361,
          3.1115743091383434,
          3.1598547440873257,
          3.208135179036308,
          3.2564156451608093,
          3.3046960801097915,
          3.352976515058774,
          3.401256950007756,
          3.4495373849567383,
          3.497817819905721,
          3.5460982548547033,
          3.5943786898036856,
          3.6426591247526683,
          3.6909395597016506,
          3.739219994650633,
          3.787500429599615,
          3.8357808645485973,
          3.8840612994975796,
          3.932341734446562,
          3.932341734446562,
          3.9820023682373975,
          4.031663002028234,
          4.081323635819069,
          4.130984269609904,
          4.18064490340074,
          4.230305537191575,
          4.279966139806894,
          4.329626773597729,
          4.379287407388564,
          4.4289480411794,
          4.4289480411794,
          4.475495226087596,
          4.522042403298337,
          4.568589588206533,
          4.568589588206533,
          4.61637556013767,
          4.664161532068808,
          4.71194748600075,
          4.759733457931888,
          4.807519429863025,
          4.855305401794163,
          4.9030913737253,
          4.950877345656438,
          4.998663299588381,
          5.046449271519519,
          5.094235243450656,
          5.142021197382599,
          5.189807169313736,
          5.237593141244874,
          5.2853790951768165,
          5.333165067107954,
          5.3809510390390916,
          5.428737010970229,
          5.428737010970229,
          5.4738430574267225,
          5.518949095939828,
          5.564055142396321,
          5.609161180909426,
          5.65426722736592,
          5.699373265879025
         ],
         "y": [
          -0.7422,
          -0.7387999999999999,
          -0.7286000000000001,
          -0.7117999999999998,
          -0.6886999999999999,
          -0.6595,
          -0.6246999999999998,
          -0.6015000000000001,
          -0.6396999999999999,
          -0.6783999999999999,
          -0.718,
          -0.7614000000000001,
          -0.8098000000000001,
          -0.8628999999999998,
          -0.9186000000000001,
          -0.9737,
          -1.0236999999999998,
          -1.064,
          -1.0901999999999998,
          -1.0993,
          -1.0993,
          -1.0905,
          -1.0646,
          -1.0231,
          -0.968,
          -0.9018000000000002,
          -0.8275000000000001,
          -0.7483999999999997,
          -0.6680999999999999,
          -0.5903,
          -0.5185999999999997,
          -0.45569999999999977,
          -0.5049000000000001,
          -0.5049000000000001,
          -0.5587999999999997,
          -0.6019000000000001,
          -0.6311999999999998,
          -0.6452999999999998,
          -0.6442999999999999,
          -0.6299000000000001,
          -0.6044,
          -0.5709999999999997,
          -0.5326999999999997,
          -0.5756000000000001,
          -0.6656,
          -0.7616,
          -0.8592,
          -0.9539999999999997,
          -1.0419999999999998,
          -1.1198000000000001,
          -1.1846999999999999,
          -1.2356,
          -1.2738,
          -1.2965,
          -1.2965,
          -1.2825,
          -1.2415,
          -1.1767999999999998,
          -1.0937000000000001,
          -0.9996999999999998,
          -0.9047999999999998,
          -0.8214000000000001,
          -0.7631999999999999,
          -0.7422,
          -0.7422,
          -0.7380999999999998,
          -0.7258999999999998,
          -0.706,
          -0.6789999999999998,
          -0.6459999999999999,
          -0.6080000000000001,
          -0.6322000000000001,
          -0.6759,
          -0.7067999999999999,
          -0.7254999999999998,
          -0.7332000000000001,
          -0.7309000000000001,
          -0.7201,
          -0.7020999999999997,
          -0.6783000000000001,
          -0.6499999999999999,
          -0.6185,
          -0.5844999999999998,
          -0.5486999999999997,
          -0.5116,
          -0.4733999999999998,
          -0.47029999999999994,
          -0.47029999999999994,
          -0.516,
          -0.5629999999999997,
          -0.6097000000000001,
          -0.6541999999999999,
          -0.6947999999999999,
          -0.7302,
          -0.7589000000000001,
          -0.7801999999999998,
          -0.7932000000000001,
          -0.7976000000000001,
          -0.7976000000000001,
          -0.8052000000000001,
          -0.827,
          -0.8597000000000001,
          -0.8597000000000001,
          -0.8367999999999998,
          -0.8089,
          -0.7768999999999999,
          -0.7425000000000002,
          -0.7081,
          -0.6783999999999999,
          -0.6619999999999999,
          -0.6734,
          -0.7227000000000001,
          -0.7993999999999999,
          -0.887,
          -0.9750999999999999,
          -1.0575999999999999,
          -1.1305,
          -1.1912,
          -1.2389,
          -1.275,
          -1.2965,
          -1.0993,
          -1.0894,
          -1.0608999999999997,
          -1.0175,
          -0.9649000000000001,
          -0.9098000000000002,
          -0.8597000000000001
         ]
        },
        {
         "mode": "lines",
         "name": "band 15",
         "type": "scatter",
         "x": [
          0,
          0.0478872804126051,
          0.0957745608252102,
          0.1436618412378153,
          0.1915491216504204,
          0.23943640206302552,
          0.2873236824756306,
          0.3352109628882357,
          0.3830982433008408,
          0.4309855237134459,
          0.4788727859288848,
          0.52676006634149,
          0.5746473467540951,
          0.6225346271667003,
          0.6704219075793054,
          0.7183091879919103,
          0.7661964684045154,
          0.8140837488171206,
          0.8619710292297257,
          0.9098583096423308,
          0.9098583096423308,
          0.9569885861732094,
          1.0041188627040878,
          1.0512491392349663,
          1.0983794157658449,
          1.1455096922967234,
          1.1926399376520829,
          1.2397702141829614,
          1.2869004907138402,
          1.3340307672447187,
          1.3811610437755972,
          1.4282913203064758,
          1.4754215968373545,
          1.4754215968373545,
          1.5250822343582693,
          1.5747428718791838,
          1.6244035094000986,
          1.6740641157454943,
          1.7237247532664088,
          1.7733853907873236,
          1.8230460283082381,
          1.872706665829153,
          1.9223673033500674,
          1.9720279096954632,
          2.0216885472163777,
          2.0713491847372922,
          2.121009822258207,
          2.1706704597791213,
          2.220331097300036,
          2.2699917348209504,
          2.319652341166346,
          2.3693129786872604,
          2.418973616208175,
          2.4686342537290895,
          2.4686342537290895,
          2.513249577372131,
          2.5578648929844148,
          2.6024802166274563,
          2.64709553223974,
          2.6917108558827816,
          2.7363261714950653,
          2.780941495138107,
          2.8255568107503906,
          2.870172134393432,
          2.870172134393432,
          2.9184525693424144,
          2.9667330042913966,
          3.015013439240379,
          3.063293874189361,
          3.1115743091383434,
          3.1598547440873257,
          3.208135179036308,
          3.2564156451608093,
          3.3046960801097915,
          3.352976515058774,
          3.401256950007756,
          3.4495373849567383,
          3.497817819905721,
          3.5460982548547033,
          3.5943786898036856,
          3.6426591247526683,
          3.6909395597016506,
          3.739219994650633,
          3.787500429599615,
          3.8357808645485973,
          3.8840612994975796,
          3.932341734446562,
          3.932341734446562,
          3.9820023682373975,
          4.031663002028234,
          4.081323635819069,
          4.130984269609904,
          4.18064490340074,
          4.230305537191575,
          4.279966139806894,
          4.329626773597729,
          4.379287407388564,
          4.4289480411794,
          4.4289480411794,
          4.475495226087596,
          4.522042403298337,
          4.568589588206533,
          4.568589588206533,
          4.61637556013767,
          4.664161532068808,
          4.71194748600075,
          4.759733457931888,
          4.807519429863025,
          4.855305401794163,
          4.9030913737253,
          4.950877345656438,
          4.998663299588381,
          5.046449271519519,
          5.094235243450656,
          5.142021197382599,
          5.189807169313736,
          5.237593141244874,
          5.2853790951768165,
          5.333165067107954,
          5.3809510390390916,
          5.428737010970229,
          5.428737010970229,
          5.4738430574267225,
          5.518949095939828,
          5.564055142396321,
          5.609161180909426,
          5.65426722736592,
          5.699373265879025
         ],
         "y": [
          -0.17490000000000006,
          -0.19709999999999983,
          -0.2559,
          -0.3336000000000001,
          -0.41359999999999975,
          -0.48550000000000004,
          -0.5453000000000001,
          -0.5762999999999998,
          -0.5318,
          -0.4769000000000001,
          -0.41610000000000014,
          -0.35150000000000015,
          -0.2858999999999998,
          -0.2229000000000001,
          -0.16579999999999995,
          -0.11709999999999976,
          -0.09989999999999988,
          -0.09689999999999976,
          -0.09509999999999996,
          -0.09450000000000003,
          -0.09450000000000003,
          -0.09640000000000004,
          -0.10219999999999985,
          -0.11289999999999978,
          -0.12939999999999996,
          -0.1530999999999998,
          -0.18480000000000008,
          -0.22489999999999988,
          -0.2730999999999999,
          -0.3279000000000001,
          -0.387,
          -0.44720000000000004,
          -0.40379999999999994,
          -0.40379999999999994,
          -0.36209999999999987,
          -0.3336000000000001,
          -0.31769999999999987,
          -0.3138000000000001,
          -0.32189999999999985,
          -0.3428,
          -0.3782000000000001,
          -0.4291999999999998,
          -0.4956999999999998,
          -0.4925999999999999,
          -0.45310000000000006,
          -0.4163000000000001,
          -0.3839999999999999,
          -0.35729999999999995,
          -0.3367,
          -0.32189999999999985,
          -0.3123999999999998,
          -0.30689999999999973,
          -0.3043,
          -0.3035000000000001,
          -0.3035000000000001,
          -0.2995000000000001,
          -0.28790000000000004,
          -0.2704,
          -0.2492000000000001,
          -0.2269000000000001,
          -0.20619999999999994,
          -0.18949999999999978,
          -0.17859999999999987,
          -0.17490000000000006,
          -0.17490000000000006,
          -0.1974999999999998,
          -0.25780000000000003,
          -0.33899999999999997,
          -0.42510000000000003,
          -0.5055999999999998,
          -0.5752999999999999,
          -0.5665,
          -0.5230000000000001,
          -0.47909999999999986,
          -0.4367000000000001,
          -0.39759999999999973,
          -0.36370000000000013,
          -0.33679999999999977,
          -0.3182999999999998,
          -0.30909999999999993,
          -0.3092999999999999,
          -0.3184,
          -0.3357999999999999,
          -0.3605999999999998,
          -0.3919999999999999,
          -0.4289999999999998,
          -0.43379999999999974,
          -0.43379999999999974,
          -0.39170000000000016,
          -0.3479000000000001,
          -0.3022999999999998,
          -0.2549999999999999,
          -0.20650000000000013,
          -0.1583000000000001,
          -0.1126999999999998,
          -0.0737000000000001,
          -0.04679999999999973,
          -0.03710000000000013,
          -0.03710000000000013,
          -0.03839999999999977,
          -0.04249999999999998,
          -0.048799999999999955,
          -0.048799999999999955,
          -0.04820000000000002,
          -0.050599999999999756,
          -0.08930000000000016,
          -0.14129999999999976,
          -0.20359999999999978,
          -0.27170000000000005,
          -0.3363999999999998,
          -0.3818999999999999,
          -0.3965000000000001,
          -0.3881000000000001,
          -0.37060000000000004,
          -0.3517000000000001,
          -0.33489999999999975,
          -0.3216999999999999,
          -0.3123999999999998,
          -0.30689999999999973,
          -0.3041999999999998,
          -0.3035000000000001,
          -0.09450000000000003,
          -0.09260000000000002,
          -0.08689999999999998,
          -0.07850000000000001,
          -0.0682999999999998,
          -0.05799999999999983,
          -0.048799999999999955
         ]
        },
        {
         "mode": "lines",
         "name": "band 16",
         "type": "scatter",
         "x": [
          0,
          0.0478872804126051,
          0.0957745608252102,
          0.1436618412378153,
          0.1915491216504204,
          0.23943640206302552,
          0.2873236824756306,
          0.3352109628882357,
          0.3830982433008408,
          0.4309855237134459,
          0.4788727859288848,
          0.52676006634149,
          0.5746473467540951,
          0.6225346271667003,
          0.6704219075793054,
          0.7183091879919103,
          0.7661964684045154,
          0.8140837488171206,
          0.8619710292297257,
          0.9098583096423308,
          0.9098583096423308,
          0.9569885861732094,
          1.0041188627040878,
          1.0512491392349663,
          1.0983794157658449,
          1.1455096922967234,
          1.1926399376520829,
          1.2397702141829614,
          1.2869004907138402,
          1.3340307672447187,
          1.3811610437755972,
          1.4282913203064758,
          1.4754215968373545,
          1.4754215968373545,
          1.5250822343582693,
          1.5747428718791838,
          1.6244035094000986,
          1.6740641157454943,
          1.7237247532664088,
          1.7733853907873236,
          1.8230460283082381,
          1.872706665829153,
          1.9223673033500674,
          1.9720279096954632,
          2.0216885472163777,
          2.0713491847372922,
          2.121009822258207,
          2.1706704597791213,
          2.220331097300036,
          2.2699917348209504,
          2.319652341166346,
          2.3693129786872604,
          2.418973616208175,
          2.4686342537290895,
          2.4686342537290895,
          2.513249577372131,
          2.5578648929844148,
          2.6024802166274563,
          2.64709553223974,
          2.6917108558827816,
          2.7363261714950653,
          2.780941495138107,
          2.8255568107503906,
          2.870172134393432,
          2.870172134393432,
          2.9184525693424144,
          2.9667330042913966,
          3.015013439240379,
          3.063293874189361,
          3.1115743091383434,
          3.1598547440873257,
          3.208135179036308,
          3.2564156451608093,
          3.3046960801097915,
          3.352976515058774,
          3.401256950007756,
          3.4495373849567383,
          3.497817819905721,
          3.5460982548547033,
          3.5943786898036856,
          3.6426591247526683,
          3.6909395597016506,
          3.739219994650633,
          3.787500429599615,
          3.8357808645485973,
          3.8840612994975796,
          3.932341734446562,
          3.932341734446562,
          3.9820023682373975,
          4.031663002028234,
          4.081323635819069,
          4.130984269609904,
          4.18064490340074,
          4.230305537191575,
          4.279966139806894,
          4.329626773597729,
          4.379287407388564,
          4.4289480411794,
          4.4289480411794,
          4.475495226087596,
          4.522042403298337,
          4.568589588206533,
          4.568589588206533,
          4.61637556013767,
          4.664161532068808,
          4.71194748600075,
          4.759733457931888,
          4.807519429863025,
          4.855305401794163,
          4.9030913737253,
          4.950877345656438,
          4.998663299588381,
          5.046449271519519,
          5.094235243450656,
          5.142021197382599,
          5.189807169313736,
          5.237593141244874,
          5.2853790951768165,
          5.333165067107954,
          5.3809510390390916,
          5.428737010970229,
          5.428737010970229,
          5.4738430574267225,
          5.518949095939828,
          5.564055142396321,
          5.609161180909426,
          5.65426722736592,
          5.699373265879025
         ],
         "y": [
          -0.17490000000000006,
          -0.1751999999999998,
          -0.17589999999999995,
          -0.1766000000000001,
          -0.1764000000000001,
          -0.17490000000000006,
          -0.17149999999999999,
          -0.1661999999999999,
          -0.1591999999999998,
          -0.1509999999999998,
          -0.14210000000000012,
          -0.133,
          -0.12440000000000007,
          -0.11649999999999983,
          -0.1097999999999999,
          -0.10420000000000007,
          -0.07869999999999999,
          -0.0512999999999999,
          -0.03500000000000014,
          -0.02950000000000008,
          -0.02950000000000008,
          -0.02859999999999996,
          -0.02619999999999978,
          -0.0230999999999999,
          -0.020399999999999974,
          -0.01849999999999996,
          -0.01770000000000005,
          -0.017799999999999816,
          -0.01839999999999975,
          -0.019000000000000128,
          -0.019400000000000084,
          -0.019299999999999873,
          -0.01880000000000015,
          -0.01880000000000015,
          -0.018299999999999983,
          -0.019099999999999895,
          -0.02259999999999973,
          -0.030100000000000016,
          -0.042100000000000026,
          -0.05819999999999981,
          -0.07739999999999991,
          -0.0979000000000001,
          -0.1187999999999998,
          -0.13980000000000015,
          -0.16089999999999982,
          -0.1823999999999999,
          -0.20389999999999997,
          -0.22520000000000007,
          -0.24549999999999983,
          -0.2639999999999998,
          -0.2799999999999998,
          -0.2925,
          -0.30069999999999997,
          -0.3035000000000001,
          -0.3035000000000001,
          -0.2995000000000001,
          -0.28790000000000004,
          -0.2704,
          -0.2492000000000001,
          -0.2269000000000001,
          -0.20619999999999994,
          -0.18949999999999978,
          -0.17859999999999987,
          -0.17490000000000006,
          -0.17490000000000006,
          -0.1755,
          -0.1772999999999998,
          -0.17939999999999978,
          -0.18080000000000007,
          -0.18040000000000012,
          -0.17720000000000002,
          -0.17070000000000007,
          -0.16100000000000003,
          -0.14849999999999985,
          -0.13390000000000013,
          -0.11830000000000007,
          -0.10219999999999985,
          -0.08639999999999981,
          -0.07109999999999994,
          -0.05699999999999994,
          -0.04469999999999974,
          -0.034800000000000164,
          -0.027699999999999836,
          -0.02320000000000011,
          -0.02079999999999993,
          -0.019600000000000062,
          -0.019000000000000128,
          -0.019000000000000128,
          -0.018199999999999772,
          -0.016900000000000137,
          -0.014899999999999913,
          -0.012399999999999967,
          -0.009500000000000064,
          -0.006600000000000161,
          -0.0038999999999997925,
          -0.0017999999999998018,
          -0.00039999999999995595,
          0,
          0,
          -0.001100000000000101,
          -0.0043999999999999595,
          -0.009700000000000042,
          -0.009700000000000042,
          -0.02289999999999992,
          -0.0495000000000001,
          -0.05600000000000005,
          -0.06449999999999978,
          -0.07620000000000005,
          -0.09099999999999975,
          -0.10860000000000003,
          -0.12880000000000003,
          -0.15090000000000003,
          -0.1743999999999999,
          -0.1983999999999999,
          -0.22189999999999976,
          -0.24409999999999998,
          -0.2639999999999998,
          -0.28059999999999974,
          -0.2930999999999999,
          -0.30079999999999973,
          -0.3035000000000001,
          -0.02950000000000008,
          -0.028699999999999726,
          -0.026399999999999757,
          -0.02289999999999992,
          -0.01839999999999975,
          -0.013700000000000045,
          -0.009700000000000042
         ]
        },
        {
         "mode": "lines",
         "name": "band 17",
         "type": "scatter",
         "x": [
          0,
          0.0478872804126051,
          0.0957745608252102,
          0.1436618412378153,
          0.1915491216504204,
          0.23943640206302552,
          0.2873236824756306,
          0.3352109628882357,
          0.3830982433008408,
          0.4309855237134459,
          0.4788727859288848,
          0.52676006634149,
          0.5746473467540951,
          0.6225346271667003,
          0.6704219075793054,
          0.7183091879919103,
          0.7661964684045154,
          0.8140837488171206,
          0.8619710292297257,
          0.9098583096423308,
          0.9098583096423308,
          0.9569885861732094,
          1.0041188627040878,
          1.0512491392349663,
          1.0983794157658449,
          1.1455096922967234,
          1.1926399376520829,
          1.2397702141829614,
          1.2869004907138402,
          1.3340307672447187,
          1.3811610437755972,
          1.4282913203064758,
          1.4754215968373545,
          1.4754215968373545,
          1.5250822343582693,
          1.5747428718791838,
          1.6244035094000986,
          1.6740641157454943,
          1.7237247532664088,
          1.7733853907873236,
          1.8230460283082381,
          1.872706665829153,
          1.9223673033500674,
          1.9720279096954632,
          2.0216885472163777,
          2.0713491847372922,
          2.121009822258207,
          2.1706704597791213,
          2.220331097300036,
          2.2699917348209504,
          2.319652341166346,
          2.3693129786872604,
          2.418973616208175,
          2.4686342537290895,
          2.4686342537290895,
          2.513249577372131,
          2.5578648929844148,
          2.6024802166274563,
          2.64709553223974,
          2.6917108558827816,
          2.7363261714950653,
          2.780941495138107,
          2.8255568107503906,
          2.870172134393432,
          2.870172134393432,
          2.9184525693424144,
          2.9667330042913966,
          3.015013439240379,
          3.063293874189361,
          3.1115743091383434,
          3.1598547440873257,
          3.208135179036308,
          3.2564156451608093,
          3.3046960801097915,
          3.352976515058774,
          3.401256950007756,
          3.4495373849567383,
          3.497817819905721,
          3.5460982548547033,
          3.5943786898036856,
          3.6426591247526683,
          3.6909395597016506,
          3.739219994650633,
          3.787500429599615,
          3.8357808645485973,
          3.8840612994975796,
          3.932341734446562,
          3.932341734446562,
          3.9820023682373975,
          4.031663002028234,
          4.081323635819069,
          4.130984269609904,
          4.18064490340074,
          4.230305537191575,
          4.279966139806894,
          4.329626773597729,
          4.379287407388564,
          4.4289480411794,
          4.4289480411794,
          4.475495226087596,
          4.522042403298337,
          4.568589588206533,
          4.568589588206533,
          4.61637556013767,
          4.664161532068808,
          4.71194748600075,
          4.759733457931888,
          4.807519429863025,
          4.855305401794163,
          4.9030913737253,
          4.950877345656438,
          4.998663299588381,
          5.046449271519519,
          5.094235243450656,
          5.142021197382599,
          5.189807169313736,
          5.237593141244874,
          5.2853790951768165,
          5.333165067107954,
          5.3809510390390916,
          5.428737010970229,
          5.428737010970229,
          5.4738430574267225,
          5.518949095939828,
          5.564055142396321,
          5.609161180909426,
          5.65426722736592,
          5.699373265879025
         ],
         "y": [
          1.7923,
          1.8239,
          1.9124999999999996,
          2.0438,
          2.2028,
          2.3771000000000004,
          2.5555000000000003,
          2.7229,
          2.8326000000000002,
          2.8106,
          2.7380000000000004,
          2.6691000000000003,
          2.6124,
          2.5682,
          2.5349000000000004,
          2.5105000000000004,
          2.4934000000000003,
          2.482,
          2.4755000000000003,
          2.4734,
          2.4734,
          2.4835000000000003,
          2.5136000000000003,
          2.5629999999999997,
          2.6304999999999996,
          2.7141,
          2.8106999999999998,
          2.9147999999999996,
          3.0181000000000004,
          3.1073000000000004,
          3.1666999999999996,
          3.1619,
          3.0823,
          3.0823,
          2.9981,
          2.9143999999999997,
          2.8342,
          2.7618,
          2.702,
          2.6599000000000004,
          2.6394,
          2.6433999999999997,
          2.6734,
          2.7294,
          2.8102,
          2.9132,
          3.0351,
          3.1711,
          3.3148,
          3.4564000000000004,
          3.5793,
          3.6289,
          3.5919,
          3.5793,
          3.5793,
          3.439,
          3.1726,
          2.885,
          2.6046000000000005,
          2.346,
          2.1219,
          1.9457000000000004,
          1.8318000000000003,
          1.7923,
          1.7923,
          1.8241000000000005,
          1.9138000000000002,
          2.0479000000000003,
          2.2125000000000004,
          2.3966000000000003,
          2.5915999999999997,
          2.79,
          2.9852,
          2.9519,
          2.8808,
          2.8365,
          2.8196000000000003,
          2.83,
          2.8669000000000002,
          2.9291,
          3.0147000000000004,
          3.1218000000000004,
          3.2009999999999996,
          3.1581,
          3.1241000000000003,
          3.0972999999999997,
          3.0734000000000004,
          3.0734000000000004,
          3.0286999999999997,
          2.9135999999999997,
          2.7617000000000003,
          2.6021,
          2.4444999999999997,
          2.2958,
          2.1633000000000004,
          2.0563000000000002,
          1.9855999999999998,
          1.9607,
          1.9607,
          1.9702000000000002,
          1.9980000000000002,
          2.0427999999999997,
          2.0427999999999997,
          2.0331,
          2.0442,
          2.0766,
          2.1303,
          2.2045000000000003,
          2.2981,
          2.4093,
          2.5362,
          2.6765,
          2.8276000000000003,
          2.9863999999999997,
          3.149,
          3.3097000000000003,
          3.4596999999999998,
          3.583,
          3.6243,
          3.591,
          3.5793,
          2.4734,
          2.4486,
          2.3829000000000002,
          2.2948000000000004,
          2.2011000000000003,
          2.1140999999999996,
          2.0427999999999997
         ]
        },
        {
         "mode": "lines",
         "name": "band 18",
         "type": "scatter",
         "x": [
          0,
          0.0478872804126051,
          0.0957745608252102,
          0.1436618412378153,
          0.1915491216504204,
          0.23943640206302552,
          0.2873236824756306,
          0.3352109628882357,
          0.3830982433008408,
          0.4309855237134459,
          0.4788727859288848,
          0.52676006634149,
          0.5746473467540951,
          0.6225346271667003,
          0.6704219075793054,
          0.7183091879919103,
          0.7661964684045154,
          0.8140837488171206,
          0.8619710292297257,
          0.9098583096423308,
          0.9098583096423308,
          0.9569885861732094,
          1.0041188627040878,
          1.0512491392349663,
          1.0983794157658449,
          1.1455096922967234,
          1.1926399376520829,
          1.2397702141829614,
          1.2869004907138402,
          1.3340307672447187,
          1.3811610437755972,
          1.4282913203064758,
          1.4754215968373545,
          1.4754215968373545,
          1.5250822343582693,
          1.5747428718791838,
          1.6244035094000986,
          1.6740641157454943,
          1.7237247532664088,
          1.7733853907873236,
          1.8230460283082381,
          1.872706665829153,
          1.9223673033500674,
          1.9720279096954632,
          2.0216885472163777,
          2.0713491847372922,
          2.121009822258207,
          2.1706704597791213,
          2.220331097300036,
          2.2699917348209504,
          2.319652341166346,
          2.3693129786872604,
          2.418973616208175,
          2.4686342537290895,
          2.4686342537290895,
          2.513249577372131,
          2.5578648929844148,
          2.6024802166274563,
          2.64709553223974,
          2.6917108558827816,
          2.7363261714950653,
          2.780941495138107,
          2.8255568107503906,
          2.870172134393432,
          2.870172134393432,
          2.9184525693424144,
          2.9667330042913966,
          3.015013439240379,
          3.063293874189361,
          3.1115743091383434,
          3.1598547440873257,
          3.208135179036308,
          3.2564156451608093,
          3.3046960801097915,
          3.352976515058774,
          3.401256950007756,
          3.4495373849567383,
          3.497817819905721,
          3.5460982548547033,
          3.5943786898036856,
          3.6426591247526683,
          3.6909395597016506,
          3.739219994650633,
          3.787500429599615,
          3.8357808645485973,
          3.8840612994975796,
          3.932341734446562,
          3.932341734446562,
          3.9820023682373975,
          4.031663002028234,
          4.081323635819069,
          4.130984269609904,
          4.18064490340074,
          4.230305537191575,
          4.279966139806894,
          4.329626773597729,
          4.379287407388564,
          4.4289480411794,
          4.4289480411794,
          4.475495226087596,
          4.522042403298337,
          4.568589588206533,
          4.568589588206533,
          4.61637556013767,
          4.664161532068808,
          4.71194748600075,
          4.759733457931888,
          4.807519429863025,
          4.855305401794163,
          4.9030913737253,
          4.950877345656438,
          4.998663299588381,
          5.046449271519519,
          5.094235243450656,
          5.142021197382599,
          5.189807169313736,
          5.237593141244874,
          5.2853790951768165,
          5.333165067107954,
          5.3809510390390916,
          5.428737010970229,
          5.428737010970229,
          5.4738430574267225,
          5.518949095939828,
          5.564055142396321,
          5.609161180909426,
          5.65426722736592,
          5.699373265879025
         ],
         "y": [
          3.917,
          3.9466,
          3.9684999999999997,
          3.8098,
          3.6302000000000003,
          3.4552000000000005,
          3.2948000000000004,
          3.1612999999999998,
          3.0971,
          3.1711,
          3.295,
          3.4073,
          3.4907000000000004,
          3.5343,
          3.5353000000000003,
          3.5102,
          3.4789000000000003,
          3.4522000000000004,
          3.4349,
          3.4288999999999996,
          3.4288999999999996,
          3.4442000000000004,
          3.4833,
          3.5328,
          3.5833000000000004,
          3.6298000000000004,
          3.5942,
          3.5018000000000002,
          3.4110000000000005,
          3.3246,
          3.2420999999999998,
          3.1887,
          3.1817,
          3.1817,
          3.1604,
          3.1393000000000004,
          3.1271000000000004,
          3.1290000000000004,
          3.1477000000000004,
          3.1851000000000003,
          3.2419000000000002,
          3.3179999999999996,
          3.4120999999999997,
          3.521,
          3.6390000000000002,
          3.7553,
          3.8466000000000005,
          3.8734,
          3.8304,
          3.7586000000000004,
          3.6868,
          3.6578,
          3.6805000000000003,
          3.6801000000000004,
          3.6801000000000004,
          3.6858000000000004,
          3.7015000000000002,
          3.7267,
          3.76,
          3.7991,
          3.8405000000000005,
          3.8787000000000003,
          3.9066,
          3.917,
          3.917,
          3.9486999999999997,
          3.9962999999999997,
          3.8239,
          3.6449,
          3.4717000000000002,
          3.3116000000000003,
          3.1695,
          3.0487,
          3.1699,
          3.3369,
          3.4789000000000003,
          3.5896,
          3.5764000000000005,
          3.4777000000000005,
          3.3912000000000004,
          3.3167,
          3.2536000000000005,
          3.248,
          3.3912000000000004,
          3.4688,
          3.3678,
          3.2541,
          3.2541,
          3.1486,
          3.1082,
          3.1029,
          3.1077000000000004,
          3.1165000000000003,
          3.1264000000000003,
          3.1357,
          3.143,
          3.1475,
          3.1491,
          3.1491,
          3.1616999999999997,
          3.1978999999999997,
          3.2526,
          3.2526,
          3.2819000000000003,
          3.3045,
          3.3190999999999997,
          3.3304,
          3.3465,
          3.3752000000000004,
          3.4219999999999997,
          3.4894,
          3.5769,
          3.6809000000000003,
          3.7933000000000003,
          3.8849,
          3.8409000000000004,
          3.7579000000000002,
          3.6845999999999997,
          3.6619,
          3.6806,
          3.6801000000000004,
          3.4288999999999996,
          3.4293000000000005,
          3.4219,
          3.3962000000000003,
          3.3539000000000003,
          3.3034,
          3.2526
         ]
        },
        {
         "mode": "lines",
         "name": "band 19",
         "type": "scatter",
         "x": [
          0,
          0.0478872804126051,
          0.0957745608252102,
          0.1436618412378153,
          0.1915491216504204,
          0.23943640206302552,
          0.2873236824756306,
          0.3352109628882357,
          0.3830982433008408,
          0.4309855237134459,
          0.4788727859288848,
          0.52676006634149,
          0.5746473467540951,
          0.6225346271667003,
          0.6704219075793054,
          0.7183091879919103,
          0.7661964684045154,
          0.8140837488171206,
          0.8619710292297257,
          0.9098583096423308,
          0.9098583096423308,
          0.9569885861732094,
          1.0041188627040878,
          1.0512491392349663,
          1.0983794157658449,
          1.1455096922967234,
          1.1926399376520829,
          1.2397702141829614,
          1.2869004907138402,
          1.3340307672447187,
          1.3811610437755972,
          1.4282913203064758,
          1.4754215968373545,
          1.4754215968373545,
          1.5250822343582693,
          1.5747428718791838,
          1.6244035094000986,
          1.6740641157454943,
          1.7237247532664088,
          1.7733853907873236,
          1.8230460283082381,
          1.872706665829153,
          1.9223673033500674,
          1.9720279096954632,
          2.0216885472163777,
          2.0713491847372922,
          2.121009822258207,
          2.1706704597791213,
          2.220331097300036,
          2.2699917348209504,
          2.319652341166346,
          2.3693129786872604,
          2.418973616208175,
          2.4686342537290895,
          2.4686342537290895,
          2.513249577372131,
          2.5578648929844148,
          2.6024802166274563,
          2.64709553223974,
          2.6917108558827816,
          2.7363261714950653,
          2.780941495138107,
          2.8255568107503906,
          2.870172134393432,
          2.870172134393432,
          2.9184525693424144,
          2.9667330042913966,
          3.015013439240379,
          3.063293874189361,
          3.1115743091383434,
          3.1598547440873257,
          3.208135179036308,
          3.2564156451608093,
          3.3046960801097915,
          3.352976515058774,
          3.401256950007756,
          3.4495373849567383,
          3.497817819905721,
          3.5460982548547033,
          3.5943786898036856,
          3.6426591247526683,
          3.6909395597016506,
          3.739219994650633,
          3.787500429599615,
          3.8357808645485973,
          3.8840612994975796,
          3.932341734446562,
          3.932341734446562,
          3.9820023682373975,
          4.031663002028234,
          4.081323635819069,
          4.130984269609904,
          4.18064490340074,
          4.230305537191575,
          4.279966139806894,
          4.329626773597729,
          4.379287407388564,
          4.4289480411794,
          4.4289480411794,
          4.475495226087596,
          4.522042403298337,
          4.568589588206533,
          4.568589588206533,
          4.61637556013767,
          4.664161532068808,
          4.71194748600075,
          4.759733457931888,
          4.807519429863025,
          4.855305401794163,
          4.9030913737253,
          4.950877345656438,
          4.998663299588381,
          5.046449271519519,
          5.094235243450656,
          5.142021197382599,
          5.189807169313736,
          5.237593141244874,
          5.2853790951768165,
          5.333165067107954,
          5.3809510390390916,
          5.428737010970229,
          5.428737010970229,
          5.4738430574267225,
          5.518949095939828,
          5.564055142396321,
          5.609161180909426,
          5.65426722736592,
          5.699373265879025
         ],
         "y": [
          4.1987,
          4.1401,
          4.0671,
          4.1832,
          4.311,
          4.378,
          4.373,
          4.3255,
          4.2557,
          4.1731,
          4.084,
          3.9958,
          3.9211,
          3.8765,
          3.8715,
          3.8933999999999997,
          3.9203,
          3.9348,
          3.9383999999999997,
          3.9392000000000005,
          3.9392000000000005,
          3.9621000000000004,
          3.9409,
          3.8749000000000002,
          3.7919,
          3.7035,
          3.6948999999999996,
          3.7464000000000004,
          3.8030999999999997,
          3.8632,
          3.9265,
          3.9935,
          4.0642000000000005,
          4.0642000000000005,
          4.1415,
          4.2182,
          4.2866,
          4.336,
          4.3561,
          4.3432,
          4.3036,
          4.2491,
          4.192,
          4.1421,
          4.1056,
          4.0853,
          4.0811,
          4.0888,
          4.101,
          4.1065000000000005,
          4.0984,
          4.0937,
          4.1162,
          4.1352,
          4.1352,
          4.2562,
          4.3937,
          4.3587,
          4.3191,
          4.2804,
          4.2465,
          4.2205,
          4.2042,
          4.1987,
          4.1987,
          4.1377,
          4.0355,
          4.1479,
          4.2463,
          4.3229,
          4.3656,
          4.3334,
          4.2259,
          4.0884,
          3.9475,
          3.8129999999999997,
          3.6895,
          3.6673999999999998,
          3.7089999999999996,
          3.7202,
          3.7062,
          3.6719999999999997,
          3.6207000000000003,
          3.5530999999999997,
          3.5484999999999998,
          3.7169999999999996,
          3.8914999999999997,
          3.8914999999999997,
          4.0678,
          4.2243,
          4.353,
          4.4688,
          4.5867,
          4.3985,
          4.2242,
          4.0872,
          3.9999000000000002,
          3.9699999999999998,
          3.9699999999999998,
          3.9634,
          3.9459999999999997,
          3.9237,
          3.9237,
          3.8852,
          3.8657000000000004,
          3.8669000000000002,
          3.8859000000000004,
          3.9171000000000005,
          3.9552000000000005,
          3.9953000000000003,
          4.0327,
          4.0592,
          4.0609,
          4.0248,
          3.9737999999999998,
          4.0258,
          4.0805,
          4.0933,
          4.0943000000000005,
          4.1174,
          4.1352,
          3.9392000000000005,
          3.9448999999999996,
          3.9469000000000003,
          3.9404000000000003,
          3.9314,
          3.9245,
          3.9237
         ]
        },
        {
         "mode": "lines",
         "name": "band 20",
         "type": "scatter",
         "x": [
          0,
          0.0478872804126051,
          0.0957745608252102,
          0.1436618412378153,
          0.1915491216504204,
          0.23943640206302552,
          0.2873236824756306,
          0.3352109628882357,
          0.3830982433008408,
          0.4309855237134459,
          0.4788727859288848,
          0.52676006634149,
          0.5746473467540951,
          0.6225346271667003,
          0.6704219075793054,
          0.7183091879919103,
          0.7661964684045154,
          0.8140837488171206,
          0.8619710292297257,
          0.9098583096423308,
          0.9098583096423308,
          0.9569885861732094,
          1.0041188627040878,
          1.0512491392349663,
          1.0983794157658449,
          1.1455096922967234,
          1.1926399376520829,
          1.2397702141829614,
          1.2869004907138402,
          1.3340307672447187,
          1.3811610437755972,
          1.4282913203064758,
          1.4754215968373545,
          1.4754215968373545,
          1.5250822343582693,
          1.5747428718791838,
          1.6244035094000986,
          1.6740641157454943,
          1.7237247532664088,
          1.7733853907873236,
          1.8230460283082381,
          1.872706665829153,
          1.9223673033500674,
          1.9720279096954632,
          2.0216885472163777,
          2.0713491847372922,
          2.121009822258207,
          2.1706704597791213,
          2.220331097300036,
          2.2699917348209504,
          2.319652341166346,
          2.3693129786872604,
          2.418973616208175,
          2.4686342537290895,
          2.4686342537290895,
          2.513249577372131,
          2.5578648929844148,
          2.6024802166274563,
          2.64709553223974,
          2.6917108558827816,
          2.7363261714950653,
          2.780941495138107,
          2.8255568107503906,
          2.870172134393432,
          2.870172134393432,
          2.9184525693424144,
          2.9667330042913966,
          3.015013439240379,
          3.063293874189361,
          3.1115743091383434,
          3.1598547440873257,
          3.208135179036308,
          3.2564156451608093,
          3.3046960801097915,
          3.352976515058774,
          3.401256950007756,
          3.4495373849567383,
          3.497817819905721,
          3.5460982548547033,
          3.5943786898036856,
          3.6426591247526683,
          3.6909395597016506,
          3.739219994650633,
          3.787500429599615,
          3.8357808645485973,
          3.8840612994975796,
          3.932341734446562,
          3.932341734446562,
          3.9820023682373975,
          4.031663002028234,
          4.081323635819069,
          4.130984269609904,
          4.18064490340074,
          4.230305537191575,
          4.279966139806894,
          4.329626773597729,
          4.379287407388564,
          4.4289480411794,
          4.4289480411794,
          4.475495226087596,
          4.522042403298337,
          4.568589588206533,
          4.568589588206533,
          4.61637556013767,
          4.664161532068808,
          4.71194748600075,
          4.759733457931888,
          4.807519429863025,
          4.855305401794163,
          4.9030913737253,
          4.950877345656438,
          4.998663299588381,
          5.046449271519519,
          5.094235243450656,
          5.142021197382599,
          5.189807169313736,
          5.237593141244874,
          5.2853790951768165,
          5.333165067107954,
          5.3809510390390916,
          5.428737010970229,
          5.428737010970229,
          5.4738430574267225,
          5.518949095939828,
          5.564055142396321,
          5.609161180909426,
          5.65426722736592,
          5.699373265879025
         ],
         "y": [
          4.1987,
          4.2124,
          4.2532,
          4.3196,
          4.4094,
          4.519,
          4.6434,
          4.7747,
          4.6248000000000005,
          4.4845,
          4.3604,
          4.2542,
          4.1652000000000005,
          4.0924000000000005,
          4.0365,
          3.9989999999999997,
          3.9818,
          3.9869000000000003,
          4.0007,
          4.0067,
          4.0067,
          3.9979000000000005,
          4.0665000000000004,
          4.2238,
          4.4454,
          4.57,
          4.3945,
          4.2441,
          4.1273,
          4.0558,
          4.0426,
          4.0916,
          4.1889,
          4.1889,
          4.3184000000000005,
          4.4497,
          4.5595,
          4.627,
          4.6404,
          4.6058,
          4.543,
          4.4715,
          4.4042,
          4.347,
          4.3005,
          4.2628,
          4.2412,
          4.2673,
          4.3448,
          4.4192,
          4.4456,
          4.4409,
          4.4313,
          4.4272,
          4.4272,
          4.4183,
          4.3937,
          4.3587,
          4.3191,
          4.2804,
          4.2466,
          4.2205,
          4.2042,
          4.1987,
          4.1987,
          4.212,
          4.2559000000000005,
          4.3468,
          4.5038,
          4.7044,
          4.7981,
          4.8385,
          4.877300000000001,
          4.9026000000000005,
          4.8913,
          4.8235,
          4.7147,
          4.5938,
          4.4786,
          4.3786000000000005,
          4.2989,
          4.2419,
          4.2084,
          4.1976,
          4.208,
          4.2385,
          4.2896,
          4.2896,
          4.3694,
          4.49,
          4.6565,
          4.792,
          4.5937,
          4.712,
          4.8436,
          4.972700000000001,
          5.0782,
          5.121899999999999,
          5.121899999999999,
          5.080100000000001,
          4.967,
          4.8106,
          4.8106,
          4.882000000000001,
          4.9593,
          5.037400000000001,
          5.106000000000001,
          5.0401,
          4.957400000000001,
          4.8793999999999995,
          4.7844,
          4.6651,
          4.5769,
          4.5386,
          4.5518,
          4.5275,
          4.4915,
          4.4632,
          4.4431,
          4.4312000000000005,
          4.4272,
          4.0067,
          4.0259,
          4.1006,
          4.2338000000000005,
          4.4091000000000005,
          4.6079,
          4.8106
         ]
        }
       ],
       "layout": {
        "shapes": [
         {
          "line": {
           "color": "black",
           "width": 1
          },
          "type": "line",
          "x0": 0.9098583096423308,
          "x1": 0.9098583096423308,
          "xref": "x",
          "y0": 0,
          "y1": 1,
          "yref": "y domain"
         },
         {
          "line": {
           "color": "black",
           "width": 1
          },
          "type": "line",
          "x0": 1.4754215968373545,
          "x1": 1.4754215968373545,
          "xref": "x",
          "y0": 0,
          "y1": 1,
          "yref": "y domain"
         },
         {
          "line": {
           "color": "black",
           "width": 1
          },
          "type": "line",
          "x0": 2.4686342537290895,
          "x1": 2.4686342537290895,
          "xref": "x",
          "y0": 0,
          "y1": 1,
          "yref": "y domain"
         },
         {
          "line": {
           "color": "black",
           "width": 1
          },
          "type": "line",
          "x0": 2.870172134393432,
          "x1": 2.870172134393432,
          "xref": "x",
          "y0": 0,
          "y1": 1,
          "yref": "y domain"
         },
         {
          "line": {
           "color": "black",
           "width": 1
          },
          "type": "line",
          "x0": 3.932341734446562,
          "x1": 3.932341734446562,
          "xref": "x",
          "y0": 0,
          "y1": 1,
          "yref": "y domain"
         },
         {
          "line": {
           "color": "black",
           "width": 1
          },
          "type": "line",
          "x0": 4.4289480411794,
          "x1": 4.4289480411794,
          "xref": "x",
          "y0": 0,
          "y1": 1,
          "yref": "y domain"
         },
         {
          "line": {
           "color": "black",
           "width": 1
          },
          "type": "line",
          "x0": 4.568589588206533,
          "x1": 4.568589588206533,
          "xref": "x",
          "y0": 0,
          "y1": 1,
          "yref": "y domain"
         },
         {
          "line": {
           "color": "black",
           "width": 1
          },
          "type": "line",
          "x0": 5.428737010970229,
          "x1": 5.428737010970229,
          "xref": "x",
          "y0": 0,
          "y1": 1,
          "yref": "y domain"
         }
        ],
        "template": {
         "data": {
          "bar": [
           {
            "error_x": {
             "color": "#2a3f5f"
            },
            "error_y": {
             "color": "#2a3f5f"
            },
            "marker": {
             "line": {
              "color": "#E5ECF6",
              "width": 0.5
             },
             "pattern": {
              "fillmode": "overlay",
              "size": 10,
              "solidity": 0.2
             }
            },
            "type": "bar"
           }
          ],
          "barpolar": [
           {
            "marker": {
             "line": {
              "color": "#E5ECF6",
              "width": 0.5
             },
             "pattern": {
              "fillmode": "overlay",
              "size": 10,
              "solidity": 0.2
             }
            },
            "type": "barpolar"
           }
          ],
          "carpet": [
           {
            "aaxis": {
             "endlinecolor": "#2a3f5f",
             "gridcolor": "white",
             "linecolor": "white",
             "minorgridcolor": "white",
             "startlinecolor": "#2a3f5f"
            },
            "baxis": {
             "endlinecolor": "#2a3f5f",
             "gridcolor": "white",
             "linecolor": "white",
             "minorgridcolor": "white",
             "startlinecolor": "#2a3f5f"
            },
            "type": "carpet"
           }
          ],
          "choropleth": [
           {
            "colorbar": {
             "outlinewidth": 0,
             "ticks": ""
            },
            "type": "choropleth"
           }
          ],
          "contour": [
           {
            "colorbar": {
             "outlinewidth": 0,
             "ticks": ""
            },
            "colorscale": [
             [
              0,
              "#0d0887"
             ],
             [
              0.1111111111111111,
              "#46039f"
             ],
             [
              0.2222222222222222,
              "#7201a8"
             ],
             [
              0.3333333333333333,
              "#9c179e"
             ],
             [
              0.4444444444444444,
              "#bd3786"
             ],
             [
              0.5555555555555556,
              "#d8576b"
             ],
             [
              0.6666666666666666,
              "#ed7953"
             ],
             [
              0.7777777777777778,
              "#fb9f3a"
             ],
             [
              0.8888888888888888,
              "#fdca26"
             ],
             [
              1,
              "#f0f921"
             ]
            ],
            "type": "contour"
           }
          ],
          "contourcarpet": [
           {
            "colorbar": {
             "outlinewidth": 0,
             "ticks": ""
            },
            "type": "contourcarpet"
           }
          ],
          "heatmap": [
           {
            "colorbar": {
             "outlinewidth": 0,
             "ticks": ""
            },
            "colorscale": [
             [
              0,
              "#0d0887"
             ],
             [
              0.1111111111111111,
              "#46039f"
             ],
             [
              0.2222222222222222,
              "#7201a8"
             ],
             [
              0.3333333333333333,
              "#9c179e"
             ],
             [
              0.4444444444444444,
              "#bd3786"
             ],
             [
              0.5555555555555556,
              "#d8576b"
             ],
             [
              0.6666666666666666,
              "#ed7953"
             ],
             [
              0.7777777777777778,
              "#fb9f3a"
             ],
             [
              0.8888888888888888,
              "#fdca26"
             ],
             [
              1,
              "#f0f921"
             ]
            ],
            "type": "heatmap"
           }
          ],
          "heatmapgl": [
           {
            "colorbar": {
             "outlinewidth": 0,
             "ticks": ""
            },
            "colorscale": [
             [
              0,
              "#0d0887"
             ],
             [
              0.1111111111111111,
              "#46039f"
             ],
             [
              0.2222222222222222,
              "#7201a8"
             ],
             [
              0.3333333333333333,
              "#9c179e"
             ],
             [
              0.4444444444444444,
              "#bd3786"
             ],
             [
              0.5555555555555556,
              "#d8576b"
             ],
             [
              0.6666666666666666,
              "#ed7953"
             ],
             [
              0.7777777777777778,
              "#fb9f3a"
             ],
             [
              0.8888888888888888,
              "#fdca26"
             ],
             [
              1,
              "#f0f921"
             ]
            ],
            "type": "heatmapgl"
           }
          ],
          "histogram": [
           {
            "marker": {
             "pattern": {
              "fillmode": "overlay",
              "size": 10,
              "solidity": 0.2
             }
            },
            "type": "histogram"
           }
          ],
          "histogram2d": [
           {
            "colorbar": {
             "outlinewidth": 0,
             "ticks": ""
            },
            "colorscale": [
             [
              0,
              "#0d0887"
             ],
             [
              0.1111111111111111,
              "#46039f"
             ],
             [
              0.2222222222222222,
              "#7201a8"
             ],
             [
              0.3333333333333333,
              "#9c179e"
             ],
             [
              0.4444444444444444,
              "#bd3786"
             ],
             [
              0.5555555555555556,
              "#d8576b"
             ],
             [
              0.6666666666666666,
              "#ed7953"
             ],
             [
              0.7777777777777778,
              "#fb9f3a"
             ],
             [
              0.8888888888888888,
              "#fdca26"
             ],
             [
              1,
              "#f0f921"
             ]
            ],
            "type": "histogram2d"
           }
          ],
          "histogram2dcontour": [
           {
            "colorbar": {
             "outlinewidth": 0,
             "ticks": ""
            },
            "colorscale": [
             [
              0,
              "#0d0887"
             ],
             [
              0.1111111111111111,
              "#46039f"
             ],
             [
              0.2222222222222222,
              "#7201a8"
             ],
             [
              0.3333333333333333,
              "#9c179e"
             ],
             [
              0.4444444444444444,
              "#bd3786"
             ],
             [
              0.5555555555555556,
              "#d8576b"
             ],
             [
              0.6666666666666666,
              "#ed7953"
             ],
             [
              0.7777777777777778,
              "#fb9f3a"
             ],
             [
              0.8888888888888888,
              "#fdca26"
             ],
             [
              1,
              "#f0f921"
             ]
            ],
            "type": "histogram2dcontour"
           }
          ],
          "mesh3d": [
           {
            "colorbar": {
             "outlinewidth": 0,
             "ticks": ""
            },
            "type": "mesh3d"
           }
          ],
          "parcoords": [
           {
            "line": {
             "colorbar": {
              "outlinewidth": 0,
              "ticks": ""
             }
            },
            "type": "parcoords"
           }
          ],
          "pie": [
           {
            "automargin": true,
            "type": "pie"
           }
          ],
          "scatter": [
           {
            "fillpattern": {
             "fillmode": "overlay",
             "size": 10,
             "solidity": 0.2
            },
            "type": "scatter"
           }
          ],
          "scatter3d": [
           {
            "line": {
             "colorbar": {
              "outlinewidth": 0,
              "ticks": ""
             }
            },
            "marker": {
             "colorbar": {
              "outlinewidth": 0,
              "ticks": ""
             }
            },
            "type": "scatter3d"
           }
          ],
          "scattercarpet": [
           {
            "marker": {
             "colorbar": {
              "outlinewidth": 0,
              "ticks": ""
             }
            },
            "type": "scattercarpet"
           }
          ],
          "scattergeo": [
           {
            "marker": {
             "colorbar": {
              "outlinewidth": 0,
              "ticks": ""
             }
            },
            "type": "scattergeo"
           }
          ],
          "scattergl": [
           {
            "marker": {
             "colorbar": {
              "outlinewidth": 0,
              "ticks": ""
             }
            },
            "type": "scattergl"
           }
          ],
          "scattermapbox": [
           {
            "marker": {
             "colorbar": {
              "outlinewidth": 0,
              "ticks": ""
             }
            },
            "type": "scattermapbox"
           }
          ],
          "scatterpolar": [
           {
            "marker": {
             "colorbar": {
              "outlinewidth": 0,
              "ticks": ""
             }
            },
            "type": "scatterpolar"
           }
          ],
          "scatterpolargl": [
           {
            "marker": {
             "colorbar": {
              "outlinewidth": 0,
              "ticks": ""
             }
            },
            "type": "scatterpolargl"
           }
          ],
          "scatterternary": [
           {
            "marker": {
             "colorbar": {
              "outlinewidth": 0,
              "ticks": ""
             }
            },
            "type": "scatterternary"
           }
          ],
          "surface": [
           {
            "colorbar": {
             "outlinewidth": 0,
             "ticks": ""
            },
            "colorscale": [
             [
              0,
              "#0d0887"
             ],
             [
              0.1111111111111111,
              "#46039f"
             ],
             [
              0.2222222222222222,
              "#7201a8"
             ],
             [
              0.3333333333333333,
              "#9c179e"
             ],
             [
              0.4444444444444444,
              "#bd3786"
             ],
             [
              0.5555555555555556,
              "#d8576b"
             ],
             [
              0.6666666666666666,
              "#ed7953"
             ],
             [
              0.7777777777777778,
              "#fb9f3a"
             ],
             [
              0.8888888888888888,
              "#fdca26"
             ],
             [
              1,
              "#f0f921"
             ]
            ],
            "type": "surface"
           }
          ],
          "table": [
           {
            "cells": {
             "fill": {
              "color": "#EBF0F8"
             },
             "line": {
              "color": "white"
             }
            },
            "header": {
             "fill": {
              "color": "#C8D4E3"
             },
             "line": {
              "color": "white"
             }
            },
            "type": "table"
           }
          ]
         },
         "layout": {
          "annotationdefaults": {
           "arrowcolor": "#2a3f5f",
           "arrowhead": 0,
           "arrowwidth": 1
          },
          "autotypenumbers": "strict",
          "coloraxis": {
           "colorbar": {
            "outlinewidth": 0,
            "ticks": ""
           }
          },
          "colorscale": {
           "diverging": [
            [
             0,
             "#8e0152"
            ],
            [
             0.1,
             "#c51b7d"
            ],
            [
             0.2,
             "#de77ae"
            ],
            [
             0.3,
             "#f1b6da"
            ],
            [
             0.4,
             "#fde0ef"
            ],
            [
             0.5,
             "#f7f7f7"
            ],
            [
             0.6,
             "#e6f5d0"
            ],
            [
             0.7,
             "#b8e186"
            ],
            [
             0.8,
             "#7fbc41"
            ],
            [
             0.9,
             "#4d9221"
            ],
            [
             1,
             "#276419"
            ]
           ],
           "sequential": [
            [
             0,
             "#0d0887"
            ],
            [
             0.1111111111111111,
             "#46039f"
            ],
            [
             0.2222222222222222,
             "#7201a8"
            ],
            [
             0.3333333333333333,
             "#9c179e"
            ],
            [
             0.4444444444444444,
             "#bd3786"
            ],
            [
             0.5555555555555556,
             "#d8576b"
            ],
            [
             0.6666666666666666,
             "#ed7953"
            ],
            [
             0.7777777777777778,
             "#fb9f3a"
            ],
            [
             0.8888888888888888,
             "#fdca26"
            ],
            [
             1,
             "#f0f921"
            ]
           ],
           "sequentialminus": [
            [
             0,
             "#0d0887"
            ],
            [
             0.1111111111111111,
             "#46039f"
            ],
            [
             0.2222222222222222,
             "#7201a8"
            ],
            [
             0.3333333333333333,
             "#9c179e"
            ],
            [
             0.4444444444444444,
             "#bd3786"
            ],
            [
             0.5555555555555556,
             "#d8576b"
            ],
            [
             0.6666666666666666,
             "#ed7953"
            ],
            [
             0.7777777777777778,
             "#fb9f3a"
            ],
            [
             0.8888888888888888,
             "#fdca26"
            ],
            [
             1,
             "#f0f921"
            ]
           ]
          },
          "colorway": [
           "#636efa",
           "#EF553B",
           "#00cc96",
           "#ab63fa",
           "#FFA15A",
           "#19d3f3",
           "#FF6692",
           "#B6E880",
           "#FF97FF",
           "#FECB52"
          ],
          "font": {
           "color": "#2a3f5f"
          },
          "geo": {
           "bgcolor": "white",
           "lakecolor": "white",
           "landcolor": "#E5ECF6",
           "showlakes": true,
           "showland": true,
           "subunitcolor": "white"
          },
          "hoverlabel": {
           "align": "left"
          },
          "hovermode": "closest",
          "mapbox": {
           "style": "light"
          },
          "paper_bgcolor": "white",
          "plot_bgcolor": "#E5ECF6",
          "polar": {
           "angularaxis": {
            "gridcolor": "white",
            "linecolor": "white",
            "ticks": ""
           },
           "bgcolor": "#E5ECF6",
           "radialaxis": {
            "gridcolor": "white",
            "linecolor": "white",
            "ticks": ""
           }
          },
          "scene": {
           "xaxis": {
            "backgroundcolor": "#E5ECF6",
            "gridcolor": "white",
            "gridwidth": 2,
            "linecolor": "white",
            "showbackground": true,
            "ticks": "",
            "zerolinecolor": "white"
           },
           "yaxis": {
            "backgroundcolor": "#E5ECF6",
            "gridcolor": "white",
            "gridwidth": 2,
            "linecolor": "white",
            "showbackground": true,
            "ticks": "",
            "zerolinecolor": "white"
           },
           "zaxis": {
            "backgroundcolor": "#E5ECF6",
            "gridcolor": "white",
            "gridwidth": 2,
            "linecolor": "white",
            "showbackground": true,
            "ticks": "",
            "zerolinecolor": "white"
           }
          },
          "shapedefaults": {
           "line": {
            "color": "#2a3f5f"
           }
          },
          "ternary": {
           "aaxis": {
            "gridcolor": "white",
            "linecolor": "white",
            "ticks": ""
           },
           "baxis": {
            "gridcolor": "white",
            "linecolor": "white",
            "ticks": ""
           },
           "bgcolor": "#E5ECF6",
           "caxis": {
            "gridcolor": "white",
            "linecolor": "white",
            "ticks": ""
           }
          },
          "title": {
           "x": 0.05
          },
          "xaxis": {
           "automargin": true,
           "gridcolor": "white",
           "linecolor": "white",
           "ticks": "",
           "title": {
            "standoff": 15
           },
           "zerolinecolor": "white",
           "zerolinewidth": 2
          },
          "yaxis": {
           "automargin": true,
           "gridcolor": "white",
           "linecolor": "white",
           "ticks": "",
           "title": {
            "standoff": 15
           },
           "zerolinecolor": "white",
           "zerolinewidth": 2
          }
         }
        },
        "xaxis": {
         "mirror": true,
         "showgrid": false,
         "ticklen": 0,
         "ticks": "inside",
         "ticktext": [
          "Î“",
          "L",
          "B_1|B",
          "Z",
          "Î“",
          "X|Q",
          "F",
          "P_1",
          "Z|L",
          "P"
         ],
         "tickvals": [
          0,
          0.9098583096423308,
          1.4754215968373545,
          2.4686342537290895,
          2.870172134393432,
          3.932341734446562,
          4.4289480411794,
          4.568589588206533,
          5.428737010970229,
          5.699373265879025
         ],
         "title": {
          "text": "Wave Vector"
         }
        },
        "yaxis": {
         "mirror": true,
         "range": [
          -2,
          4
         ],
         "showgrid": false,
         "ticklen": 10,
         "ticks": "inside",
         "title": {
          "text": "E - E<sub>f</sub> (eV)"
         }
        }
       }
      },
      "text/html": [
       "<div>                            <div id=\"087e21ce-5210-4dbf-81d0-54f8f45a8e46\" class=\"plotly-graph-div\" style=\"height:525px; width:100%;\"></div>            <script type=\"text/javascript\">                require([\"plotly\"], function(Plotly) {                    window.PLOTLYENV=window.PLOTLYENV || {};                                    if (document.getElementById(\"087e21ce-5210-4dbf-81d0-54f8f45a8e46\")) {                    Plotly.newPlot(                        \"087e21ce-5210-4dbf-81d0-54f8f45a8e46\",                        [{\"mode\":\"lines\",\"name\":\"band 12\",\"x\":[0.0,0.0478872804126051,0.0957745608252102,0.1436618412378153,0.1915491216504204,0.23943640206302552,0.2873236824756306,0.3352109628882357,0.3830982433008408,0.4309855237134459,0.4788727859288848,0.52676006634149,0.5746473467540951,0.6225346271667003,0.6704219075793054,0.7183091879919103,0.7661964684045154,0.8140837488171206,0.8619710292297257,0.9098583096423308,0.9098583096423308,0.9569885861732094,1.0041188627040878,1.0512491392349663,1.0983794157658449,1.1455096922967234,1.1926399376520829,1.2397702141829614,1.2869004907138402,1.3340307672447187,1.3811610437755972,1.4282913203064758,1.4754215968373545,1.4754215968373545,1.5250822343582693,1.5747428718791838,1.6244035094000986,1.6740641157454943,1.7237247532664088,1.7733853907873236,1.8230460283082381,1.872706665829153,1.9223673033500674,1.9720279096954632,2.0216885472163777,2.0713491847372922,2.121009822258207,2.1706704597791213,2.220331097300036,2.2699917348209504,2.319652341166346,2.3693129786872604,2.418973616208175,2.4686342537290895,2.4686342537290895,2.513249577372131,2.5578648929844148,2.6024802166274563,2.64709553223974,2.6917108558827816,2.7363261714950653,2.780941495138107,2.8255568107503906,2.870172134393432,2.870172134393432,2.9184525693424144,2.9667330042913966,3.015013439240379,3.063293874189361,3.1115743091383434,3.1598547440873257,3.208135179036308,3.2564156451608093,3.3046960801097915,3.352976515058774,3.401256950007756,3.4495373849567383,3.497817819905721,3.5460982548547033,3.5943786898036856,3.6426591247526683,3.6909395597016506,3.739219994650633,3.787500429599615,3.8357808645485973,3.8840612994975796,3.932341734446562,3.932341734446562,3.9820023682373975,4.031663002028234,4.081323635819069,4.130984269609904,4.18064490340074,4.230305537191575,4.279966139806894,4.329626773597729,4.379287407388564,4.4289480411794,4.4289480411794,4.475495226087596,4.522042403298337,4.568589588206533,4.568589588206533,4.61637556013767,4.664161532068808,4.71194748600075,4.759733457931888,4.807519429863025,4.855305401794163,4.9030913737253,4.950877345656438,4.998663299588381,5.046449271519519,5.094235243450656,5.142021197382599,5.189807169313736,5.237593141244874,5.2853790951768165,5.333165067107954,5.3809510390390916,5.428737010970229,5.428737010970229,5.4738430574267225,5.518949095939828,5.564055142396321,5.609161180909426,5.65426722736592,5.699373265879025],\"y\":[-1.4143,-1.44,-1.5163,-1.6404999999999998,-1.8068,-2.0063,-2.2285,-2.463,-2.7011,-2.9354,-3.1595999999999997,-3.3649999999999998,-3.463,-3.4213999999999998,-3.3717,-3.3244,-3.2826,-3.2497,-3.2285,-3.2212,-3.2212,-3.2208,-3.2195,-3.2172,-3.2135,-3.2081999999999997,-3.2014,-3.193,-3.1835999999999998,-3.3134,-3.4615,-3.5896,-3.4819999999999998,-3.4819999999999998,-3.3487,-3.2095,-3.2064,-3.2428,-3.2893,-3.3436,-3.4032,-3.4652,-3.3461,-3.1666,-2.9669,-2.7512,-2.5244,-2.2927999999999997,-2.0641,-1.8481999999999998,-1.6564999999999999,-1.5017,-1.3943999999999999,-1.3474,-1.3474,-1.3496,-1.3558999999999999,-1.3654,-1.3766,-1.3881999999999999,-1.3987,-1.4071,-1.4124999999999999,-1.4143,-1.4143,-1.4412,-1.5206,-1.6481999999999999,-1.8165,-2.0151,-2.2327,-2.4588,-2.6845,-2.9025,-3.1071,-3.2938,-3.4514,-3.4002,-3.3527,-3.3095,-3.2711,-3.238,-3.211,-3.2572,-3.3944,-3.5262,-3.5368,-3.5368,-3.3878,-3.2195,-3.1778,-3.1915,-3.2066,-3.2216,-3.2351,-3.2457,-3.2525,-3.2549,-3.2549,-3.2553,-3.2563999999999997,-3.2582,-3.2582,-3.281,-3.3138,-3.355,-3.4027,-3.4545,-3.5077,-3.4135,-3.2002,-2.9736,-2.7382,-2.4989,-2.2616,-2.0332,-1.8222,-1.6384999999999998,-1.4921,-1.3914,-1.3474,-3.2212,-3.2231,-3.2283,-3.2357,-3.2441,-3.2519,-3.2582],\"type\":\"scatter\"},{\"mode\":\"lines\",\"name\":\"band 13\",\"x\":[0.0,0.0478872804126051,0.0957745608252102,0.1436618412378153,0.1915491216504204,0.23943640206302552,0.2873236824756306,0.3352109628882357,0.3830982433008408,0.4309855237134459,0.4788727859288848,0.52676006634149,0.5746473467540951,0.6225346271667003,0.6704219075793054,0.7183091879919103,0.7661964684045154,0.8140837488171206,0.8619710292297257,0.9098583096423308,0.9098583096423308,0.9569885861732094,1.0041188627040878,1.0512491392349663,1.0983794157658449,1.1455096922967234,1.1926399376520829,1.2397702141829614,1.2869004907138402,1.3340307672447187,1.3811610437755972,1.4282913203064758,1.4754215968373545,1.4754215968373545,1.5250822343582693,1.5747428718791838,1.6244035094000986,1.6740641157454943,1.7237247532664088,1.7733853907873236,1.8230460283082381,1.872706665829153,1.9223673033500674,1.9720279096954632,2.0216885472163777,2.0713491847372922,2.121009822258207,2.1706704597791213,2.220331097300036,2.2699917348209504,2.319652341166346,2.3693129786872604,2.418973616208175,2.4686342537290895,2.4686342537290895,2.513249577372131,2.5578648929844148,2.6024802166274563,2.64709553223974,2.6917108558827816,2.7363261714950653,2.780941495138107,2.8255568107503906,2.870172134393432,2.870172134393432,2.9184525693424144,2.9667330042913966,3.015013439240379,3.063293874189361,3.1115743091383434,3.1598547440873257,3.208135179036308,3.2564156451608093,3.3046960801097915,3.352976515058774,3.401256950007756,3.4495373849567383,3.497817819905721,3.5460982548547033,3.5943786898036856,3.6426591247526683,3.6909395597016506,3.739219994650633,3.787500429599615,3.8357808645485973,3.8840612994975796,3.932341734446562,3.932341734446562,3.9820023682373975,4.031663002028234,4.081323635819069,4.130984269609904,4.18064490340074,4.230305537191575,4.279966139806894,4.329626773597729,4.379287407388564,4.4289480411794,4.4289480411794,4.475495226087596,4.522042403298337,4.568589588206533,4.568589588206533,4.61637556013767,4.664161532068808,4.71194748600075,4.759733457931888,4.807519429863025,4.855305401794163,4.9030913737253,4.950877345656438,4.998663299588381,5.046449271519519,5.094235243450656,5.142021197382599,5.189807169313736,5.237593141244874,5.2853790951768165,5.333165067107954,5.3809510390390916,5.428737010970229,5.428737010970229,5.4738430574267225,5.518949095939828,5.564055142396321,5.609161180909426,5.65426722736592,5.699373265879025],\"y\":[-1.4143,-1.4187999999999998,-1.4321,-1.4539,-1.484,-1.5213999999999999,-1.5652,-1.6140999999999999,-1.6663999999999999,-1.7205,-1.7748,-1.8276,-1.8775,-1.9232,-1.9637,-1.998,-2.0254,-2.0454,-2.0575,-2.0616,-2.0616,-2.0886,-2.1664,-2.2866,-2.4379999999999997,-2.6094,-2.7904999999999998,-2.9727,-3.1489,-3.174,-3.1654999999999998,-3.1598,-3.1586,-3.1586,-3.1645,-3.1782,-3.0601,-2.9089,-2.7546999999999997,-2.5995999999999997,-2.4459,-2.2959,-2.1519,-2.0162,-1.8907,-1.7771,-1.6764,-1.589,-1.5152999999999999,-1.4549999999999998,-1.408,-1.3743999999999998,-1.3540999999999999,-1.3474,-1.3474,-1.3496,-1.3558999999999999,-1.3654,-1.3766,-1.3881999999999999,-1.3987,-1.4071,-1.4124999999999999,-1.4143,-1.4143,-1.4187999999999998,-1.4324999999999999,-1.4562,-1.4910999999999999,-1.5383,-1.5989,-1.6735,-1.762,-1.8637,-1.9776,-2.1021,-2.2353,-2.3754,-2.5204,-2.6684,-2.8175,-2.9661,-3.1121,-3.187,-3.1721,-3.1624,-3.1585,-3.1585,-3.1602,-3.1669,-3.0372,-2.8474,-2.6582,-2.4793,-2.3217,-2.1974,-2.1174999999999997,-2.0898,-2.0898,-2.0888,-2.0857,-2.0808,-2.0808,-2.0704000000000002,-2.0513,-2.0239000000000003,-1.9888,-1.9465,-1.8979,-1.8440999999999999,-1.7862,-1.7256,-1.6638,-1.6026,-1.5437999999999998,-1.4895,-1.4415,-1.4018,-1.3719999999999999,-1.3536,-1.3474,-2.0616,-2.0624000000000002,-2.0648999999999997,-2.0686,-2.0728999999999997,-2.0772,-2.0808],\"type\":\"scatter\"},{\"mode\":\"lines\",\"name\":\"band 14\",\"x\":[0.0,0.0478872804126051,0.0957745608252102,0.1436618412378153,0.1915491216504204,0.23943640206302552,0.2873236824756306,0.3352109628882357,0.3830982433008408,0.4309855237134459,0.4788727859288848,0.52676006634149,0.5746473467540951,0.6225346271667003,0.6704219075793054,0.7183091879919103,0.7661964684045154,0.8140837488171206,0.8619710292297257,0.9098583096423308,0.9098583096423308,0.9569885861732094,1.0041188627040878,1.0512491392349663,1.0983794157658449,1.1455096922967234,1.1926399376520829,1.2397702141829614,1.2869004907138402,1.3340307672447187,1.3811610437755972,1.4282913203064758,1.4754215968373545,1.4754215968373545,1.5250822343582693,1.5747428718791838,1.6244035094000986,1.6740641157454943,1.7237247532664088,1.7733853907873236,1.8230460283082381,1.872706665829153,1.9223673033500674,1.9720279096954632,2.0216885472163777,2.0713491847372922,2.121009822258207,2.1706704597791213,2.220331097300036,2.2699917348209504,2.319652341166346,2.3693129786872604,2.418973616208175,2.4686342537290895,2.4686342537290895,2.513249577372131,2.5578648929844148,2.6024802166274563,2.64709553223974,2.6917108558827816,2.7363261714950653,2.780941495138107,2.8255568107503906,2.870172134393432,2.870172134393432,2.9184525693424144,2.9667330042913966,3.015013439240379,3.063293874189361,3.1115743091383434,3.1598547440873257,3.208135179036308,3.2564156451608093,3.3046960801097915,3.352976515058774,3.401256950007756,3.4495373849567383,3.497817819905721,3.5460982548547033,3.5943786898036856,3.6426591247526683,3.6909395597016506,3.739219994650633,3.787500429599615,3.8357808645485973,3.8840612994975796,3.932341734446562,3.932341734446562,3.9820023682373975,4.031663002028234,4.081323635819069,4.130984269609904,4.18064490340074,4.230305537191575,4.279966139806894,4.329626773597729,4.379287407388564,4.4289480411794,4.4289480411794,4.475495226087596,4.522042403298337,4.568589588206533,4.568589588206533,4.61637556013767,4.664161532068808,4.71194748600075,4.759733457931888,4.807519429863025,4.855305401794163,4.9030913737253,4.950877345656438,4.998663299588381,5.046449271519519,5.094235243450656,5.142021197382599,5.189807169313736,5.237593141244874,5.2853790951768165,5.333165067107954,5.3809510390390916,5.428737010970229,5.428737010970229,5.4738430574267225,5.518949095939828,5.564055142396321,5.609161180909426,5.65426722736592,5.699373265879025],\"y\":[-0.7422,-0.7387999999999999,-0.7286000000000001,-0.7117999999999998,-0.6886999999999999,-0.6595,-0.6246999999999998,-0.6015000000000001,-0.6396999999999999,-0.6783999999999999,-0.718,-0.7614000000000001,-0.8098000000000001,-0.8628999999999998,-0.9186000000000001,-0.9737,-1.0236999999999998,-1.064,-1.0901999999999998,-1.0993,-1.0993,-1.0905,-1.0646,-1.0231,-0.968,-0.9018000000000002,-0.8275000000000001,-0.7483999999999997,-0.6680999999999999,-0.5903,-0.5185999999999997,-0.45569999999999977,-0.5049000000000001,-0.5049000000000001,-0.5587999999999997,-0.6019000000000001,-0.6311999999999998,-0.6452999999999998,-0.6442999999999999,-0.6299000000000001,-0.6044,-0.5709999999999997,-0.5326999999999997,-0.5756000000000001,-0.6656,-0.7616,-0.8592,-0.9539999999999997,-1.0419999999999998,-1.1198000000000001,-1.1846999999999999,-1.2356,-1.2738,-1.2965,-1.2965,-1.2825,-1.2415,-1.1767999999999998,-1.0937000000000001,-0.9996999999999998,-0.9047999999999998,-0.8214000000000001,-0.7631999999999999,-0.7422,-0.7422,-0.7380999999999998,-0.7258999999999998,-0.706,-0.6789999999999998,-0.6459999999999999,-0.6080000000000001,-0.6322000000000001,-0.6759,-0.7067999999999999,-0.7254999999999998,-0.7332000000000001,-0.7309000000000001,-0.7201,-0.7020999999999997,-0.6783000000000001,-0.6499999999999999,-0.6185,-0.5844999999999998,-0.5486999999999997,-0.5116,-0.4733999999999998,-0.47029999999999994,-0.47029999999999994,-0.516,-0.5629999999999997,-0.6097000000000001,-0.6541999999999999,-0.6947999999999999,-0.7302,-0.7589000000000001,-0.7801999999999998,-0.7932000000000001,-0.7976000000000001,-0.7976000000000001,-0.8052000000000001,-0.827,-0.8597000000000001,-0.8597000000000001,-0.8367999999999998,-0.8089,-0.7768999999999999,-0.7425000000000002,-0.7081,-0.6783999999999999,-0.6619999999999999,-0.6734,-0.7227000000000001,-0.7993999999999999,-0.887,-0.9750999999999999,-1.0575999999999999,-1.1305,-1.1912,-1.2389,-1.275,-1.2965,-1.0993,-1.0894,-1.0608999999999997,-1.0175,-0.9649000000000001,-0.9098000000000002,-0.8597000000000001],\"type\":\"scatter\"},{\"mode\":\"lines\",\"name\":\"band 15\",\"x\":[0.0,0.0478872804126051,0.0957745608252102,0.1436618412378153,0.1915491216504204,0.23943640206302552,0.2873236824756306,0.3352109628882357,0.3830982433008408,0.4309855237134459,0.4788727859288848,0.52676006634149,0.5746473467540951,0.6225346271667003,0.6704219075793054,0.7183091879919103,0.7661964684045154,0.8140837488171206,0.8619710292297257,0.9098583096423308,0.9098583096423308,0.9569885861732094,1.0041188627040878,1.0512491392349663,1.0983794157658449,1.1455096922967234,1.1926399376520829,1.2397702141829614,1.2869004907138402,1.3340307672447187,1.3811610437755972,1.4282913203064758,1.4754215968373545,1.4754215968373545,1.5250822343582693,1.5747428718791838,1.6244035094000986,1.6740641157454943,1.7237247532664088,1.7733853907873236,1.8230460283082381,1.872706665829153,1.9223673033500674,1.9720279096954632,2.0216885472163777,2.0713491847372922,2.121009822258207,2.1706704597791213,2.220331097300036,2.2699917348209504,2.319652341166346,2.3693129786872604,2.418973616208175,2.4686342537290895,2.4686342537290895,2.513249577372131,2.5578648929844148,2.6024802166274563,2.64709553223974,2.6917108558827816,2.7363261714950653,2.780941495138107,2.8255568107503906,2.870172134393432,2.870172134393432,2.9184525693424144,2.9667330042913966,3.015013439240379,3.063293874189361,3.1115743091383434,3.1598547440873257,3.208135179036308,3.2564156451608093,3.3046960801097915,3.352976515058774,3.401256950007756,3.4495373849567383,3.497817819905721,3.5460982548547033,3.5943786898036856,3.6426591247526683,3.6909395597016506,3.739219994650633,3.787500429599615,3.8357808645485973,3.8840612994975796,3.932341734446562,3.932341734446562,3.9820023682373975,4.031663002028234,4.081323635819069,4.130984269609904,4.18064490340074,4.230305537191575,4.279966139806894,4.329626773597729,4.379287407388564,4.4289480411794,4.4289480411794,4.475495226087596,4.522042403298337,4.568589588206533,4.568589588206533,4.61637556013767,4.664161532068808,4.71194748600075,4.759733457931888,4.807519429863025,4.855305401794163,4.9030913737253,4.950877345656438,4.998663299588381,5.046449271519519,5.094235243450656,5.142021197382599,5.189807169313736,5.237593141244874,5.2853790951768165,5.333165067107954,5.3809510390390916,5.428737010970229,5.428737010970229,5.4738430574267225,5.518949095939828,5.564055142396321,5.609161180909426,5.65426722736592,5.699373265879025],\"y\":[-0.17490000000000006,-0.19709999999999983,-0.2559,-0.3336000000000001,-0.41359999999999975,-0.48550000000000004,-0.5453000000000001,-0.5762999999999998,-0.5318,-0.4769000000000001,-0.41610000000000014,-0.35150000000000015,-0.2858999999999998,-0.2229000000000001,-0.16579999999999995,-0.11709999999999976,-0.09989999999999988,-0.09689999999999976,-0.09509999999999996,-0.09450000000000003,-0.09450000000000003,-0.09640000000000004,-0.10219999999999985,-0.11289999999999978,-0.12939999999999996,-0.1530999999999998,-0.18480000000000008,-0.22489999999999988,-0.2730999999999999,-0.3279000000000001,-0.387,-0.44720000000000004,-0.40379999999999994,-0.40379999999999994,-0.36209999999999987,-0.3336000000000001,-0.31769999999999987,-0.3138000000000001,-0.32189999999999985,-0.3428,-0.3782000000000001,-0.4291999999999998,-0.4956999999999998,-0.4925999999999999,-0.45310000000000006,-0.4163000000000001,-0.3839999999999999,-0.35729999999999995,-0.3367,-0.32189999999999985,-0.3123999999999998,-0.30689999999999973,-0.3043,-0.3035000000000001,-0.3035000000000001,-0.2995000000000001,-0.28790000000000004,-0.2704,-0.2492000000000001,-0.2269000000000001,-0.20619999999999994,-0.18949999999999978,-0.17859999999999987,-0.17490000000000006,-0.17490000000000006,-0.1974999999999998,-0.25780000000000003,-0.33899999999999997,-0.42510000000000003,-0.5055999999999998,-0.5752999999999999,-0.5665,-0.5230000000000001,-0.47909999999999986,-0.4367000000000001,-0.39759999999999973,-0.36370000000000013,-0.33679999999999977,-0.3182999999999998,-0.30909999999999993,-0.3092999999999999,-0.3184,-0.3357999999999999,-0.3605999999999998,-0.3919999999999999,-0.4289999999999998,-0.43379999999999974,-0.43379999999999974,-0.39170000000000016,-0.3479000000000001,-0.3022999999999998,-0.2549999999999999,-0.20650000000000013,-0.1583000000000001,-0.1126999999999998,-0.0737000000000001,-0.04679999999999973,-0.03710000000000013,-0.03710000000000013,-0.03839999999999977,-0.04249999999999998,-0.048799999999999955,-0.048799999999999955,-0.04820000000000002,-0.050599999999999756,-0.08930000000000016,-0.14129999999999976,-0.20359999999999978,-0.27170000000000005,-0.3363999999999998,-0.3818999999999999,-0.3965000000000001,-0.3881000000000001,-0.37060000000000004,-0.3517000000000001,-0.33489999999999975,-0.3216999999999999,-0.3123999999999998,-0.30689999999999973,-0.3041999999999998,-0.3035000000000001,-0.09450000000000003,-0.09260000000000002,-0.08689999999999998,-0.07850000000000001,-0.0682999999999998,-0.05799999999999983,-0.048799999999999955],\"type\":\"scatter\"},{\"mode\":\"lines\",\"name\":\"band 16\",\"x\":[0.0,0.0478872804126051,0.0957745608252102,0.1436618412378153,0.1915491216504204,0.23943640206302552,0.2873236824756306,0.3352109628882357,0.3830982433008408,0.4309855237134459,0.4788727859288848,0.52676006634149,0.5746473467540951,0.6225346271667003,0.6704219075793054,0.7183091879919103,0.7661964684045154,0.8140837488171206,0.8619710292297257,0.9098583096423308,0.9098583096423308,0.9569885861732094,1.0041188627040878,1.0512491392349663,1.0983794157658449,1.1455096922967234,1.1926399376520829,1.2397702141829614,1.2869004907138402,1.3340307672447187,1.3811610437755972,1.4282913203064758,1.4754215968373545,1.4754215968373545,1.5250822343582693,1.5747428718791838,1.6244035094000986,1.6740641157454943,1.7237247532664088,1.7733853907873236,1.8230460283082381,1.872706665829153,1.9223673033500674,1.9720279096954632,2.0216885472163777,2.0713491847372922,2.121009822258207,2.1706704597791213,2.220331097300036,2.2699917348209504,2.319652341166346,2.3693129786872604,2.418973616208175,2.4686342537290895,2.4686342537290895,2.513249577372131,2.5578648929844148,2.6024802166274563,2.64709553223974,2.6917108558827816,2.7363261714950653,2.780941495138107,2.8255568107503906,2.870172134393432,2.870172134393432,2.9184525693424144,2.9667330042913966,3.015013439240379,3.063293874189361,3.1115743091383434,3.1598547440873257,3.208135179036308,3.2564156451608093,3.3046960801097915,3.352976515058774,3.401256950007756,3.4495373849567383,3.497817819905721,3.5460982548547033,3.5943786898036856,3.6426591247526683,3.6909395597016506,3.739219994650633,3.787500429599615,3.8357808645485973,3.8840612994975796,3.932341734446562,3.932341734446562,3.9820023682373975,4.031663002028234,4.081323635819069,4.130984269609904,4.18064490340074,4.230305537191575,4.279966139806894,4.329626773597729,4.379287407388564,4.4289480411794,4.4289480411794,4.475495226087596,4.522042403298337,4.568589588206533,4.568589588206533,4.61637556013767,4.664161532068808,4.71194748600075,4.759733457931888,4.807519429863025,4.855305401794163,4.9030913737253,4.950877345656438,4.998663299588381,5.046449271519519,5.094235243450656,5.142021197382599,5.189807169313736,5.237593141244874,5.2853790951768165,5.333165067107954,5.3809510390390916,5.428737010970229,5.428737010970229,5.4738430574267225,5.518949095939828,5.564055142396321,5.609161180909426,5.65426722736592,5.699373265879025],\"y\":[-0.17490000000000006,-0.1751999999999998,-0.17589999999999995,-0.1766000000000001,-0.1764000000000001,-0.17490000000000006,-0.17149999999999999,-0.1661999999999999,-0.1591999999999998,-0.1509999999999998,-0.14210000000000012,-0.133,-0.12440000000000007,-0.11649999999999983,-0.1097999999999999,-0.10420000000000007,-0.07869999999999999,-0.0512999999999999,-0.03500000000000014,-0.02950000000000008,-0.02950000000000008,-0.02859999999999996,-0.02619999999999978,-0.0230999999999999,-0.020399999999999974,-0.01849999999999996,-0.01770000000000005,-0.017799999999999816,-0.01839999999999975,-0.019000000000000128,-0.019400000000000084,-0.019299999999999873,-0.01880000000000015,-0.01880000000000015,-0.018299999999999983,-0.019099999999999895,-0.02259999999999973,-0.030100000000000016,-0.042100000000000026,-0.05819999999999981,-0.07739999999999991,-0.0979000000000001,-0.1187999999999998,-0.13980000000000015,-0.16089999999999982,-0.1823999999999999,-0.20389999999999997,-0.22520000000000007,-0.24549999999999983,-0.2639999999999998,-0.2799999999999998,-0.2925,-0.30069999999999997,-0.3035000000000001,-0.3035000000000001,-0.2995000000000001,-0.28790000000000004,-0.2704,-0.2492000000000001,-0.2269000000000001,-0.20619999999999994,-0.18949999999999978,-0.17859999999999987,-0.17490000000000006,-0.17490000000000006,-0.1755,-0.1772999999999998,-0.17939999999999978,-0.18080000000000007,-0.18040000000000012,-0.17720000000000002,-0.17070000000000007,-0.16100000000000003,-0.14849999999999985,-0.13390000000000013,-0.11830000000000007,-0.10219999999999985,-0.08639999999999981,-0.07109999999999994,-0.05699999999999994,-0.04469999999999974,-0.034800000000000164,-0.027699999999999836,-0.02320000000000011,-0.02079999999999993,-0.019600000000000062,-0.019000000000000128,-0.019000000000000128,-0.018199999999999772,-0.016900000000000137,-0.014899999999999913,-0.012399999999999967,-0.009500000000000064,-0.006600000000000161,-0.0038999999999997925,-0.0017999999999998018,-0.00039999999999995595,0.0,0.0,-0.001100000000000101,-0.0043999999999999595,-0.009700000000000042,-0.009700000000000042,-0.02289999999999992,-0.0495000000000001,-0.05600000000000005,-0.06449999999999978,-0.07620000000000005,-0.09099999999999975,-0.10860000000000003,-0.12880000000000003,-0.15090000000000003,-0.1743999999999999,-0.1983999999999999,-0.22189999999999976,-0.24409999999999998,-0.2639999999999998,-0.28059999999999974,-0.2930999999999999,-0.30079999999999973,-0.3035000000000001,-0.02950000000000008,-0.028699999999999726,-0.026399999999999757,-0.02289999999999992,-0.01839999999999975,-0.013700000000000045,-0.009700000000000042],\"type\":\"scatter\"},{\"mode\":\"lines\",\"name\":\"band 17\",\"x\":[0.0,0.0478872804126051,0.0957745608252102,0.1436618412378153,0.1915491216504204,0.23943640206302552,0.2873236824756306,0.3352109628882357,0.3830982433008408,0.4309855237134459,0.4788727859288848,0.52676006634149,0.5746473467540951,0.6225346271667003,0.6704219075793054,0.7183091879919103,0.7661964684045154,0.8140837488171206,0.8619710292297257,0.9098583096423308,0.9098583096423308,0.9569885861732094,1.0041188627040878,1.0512491392349663,1.0983794157658449,1.1455096922967234,1.1926399376520829,1.2397702141829614,1.2869004907138402,1.3340307672447187,1.3811610437755972,1.4282913203064758,1.4754215968373545,1.4754215968373545,1.5250822343582693,1.5747428718791838,1.6244035094000986,1.6740641157454943,1.7237247532664088,1.7733853907873236,1.8230460283082381,1.872706665829153,1.9223673033500674,1.9720279096954632,2.0216885472163777,2.0713491847372922,2.121009822258207,2.1706704597791213,2.220331097300036,2.2699917348209504,2.319652341166346,2.3693129786872604,2.418973616208175,2.4686342537290895,2.4686342537290895,2.513249577372131,2.5578648929844148,2.6024802166274563,2.64709553223974,2.6917108558827816,2.7363261714950653,2.780941495138107,2.8255568107503906,2.870172134393432,2.870172134393432,2.9184525693424144,2.9667330042913966,3.015013439240379,3.063293874189361,3.1115743091383434,3.1598547440873257,3.208135179036308,3.2564156451608093,3.3046960801097915,3.352976515058774,3.401256950007756,3.4495373849567383,3.497817819905721,3.5460982548547033,3.5943786898036856,3.6426591247526683,3.6909395597016506,3.739219994650633,3.787500429599615,3.8357808645485973,3.8840612994975796,3.932341734446562,3.932341734446562,3.9820023682373975,4.031663002028234,4.081323635819069,4.130984269609904,4.18064490340074,4.230305537191575,4.279966139806894,4.329626773597729,4.379287407388564,4.4289480411794,4.4289480411794,4.475495226087596,4.522042403298337,4.568589588206533,4.568589588206533,4.61637556013767,4.664161532068808,4.71194748600075,4.759733457931888,4.807519429863025,4.855305401794163,4.9030913737253,4.950877345656438,4.998663299588381,5.046449271519519,5.094235243450656,5.142021197382599,5.189807169313736,5.237593141244874,5.2853790951768165,5.333165067107954,5.3809510390390916,5.428737010970229,5.428737010970229,5.4738430574267225,5.518949095939828,5.564055142396321,5.609161180909426,5.65426722736592,5.699373265879025],\"y\":[1.7923,1.8239,1.9124999999999996,2.0438,2.2028,2.3771000000000004,2.5555000000000003,2.7229,2.8326000000000002,2.8106,2.7380000000000004,2.6691000000000003,2.6124,2.5682,2.5349000000000004,2.5105000000000004,2.4934000000000003,2.482,2.4755000000000003,2.4734,2.4734,2.4835000000000003,2.5136000000000003,2.5629999999999997,2.6304999999999996,2.7141,2.8106999999999998,2.9147999999999996,3.0181000000000004,3.1073000000000004,3.1666999999999996,3.1619,3.0823,3.0823,2.9981,2.9143999999999997,2.8342,2.7618,2.702,2.6599000000000004,2.6394,2.6433999999999997,2.6734,2.7294,2.8102,2.9132,3.0351,3.1711,3.3148,3.4564000000000004,3.5793,3.6289,3.5919,3.5793,3.5793,3.439,3.1726,2.885,2.6046000000000005,2.346,2.1219,1.9457000000000004,1.8318000000000003,1.7923,1.7923,1.8241000000000005,1.9138000000000002,2.0479000000000003,2.2125000000000004,2.3966000000000003,2.5915999999999997,2.79,2.9852,2.9519,2.8808,2.8365,2.8196000000000003,2.83,2.8669000000000002,2.9291,3.0147000000000004,3.1218000000000004,3.2009999999999996,3.1581,3.1241000000000003,3.0972999999999997,3.0734000000000004,3.0734000000000004,3.0286999999999997,2.9135999999999997,2.7617000000000003,2.6021,2.4444999999999997,2.2958,2.1633000000000004,2.0563000000000002,1.9855999999999998,1.9607,1.9607,1.9702000000000002,1.9980000000000002,2.0427999999999997,2.0427999999999997,2.0331,2.0442,2.0766,2.1303,2.2045000000000003,2.2981,2.4093,2.5362,2.6765,2.8276000000000003,2.9863999999999997,3.149,3.3097000000000003,3.4596999999999998,3.583,3.6243,3.591,3.5793,2.4734,2.4486,2.3829000000000002,2.2948000000000004,2.2011000000000003,2.1140999999999996,2.0427999999999997],\"type\":\"scatter\"},{\"mode\":\"lines\",\"name\":\"band 18\",\"x\":[0.0,0.0478872804126051,0.0957745608252102,0.1436618412378153,0.1915491216504204,0.23943640206302552,0.2873236824756306,0.3352109628882357,0.3830982433008408,0.4309855237134459,0.4788727859288848,0.52676006634149,0.5746473467540951,0.6225346271667003,0.6704219075793054,0.7183091879919103,0.7661964684045154,0.8140837488171206,0.8619710292297257,0.9098583096423308,0.9098583096423308,0.9569885861732094,1.0041188627040878,1.0512491392349663,1.0983794157658449,1.1455096922967234,1.1926399376520829,1.2397702141829614,1.2869004907138402,1.3340307672447187,1.3811610437755972,1.4282913203064758,1.4754215968373545,1.4754215968373545,1.5250822343582693,1.5747428718791838,1.6244035094000986,1.6740641157454943,1.7237247532664088,1.7733853907873236,1.8230460283082381,1.872706665829153,1.9223673033500674,1.9720279096954632,2.0216885472163777,2.0713491847372922,2.121009822258207,2.1706704597791213,2.220331097300036,2.2699917348209504,2.319652341166346,2.3693129786872604,2.418973616208175,2.4686342537290895,2.4686342537290895,2.513249577372131,2.5578648929844148,2.6024802166274563,2.64709553223974,2.6917108558827816,2.7363261714950653,2.780941495138107,2.8255568107503906,2.870172134393432,2.870172134393432,2.9184525693424144,2.9667330042913966,3.015013439240379,3.063293874189361,3.1115743091383434,3.1598547440873257,3.208135179036308,3.2564156451608093,3.3046960801097915,3.352976515058774,3.401256950007756,3.4495373849567383,3.497817819905721,3.5460982548547033,3.5943786898036856,3.6426591247526683,3.6909395597016506,3.739219994650633,3.787500429599615,3.8357808645485973,3.8840612994975796,3.932341734446562,3.932341734446562,3.9820023682373975,4.031663002028234,4.081323635819069,4.130984269609904,4.18064490340074,4.230305537191575,4.279966139806894,4.329626773597729,4.379287407388564,4.4289480411794,4.4289480411794,4.475495226087596,4.522042403298337,4.568589588206533,4.568589588206533,4.61637556013767,4.664161532068808,4.71194748600075,4.759733457931888,4.807519429863025,4.855305401794163,4.9030913737253,4.950877345656438,4.998663299588381,5.046449271519519,5.094235243450656,5.142021197382599,5.189807169313736,5.237593141244874,5.2853790951768165,5.333165067107954,5.3809510390390916,5.428737010970229,5.428737010970229,5.4738430574267225,5.518949095939828,5.564055142396321,5.609161180909426,5.65426722736592,5.699373265879025],\"y\":[3.917,3.9466,3.9684999999999997,3.8098,3.6302000000000003,3.4552000000000005,3.2948000000000004,3.1612999999999998,3.0971,3.1711,3.295,3.4073,3.4907000000000004,3.5343,3.5353000000000003,3.5102,3.4789000000000003,3.4522000000000004,3.4349,3.4288999999999996,3.4288999999999996,3.4442000000000004,3.4833,3.5328,3.5833000000000004,3.6298000000000004,3.5942,3.5018000000000002,3.4110000000000005,3.3246,3.2420999999999998,3.1887,3.1817,3.1817,3.1604,3.1393000000000004,3.1271000000000004,3.1290000000000004,3.1477000000000004,3.1851000000000003,3.2419000000000002,3.3179999999999996,3.4120999999999997,3.521,3.6390000000000002,3.7553,3.8466000000000005,3.8734,3.8304,3.7586000000000004,3.6868,3.6578,3.6805000000000003,3.6801000000000004,3.6801000000000004,3.6858000000000004,3.7015000000000002,3.7267,3.76,3.7991,3.8405000000000005,3.8787000000000003,3.9066,3.917,3.917,3.9486999999999997,3.9962999999999997,3.8239,3.6449,3.4717000000000002,3.3116000000000003,3.1695,3.0487,3.1699,3.3369,3.4789000000000003,3.5896,3.5764000000000005,3.4777000000000005,3.3912000000000004,3.3167,3.2536000000000005,3.248,3.3912000000000004,3.4688,3.3678,3.2541,3.2541,3.1486,3.1082,3.1029,3.1077000000000004,3.1165000000000003,3.1264000000000003,3.1357,3.143,3.1475,3.1491,3.1491,3.1616999999999997,3.1978999999999997,3.2526,3.2526,3.2819000000000003,3.3045,3.3190999999999997,3.3304,3.3465,3.3752000000000004,3.4219999999999997,3.4894,3.5769,3.6809000000000003,3.7933000000000003,3.8849,3.8409000000000004,3.7579000000000002,3.6845999999999997,3.6619,3.6806,3.6801000000000004,3.4288999999999996,3.4293000000000005,3.4219,3.3962000000000003,3.3539000000000003,3.3034,3.2526],\"type\":\"scatter\"},{\"mode\":\"lines\",\"name\":\"band 19\",\"x\":[0.0,0.0478872804126051,0.0957745608252102,0.1436618412378153,0.1915491216504204,0.23943640206302552,0.2873236824756306,0.3352109628882357,0.3830982433008408,0.4309855237134459,0.4788727859288848,0.52676006634149,0.5746473467540951,0.6225346271667003,0.6704219075793054,0.7183091879919103,0.7661964684045154,0.8140837488171206,0.8619710292297257,0.9098583096423308,0.9098583096423308,0.9569885861732094,1.0041188627040878,1.0512491392349663,1.0983794157658449,1.1455096922967234,1.1926399376520829,1.2397702141829614,1.2869004907138402,1.3340307672447187,1.3811610437755972,1.4282913203064758,1.4754215968373545,1.4754215968373545,1.5250822343582693,1.5747428718791838,1.6244035094000986,1.6740641157454943,1.7237247532664088,1.7733853907873236,1.8230460283082381,1.872706665829153,1.9223673033500674,1.9720279096954632,2.0216885472163777,2.0713491847372922,2.121009822258207,2.1706704597791213,2.220331097300036,2.2699917348209504,2.319652341166346,2.3693129786872604,2.418973616208175,2.4686342537290895,2.4686342537290895,2.513249577372131,2.5578648929844148,2.6024802166274563,2.64709553223974,2.6917108558827816,2.7363261714950653,2.780941495138107,2.8255568107503906,2.870172134393432,2.870172134393432,2.9184525693424144,2.9667330042913966,3.015013439240379,3.063293874189361,3.1115743091383434,3.1598547440873257,3.208135179036308,3.2564156451608093,3.3046960801097915,3.352976515058774,3.401256950007756,3.4495373849567383,3.497817819905721,3.5460982548547033,3.5943786898036856,3.6426591247526683,3.6909395597016506,3.739219994650633,3.787500429599615,3.8357808645485973,3.8840612994975796,3.932341734446562,3.932341734446562,3.9820023682373975,4.031663002028234,4.081323635819069,4.130984269609904,4.18064490340074,4.230305537191575,4.279966139806894,4.329626773597729,4.379287407388564,4.4289480411794,4.4289480411794,4.475495226087596,4.522042403298337,4.568589588206533,4.568589588206533,4.61637556013767,4.664161532068808,4.71194748600075,4.759733457931888,4.807519429863025,4.855305401794163,4.9030913737253,4.950877345656438,4.998663299588381,5.046449271519519,5.094235243450656,5.142021197382599,5.189807169313736,5.237593141244874,5.2853790951768165,5.333165067107954,5.3809510390390916,5.428737010970229,5.428737010970229,5.4738430574267225,5.518949095939828,5.564055142396321,5.609161180909426,5.65426722736592,5.699373265879025],\"y\":[4.1987,4.1401,4.0671,4.1832,4.311,4.378,4.373,4.3255,4.2557,4.1731,4.084,3.9958,3.9211,3.8765,3.8715,3.8933999999999997,3.9203,3.9348,3.9383999999999997,3.9392000000000005,3.9392000000000005,3.9621000000000004,3.9409,3.8749000000000002,3.7919,3.7035,3.6948999999999996,3.7464000000000004,3.8030999999999997,3.8632,3.9265,3.9935,4.0642000000000005,4.0642000000000005,4.1415,4.2182,4.2866,4.336,4.3561,4.3432,4.3036,4.2491,4.192,4.1421,4.1056,4.0853,4.0811,4.0888,4.101,4.1065000000000005,4.0984,4.0937,4.1162,4.1352,4.1352,4.2562,4.3937,4.3587,4.3191,4.2804,4.2465,4.2205,4.2042,4.1987,4.1987,4.1377,4.0355,4.1479,4.2463,4.3229,4.3656,4.3334,4.2259,4.0884,3.9475,3.8129999999999997,3.6895,3.6673999999999998,3.7089999999999996,3.7202,3.7062,3.6719999999999997,3.6207000000000003,3.5530999999999997,3.5484999999999998,3.7169999999999996,3.8914999999999997,3.8914999999999997,4.0678,4.2243,4.353,4.4688,4.5867,4.3985,4.2242,4.0872,3.9999000000000002,3.9699999999999998,3.9699999999999998,3.9634,3.9459999999999997,3.9237,3.9237,3.8852,3.8657000000000004,3.8669000000000002,3.8859000000000004,3.9171000000000005,3.9552000000000005,3.9953000000000003,4.0327,4.0592,4.0609,4.0248,3.9737999999999998,4.0258,4.0805,4.0933,4.0943000000000005,4.1174,4.1352,3.9392000000000005,3.9448999999999996,3.9469000000000003,3.9404000000000003,3.9314,3.9245,3.9237],\"type\":\"scatter\"},{\"mode\":\"lines\",\"name\":\"band 20\",\"x\":[0.0,0.0478872804126051,0.0957745608252102,0.1436618412378153,0.1915491216504204,0.23943640206302552,0.2873236824756306,0.3352109628882357,0.3830982433008408,0.4309855237134459,0.4788727859288848,0.52676006634149,0.5746473467540951,0.6225346271667003,0.6704219075793054,0.7183091879919103,0.7661964684045154,0.8140837488171206,0.8619710292297257,0.9098583096423308,0.9098583096423308,0.9569885861732094,1.0041188627040878,1.0512491392349663,1.0983794157658449,1.1455096922967234,1.1926399376520829,1.2397702141829614,1.2869004907138402,1.3340307672447187,1.3811610437755972,1.4282913203064758,1.4754215968373545,1.4754215968373545,1.5250822343582693,1.5747428718791838,1.6244035094000986,1.6740641157454943,1.7237247532664088,1.7733853907873236,1.8230460283082381,1.872706665829153,1.9223673033500674,1.9720279096954632,2.0216885472163777,2.0713491847372922,2.121009822258207,2.1706704597791213,2.220331097300036,2.2699917348209504,2.319652341166346,2.3693129786872604,2.418973616208175,2.4686342537290895,2.4686342537290895,2.513249577372131,2.5578648929844148,2.6024802166274563,2.64709553223974,2.6917108558827816,2.7363261714950653,2.780941495138107,2.8255568107503906,2.870172134393432,2.870172134393432,2.9184525693424144,2.9667330042913966,3.015013439240379,3.063293874189361,3.1115743091383434,3.1598547440873257,3.208135179036308,3.2564156451608093,3.3046960801097915,3.352976515058774,3.401256950007756,3.4495373849567383,3.497817819905721,3.5460982548547033,3.5943786898036856,3.6426591247526683,3.6909395597016506,3.739219994650633,3.787500429599615,3.8357808645485973,3.8840612994975796,3.932341734446562,3.932341734446562,3.9820023682373975,4.031663002028234,4.081323635819069,4.130984269609904,4.18064490340074,4.230305537191575,4.279966139806894,4.329626773597729,4.379287407388564,4.4289480411794,4.4289480411794,4.475495226087596,4.522042403298337,4.568589588206533,4.568589588206533,4.61637556013767,4.664161532068808,4.71194748600075,4.759733457931888,4.807519429863025,4.855305401794163,4.9030913737253,4.950877345656438,4.998663299588381,5.046449271519519,5.094235243450656,5.142021197382599,5.189807169313736,5.237593141244874,5.2853790951768165,5.333165067107954,5.3809510390390916,5.428737010970229,5.428737010970229,5.4738430574267225,5.518949095939828,5.564055142396321,5.609161180909426,5.65426722736592,5.699373265879025],\"y\":[4.1987,4.2124,4.2532,4.3196,4.4094,4.519,4.6434,4.7747,4.6248000000000005,4.4845,4.3604,4.2542,4.1652000000000005,4.0924000000000005,4.0365,3.9989999999999997,3.9818,3.9869000000000003,4.0007,4.0067,4.0067,3.9979000000000005,4.0665000000000004,4.2238,4.4454,4.57,4.3945,4.2441,4.1273,4.0558,4.0426,4.0916,4.1889,4.1889,4.3184000000000005,4.4497,4.5595,4.627,4.6404,4.6058,4.543,4.4715,4.4042,4.347,4.3005,4.2628,4.2412,4.2673,4.3448,4.4192,4.4456,4.4409,4.4313,4.4272,4.4272,4.4183,4.3937,4.3587,4.3191,4.2804,4.2466,4.2205,4.2042,4.1987,4.1987,4.212,4.2559000000000005,4.3468,4.5038,4.7044,4.7981,4.8385,4.877300000000001,4.9026000000000005,4.8913,4.8235,4.7147,4.5938,4.4786,4.3786000000000005,4.2989,4.2419,4.2084,4.1976,4.208,4.2385,4.2896,4.2896,4.3694,4.49,4.6565,4.792,4.5937,4.712,4.8436,4.972700000000001,5.0782,5.121899999999999,5.121899999999999,5.080100000000001,4.967,4.8106,4.8106,4.882000000000001,4.9593,5.037400000000001,5.106000000000001,5.0401,4.957400000000001,4.8793999999999995,4.7844,4.6651,4.5769,4.5386,4.5518,4.5275,4.4915,4.4632,4.4431,4.4312000000000005,4.4272,4.0067,4.0259,4.1006,4.2338000000000005,4.4091000000000005,4.6079,4.8106],\"type\":\"scatter\"}],                        {\"template\":{\"data\":{\"histogram2dcontour\":[{\"type\":\"histogram2dcontour\",\"colorbar\":{\"outlinewidth\":0,\"ticks\":\"\"},\"colorscale\":[[0.0,\"#0d0887\"],[0.1111111111111111,\"#46039f\"],[0.2222222222222222,\"#7201a8\"],[0.3333333333333333,\"#9c179e\"],[0.4444444444444444,\"#bd3786\"],[0.5555555555555556,\"#d8576b\"],[0.6666666666666666,\"#ed7953\"],[0.7777777777777778,\"#fb9f3a\"],[0.8888888888888888,\"#fdca26\"],[1.0,\"#f0f921\"]]}],\"choropleth\":[{\"type\":\"choropleth\",\"colorbar\":{\"outlinewidth\":0,\"ticks\":\"\"}}],\"histogram2d\":[{\"type\":\"histogram2d\",\"colorbar\":{\"outlinewidth\":0,\"ticks\":\"\"},\"colorscale\":[[0.0,\"#0d0887\"],[0.1111111111111111,\"#46039f\"],[0.2222222222222222,\"#7201a8\"],[0.3333333333333333,\"#9c179e\"],[0.4444444444444444,\"#bd3786\"],[0.5555555555555556,\"#d8576b\"],[0.6666666666666666,\"#ed7953\"],[0.7777777777777778,\"#fb9f3a\"],[0.8888888888888888,\"#fdca26\"],[1.0,\"#f0f921\"]]}],\"heatmap\":[{\"type\":\"heatmap\",\"colorbar\":{\"outlinewidth\":0,\"ticks\":\"\"},\"colorscale\":[[0.0,\"#0d0887\"],[0.1111111111111111,\"#46039f\"],[0.2222222222222222,\"#7201a8\"],[0.3333333333333333,\"#9c179e\"],[0.4444444444444444,\"#bd3786\"],[0.5555555555555556,\"#d8576b\"],[0.6666666666666666,\"#ed7953\"],[0.7777777777777778,\"#fb9f3a\"],[0.8888888888888888,\"#fdca26\"],[1.0,\"#f0f921\"]]}],\"heatmapgl\":[{\"type\":\"heatmapgl\",\"colorbar\":{\"outlinewidth\":0,\"ticks\":\"\"},\"colorscale\":[[0.0,\"#0d0887\"],[0.1111111111111111,\"#46039f\"],[0.2222222222222222,\"#7201a8\"],[0.3333333333333333,\"#9c179e\"],[0.4444444444444444,\"#bd3786\"],[0.5555555555555556,\"#d8576b\"],[0.6666666666666666,\"#ed7953\"],[0.7777777777777778,\"#fb9f3a\"],[0.8888888888888888,\"#fdca26\"],[1.0,\"#f0f921\"]]}],\"contourcarpet\":[{\"type\":\"contourcarpet\",\"colorbar\":{\"outlinewidth\":0,\"ticks\":\"\"}}],\"contour\":[{\"type\":\"contour\",\"colorbar\":{\"outlinewidth\":0,\"ticks\":\"\"},\"colorscale\":[[0.0,\"#0d0887\"],[0.1111111111111111,\"#46039f\"],[0.2222222222222222,\"#7201a8\"],[0.3333333333333333,\"#9c179e\"],[0.4444444444444444,\"#bd3786\"],[0.5555555555555556,\"#d8576b\"],[0.6666666666666666,\"#ed7953\"],[0.7777777777777778,\"#fb9f3a\"],[0.8888888888888888,\"#fdca26\"],[1.0,\"#f0f921\"]]}],\"surface\":[{\"type\":\"surface\",\"colorbar\":{\"outlinewidth\":0,\"ticks\":\"\"},\"colorscale\":[[0.0,\"#0d0887\"],[0.1111111111111111,\"#46039f\"],[0.2222222222222222,\"#7201a8\"],[0.3333333333333333,\"#9c179e\"],[0.4444444444444444,\"#bd3786\"],[0.5555555555555556,\"#d8576b\"],[0.6666666666666666,\"#ed7953\"],[0.7777777777777778,\"#fb9f3a\"],[0.8888888888888888,\"#fdca26\"],[1.0,\"#f0f921\"]]}],\"mesh3d\":[{\"type\":\"mesh3d\",\"colorbar\":{\"outlinewidth\":0,\"ticks\":\"\"}}],\"scatter\":[{\"fillpattern\":{\"fillmode\":\"overlay\",\"size\":10,\"solidity\":0.2},\"type\":\"scatter\"}],\"parcoords\":[{\"type\":\"parcoords\",\"line\":{\"colorbar\":{\"outlinewidth\":0,\"ticks\":\"\"}}}],\"scatterpolargl\":[{\"type\":\"scatterpolargl\",\"marker\":{\"colorbar\":{\"outlinewidth\":0,\"ticks\":\"\"}}}],\"bar\":[{\"error_x\":{\"color\":\"#2a3f5f\"},\"error_y\":{\"color\":\"#2a3f5f\"},\"marker\":{\"line\":{\"color\":\"#E5ECF6\",\"width\":0.5},\"pattern\":{\"fillmode\":\"overlay\",\"size\":10,\"solidity\":0.2}},\"type\":\"bar\"}],\"scattergeo\":[{\"type\":\"scattergeo\",\"marker\":{\"colorbar\":{\"outlinewidth\":0,\"ticks\":\"\"}}}],\"scatterpolar\":[{\"type\":\"scatterpolar\",\"marker\":{\"colorbar\":{\"outlinewidth\":0,\"ticks\":\"\"}}}],\"histogram\":[{\"marker\":{\"pattern\":{\"fillmode\":\"overlay\",\"size\":10,\"solidity\":0.2}},\"type\":\"histogram\"}],\"scattergl\":[{\"type\":\"scattergl\",\"marker\":{\"colorbar\":{\"outlinewidth\":0,\"ticks\":\"\"}}}],\"scatter3d\":[{\"type\":\"scatter3d\",\"line\":{\"colorbar\":{\"outlinewidth\":0,\"ticks\":\"\"}},\"marker\":{\"colorbar\":{\"outlinewidth\":0,\"ticks\":\"\"}}}],\"scattermapbox\":[{\"type\":\"scattermapbox\",\"marker\":{\"colorbar\":{\"outlinewidth\":0,\"ticks\":\"\"}}}],\"scatterternary\":[{\"type\":\"scatterternary\",\"marker\":{\"colorbar\":{\"outlinewidth\":0,\"ticks\":\"\"}}}],\"scattercarpet\":[{\"type\":\"scattercarpet\",\"marker\":{\"colorbar\":{\"outlinewidth\":0,\"ticks\":\"\"}}}],\"carpet\":[{\"aaxis\":{\"endlinecolor\":\"#2a3f5f\",\"gridcolor\":\"white\",\"linecolor\":\"white\",\"minorgridcolor\":\"white\",\"startlinecolor\":\"#2a3f5f\"},\"baxis\":{\"endlinecolor\":\"#2a3f5f\",\"gridcolor\":\"white\",\"linecolor\":\"white\",\"minorgridcolor\":\"white\",\"startlinecolor\":\"#2a3f5f\"},\"type\":\"carpet\"}],\"table\":[{\"cells\":{\"fill\":{\"color\":\"#EBF0F8\"},\"line\":{\"color\":\"white\"}},\"header\":{\"fill\":{\"color\":\"#C8D4E3\"},\"line\":{\"color\":\"white\"}},\"type\":\"table\"}],\"barpolar\":[{\"marker\":{\"line\":{\"color\":\"#E5ECF6\",\"width\":0.5},\"pattern\":{\"fillmode\":\"overlay\",\"size\":10,\"solidity\":0.2}},\"type\":\"barpolar\"}],\"pie\":[{\"automargin\":true,\"type\":\"pie\"}]},\"layout\":{\"autotypenumbers\":\"strict\",\"colorway\":[\"#636efa\",\"#EF553B\",\"#00cc96\",\"#ab63fa\",\"#FFA15A\",\"#19d3f3\",\"#FF6692\",\"#B6E880\",\"#FF97FF\",\"#FECB52\"],\"font\":{\"color\":\"#2a3f5f\"},\"hovermode\":\"closest\",\"hoverlabel\":{\"align\":\"left\"},\"paper_bgcolor\":\"white\",\"plot_bgcolor\":\"#E5ECF6\",\"polar\":{\"bgcolor\":\"#E5ECF6\",\"angularaxis\":{\"gridcolor\":\"white\",\"linecolor\":\"white\",\"ticks\":\"\"},\"radialaxis\":{\"gridcolor\":\"white\",\"linecolor\":\"white\",\"ticks\":\"\"}},\"ternary\":{\"bgcolor\":\"#E5ECF6\",\"aaxis\":{\"gridcolor\":\"white\",\"linecolor\":\"white\",\"ticks\":\"\"},\"baxis\":{\"gridcolor\":\"white\",\"linecolor\":\"white\",\"ticks\":\"\"},\"caxis\":{\"gridcolor\":\"white\",\"linecolor\":\"white\",\"ticks\":\"\"}},\"coloraxis\":{\"colorbar\":{\"outlinewidth\":0,\"ticks\":\"\"}},\"colorscale\":{\"sequential\":[[0.0,\"#0d0887\"],[0.1111111111111111,\"#46039f\"],[0.2222222222222222,\"#7201a8\"],[0.3333333333333333,\"#9c179e\"],[0.4444444444444444,\"#bd3786\"],[0.5555555555555556,\"#d8576b\"],[0.6666666666666666,\"#ed7953\"],[0.7777777777777778,\"#fb9f3a\"],[0.8888888888888888,\"#fdca26\"],[1.0,\"#f0f921\"]],\"sequentialminus\":[[0.0,\"#0d0887\"],[0.1111111111111111,\"#46039f\"],[0.2222222222222222,\"#7201a8\"],[0.3333333333333333,\"#9c179e\"],[0.4444444444444444,\"#bd3786\"],[0.5555555555555556,\"#d8576b\"],[0.6666666666666666,\"#ed7953\"],[0.7777777777777778,\"#fb9f3a\"],[0.8888888888888888,\"#fdca26\"],[1.0,\"#f0f921\"]],\"diverging\":[[0,\"#8e0152\"],[0.1,\"#c51b7d\"],[0.2,\"#de77ae\"],[0.3,\"#f1b6da\"],[0.4,\"#fde0ef\"],[0.5,\"#f7f7f7\"],[0.6,\"#e6f5d0\"],[0.7,\"#b8e186\"],[0.8,\"#7fbc41\"],[0.9,\"#4d9221\"],[1,\"#276419\"]]},\"xaxis\":{\"gridcolor\":\"white\",\"linecolor\":\"white\",\"ticks\":\"\",\"title\":{\"standoff\":15},\"zerolinecolor\":\"white\",\"automargin\":true,\"zerolinewidth\":2},\"yaxis\":{\"gridcolor\":\"white\",\"linecolor\":\"white\",\"ticks\":\"\",\"title\":{\"standoff\":15},\"zerolinecolor\":\"white\",\"automargin\":true,\"zerolinewidth\":2},\"scene\":{\"xaxis\":{\"backgroundcolor\":\"#E5ECF6\",\"gridcolor\":\"white\",\"linecolor\":\"white\",\"showbackground\":true,\"ticks\":\"\",\"zerolinecolor\":\"white\",\"gridwidth\":2},\"yaxis\":{\"backgroundcolor\":\"#E5ECF6\",\"gridcolor\":\"white\",\"linecolor\":\"white\",\"showbackground\":true,\"ticks\":\"\",\"zerolinecolor\":\"white\",\"gridwidth\":2},\"zaxis\":{\"backgroundcolor\":\"#E5ECF6\",\"gridcolor\":\"white\",\"linecolor\":\"white\",\"showbackground\":true,\"ticks\":\"\",\"zerolinecolor\":\"white\",\"gridwidth\":2}},\"shapedefaults\":{\"line\":{\"color\":\"#2a3f5f\"}},\"annotationdefaults\":{\"arrowcolor\":\"#2a3f5f\",\"arrowhead\":0,\"arrowwidth\":1},\"geo\":{\"bgcolor\":\"white\",\"landcolor\":\"#E5ECF6\",\"subunitcolor\":\"white\",\"showland\":true,\"showlakes\":true,\"lakecolor\":\"white\"},\"title\":{\"x\":0.05},\"mapbox\":{\"style\":\"light\"}}},\"shapes\":[{\"line\":{\"color\":\"black\",\"width\":1},\"type\":\"line\",\"x0\":0.9098583096423308,\"x1\":0.9098583096423308,\"xref\":\"x\",\"y0\":0,\"y1\":1,\"yref\":\"y domain\"},{\"line\":{\"color\":\"black\",\"width\":1},\"type\":\"line\",\"x0\":1.4754215968373545,\"x1\":1.4754215968373545,\"xref\":\"x\",\"y0\":0,\"y1\":1,\"yref\":\"y domain\"},{\"line\":{\"color\":\"black\",\"width\":1},\"type\":\"line\",\"x0\":2.4686342537290895,\"x1\":2.4686342537290895,\"xref\":\"x\",\"y0\":0,\"y1\":1,\"yref\":\"y domain\"},{\"line\":{\"color\":\"black\",\"width\":1},\"type\":\"line\",\"x0\":2.870172134393432,\"x1\":2.870172134393432,\"xref\":\"x\",\"y0\":0,\"y1\":1,\"yref\":\"y domain\"},{\"line\":{\"color\":\"black\",\"width\":1},\"type\":\"line\",\"x0\":3.932341734446562,\"x1\":3.932341734446562,\"xref\":\"x\",\"y0\":0,\"y1\":1,\"yref\":\"y domain\"},{\"line\":{\"color\":\"black\",\"width\":1},\"type\":\"line\",\"x0\":4.4289480411794,\"x1\":4.4289480411794,\"xref\":\"x\",\"y0\":0,\"y1\":1,\"yref\":\"y domain\"},{\"line\":{\"color\":\"black\",\"width\":1},\"type\":\"line\",\"x0\":4.568589588206533,\"x1\":4.568589588206533,\"xref\":\"x\",\"y0\":0,\"y1\":1,\"yref\":\"y domain\"},{\"line\":{\"color\":\"black\",\"width\":1},\"type\":\"line\",\"x0\":5.428737010970229,\"x1\":5.428737010970229,\"xref\":\"x\",\"y0\":0,\"y1\":1,\"yref\":\"y domain\"}],\"xaxis\":{\"mirror\":true,\"showgrid\":false,\"ticks\":\"inside\",\"tickvals\":[0.0,0.9098583096423308,1.4754215968373545,2.4686342537290895,2.870172134393432,3.932341734446562,4.4289480411794,4.568589588206533,5.428737010970229,5.699373265879025],\"ticktext\":[\"Î“\",\"L\",\"B_1|B\",\"Z\",\"Î“\",\"X|Q\",\"F\",\"P_1\",\"Z|L\",\"P\"],\"ticklen\":0,\"title\":{\"text\":\"Wave Vector\"}},\"yaxis\":{\"mirror\":true,\"showgrid\":false,\"ticks\":\"inside\",\"ticklen\":10,\"range\":[-2,4],\"title\":{\"text\":\"E - E\\u003csub\\u003ef\\u003c\\u002fsub\\u003e (eV)\"}}},                        {\"responsive\": true}                    ).then(function(){\n",
       "                            \n",
       "var gd = document.getElementById('087e21ce-5210-4dbf-81d0-54f8f45a8e46');\n",
       "var x = new MutationObserver(function (mutations, observer) {{\n",
       "        var display = window.getComputedStyle(gd).display;\n",
       "        if (!display || display === 'none') {{\n",
       "            console.log([gd, 'removed!']);\n",
       "            Plotly.purge(gd);\n",
       "            observer.disconnect();\n",
       "        }}\n",
       "}});\n",
       "\n",
       "// Listen for the removal of the full notebook cells\n",
       "var notebookContainer = gd.closest('#notebook-container');\n",
       "if (notebookContainer) {{\n",
       "    x.observe(notebookContainer, {childList: true});\n",
       "}}\n",
       "\n",
       "// Listen for the clearing of the current output cell\n",
       "var outputEl = gd.closest('.output');\n",
       "if (outputEl) {{\n",
       "    x.observe(outputEl, {childList: true});\n",
       "}}\n",
       "\n",
       "                        })                };                });            </script>        </div>"
      ]
     },
     "metadata": {},
     "output_type": "display_data"
    }
   ],
   "source": [
    "fig_el_bs = get_plot_bs(el_bs, plot_range=[-2,4])\n",
    "fig_el_bs.show()"
   ]
  },
  {
   "cell_type": "markdown",
   "id": "d8941710",
   "metadata": {},
   "source": [
    "**1) Analyse de la bande interdite**"
   ]
  },
  {
   "cell_type": "code",
   "execution_count": 105,
   "id": "9ae241b8",
   "metadata": {},
   "outputs": [
    {
     "name": "stdout",
     "output_type": "stream",
     "text": [
      "Bande interdite : 1.7923 eV\n",
      "Gap direct : False\n",
      "Transition : F-\\Gamma\n"
     ]
    }
   ],
   "source": [
    "# Calcul de la bande interdite\n",
    "band_gap = el_bs.get_band_gap()\n",
    "print(f\"Bande interdite : {band_gap['energy']} eV\")\n",
    "print(f\"Gap direct : {band_gap['direct']}\")\n",
    "print(f\"Transition : {band_gap['transition']}\")"
   ]
  },
  {
   "cell_type": "markdown",
   "id": "2e891f0e",
   "metadata": {},
   "source": [
    "**NB** : Dans ce cas-ci, Gamma correspond à $\\hat{I}^{n}$"
   ]
  },
  {
   "cell_type": "markdown",
   "id": "e1eb6721",
   "metadata": {},
   "source": [
    "Comme la bande d énergie interdite vaut 1.7923, mon matériau est un semi-isolant. "
   ]
  },
  {
   "cell_type": "markdown",
   "id": "f0af6c5d",
   "metadata": {},
   "source": [
    "**2) Dispersions maximale et minimale sur la dernière bande de valence et la première bande de conduction**"
   ]
  },
  {
   "cell_type": "code",
   "execution_count": 106,
   "id": "2e5db7ad",
   "metadata": {},
   "outputs": [],
   "source": [
    "# Récupération des valeurs des bandes\n",
    "xvals = fig_el_bs.to_dict()[\"data\"][0][\"x\"]\n",
    "yvals_vbm = fig_el_bs.to_dict()[\"data\"][4][\"y\"]  # Bande 16\n",
    "yvals_cbm = fig_el_bs.to_dict()[\"data\"][5][\"y\"]  # Bande 17"
   ]
  },
  {
   "cell_type": "code",
   "execution_count": 107,
   "id": "a66514bc",
   "metadata": {},
   "outputs": [],
   "source": [
    "# Identification des indices des bandes de valence et conduction\n",
    "vbm_indices = el_bs.get_vbm()[\"kpoint_index\"]\n",
    "cbm_indices = el_bs.get_cbm()[\"kpoint_index\"]"
   ]
  },
  {
   "cell_type": "code",
   "execution_count": 108,
   "id": "5422e0de",
   "metadata": {},
   "outputs": [],
   "source": [
    "# Calcul de la dispersion pour la bande de valence et de conduction\n",
    "branch_indices = [(b[\"start_index\"], b[\"end_index\"]) for b in el_bs.branches]\n",
    "\n",
    "vbm_dispersion = []\n",
    "cbm_dispersion = []\n",
    "\n",
    "for start, end in branch_indices:\n",
    "    vbm_dispersion.append(max([yvals_vbm[i] for i in range(start, end+1)]) - min([yvals_vbm[i] for i in range(start, end+1)]))\n",
    "    cbm_dispersion.append(max([yvals_cbm[i] for i in range(start, end+1)]) - min([yvals_cbm[i] for i in range(start, end+1)]))"
   ]
  },
  {
   "cell_type": "code",
   "execution_count": 109,
   "id": "4e455517",
   "metadata": {},
   "outputs": [],
   "source": [
    "# Identifier les indices des dispersions maximales et minimales\n",
    "max_vbm_idx = branch_indices[np.argmax(vbm_dispersion)]\n",
    "min_vbm_idx = branch_indices[np.argmin(vbm_dispersion)]\n",
    "max_cbm_idx = branch_indices[np.argmax(cbm_dispersion)]\n",
    "min_cbm_idx = branch_indices[np.argmin(cbm_dispersion)]"
   ]
  },
  {
   "cell_type": "code",
   "execution_count": 110,
   "id": "8000d707",
   "metadata": {},
   "outputs": [
    {
     "data": {
      "application/vnd.plotly.v1+json": {
       "config": {
        "plotlyServerURL": "https://plot.ly"
       },
       "data": [
        {
         "mode": "lines",
         "name": "band 12",
         "type": "scatter",
         "x": [
          0,
          0.0478872804126051,
          0.0957745608252102,
          0.1436618412378153,
          0.1915491216504204,
          0.23943640206302552,
          0.2873236824756306,
          0.3352109628882357,
          0.3830982433008408,
          0.4309855237134459,
          0.4788727859288848,
          0.52676006634149,
          0.5746473467540951,
          0.6225346271667003,
          0.6704219075793054,
          0.7183091879919103,
          0.7661964684045154,
          0.8140837488171206,
          0.8619710292297257,
          0.9098583096423308,
          0.9098583096423308,
          0.9569885861732094,
          1.0041188627040878,
          1.0512491392349663,
          1.0983794157658449,
          1.1455096922967234,
          1.1926399376520829,
          1.2397702141829614,
          1.2869004907138402,
          1.3340307672447187,
          1.3811610437755972,
          1.4282913203064758,
          1.4754215968373545,
          1.4754215968373545,
          1.5250822343582693,
          1.5747428718791838,
          1.6244035094000986,
          1.6740641157454943,
          1.7237247532664088,
          1.7733853907873236,
          1.8230460283082381,
          1.872706665829153,
          1.9223673033500674,
          1.9720279096954632,
          2.0216885472163777,
          2.0713491847372922,
          2.121009822258207,
          2.1706704597791213,
          2.220331097300036,
          2.2699917348209504,
          2.319652341166346,
          2.3693129786872604,
          2.418973616208175,
          2.4686342537290895,
          2.4686342537290895,
          2.513249577372131,
          2.5578648929844148,
          2.6024802166274563,
          2.64709553223974,
          2.6917108558827816,
          2.7363261714950653,
          2.780941495138107,
          2.8255568107503906,
          2.870172134393432,
          2.870172134393432,
          2.9184525693424144,
          2.9667330042913966,
          3.015013439240379,
          3.063293874189361,
          3.1115743091383434,
          3.1598547440873257,
          3.208135179036308,
          3.2564156451608093,
          3.3046960801097915,
          3.352976515058774,
          3.401256950007756,
          3.4495373849567383,
          3.497817819905721,
          3.5460982548547033,
          3.5943786898036856,
          3.6426591247526683,
          3.6909395597016506,
          3.739219994650633,
          3.787500429599615,
          3.8357808645485973,
          3.8840612994975796,
          3.932341734446562,
          3.932341734446562,
          3.9820023682373975,
          4.031663002028234,
          4.081323635819069,
          4.130984269609904,
          4.18064490340074,
          4.230305537191575,
          4.279966139806894,
          4.329626773597729,
          4.379287407388564,
          4.4289480411794,
          4.4289480411794,
          4.475495226087596,
          4.522042403298337,
          4.568589588206533,
          4.568589588206533,
          4.61637556013767,
          4.664161532068808,
          4.71194748600075,
          4.759733457931888,
          4.807519429863025,
          4.855305401794163,
          4.9030913737253,
          4.950877345656438,
          4.998663299588381,
          5.046449271519519,
          5.094235243450656,
          5.142021197382599,
          5.189807169313736,
          5.237593141244874,
          5.2853790951768165,
          5.333165067107954,
          5.3809510390390916,
          5.428737010970229,
          5.428737010970229,
          5.4738430574267225,
          5.518949095939828,
          5.564055142396321,
          5.609161180909426,
          5.65426722736592,
          5.699373265879025
         ],
         "y": [
          -1.4143,
          -1.44,
          -1.5163,
          -1.6404999999999998,
          -1.8068,
          -2.0063,
          -2.2285,
          -2.463,
          -2.7011,
          -2.9354,
          -3.1595999999999997,
          -3.3649999999999998,
          -3.463,
          -3.4213999999999998,
          -3.3717,
          -3.3244,
          -3.2826,
          -3.2497,
          -3.2285,
          -3.2212,
          -3.2212,
          -3.2208,
          -3.2195,
          -3.2172,
          -3.2135,
          -3.2081999999999997,
          -3.2014,
          -3.193,
          -3.1835999999999998,
          -3.3134,
          -3.4615,
          -3.5896,
          -3.4819999999999998,
          -3.4819999999999998,
          -3.3487,
          -3.2095,
          -3.2064,
          -3.2428,
          -3.2893,
          -3.3436,
          -3.4032,
          -3.4652,
          -3.3461,
          -3.1666,
          -2.9669,
          -2.7512,
          -2.5244,
          -2.2927999999999997,
          -2.0641,
          -1.8481999999999998,
          -1.6564999999999999,
          -1.5017,
          -1.3943999999999999,
          -1.3474,
          -1.3474,
          -1.3496,
          -1.3558999999999999,
          -1.3654,
          -1.3766,
          -1.3881999999999999,
          -1.3987,
          -1.4071,
          -1.4124999999999999,
          -1.4143,
          -1.4143,
          -1.4412,
          -1.5206,
          -1.6481999999999999,
          -1.8165,
          -2.0151,
          -2.2327,
          -2.4588,
          -2.6845,
          -2.9025,
          -3.1071,
          -3.2938,
          -3.4514,
          -3.4002,
          -3.3527,
          -3.3095,
          -3.2711,
          -3.238,
          -3.211,
          -3.2572,
          -3.3944,
          -3.5262,
          -3.5368,
          -3.5368,
          -3.3878,
          -3.2195,
          -3.1778,
          -3.1915,
          -3.2066,
          -3.2216,
          -3.2351,
          -3.2457,
          -3.2525,
          -3.2549,
          -3.2549,
          -3.2553,
          -3.2563999999999997,
          -3.2582,
          -3.2582,
          -3.281,
          -3.3138,
          -3.355,
          -3.4027,
          -3.4545,
          -3.5077,
          -3.4135,
          -3.2002,
          -2.9736,
          -2.7382,
          -2.4989,
          -2.2616,
          -2.0332,
          -1.8222,
          -1.6384999999999998,
          -1.4921,
          -1.3914,
          -1.3474,
          -3.2212,
          -3.2231,
          -3.2283,
          -3.2357,
          -3.2441,
          -3.2519,
          -3.2582
         ]
        },
        {
         "mode": "lines",
         "name": "band 13",
         "type": "scatter",
         "x": [
          0,
          0.0478872804126051,
          0.0957745608252102,
          0.1436618412378153,
          0.1915491216504204,
          0.23943640206302552,
          0.2873236824756306,
          0.3352109628882357,
          0.3830982433008408,
          0.4309855237134459,
          0.4788727859288848,
          0.52676006634149,
          0.5746473467540951,
          0.6225346271667003,
          0.6704219075793054,
          0.7183091879919103,
          0.7661964684045154,
          0.8140837488171206,
          0.8619710292297257,
          0.9098583096423308,
          0.9098583096423308,
          0.9569885861732094,
          1.0041188627040878,
          1.0512491392349663,
          1.0983794157658449,
          1.1455096922967234,
          1.1926399376520829,
          1.2397702141829614,
          1.2869004907138402,
          1.3340307672447187,
          1.3811610437755972,
          1.4282913203064758,
          1.4754215968373545,
          1.4754215968373545,
          1.5250822343582693,
          1.5747428718791838,
          1.6244035094000986,
          1.6740641157454943,
          1.7237247532664088,
          1.7733853907873236,
          1.8230460283082381,
          1.872706665829153,
          1.9223673033500674,
          1.9720279096954632,
          2.0216885472163777,
          2.0713491847372922,
          2.121009822258207,
          2.1706704597791213,
          2.220331097300036,
          2.2699917348209504,
          2.319652341166346,
          2.3693129786872604,
          2.418973616208175,
          2.4686342537290895,
          2.4686342537290895,
          2.513249577372131,
          2.5578648929844148,
          2.6024802166274563,
          2.64709553223974,
          2.6917108558827816,
          2.7363261714950653,
          2.780941495138107,
          2.8255568107503906,
          2.870172134393432,
          2.870172134393432,
          2.9184525693424144,
          2.9667330042913966,
          3.015013439240379,
          3.063293874189361,
          3.1115743091383434,
          3.1598547440873257,
          3.208135179036308,
          3.2564156451608093,
          3.3046960801097915,
          3.352976515058774,
          3.401256950007756,
          3.4495373849567383,
          3.497817819905721,
          3.5460982548547033,
          3.5943786898036856,
          3.6426591247526683,
          3.6909395597016506,
          3.739219994650633,
          3.787500429599615,
          3.8357808645485973,
          3.8840612994975796,
          3.932341734446562,
          3.932341734446562,
          3.9820023682373975,
          4.031663002028234,
          4.081323635819069,
          4.130984269609904,
          4.18064490340074,
          4.230305537191575,
          4.279966139806894,
          4.329626773597729,
          4.379287407388564,
          4.4289480411794,
          4.4289480411794,
          4.475495226087596,
          4.522042403298337,
          4.568589588206533,
          4.568589588206533,
          4.61637556013767,
          4.664161532068808,
          4.71194748600075,
          4.759733457931888,
          4.807519429863025,
          4.855305401794163,
          4.9030913737253,
          4.950877345656438,
          4.998663299588381,
          5.046449271519519,
          5.094235243450656,
          5.142021197382599,
          5.189807169313736,
          5.237593141244874,
          5.2853790951768165,
          5.333165067107954,
          5.3809510390390916,
          5.428737010970229,
          5.428737010970229,
          5.4738430574267225,
          5.518949095939828,
          5.564055142396321,
          5.609161180909426,
          5.65426722736592,
          5.699373265879025
         ],
         "y": [
          -1.4143,
          -1.4187999999999998,
          -1.4321,
          -1.4539,
          -1.484,
          -1.5213999999999999,
          -1.5652,
          -1.6140999999999999,
          -1.6663999999999999,
          -1.7205,
          -1.7748,
          -1.8276,
          -1.8775,
          -1.9232,
          -1.9637,
          -1.998,
          -2.0254,
          -2.0454,
          -2.0575,
          -2.0616,
          -2.0616,
          -2.0886,
          -2.1664,
          -2.2866,
          -2.4379999999999997,
          -2.6094,
          -2.7904999999999998,
          -2.9727,
          -3.1489,
          -3.174,
          -3.1654999999999998,
          -3.1598,
          -3.1586,
          -3.1586,
          -3.1645,
          -3.1782,
          -3.0601,
          -2.9089,
          -2.7546999999999997,
          -2.5995999999999997,
          -2.4459,
          -2.2959,
          -2.1519,
          -2.0162,
          -1.8907,
          -1.7771,
          -1.6764,
          -1.589,
          -1.5152999999999999,
          -1.4549999999999998,
          -1.408,
          -1.3743999999999998,
          -1.3540999999999999,
          -1.3474,
          -1.3474,
          -1.3496,
          -1.3558999999999999,
          -1.3654,
          -1.3766,
          -1.3881999999999999,
          -1.3987,
          -1.4071,
          -1.4124999999999999,
          -1.4143,
          -1.4143,
          -1.4187999999999998,
          -1.4324999999999999,
          -1.4562,
          -1.4910999999999999,
          -1.5383,
          -1.5989,
          -1.6735,
          -1.762,
          -1.8637,
          -1.9776,
          -2.1021,
          -2.2353,
          -2.3754,
          -2.5204,
          -2.6684,
          -2.8175,
          -2.9661,
          -3.1121,
          -3.187,
          -3.1721,
          -3.1624,
          -3.1585,
          -3.1585,
          -3.1602,
          -3.1669,
          -3.0372,
          -2.8474,
          -2.6582,
          -2.4793,
          -2.3217,
          -2.1974,
          -2.1174999999999997,
          -2.0898,
          -2.0898,
          -2.0888,
          -2.0857,
          -2.0808,
          -2.0808,
          -2.0704000000000002,
          -2.0513,
          -2.0239000000000003,
          -1.9888,
          -1.9465,
          -1.8979,
          -1.8440999999999999,
          -1.7862,
          -1.7256,
          -1.6638,
          -1.6026,
          -1.5437999999999998,
          -1.4895,
          -1.4415,
          -1.4018,
          -1.3719999999999999,
          -1.3536,
          -1.3474,
          -2.0616,
          -2.0624000000000002,
          -2.0648999999999997,
          -2.0686,
          -2.0728999999999997,
          -2.0772,
          -2.0808
         ]
        },
        {
         "mode": "lines",
         "name": "band 14",
         "type": "scatter",
         "x": [
          0,
          0.0478872804126051,
          0.0957745608252102,
          0.1436618412378153,
          0.1915491216504204,
          0.23943640206302552,
          0.2873236824756306,
          0.3352109628882357,
          0.3830982433008408,
          0.4309855237134459,
          0.4788727859288848,
          0.52676006634149,
          0.5746473467540951,
          0.6225346271667003,
          0.6704219075793054,
          0.7183091879919103,
          0.7661964684045154,
          0.8140837488171206,
          0.8619710292297257,
          0.9098583096423308,
          0.9098583096423308,
          0.9569885861732094,
          1.0041188627040878,
          1.0512491392349663,
          1.0983794157658449,
          1.1455096922967234,
          1.1926399376520829,
          1.2397702141829614,
          1.2869004907138402,
          1.3340307672447187,
          1.3811610437755972,
          1.4282913203064758,
          1.4754215968373545,
          1.4754215968373545,
          1.5250822343582693,
          1.5747428718791838,
          1.6244035094000986,
          1.6740641157454943,
          1.7237247532664088,
          1.7733853907873236,
          1.8230460283082381,
          1.872706665829153,
          1.9223673033500674,
          1.9720279096954632,
          2.0216885472163777,
          2.0713491847372922,
          2.121009822258207,
          2.1706704597791213,
          2.220331097300036,
          2.2699917348209504,
          2.319652341166346,
          2.3693129786872604,
          2.418973616208175,
          2.4686342537290895,
          2.4686342537290895,
          2.513249577372131,
          2.5578648929844148,
          2.6024802166274563,
          2.64709553223974,
          2.6917108558827816,
          2.7363261714950653,
          2.780941495138107,
          2.8255568107503906,
          2.870172134393432,
          2.870172134393432,
          2.9184525693424144,
          2.9667330042913966,
          3.015013439240379,
          3.063293874189361,
          3.1115743091383434,
          3.1598547440873257,
          3.208135179036308,
          3.2564156451608093,
          3.3046960801097915,
          3.352976515058774,
          3.401256950007756,
          3.4495373849567383,
          3.497817819905721,
          3.5460982548547033,
          3.5943786898036856,
          3.6426591247526683,
          3.6909395597016506,
          3.739219994650633,
          3.787500429599615,
          3.8357808645485973,
          3.8840612994975796,
          3.932341734446562,
          3.932341734446562,
          3.9820023682373975,
          4.031663002028234,
          4.081323635819069,
          4.130984269609904,
          4.18064490340074,
          4.230305537191575,
          4.279966139806894,
          4.329626773597729,
          4.379287407388564,
          4.4289480411794,
          4.4289480411794,
          4.475495226087596,
          4.522042403298337,
          4.568589588206533,
          4.568589588206533,
          4.61637556013767,
          4.664161532068808,
          4.71194748600075,
          4.759733457931888,
          4.807519429863025,
          4.855305401794163,
          4.9030913737253,
          4.950877345656438,
          4.998663299588381,
          5.046449271519519,
          5.094235243450656,
          5.142021197382599,
          5.189807169313736,
          5.237593141244874,
          5.2853790951768165,
          5.333165067107954,
          5.3809510390390916,
          5.428737010970229,
          5.428737010970229,
          5.4738430574267225,
          5.518949095939828,
          5.564055142396321,
          5.609161180909426,
          5.65426722736592,
          5.699373265879025
         ],
         "y": [
          -0.7422,
          -0.7387999999999999,
          -0.7286000000000001,
          -0.7117999999999998,
          -0.6886999999999999,
          -0.6595,
          -0.6246999999999998,
          -0.6015000000000001,
          -0.6396999999999999,
          -0.6783999999999999,
          -0.718,
          -0.7614000000000001,
          -0.8098000000000001,
          -0.8628999999999998,
          -0.9186000000000001,
          -0.9737,
          -1.0236999999999998,
          -1.064,
          -1.0901999999999998,
          -1.0993,
          -1.0993,
          -1.0905,
          -1.0646,
          -1.0231,
          -0.968,
          -0.9018000000000002,
          -0.8275000000000001,
          -0.7483999999999997,
          -0.6680999999999999,
          -0.5903,
          -0.5185999999999997,
          -0.45569999999999977,
          -0.5049000000000001,
          -0.5049000000000001,
          -0.5587999999999997,
          -0.6019000000000001,
          -0.6311999999999998,
          -0.6452999999999998,
          -0.6442999999999999,
          -0.6299000000000001,
          -0.6044,
          -0.5709999999999997,
          -0.5326999999999997,
          -0.5756000000000001,
          -0.6656,
          -0.7616,
          -0.8592,
          -0.9539999999999997,
          -1.0419999999999998,
          -1.1198000000000001,
          -1.1846999999999999,
          -1.2356,
          -1.2738,
          -1.2965,
          -1.2965,
          -1.2825,
          -1.2415,
          -1.1767999999999998,
          -1.0937000000000001,
          -0.9996999999999998,
          -0.9047999999999998,
          -0.8214000000000001,
          -0.7631999999999999,
          -0.7422,
          -0.7422,
          -0.7380999999999998,
          -0.7258999999999998,
          -0.706,
          -0.6789999999999998,
          -0.6459999999999999,
          -0.6080000000000001,
          -0.6322000000000001,
          -0.6759,
          -0.7067999999999999,
          -0.7254999999999998,
          -0.7332000000000001,
          -0.7309000000000001,
          -0.7201,
          -0.7020999999999997,
          -0.6783000000000001,
          -0.6499999999999999,
          -0.6185,
          -0.5844999999999998,
          -0.5486999999999997,
          -0.5116,
          -0.4733999999999998,
          -0.47029999999999994,
          -0.47029999999999994,
          -0.516,
          -0.5629999999999997,
          -0.6097000000000001,
          -0.6541999999999999,
          -0.6947999999999999,
          -0.7302,
          -0.7589000000000001,
          -0.7801999999999998,
          -0.7932000000000001,
          -0.7976000000000001,
          -0.7976000000000001,
          -0.8052000000000001,
          -0.827,
          -0.8597000000000001,
          -0.8597000000000001,
          -0.8367999999999998,
          -0.8089,
          -0.7768999999999999,
          -0.7425000000000002,
          -0.7081,
          -0.6783999999999999,
          -0.6619999999999999,
          -0.6734,
          -0.7227000000000001,
          -0.7993999999999999,
          -0.887,
          -0.9750999999999999,
          -1.0575999999999999,
          -1.1305,
          -1.1912,
          -1.2389,
          -1.275,
          -1.2965,
          -1.0993,
          -1.0894,
          -1.0608999999999997,
          -1.0175,
          -0.9649000000000001,
          -0.9098000000000002,
          -0.8597000000000001
         ]
        },
        {
         "mode": "lines",
         "name": "band 15",
         "type": "scatter",
         "x": [
          0,
          0.0478872804126051,
          0.0957745608252102,
          0.1436618412378153,
          0.1915491216504204,
          0.23943640206302552,
          0.2873236824756306,
          0.3352109628882357,
          0.3830982433008408,
          0.4309855237134459,
          0.4788727859288848,
          0.52676006634149,
          0.5746473467540951,
          0.6225346271667003,
          0.6704219075793054,
          0.7183091879919103,
          0.7661964684045154,
          0.8140837488171206,
          0.8619710292297257,
          0.9098583096423308,
          0.9098583096423308,
          0.9569885861732094,
          1.0041188627040878,
          1.0512491392349663,
          1.0983794157658449,
          1.1455096922967234,
          1.1926399376520829,
          1.2397702141829614,
          1.2869004907138402,
          1.3340307672447187,
          1.3811610437755972,
          1.4282913203064758,
          1.4754215968373545,
          1.4754215968373545,
          1.5250822343582693,
          1.5747428718791838,
          1.6244035094000986,
          1.6740641157454943,
          1.7237247532664088,
          1.7733853907873236,
          1.8230460283082381,
          1.872706665829153,
          1.9223673033500674,
          1.9720279096954632,
          2.0216885472163777,
          2.0713491847372922,
          2.121009822258207,
          2.1706704597791213,
          2.220331097300036,
          2.2699917348209504,
          2.319652341166346,
          2.3693129786872604,
          2.418973616208175,
          2.4686342537290895,
          2.4686342537290895,
          2.513249577372131,
          2.5578648929844148,
          2.6024802166274563,
          2.64709553223974,
          2.6917108558827816,
          2.7363261714950653,
          2.780941495138107,
          2.8255568107503906,
          2.870172134393432,
          2.870172134393432,
          2.9184525693424144,
          2.9667330042913966,
          3.015013439240379,
          3.063293874189361,
          3.1115743091383434,
          3.1598547440873257,
          3.208135179036308,
          3.2564156451608093,
          3.3046960801097915,
          3.352976515058774,
          3.401256950007756,
          3.4495373849567383,
          3.497817819905721,
          3.5460982548547033,
          3.5943786898036856,
          3.6426591247526683,
          3.6909395597016506,
          3.739219994650633,
          3.787500429599615,
          3.8357808645485973,
          3.8840612994975796,
          3.932341734446562,
          3.932341734446562,
          3.9820023682373975,
          4.031663002028234,
          4.081323635819069,
          4.130984269609904,
          4.18064490340074,
          4.230305537191575,
          4.279966139806894,
          4.329626773597729,
          4.379287407388564,
          4.4289480411794,
          4.4289480411794,
          4.475495226087596,
          4.522042403298337,
          4.568589588206533,
          4.568589588206533,
          4.61637556013767,
          4.664161532068808,
          4.71194748600075,
          4.759733457931888,
          4.807519429863025,
          4.855305401794163,
          4.9030913737253,
          4.950877345656438,
          4.998663299588381,
          5.046449271519519,
          5.094235243450656,
          5.142021197382599,
          5.189807169313736,
          5.237593141244874,
          5.2853790951768165,
          5.333165067107954,
          5.3809510390390916,
          5.428737010970229,
          5.428737010970229,
          5.4738430574267225,
          5.518949095939828,
          5.564055142396321,
          5.609161180909426,
          5.65426722736592,
          5.699373265879025
         ],
         "y": [
          -0.17490000000000006,
          -0.19709999999999983,
          -0.2559,
          -0.3336000000000001,
          -0.41359999999999975,
          -0.48550000000000004,
          -0.5453000000000001,
          -0.5762999999999998,
          -0.5318,
          -0.4769000000000001,
          -0.41610000000000014,
          -0.35150000000000015,
          -0.2858999999999998,
          -0.2229000000000001,
          -0.16579999999999995,
          -0.11709999999999976,
          -0.09989999999999988,
          -0.09689999999999976,
          -0.09509999999999996,
          -0.09450000000000003,
          -0.09450000000000003,
          -0.09640000000000004,
          -0.10219999999999985,
          -0.11289999999999978,
          -0.12939999999999996,
          -0.1530999999999998,
          -0.18480000000000008,
          -0.22489999999999988,
          -0.2730999999999999,
          -0.3279000000000001,
          -0.387,
          -0.44720000000000004,
          -0.40379999999999994,
          -0.40379999999999994,
          -0.36209999999999987,
          -0.3336000000000001,
          -0.31769999999999987,
          -0.3138000000000001,
          -0.32189999999999985,
          -0.3428,
          -0.3782000000000001,
          -0.4291999999999998,
          -0.4956999999999998,
          -0.4925999999999999,
          -0.45310000000000006,
          -0.4163000000000001,
          -0.3839999999999999,
          -0.35729999999999995,
          -0.3367,
          -0.32189999999999985,
          -0.3123999999999998,
          -0.30689999999999973,
          -0.3043,
          -0.3035000000000001,
          -0.3035000000000001,
          -0.2995000000000001,
          -0.28790000000000004,
          -0.2704,
          -0.2492000000000001,
          -0.2269000000000001,
          -0.20619999999999994,
          -0.18949999999999978,
          -0.17859999999999987,
          -0.17490000000000006,
          -0.17490000000000006,
          -0.1974999999999998,
          -0.25780000000000003,
          -0.33899999999999997,
          -0.42510000000000003,
          -0.5055999999999998,
          -0.5752999999999999,
          -0.5665,
          -0.5230000000000001,
          -0.47909999999999986,
          -0.4367000000000001,
          -0.39759999999999973,
          -0.36370000000000013,
          -0.33679999999999977,
          -0.3182999999999998,
          -0.30909999999999993,
          -0.3092999999999999,
          -0.3184,
          -0.3357999999999999,
          -0.3605999999999998,
          -0.3919999999999999,
          -0.4289999999999998,
          -0.43379999999999974,
          -0.43379999999999974,
          -0.39170000000000016,
          -0.3479000000000001,
          -0.3022999999999998,
          -0.2549999999999999,
          -0.20650000000000013,
          -0.1583000000000001,
          -0.1126999999999998,
          -0.0737000000000001,
          -0.04679999999999973,
          -0.03710000000000013,
          -0.03710000000000013,
          -0.03839999999999977,
          -0.04249999999999998,
          -0.048799999999999955,
          -0.048799999999999955,
          -0.04820000000000002,
          -0.050599999999999756,
          -0.08930000000000016,
          -0.14129999999999976,
          -0.20359999999999978,
          -0.27170000000000005,
          -0.3363999999999998,
          -0.3818999999999999,
          -0.3965000000000001,
          -0.3881000000000001,
          -0.37060000000000004,
          -0.3517000000000001,
          -0.33489999999999975,
          -0.3216999999999999,
          -0.3123999999999998,
          -0.30689999999999973,
          -0.3041999999999998,
          -0.3035000000000001,
          -0.09450000000000003,
          -0.09260000000000002,
          -0.08689999999999998,
          -0.07850000000000001,
          -0.0682999999999998,
          -0.05799999999999983,
          -0.048799999999999955
         ]
        },
        {
         "mode": "lines",
         "name": "band 16",
         "type": "scatter",
         "x": [
          0,
          0.0478872804126051,
          0.0957745608252102,
          0.1436618412378153,
          0.1915491216504204,
          0.23943640206302552,
          0.2873236824756306,
          0.3352109628882357,
          0.3830982433008408,
          0.4309855237134459,
          0.4788727859288848,
          0.52676006634149,
          0.5746473467540951,
          0.6225346271667003,
          0.6704219075793054,
          0.7183091879919103,
          0.7661964684045154,
          0.8140837488171206,
          0.8619710292297257,
          0.9098583096423308,
          0.9098583096423308,
          0.9569885861732094,
          1.0041188627040878,
          1.0512491392349663,
          1.0983794157658449,
          1.1455096922967234,
          1.1926399376520829,
          1.2397702141829614,
          1.2869004907138402,
          1.3340307672447187,
          1.3811610437755972,
          1.4282913203064758,
          1.4754215968373545,
          1.4754215968373545,
          1.5250822343582693,
          1.5747428718791838,
          1.6244035094000986,
          1.6740641157454943,
          1.7237247532664088,
          1.7733853907873236,
          1.8230460283082381,
          1.872706665829153,
          1.9223673033500674,
          1.9720279096954632,
          2.0216885472163777,
          2.0713491847372922,
          2.121009822258207,
          2.1706704597791213,
          2.220331097300036,
          2.2699917348209504,
          2.319652341166346,
          2.3693129786872604,
          2.418973616208175,
          2.4686342537290895,
          2.4686342537290895,
          2.513249577372131,
          2.5578648929844148,
          2.6024802166274563,
          2.64709553223974,
          2.6917108558827816,
          2.7363261714950653,
          2.780941495138107,
          2.8255568107503906,
          2.870172134393432,
          2.870172134393432,
          2.9184525693424144,
          2.9667330042913966,
          3.015013439240379,
          3.063293874189361,
          3.1115743091383434,
          3.1598547440873257,
          3.208135179036308,
          3.2564156451608093,
          3.3046960801097915,
          3.352976515058774,
          3.401256950007756,
          3.4495373849567383,
          3.497817819905721,
          3.5460982548547033,
          3.5943786898036856,
          3.6426591247526683,
          3.6909395597016506,
          3.739219994650633,
          3.787500429599615,
          3.8357808645485973,
          3.8840612994975796,
          3.932341734446562,
          3.932341734446562,
          3.9820023682373975,
          4.031663002028234,
          4.081323635819069,
          4.130984269609904,
          4.18064490340074,
          4.230305537191575,
          4.279966139806894,
          4.329626773597729,
          4.379287407388564,
          4.4289480411794,
          4.4289480411794,
          4.475495226087596,
          4.522042403298337,
          4.568589588206533,
          4.568589588206533,
          4.61637556013767,
          4.664161532068808,
          4.71194748600075,
          4.759733457931888,
          4.807519429863025,
          4.855305401794163,
          4.9030913737253,
          4.950877345656438,
          4.998663299588381,
          5.046449271519519,
          5.094235243450656,
          5.142021197382599,
          5.189807169313736,
          5.237593141244874,
          5.2853790951768165,
          5.333165067107954,
          5.3809510390390916,
          5.428737010970229,
          5.428737010970229,
          5.4738430574267225,
          5.518949095939828,
          5.564055142396321,
          5.609161180909426,
          5.65426722736592,
          5.699373265879025
         ],
         "y": [
          -0.17490000000000006,
          -0.1751999999999998,
          -0.17589999999999995,
          -0.1766000000000001,
          -0.1764000000000001,
          -0.17490000000000006,
          -0.17149999999999999,
          -0.1661999999999999,
          -0.1591999999999998,
          -0.1509999999999998,
          -0.14210000000000012,
          -0.133,
          -0.12440000000000007,
          -0.11649999999999983,
          -0.1097999999999999,
          -0.10420000000000007,
          -0.07869999999999999,
          -0.0512999999999999,
          -0.03500000000000014,
          -0.02950000000000008,
          -0.02950000000000008,
          -0.02859999999999996,
          -0.02619999999999978,
          -0.0230999999999999,
          -0.020399999999999974,
          -0.01849999999999996,
          -0.01770000000000005,
          -0.017799999999999816,
          -0.01839999999999975,
          -0.019000000000000128,
          -0.019400000000000084,
          -0.019299999999999873,
          -0.01880000000000015,
          -0.01880000000000015,
          -0.018299999999999983,
          -0.019099999999999895,
          -0.02259999999999973,
          -0.030100000000000016,
          -0.042100000000000026,
          -0.05819999999999981,
          -0.07739999999999991,
          -0.0979000000000001,
          -0.1187999999999998,
          -0.13980000000000015,
          -0.16089999999999982,
          -0.1823999999999999,
          -0.20389999999999997,
          -0.22520000000000007,
          -0.24549999999999983,
          -0.2639999999999998,
          -0.2799999999999998,
          -0.2925,
          -0.30069999999999997,
          -0.3035000000000001,
          -0.3035000000000001,
          -0.2995000000000001,
          -0.28790000000000004,
          -0.2704,
          -0.2492000000000001,
          -0.2269000000000001,
          -0.20619999999999994,
          -0.18949999999999978,
          -0.17859999999999987,
          -0.17490000000000006,
          -0.17490000000000006,
          -0.1755,
          -0.1772999999999998,
          -0.17939999999999978,
          -0.18080000000000007,
          -0.18040000000000012,
          -0.17720000000000002,
          -0.17070000000000007,
          -0.16100000000000003,
          -0.14849999999999985,
          -0.13390000000000013,
          -0.11830000000000007,
          -0.10219999999999985,
          -0.08639999999999981,
          -0.07109999999999994,
          -0.05699999999999994,
          -0.04469999999999974,
          -0.034800000000000164,
          -0.027699999999999836,
          -0.02320000000000011,
          -0.02079999999999993,
          -0.019600000000000062,
          -0.019000000000000128,
          -0.019000000000000128,
          -0.018199999999999772,
          -0.016900000000000137,
          -0.014899999999999913,
          -0.012399999999999967,
          -0.009500000000000064,
          -0.006600000000000161,
          -0.0038999999999997925,
          -0.0017999999999998018,
          -0.00039999999999995595,
          0,
          0,
          -0.001100000000000101,
          -0.0043999999999999595,
          -0.009700000000000042,
          -0.009700000000000042,
          -0.02289999999999992,
          -0.0495000000000001,
          -0.05600000000000005,
          -0.06449999999999978,
          -0.07620000000000005,
          -0.09099999999999975,
          -0.10860000000000003,
          -0.12880000000000003,
          -0.15090000000000003,
          -0.1743999999999999,
          -0.1983999999999999,
          -0.22189999999999976,
          -0.24409999999999998,
          -0.2639999999999998,
          -0.28059999999999974,
          -0.2930999999999999,
          -0.30079999999999973,
          -0.3035000000000001,
          -0.02950000000000008,
          -0.028699999999999726,
          -0.026399999999999757,
          -0.02289999999999992,
          -0.01839999999999975,
          -0.013700000000000045,
          -0.009700000000000042
         ]
        },
        {
         "mode": "lines",
         "name": "band 17",
         "type": "scatter",
         "x": [
          0,
          0.0478872804126051,
          0.0957745608252102,
          0.1436618412378153,
          0.1915491216504204,
          0.23943640206302552,
          0.2873236824756306,
          0.3352109628882357,
          0.3830982433008408,
          0.4309855237134459,
          0.4788727859288848,
          0.52676006634149,
          0.5746473467540951,
          0.6225346271667003,
          0.6704219075793054,
          0.7183091879919103,
          0.7661964684045154,
          0.8140837488171206,
          0.8619710292297257,
          0.9098583096423308,
          0.9098583096423308,
          0.9569885861732094,
          1.0041188627040878,
          1.0512491392349663,
          1.0983794157658449,
          1.1455096922967234,
          1.1926399376520829,
          1.2397702141829614,
          1.2869004907138402,
          1.3340307672447187,
          1.3811610437755972,
          1.4282913203064758,
          1.4754215968373545,
          1.4754215968373545,
          1.5250822343582693,
          1.5747428718791838,
          1.6244035094000986,
          1.6740641157454943,
          1.7237247532664088,
          1.7733853907873236,
          1.8230460283082381,
          1.872706665829153,
          1.9223673033500674,
          1.9720279096954632,
          2.0216885472163777,
          2.0713491847372922,
          2.121009822258207,
          2.1706704597791213,
          2.220331097300036,
          2.2699917348209504,
          2.319652341166346,
          2.3693129786872604,
          2.418973616208175,
          2.4686342537290895,
          2.4686342537290895,
          2.513249577372131,
          2.5578648929844148,
          2.6024802166274563,
          2.64709553223974,
          2.6917108558827816,
          2.7363261714950653,
          2.780941495138107,
          2.8255568107503906,
          2.870172134393432,
          2.870172134393432,
          2.9184525693424144,
          2.9667330042913966,
          3.015013439240379,
          3.063293874189361,
          3.1115743091383434,
          3.1598547440873257,
          3.208135179036308,
          3.2564156451608093,
          3.3046960801097915,
          3.352976515058774,
          3.401256950007756,
          3.4495373849567383,
          3.497817819905721,
          3.5460982548547033,
          3.5943786898036856,
          3.6426591247526683,
          3.6909395597016506,
          3.739219994650633,
          3.787500429599615,
          3.8357808645485973,
          3.8840612994975796,
          3.932341734446562,
          3.932341734446562,
          3.9820023682373975,
          4.031663002028234,
          4.081323635819069,
          4.130984269609904,
          4.18064490340074,
          4.230305537191575,
          4.279966139806894,
          4.329626773597729,
          4.379287407388564,
          4.4289480411794,
          4.4289480411794,
          4.475495226087596,
          4.522042403298337,
          4.568589588206533,
          4.568589588206533,
          4.61637556013767,
          4.664161532068808,
          4.71194748600075,
          4.759733457931888,
          4.807519429863025,
          4.855305401794163,
          4.9030913737253,
          4.950877345656438,
          4.998663299588381,
          5.046449271519519,
          5.094235243450656,
          5.142021197382599,
          5.189807169313736,
          5.237593141244874,
          5.2853790951768165,
          5.333165067107954,
          5.3809510390390916,
          5.428737010970229,
          5.428737010970229,
          5.4738430574267225,
          5.518949095939828,
          5.564055142396321,
          5.609161180909426,
          5.65426722736592,
          5.699373265879025
         ],
         "y": [
          1.7923,
          1.8239,
          1.9124999999999996,
          2.0438,
          2.2028,
          2.3771000000000004,
          2.5555000000000003,
          2.7229,
          2.8326000000000002,
          2.8106,
          2.7380000000000004,
          2.6691000000000003,
          2.6124,
          2.5682,
          2.5349000000000004,
          2.5105000000000004,
          2.4934000000000003,
          2.482,
          2.4755000000000003,
          2.4734,
          2.4734,
          2.4835000000000003,
          2.5136000000000003,
          2.5629999999999997,
          2.6304999999999996,
          2.7141,
          2.8106999999999998,
          2.9147999999999996,
          3.0181000000000004,
          3.1073000000000004,
          3.1666999999999996,
          3.1619,
          3.0823,
          3.0823,
          2.9981,
          2.9143999999999997,
          2.8342,
          2.7618,
          2.702,
          2.6599000000000004,
          2.6394,
          2.6433999999999997,
          2.6734,
          2.7294,
          2.8102,
          2.9132,
          3.0351,
          3.1711,
          3.3148,
          3.4564000000000004,
          3.5793,
          3.6289,
          3.5919,
          3.5793,
          3.5793,
          3.439,
          3.1726,
          2.885,
          2.6046000000000005,
          2.346,
          2.1219,
          1.9457000000000004,
          1.8318000000000003,
          1.7923,
          1.7923,
          1.8241000000000005,
          1.9138000000000002,
          2.0479000000000003,
          2.2125000000000004,
          2.3966000000000003,
          2.5915999999999997,
          2.79,
          2.9852,
          2.9519,
          2.8808,
          2.8365,
          2.8196000000000003,
          2.83,
          2.8669000000000002,
          2.9291,
          3.0147000000000004,
          3.1218000000000004,
          3.2009999999999996,
          3.1581,
          3.1241000000000003,
          3.0972999999999997,
          3.0734000000000004,
          3.0734000000000004,
          3.0286999999999997,
          2.9135999999999997,
          2.7617000000000003,
          2.6021,
          2.4444999999999997,
          2.2958,
          2.1633000000000004,
          2.0563000000000002,
          1.9855999999999998,
          1.9607,
          1.9607,
          1.9702000000000002,
          1.9980000000000002,
          2.0427999999999997,
          2.0427999999999997,
          2.0331,
          2.0442,
          2.0766,
          2.1303,
          2.2045000000000003,
          2.2981,
          2.4093,
          2.5362,
          2.6765,
          2.8276000000000003,
          2.9863999999999997,
          3.149,
          3.3097000000000003,
          3.4596999999999998,
          3.583,
          3.6243,
          3.591,
          3.5793,
          2.4734,
          2.4486,
          2.3829000000000002,
          2.2948000000000004,
          2.2011000000000003,
          2.1140999999999996,
          2.0427999999999997
         ]
        },
        {
         "mode": "lines",
         "name": "band 18",
         "type": "scatter",
         "x": [
          0,
          0.0478872804126051,
          0.0957745608252102,
          0.1436618412378153,
          0.1915491216504204,
          0.23943640206302552,
          0.2873236824756306,
          0.3352109628882357,
          0.3830982433008408,
          0.4309855237134459,
          0.4788727859288848,
          0.52676006634149,
          0.5746473467540951,
          0.6225346271667003,
          0.6704219075793054,
          0.7183091879919103,
          0.7661964684045154,
          0.8140837488171206,
          0.8619710292297257,
          0.9098583096423308,
          0.9098583096423308,
          0.9569885861732094,
          1.0041188627040878,
          1.0512491392349663,
          1.0983794157658449,
          1.1455096922967234,
          1.1926399376520829,
          1.2397702141829614,
          1.2869004907138402,
          1.3340307672447187,
          1.3811610437755972,
          1.4282913203064758,
          1.4754215968373545,
          1.4754215968373545,
          1.5250822343582693,
          1.5747428718791838,
          1.6244035094000986,
          1.6740641157454943,
          1.7237247532664088,
          1.7733853907873236,
          1.8230460283082381,
          1.872706665829153,
          1.9223673033500674,
          1.9720279096954632,
          2.0216885472163777,
          2.0713491847372922,
          2.121009822258207,
          2.1706704597791213,
          2.220331097300036,
          2.2699917348209504,
          2.319652341166346,
          2.3693129786872604,
          2.418973616208175,
          2.4686342537290895,
          2.4686342537290895,
          2.513249577372131,
          2.5578648929844148,
          2.6024802166274563,
          2.64709553223974,
          2.6917108558827816,
          2.7363261714950653,
          2.780941495138107,
          2.8255568107503906,
          2.870172134393432,
          2.870172134393432,
          2.9184525693424144,
          2.9667330042913966,
          3.015013439240379,
          3.063293874189361,
          3.1115743091383434,
          3.1598547440873257,
          3.208135179036308,
          3.2564156451608093,
          3.3046960801097915,
          3.352976515058774,
          3.401256950007756,
          3.4495373849567383,
          3.497817819905721,
          3.5460982548547033,
          3.5943786898036856,
          3.6426591247526683,
          3.6909395597016506,
          3.739219994650633,
          3.787500429599615,
          3.8357808645485973,
          3.8840612994975796,
          3.932341734446562,
          3.932341734446562,
          3.9820023682373975,
          4.031663002028234,
          4.081323635819069,
          4.130984269609904,
          4.18064490340074,
          4.230305537191575,
          4.279966139806894,
          4.329626773597729,
          4.379287407388564,
          4.4289480411794,
          4.4289480411794,
          4.475495226087596,
          4.522042403298337,
          4.568589588206533,
          4.568589588206533,
          4.61637556013767,
          4.664161532068808,
          4.71194748600075,
          4.759733457931888,
          4.807519429863025,
          4.855305401794163,
          4.9030913737253,
          4.950877345656438,
          4.998663299588381,
          5.046449271519519,
          5.094235243450656,
          5.142021197382599,
          5.189807169313736,
          5.237593141244874,
          5.2853790951768165,
          5.333165067107954,
          5.3809510390390916,
          5.428737010970229,
          5.428737010970229,
          5.4738430574267225,
          5.518949095939828,
          5.564055142396321,
          5.609161180909426,
          5.65426722736592,
          5.699373265879025
         ],
         "y": [
          3.917,
          3.9466,
          3.9684999999999997,
          3.8098,
          3.6302000000000003,
          3.4552000000000005,
          3.2948000000000004,
          3.1612999999999998,
          3.0971,
          3.1711,
          3.295,
          3.4073,
          3.4907000000000004,
          3.5343,
          3.5353000000000003,
          3.5102,
          3.4789000000000003,
          3.4522000000000004,
          3.4349,
          3.4288999999999996,
          3.4288999999999996,
          3.4442000000000004,
          3.4833,
          3.5328,
          3.5833000000000004,
          3.6298000000000004,
          3.5942,
          3.5018000000000002,
          3.4110000000000005,
          3.3246,
          3.2420999999999998,
          3.1887,
          3.1817,
          3.1817,
          3.1604,
          3.1393000000000004,
          3.1271000000000004,
          3.1290000000000004,
          3.1477000000000004,
          3.1851000000000003,
          3.2419000000000002,
          3.3179999999999996,
          3.4120999999999997,
          3.521,
          3.6390000000000002,
          3.7553,
          3.8466000000000005,
          3.8734,
          3.8304,
          3.7586000000000004,
          3.6868,
          3.6578,
          3.6805000000000003,
          3.6801000000000004,
          3.6801000000000004,
          3.6858000000000004,
          3.7015000000000002,
          3.7267,
          3.76,
          3.7991,
          3.8405000000000005,
          3.8787000000000003,
          3.9066,
          3.917,
          3.917,
          3.9486999999999997,
          3.9962999999999997,
          3.8239,
          3.6449,
          3.4717000000000002,
          3.3116000000000003,
          3.1695,
          3.0487,
          3.1699,
          3.3369,
          3.4789000000000003,
          3.5896,
          3.5764000000000005,
          3.4777000000000005,
          3.3912000000000004,
          3.3167,
          3.2536000000000005,
          3.248,
          3.3912000000000004,
          3.4688,
          3.3678,
          3.2541,
          3.2541,
          3.1486,
          3.1082,
          3.1029,
          3.1077000000000004,
          3.1165000000000003,
          3.1264000000000003,
          3.1357,
          3.143,
          3.1475,
          3.1491,
          3.1491,
          3.1616999999999997,
          3.1978999999999997,
          3.2526,
          3.2526,
          3.2819000000000003,
          3.3045,
          3.3190999999999997,
          3.3304,
          3.3465,
          3.3752000000000004,
          3.4219999999999997,
          3.4894,
          3.5769,
          3.6809000000000003,
          3.7933000000000003,
          3.8849,
          3.8409000000000004,
          3.7579000000000002,
          3.6845999999999997,
          3.6619,
          3.6806,
          3.6801000000000004,
          3.4288999999999996,
          3.4293000000000005,
          3.4219,
          3.3962000000000003,
          3.3539000000000003,
          3.3034,
          3.2526
         ]
        },
        {
         "mode": "lines",
         "name": "band 19",
         "type": "scatter",
         "x": [
          0,
          0.0478872804126051,
          0.0957745608252102,
          0.1436618412378153,
          0.1915491216504204,
          0.23943640206302552,
          0.2873236824756306,
          0.3352109628882357,
          0.3830982433008408,
          0.4309855237134459,
          0.4788727859288848,
          0.52676006634149,
          0.5746473467540951,
          0.6225346271667003,
          0.6704219075793054,
          0.7183091879919103,
          0.7661964684045154,
          0.8140837488171206,
          0.8619710292297257,
          0.9098583096423308,
          0.9098583096423308,
          0.9569885861732094,
          1.0041188627040878,
          1.0512491392349663,
          1.0983794157658449,
          1.1455096922967234,
          1.1926399376520829,
          1.2397702141829614,
          1.2869004907138402,
          1.3340307672447187,
          1.3811610437755972,
          1.4282913203064758,
          1.4754215968373545,
          1.4754215968373545,
          1.5250822343582693,
          1.5747428718791838,
          1.6244035094000986,
          1.6740641157454943,
          1.7237247532664088,
          1.7733853907873236,
          1.8230460283082381,
          1.872706665829153,
          1.9223673033500674,
          1.9720279096954632,
          2.0216885472163777,
          2.0713491847372922,
          2.121009822258207,
          2.1706704597791213,
          2.220331097300036,
          2.2699917348209504,
          2.319652341166346,
          2.3693129786872604,
          2.418973616208175,
          2.4686342537290895,
          2.4686342537290895,
          2.513249577372131,
          2.5578648929844148,
          2.6024802166274563,
          2.64709553223974,
          2.6917108558827816,
          2.7363261714950653,
          2.780941495138107,
          2.8255568107503906,
          2.870172134393432,
          2.870172134393432,
          2.9184525693424144,
          2.9667330042913966,
          3.015013439240379,
          3.063293874189361,
          3.1115743091383434,
          3.1598547440873257,
          3.208135179036308,
          3.2564156451608093,
          3.3046960801097915,
          3.352976515058774,
          3.401256950007756,
          3.4495373849567383,
          3.497817819905721,
          3.5460982548547033,
          3.5943786898036856,
          3.6426591247526683,
          3.6909395597016506,
          3.739219994650633,
          3.787500429599615,
          3.8357808645485973,
          3.8840612994975796,
          3.932341734446562,
          3.932341734446562,
          3.9820023682373975,
          4.031663002028234,
          4.081323635819069,
          4.130984269609904,
          4.18064490340074,
          4.230305537191575,
          4.279966139806894,
          4.329626773597729,
          4.379287407388564,
          4.4289480411794,
          4.4289480411794,
          4.475495226087596,
          4.522042403298337,
          4.568589588206533,
          4.568589588206533,
          4.61637556013767,
          4.664161532068808,
          4.71194748600075,
          4.759733457931888,
          4.807519429863025,
          4.855305401794163,
          4.9030913737253,
          4.950877345656438,
          4.998663299588381,
          5.046449271519519,
          5.094235243450656,
          5.142021197382599,
          5.189807169313736,
          5.237593141244874,
          5.2853790951768165,
          5.333165067107954,
          5.3809510390390916,
          5.428737010970229,
          5.428737010970229,
          5.4738430574267225,
          5.518949095939828,
          5.564055142396321,
          5.609161180909426,
          5.65426722736592,
          5.699373265879025
         ],
         "y": [
          4.1987,
          4.1401,
          4.0671,
          4.1832,
          4.311,
          4.378,
          4.373,
          4.3255,
          4.2557,
          4.1731,
          4.084,
          3.9958,
          3.9211,
          3.8765,
          3.8715,
          3.8933999999999997,
          3.9203,
          3.9348,
          3.9383999999999997,
          3.9392000000000005,
          3.9392000000000005,
          3.9621000000000004,
          3.9409,
          3.8749000000000002,
          3.7919,
          3.7035,
          3.6948999999999996,
          3.7464000000000004,
          3.8030999999999997,
          3.8632,
          3.9265,
          3.9935,
          4.0642000000000005,
          4.0642000000000005,
          4.1415,
          4.2182,
          4.2866,
          4.336,
          4.3561,
          4.3432,
          4.3036,
          4.2491,
          4.192,
          4.1421,
          4.1056,
          4.0853,
          4.0811,
          4.0888,
          4.101,
          4.1065000000000005,
          4.0984,
          4.0937,
          4.1162,
          4.1352,
          4.1352,
          4.2562,
          4.3937,
          4.3587,
          4.3191,
          4.2804,
          4.2465,
          4.2205,
          4.2042,
          4.1987,
          4.1987,
          4.1377,
          4.0355,
          4.1479,
          4.2463,
          4.3229,
          4.3656,
          4.3334,
          4.2259,
          4.0884,
          3.9475,
          3.8129999999999997,
          3.6895,
          3.6673999999999998,
          3.7089999999999996,
          3.7202,
          3.7062,
          3.6719999999999997,
          3.6207000000000003,
          3.5530999999999997,
          3.5484999999999998,
          3.7169999999999996,
          3.8914999999999997,
          3.8914999999999997,
          4.0678,
          4.2243,
          4.353,
          4.4688,
          4.5867,
          4.3985,
          4.2242,
          4.0872,
          3.9999000000000002,
          3.9699999999999998,
          3.9699999999999998,
          3.9634,
          3.9459999999999997,
          3.9237,
          3.9237,
          3.8852,
          3.8657000000000004,
          3.8669000000000002,
          3.8859000000000004,
          3.9171000000000005,
          3.9552000000000005,
          3.9953000000000003,
          4.0327,
          4.0592,
          4.0609,
          4.0248,
          3.9737999999999998,
          4.0258,
          4.0805,
          4.0933,
          4.0943000000000005,
          4.1174,
          4.1352,
          3.9392000000000005,
          3.9448999999999996,
          3.9469000000000003,
          3.9404000000000003,
          3.9314,
          3.9245,
          3.9237
         ]
        },
        {
         "mode": "lines",
         "name": "band 20",
         "type": "scatter",
         "x": [
          0,
          0.0478872804126051,
          0.0957745608252102,
          0.1436618412378153,
          0.1915491216504204,
          0.23943640206302552,
          0.2873236824756306,
          0.3352109628882357,
          0.3830982433008408,
          0.4309855237134459,
          0.4788727859288848,
          0.52676006634149,
          0.5746473467540951,
          0.6225346271667003,
          0.6704219075793054,
          0.7183091879919103,
          0.7661964684045154,
          0.8140837488171206,
          0.8619710292297257,
          0.9098583096423308,
          0.9098583096423308,
          0.9569885861732094,
          1.0041188627040878,
          1.0512491392349663,
          1.0983794157658449,
          1.1455096922967234,
          1.1926399376520829,
          1.2397702141829614,
          1.2869004907138402,
          1.3340307672447187,
          1.3811610437755972,
          1.4282913203064758,
          1.4754215968373545,
          1.4754215968373545,
          1.5250822343582693,
          1.5747428718791838,
          1.6244035094000986,
          1.6740641157454943,
          1.7237247532664088,
          1.7733853907873236,
          1.8230460283082381,
          1.872706665829153,
          1.9223673033500674,
          1.9720279096954632,
          2.0216885472163777,
          2.0713491847372922,
          2.121009822258207,
          2.1706704597791213,
          2.220331097300036,
          2.2699917348209504,
          2.319652341166346,
          2.3693129786872604,
          2.418973616208175,
          2.4686342537290895,
          2.4686342537290895,
          2.513249577372131,
          2.5578648929844148,
          2.6024802166274563,
          2.64709553223974,
          2.6917108558827816,
          2.7363261714950653,
          2.780941495138107,
          2.8255568107503906,
          2.870172134393432,
          2.870172134393432,
          2.9184525693424144,
          2.9667330042913966,
          3.015013439240379,
          3.063293874189361,
          3.1115743091383434,
          3.1598547440873257,
          3.208135179036308,
          3.2564156451608093,
          3.3046960801097915,
          3.352976515058774,
          3.401256950007756,
          3.4495373849567383,
          3.497817819905721,
          3.5460982548547033,
          3.5943786898036856,
          3.6426591247526683,
          3.6909395597016506,
          3.739219994650633,
          3.787500429599615,
          3.8357808645485973,
          3.8840612994975796,
          3.932341734446562,
          3.932341734446562,
          3.9820023682373975,
          4.031663002028234,
          4.081323635819069,
          4.130984269609904,
          4.18064490340074,
          4.230305537191575,
          4.279966139806894,
          4.329626773597729,
          4.379287407388564,
          4.4289480411794,
          4.4289480411794,
          4.475495226087596,
          4.522042403298337,
          4.568589588206533,
          4.568589588206533,
          4.61637556013767,
          4.664161532068808,
          4.71194748600075,
          4.759733457931888,
          4.807519429863025,
          4.855305401794163,
          4.9030913737253,
          4.950877345656438,
          4.998663299588381,
          5.046449271519519,
          5.094235243450656,
          5.142021197382599,
          5.189807169313736,
          5.237593141244874,
          5.2853790951768165,
          5.333165067107954,
          5.3809510390390916,
          5.428737010970229,
          5.428737010970229,
          5.4738430574267225,
          5.518949095939828,
          5.564055142396321,
          5.609161180909426,
          5.65426722736592,
          5.699373265879025
         ],
         "y": [
          4.1987,
          4.2124,
          4.2532,
          4.3196,
          4.4094,
          4.519,
          4.6434,
          4.7747,
          4.6248000000000005,
          4.4845,
          4.3604,
          4.2542,
          4.1652000000000005,
          4.0924000000000005,
          4.0365,
          3.9989999999999997,
          3.9818,
          3.9869000000000003,
          4.0007,
          4.0067,
          4.0067,
          3.9979000000000005,
          4.0665000000000004,
          4.2238,
          4.4454,
          4.57,
          4.3945,
          4.2441,
          4.1273,
          4.0558,
          4.0426,
          4.0916,
          4.1889,
          4.1889,
          4.3184000000000005,
          4.4497,
          4.5595,
          4.627,
          4.6404,
          4.6058,
          4.543,
          4.4715,
          4.4042,
          4.347,
          4.3005,
          4.2628,
          4.2412,
          4.2673,
          4.3448,
          4.4192,
          4.4456,
          4.4409,
          4.4313,
          4.4272,
          4.4272,
          4.4183,
          4.3937,
          4.3587,
          4.3191,
          4.2804,
          4.2466,
          4.2205,
          4.2042,
          4.1987,
          4.1987,
          4.212,
          4.2559000000000005,
          4.3468,
          4.5038,
          4.7044,
          4.7981,
          4.8385,
          4.877300000000001,
          4.9026000000000005,
          4.8913,
          4.8235,
          4.7147,
          4.5938,
          4.4786,
          4.3786000000000005,
          4.2989,
          4.2419,
          4.2084,
          4.1976,
          4.208,
          4.2385,
          4.2896,
          4.2896,
          4.3694,
          4.49,
          4.6565,
          4.792,
          4.5937,
          4.712,
          4.8436,
          4.972700000000001,
          5.0782,
          5.121899999999999,
          5.121899999999999,
          5.080100000000001,
          4.967,
          4.8106,
          4.8106,
          4.882000000000001,
          4.9593,
          5.037400000000001,
          5.106000000000001,
          5.0401,
          4.957400000000001,
          4.8793999999999995,
          4.7844,
          4.6651,
          4.5769,
          4.5386,
          4.5518,
          4.5275,
          4.4915,
          4.4632,
          4.4431,
          4.4312000000000005,
          4.4272,
          4.0067,
          4.0259,
          4.1006,
          4.2338000000000005,
          4.4091000000000005,
          4.6079,
          4.8106
         ]
        },
        {
         "line": {
          "color": "red",
          "width": 3
         },
         "mode": "lines+markers",
         "name": "Max Dispersion VBM (Bande 16)",
         "type": "scatter",
         "x": [
          4.568589588206533,
          5.428737010970229
         ],
         "y": [
          -0.009700000000000042,
          -0.3035000000000001
         ]
        },
        {
         "line": {
          "color": "green",
          "width": 3
         },
         "mode": "lines+markers",
         "name": "Min Dispersion VBM (Bande 16)",
         "type": "scatter",
         "x": [
          4.4289480411794,
          4.568589588206533
         ],
         "y": [
          0,
          -0.009700000000000042
         ]
        },
        {
         "line": {
          "color": "blue",
          "width": 3
         },
         "mode": "lines+markers",
         "name": "Max Dispersion CBM (Bande 17)",
         "type": "scatter",
         "x": [
          2.4686342537290895,
          2.870172134393432
         ],
         "y": [
          3.5793,
          1.7923
         ]
        },
        {
         "line": {
          "color": "purple",
          "width": 3
         },
         "mode": "lines+markers",
         "name": "Min Dispersion CBM (Bande 17)",
         "type": "scatter",
         "x": [
          4.4289480411794,
          4.568589588206533
         ],
         "y": [
          1.9607,
          2.0427999999999997
         ]
        }
       ],
       "layout": {
        "shapes": [
         {
          "line": {
           "color": "black",
           "width": 1
          },
          "type": "line",
          "x0": 0.9098583096423308,
          "x1": 0.9098583096423308,
          "xref": "x",
          "y0": 0,
          "y1": 1,
          "yref": "y domain"
         },
         {
          "line": {
           "color": "black",
           "width": 1
          },
          "type": "line",
          "x0": 1.4754215968373545,
          "x1": 1.4754215968373545,
          "xref": "x",
          "y0": 0,
          "y1": 1,
          "yref": "y domain"
         },
         {
          "line": {
           "color": "black",
           "width": 1
          },
          "type": "line",
          "x0": 2.4686342537290895,
          "x1": 2.4686342537290895,
          "xref": "x",
          "y0": 0,
          "y1": 1,
          "yref": "y domain"
         },
         {
          "line": {
           "color": "black",
           "width": 1
          },
          "type": "line",
          "x0": 2.870172134393432,
          "x1": 2.870172134393432,
          "xref": "x",
          "y0": 0,
          "y1": 1,
          "yref": "y domain"
         },
         {
          "line": {
           "color": "black",
           "width": 1
          },
          "type": "line",
          "x0": 3.932341734446562,
          "x1": 3.932341734446562,
          "xref": "x",
          "y0": 0,
          "y1": 1,
          "yref": "y domain"
         },
         {
          "line": {
           "color": "black",
           "width": 1
          },
          "type": "line",
          "x0": 4.4289480411794,
          "x1": 4.4289480411794,
          "xref": "x",
          "y0": 0,
          "y1": 1,
          "yref": "y domain"
         },
         {
          "line": {
           "color": "black",
           "width": 1
          },
          "type": "line",
          "x0": 4.568589588206533,
          "x1": 4.568589588206533,
          "xref": "x",
          "y0": 0,
          "y1": 1,
          "yref": "y domain"
         },
         {
          "line": {
           "color": "black",
           "width": 1
          },
          "type": "line",
          "x0": 5.428737010970229,
          "x1": 5.428737010970229,
          "xref": "x",
          "y0": 0,
          "y1": 1,
          "yref": "y domain"
         }
        ],
        "template": {
         "data": {
          "bar": [
           {
            "error_x": {
             "color": "#2a3f5f"
            },
            "error_y": {
             "color": "#2a3f5f"
            },
            "marker": {
             "line": {
              "color": "#E5ECF6",
              "width": 0.5
             },
             "pattern": {
              "fillmode": "overlay",
              "size": 10,
              "solidity": 0.2
             }
            },
            "type": "bar"
           }
          ],
          "barpolar": [
           {
            "marker": {
             "line": {
              "color": "#E5ECF6",
              "width": 0.5
             },
             "pattern": {
              "fillmode": "overlay",
              "size": 10,
              "solidity": 0.2
             }
            },
            "type": "barpolar"
           }
          ],
          "carpet": [
           {
            "aaxis": {
             "endlinecolor": "#2a3f5f",
             "gridcolor": "white",
             "linecolor": "white",
             "minorgridcolor": "white",
             "startlinecolor": "#2a3f5f"
            },
            "baxis": {
             "endlinecolor": "#2a3f5f",
             "gridcolor": "white",
             "linecolor": "white",
             "minorgridcolor": "white",
             "startlinecolor": "#2a3f5f"
            },
            "type": "carpet"
           }
          ],
          "choropleth": [
           {
            "colorbar": {
             "outlinewidth": 0,
             "ticks": ""
            },
            "type": "choropleth"
           }
          ],
          "contour": [
           {
            "colorbar": {
             "outlinewidth": 0,
             "ticks": ""
            },
            "colorscale": [
             [
              0,
              "#0d0887"
             ],
             [
              0.1111111111111111,
              "#46039f"
             ],
             [
              0.2222222222222222,
              "#7201a8"
             ],
             [
              0.3333333333333333,
              "#9c179e"
             ],
             [
              0.4444444444444444,
              "#bd3786"
             ],
             [
              0.5555555555555556,
              "#d8576b"
             ],
             [
              0.6666666666666666,
              "#ed7953"
             ],
             [
              0.7777777777777778,
              "#fb9f3a"
             ],
             [
              0.8888888888888888,
              "#fdca26"
             ],
             [
              1,
              "#f0f921"
             ]
            ],
            "type": "contour"
           }
          ],
          "contourcarpet": [
           {
            "colorbar": {
             "outlinewidth": 0,
             "ticks": ""
            },
            "type": "contourcarpet"
           }
          ],
          "heatmap": [
           {
            "colorbar": {
             "outlinewidth": 0,
             "ticks": ""
            },
            "colorscale": [
             [
              0,
              "#0d0887"
             ],
             [
              0.1111111111111111,
              "#46039f"
             ],
             [
              0.2222222222222222,
              "#7201a8"
             ],
             [
              0.3333333333333333,
              "#9c179e"
             ],
             [
              0.4444444444444444,
              "#bd3786"
             ],
             [
              0.5555555555555556,
              "#d8576b"
             ],
             [
              0.6666666666666666,
              "#ed7953"
             ],
             [
              0.7777777777777778,
              "#fb9f3a"
             ],
             [
              0.8888888888888888,
              "#fdca26"
             ],
             [
              1,
              "#f0f921"
             ]
            ],
            "type": "heatmap"
           }
          ],
          "heatmapgl": [
           {
            "colorbar": {
             "outlinewidth": 0,
             "ticks": ""
            },
            "colorscale": [
             [
              0,
              "#0d0887"
             ],
             [
              0.1111111111111111,
              "#46039f"
             ],
             [
              0.2222222222222222,
              "#7201a8"
             ],
             [
              0.3333333333333333,
              "#9c179e"
             ],
             [
              0.4444444444444444,
              "#bd3786"
             ],
             [
              0.5555555555555556,
              "#d8576b"
             ],
             [
              0.6666666666666666,
              "#ed7953"
             ],
             [
              0.7777777777777778,
              "#fb9f3a"
             ],
             [
              0.8888888888888888,
              "#fdca26"
             ],
             [
              1,
              "#f0f921"
             ]
            ],
            "type": "heatmapgl"
           }
          ],
          "histogram": [
           {
            "marker": {
             "pattern": {
              "fillmode": "overlay",
              "size": 10,
              "solidity": 0.2
             }
            },
            "type": "histogram"
           }
          ],
          "histogram2d": [
           {
            "colorbar": {
             "outlinewidth": 0,
             "ticks": ""
            },
            "colorscale": [
             [
              0,
              "#0d0887"
             ],
             [
              0.1111111111111111,
              "#46039f"
             ],
             [
              0.2222222222222222,
              "#7201a8"
             ],
             [
              0.3333333333333333,
              "#9c179e"
             ],
             [
              0.4444444444444444,
              "#bd3786"
             ],
             [
              0.5555555555555556,
              "#d8576b"
             ],
             [
              0.6666666666666666,
              "#ed7953"
             ],
             [
              0.7777777777777778,
              "#fb9f3a"
             ],
             [
              0.8888888888888888,
              "#fdca26"
             ],
             [
              1,
              "#f0f921"
             ]
            ],
            "type": "histogram2d"
           }
          ],
          "histogram2dcontour": [
           {
            "colorbar": {
             "outlinewidth": 0,
             "ticks": ""
            },
            "colorscale": [
             [
              0,
              "#0d0887"
             ],
             [
              0.1111111111111111,
              "#46039f"
             ],
             [
              0.2222222222222222,
              "#7201a8"
             ],
             [
              0.3333333333333333,
              "#9c179e"
             ],
             [
              0.4444444444444444,
              "#bd3786"
             ],
             [
              0.5555555555555556,
              "#d8576b"
             ],
             [
              0.6666666666666666,
              "#ed7953"
             ],
             [
              0.7777777777777778,
              "#fb9f3a"
             ],
             [
              0.8888888888888888,
              "#fdca26"
             ],
             [
              1,
              "#f0f921"
             ]
            ],
            "type": "histogram2dcontour"
           }
          ],
          "mesh3d": [
           {
            "colorbar": {
             "outlinewidth": 0,
             "ticks": ""
            },
            "type": "mesh3d"
           }
          ],
          "parcoords": [
           {
            "line": {
             "colorbar": {
              "outlinewidth": 0,
              "ticks": ""
             }
            },
            "type": "parcoords"
           }
          ],
          "pie": [
           {
            "automargin": true,
            "type": "pie"
           }
          ],
          "scatter": [
           {
            "fillpattern": {
             "fillmode": "overlay",
             "size": 10,
             "solidity": 0.2
            },
            "type": "scatter"
           }
          ],
          "scatter3d": [
           {
            "line": {
             "colorbar": {
              "outlinewidth": 0,
              "ticks": ""
             }
            },
            "marker": {
             "colorbar": {
              "outlinewidth": 0,
              "ticks": ""
             }
            },
            "type": "scatter3d"
           }
          ],
          "scattercarpet": [
           {
            "marker": {
             "colorbar": {
              "outlinewidth": 0,
              "ticks": ""
             }
            },
            "type": "scattercarpet"
           }
          ],
          "scattergeo": [
           {
            "marker": {
             "colorbar": {
              "outlinewidth": 0,
              "ticks": ""
             }
            },
            "type": "scattergeo"
           }
          ],
          "scattergl": [
           {
            "marker": {
             "colorbar": {
              "outlinewidth": 0,
              "ticks": ""
             }
            },
            "type": "scattergl"
           }
          ],
          "scattermapbox": [
           {
            "marker": {
             "colorbar": {
              "outlinewidth": 0,
              "ticks": ""
             }
            },
            "type": "scattermapbox"
           }
          ],
          "scatterpolar": [
           {
            "marker": {
             "colorbar": {
              "outlinewidth": 0,
              "ticks": ""
             }
            },
            "type": "scatterpolar"
           }
          ],
          "scatterpolargl": [
           {
            "marker": {
             "colorbar": {
              "outlinewidth": 0,
              "ticks": ""
             }
            },
            "type": "scatterpolargl"
           }
          ],
          "scatterternary": [
           {
            "marker": {
             "colorbar": {
              "outlinewidth": 0,
              "ticks": ""
             }
            },
            "type": "scatterternary"
           }
          ],
          "surface": [
           {
            "colorbar": {
             "outlinewidth": 0,
             "ticks": ""
            },
            "colorscale": [
             [
              0,
              "#0d0887"
             ],
             [
              0.1111111111111111,
              "#46039f"
             ],
             [
              0.2222222222222222,
              "#7201a8"
             ],
             [
              0.3333333333333333,
              "#9c179e"
             ],
             [
              0.4444444444444444,
              "#bd3786"
             ],
             [
              0.5555555555555556,
              "#d8576b"
             ],
             [
              0.6666666666666666,
              "#ed7953"
             ],
             [
              0.7777777777777778,
              "#fb9f3a"
             ],
             [
              0.8888888888888888,
              "#fdca26"
             ],
             [
              1,
              "#f0f921"
             ]
            ],
            "type": "surface"
           }
          ],
          "table": [
           {
            "cells": {
             "fill": {
              "color": "#EBF0F8"
             },
             "line": {
              "color": "white"
             }
            },
            "header": {
             "fill": {
              "color": "#C8D4E3"
             },
             "line": {
              "color": "white"
             }
            },
            "type": "table"
           }
          ]
         },
         "layout": {
          "annotationdefaults": {
           "arrowcolor": "#2a3f5f",
           "arrowhead": 0,
           "arrowwidth": 1
          },
          "autotypenumbers": "strict",
          "coloraxis": {
           "colorbar": {
            "outlinewidth": 0,
            "ticks": ""
           }
          },
          "colorscale": {
           "diverging": [
            [
             0,
             "#8e0152"
            ],
            [
             0.1,
             "#c51b7d"
            ],
            [
             0.2,
             "#de77ae"
            ],
            [
             0.3,
             "#f1b6da"
            ],
            [
             0.4,
             "#fde0ef"
            ],
            [
             0.5,
             "#f7f7f7"
            ],
            [
             0.6,
             "#e6f5d0"
            ],
            [
             0.7,
             "#b8e186"
            ],
            [
             0.8,
             "#7fbc41"
            ],
            [
             0.9,
             "#4d9221"
            ],
            [
             1,
             "#276419"
            ]
           ],
           "sequential": [
            [
             0,
             "#0d0887"
            ],
            [
             0.1111111111111111,
             "#46039f"
            ],
            [
             0.2222222222222222,
             "#7201a8"
            ],
            [
             0.3333333333333333,
             "#9c179e"
            ],
            [
             0.4444444444444444,
             "#bd3786"
            ],
            [
             0.5555555555555556,
             "#d8576b"
            ],
            [
             0.6666666666666666,
             "#ed7953"
            ],
            [
             0.7777777777777778,
             "#fb9f3a"
            ],
            [
             0.8888888888888888,
             "#fdca26"
            ],
            [
             1,
             "#f0f921"
            ]
           ],
           "sequentialminus": [
            [
             0,
             "#0d0887"
            ],
            [
             0.1111111111111111,
             "#46039f"
            ],
            [
             0.2222222222222222,
             "#7201a8"
            ],
            [
             0.3333333333333333,
             "#9c179e"
            ],
            [
             0.4444444444444444,
             "#bd3786"
            ],
            [
             0.5555555555555556,
             "#d8576b"
            ],
            [
             0.6666666666666666,
             "#ed7953"
            ],
            [
             0.7777777777777778,
             "#fb9f3a"
            ],
            [
             0.8888888888888888,
             "#fdca26"
            ],
            [
             1,
             "#f0f921"
            ]
           ]
          },
          "colorway": [
           "#636efa",
           "#EF553B",
           "#00cc96",
           "#ab63fa",
           "#FFA15A",
           "#19d3f3",
           "#FF6692",
           "#B6E880",
           "#FF97FF",
           "#FECB52"
          ],
          "font": {
           "color": "#2a3f5f"
          },
          "geo": {
           "bgcolor": "white",
           "lakecolor": "white",
           "landcolor": "#E5ECF6",
           "showlakes": true,
           "showland": true,
           "subunitcolor": "white"
          },
          "hoverlabel": {
           "align": "left"
          },
          "hovermode": "closest",
          "mapbox": {
           "style": "light"
          },
          "paper_bgcolor": "white",
          "plot_bgcolor": "#E5ECF6",
          "polar": {
           "angularaxis": {
            "gridcolor": "white",
            "linecolor": "white",
            "ticks": ""
           },
           "bgcolor": "#E5ECF6",
           "radialaxis": {
            "gridcolor": "white",
            "linecolor": "white",
            "ticks": ""
           }
          },
          "scene": {
           "xaxis": {
            "backgroundcolor": "#E5ECF6",
            "gridcolor": "white",
            "gridwidth": 2,
            "linecolor": "white",
            "showbackground": true,
            "ticks": "",
            "zerolinecolor": "white"
           },
           "yaxis": {
            "backgroundcolor": "#E5ECF6",
            "gridcolor": "white",
            "gridwidth": 2,
            "linecolor": "white",
            "showbackground": true,
            "ticks": "",
            "zerolinecolor": "white"
           },
           "zaxis": {
            "backgroundcolor": "#E5ECF6",
            "gridcolor": "white",
            "gridwidth": 2,
            "linecolor": "white",
            "showbackground": true,
            "ticks": "",
            "zerolinecolor": "white"
           }
          },
          "shapedefaults": {
           "line": {
            "color": "#2a3f5f"
           }
          },
          "ternary": {
           "aaxis": {
            "gridcolor": "white",
            "linecolor": "white",
            "ticks": ""
           },
           "baxis": {
            "gridcolor": "white",
            "linecolor": "white",
            "ticks": ""
           },
           "bgcolor": "#E5ECF6",
           "caxis": {
            "gridcolor": "white",
            "linecolor": "white",
            "ticks": ""
           }
          },
          "title": {
           "x": 0.05
          },
          "xaxis": {
           "automargin": true,
           "gridcolor": "white",
           "linecolor": "white",
           "ticks": "",
           "title": {
            "standoff": 15
           },
           "zerolinecolor": "white",
           "zerolinewidth": 2
          },
          "yaxis": {
           "automargin": true,
           "gridcolor": "white",
           "linecolor": "white",
           "ticks": "",
           "title": {
            "standoff": 15
           },
           "zerolinecolor": "white",
           "zerolinewidth": 2
          }
         }
        },
        "xaxis": {
         "mirror": true,
         "range": [
          0,
          5.699373265879025
         ],
         "showgrid": false,
         "ticklen": 0,
         "ticks": "inside",
         "ticktext": [
          "Î“",
          "L",
          "B_1|B",
          "Z",
          "Î“",
          "X|Q",
          "F",
          "P_1",
          "Z|L",
          "P"
         ],
         "tickvals": [
          0,
          0.9098583096423308,
          1.4754215968373545,
          2.4686342537290895,
          2.870172134393432,
          3.932341734446562,
          4.4289480411794,
          4.568589588206533,
          5.428737010970229,
          5.699373265879025
         ],
         "title": {
          "text": "Wave Vector"
         }
        },
        "yaxis": {
         "mirror": true,
         "range": [
          -2,
          4
         ],
         "showgrid": false,
         "ticklen": 10,
         "ticks": "inside",
         "title": {
          "text": "E - E<sub>f</sub> (eV)"
         }
        }
       }
      },
      "text/html": [
       "<div>                            <div id=\"199bf0c5-47c5-42cc-85b2-dd840a1a4e45\" class=\"plotly-graph-div\" style=\"height:525px; width:100%;\"></div>            <script type=\"text/javascript\">                require([\"plotly\"], function(Plotly) {                    window.PLOTLYENV=window.PLOTLYENV || {};                                    if (document.getElementById(\"199bf0c5-47c5-42cc-85b2-dd840a1a4e45\")) {                    Plotly.newPlot(                        \"199bf0c5-47c5-42cc-85b2-dd840a1a4e45\",                        [{\"mode\":\"lines\",\"name\":\"band 12\",\"x\":[0.0,0.0478872804126051,0.0957745608252102,0.1436618412378153,0.1915491216504204,0.23943640206302552,0.2873236824756306,0.3352109628882357,0.3830982433008408,0.4309855237134459,0.4788727859288848,0.52676006634149,0.5746473467540951,0.6225346271667003,0.6704219075793054,0.7183091879919103,0.7661964684045154,0.8140837488171206,0.8619710292297257,0.9098583096423308,0.9098583096423308,0.9569885861732094,1.0041188627040878,1.0512491392349663,1.0983794157658449,1.1455096922967234,1.1926399376520829,1.2397702141829614,1.2869004907138402,1.3340307672447187,1.3811610437755972,1.4282913203064758,1.4754215968373545,1.4754215968373545,1.5250822343582693,1.5747428718791838,1.6244035094000986,1.6740641157454943,1.7237247532664088,1.7733853907873236,1.8230460283082381,1.872706665829153,1.9223673033500674,1.9720279096954632,2.0216885472163777,2.0713491847372922,2.121009822258207,2.1706704597791213,2.220331097300036,2.2699917348209504,2.319652341166346,2.3693129786872604,2.418973616208175,2.4686342537290895,2.4686342537290895,2.513249577372131,2.5578648929844148,2.6024802166274563,2.64709553223974,2.6917108558827816,2.7363261714950653,2.780941495138107,2.8255568107503906,2.870172134393432,2.870172134393432,2.9184525693424144,2.9667330042913966,3.015013439240379,3.063293874189361,3.1115743091383434,3.1598547440873257,3.208135179036308,3.2564156451608093,3.3046960801097915,3.352976515058774,3.401256950007756,3.4495373849567383,3.497817819905721,3.5460982548547033,3.5943786898036856,3.6426591247526683,3.6909395597016506,3.739219994650633,3.787500429599615,3.8357808645485973,3.8840612994975796,3.932341734446562,3.932341734446562,3.9820023682373975,4.031663002028234,4.081323635819069,4.130984269609904,4.18064490340074,4.230305537191575,4.279966139806894,4.329626773597729,4.379287407388564,4.4289480411794,4.4289480411794,4.475495226087596,4.522042403298337,4.568589588206533,4.568589588206533,4.61637556013767,4.664161532068808,4.71194748600075,4.759733457931888,4.807519429863025,4.855305401794163,4.9030913737253,4.950877345656438,4.998663299588381,5.046449271519519,5.094235243450656,5.142021197382599,5.189807169313736,5.237593141244874,5.2853790951768165,5.333165067107954,5.3809510390390916,5.428737010970229,5.428737010970229,5.4738430574267225,5.518949095939828,5.564055142396321,5.609161180909426,5.65426722736592,5.699373265879025],\"y\":[-1.4143,-1.44,-1.5163,-1.6404999999999998,-1.8068,-2.0063,-2.2285,-2.463,-2.7011,-2.9354,-3.1595999999999997,-3.3649999999999998,-3.463,-3.4213999999999998,-3.3717,-3.3244,-3.2826,-3.2497,-3.2285,-3.2212,-3.2212,-3.2208,-3.2195,-3.2172,-3.2135,-3.2081999999999997,-3.2014,-3.193,-3.1835999999999998,-3.3134,-3.4615,-3.5896,-3.4819999999999998,-3.4819999999999998,-3.3487,-3.2095,-3.2064,-3.2428,-3.2893,-3.3436,-3.4032,-3.4652,-3.3461,-3.1666,-2.9669,-2.7512,-2.5244,-2.2927999999999997,-2.0641,-1.8481999999999998,-1.6564999999999999,-1.5017,-1.3943999999999999,-1.3474,-1.3474,-1.3496,-1.3558999999999999,-1.3654,-1.3766,-1.3881999999999999,-1.3987,-1.4071,-1.4124999999999999,-1.4143,-1.4143,-1.4412,-1.5206,-1.6481999999999999,-1.8165,-2.0151,-2.2327,-2.4588,-2.6845,-2.9025,-3.1071,-3.2938,-3.4514,-3.4002,-3.3527,-3.3095,-3.2711,-3.238,-3.211,-3.2572,-3.3944,-3.5262,-3.5368,-3.5368,-3.3878,-3.2195,-3.1778,-3.1915,-3.2066,-3.2216,-3.2351,-3.2457,-3.2525,-3.2549,-3.2549,-3.2553,-3.2563999999999997,-3.2582,-3.2582,-3.281,-3.3138,-3.355,-3.4027,-3.4545,-3.5077,-3.4135,-3.2002,-2.9736,-2.7382,-2.4989,-2.2616,-2.0332,-1.8222,-1.6384999999999998,-1.4921,-1.3914,-1.3474,-3.2212,-3.2231,-3.2283,-3.2357,-3.2441,-3.2519,-3.2582],\"type\":\"scatter\"},{\"mode\":\"lines\",\"name\":\"band 13\",\"x\":[0.0,0.0478872804126051,0.0957745608252102,0.1436618412378153,0.1915491216504204,0.23943640206302552,0.2873236824756306,0.3352109628882357,0.3830982433008408,0.4309855237134459,0.4788727859288848,0.52676006634149,0.5746473467540951,0.6225346271667003,0.6704219075793054,0.7183091879919103,0.7661964684045154,0.8140837488171206,0.8619710292297257,0.9098583096423308,0.9098583096423308,0.9569885861732094,1.0041188627040878,1.0512491392349663,1.0983794157658449,1.1455096922967234,1.1926399376520829,1.2397702141829614,1.2869004907138402,1.3340307672447187,1.3811610437755972,1.4282913203064758,1.4754215968373545,1.4754215968373545,1.5250822343582693,1.5747428718791838,1.6244035094000986,1.6740641157454943,1.7237247532664088,1.7733853907873236,1.8230460283082381,1.872706665829153,1.9223673033500674,1.9720279096954632,2.0216885472163777,2.0713491847372922,2.121009822258207,2.1706704597791213,2.220331097300036,2.2699917348209504,2.319652341166346,2.3693129786872604,2.418973616208175,2.4686342537290895,2.4686342537290895,2.513249577372131,2.5578648929844148,2.6024802166274563,2.64709553223974,2.6917108558827816,2.7363261714950653,2.780941495138107,2.8255568107503906,2.870172134393432,2.870172134393432,2.9184525693424144,2.9667330042913966,3.015013439240379,3.063293874189361,3.1115743091383434,3.1598547440873257,3.208135179036308,3.2564156451608093,3.3046960801097915,3.352976515058774,3.401256950007756,3.4495373849567383,3.497817819905721,3.5460982548547033,3.5943786898036856,3.6426591247526683,3.6909395597016506,3.739219994650633,3.787500429599615,3.8357808645485973,3.8840612994975796,3.932341734446562,3.932341734446562,3.9820023682373975,4.031663002028234,4.081323635819069,4.130984269609904,4.18064490340074,4.230305537191575,4.279966139806894,4.329626773597729,4.379287407388564,4.4289480411794,4.4289480411794,4.475495226087596,4.522042403298337,4.568589588206533,4.568589588206533,4.61637556013767,4.664161532068808,4.71194748600075,4.759733457931888,4.807519429863025,4.855305401794163,4.9030913737253,4.950877345656438,4.998663299588381,5.046449271519519,5.094235243450656,5.142021197382599,5.189807169313736,5.237593141244874,5.2853790951768165,5.333165067107954,5.3809510390390916,5.428737010970229,5.428737010970229,5.4738430574267225,5.518949095939828,5.564055142396321,5.609161180909426,5.65426722736592,5.699373265879025],\"y\":[-1.4143,-1.4187999999999998,-1.4321,-1.4539,-1.484,-1.5213999999999999,-1.5652,-1.6140999999999999,-1.6663999999999999,-1.7205,-1.7748,-1.8276,-1.8775,-1.9232,-1.9637,-1.998,-2.0254,-2.0454,-2.0575,-2.0616,-2.0616,-2.0886,-2.1664,-2.2866,-2.4379999999999997,-2.6094,-2.7904999999999998,-2.9727,-3.1489,-3.174,-3.1654999999999998,-3.1598,-3.1586,-3.1586,-3.1645,-3.1782,-3.0601,-2.9089,-2.7546999999999997,-2.5995999999999997,-2.4459,-2.2959,-2.1519,-2.0162,-1.8907,-1.7771,-1.6764,-1.589,-1.5152999999999999,-1.4549999999999998,-1.408,-1.3743999999999998,-1.3540999999999999,-1.3474,-1.3474,-1.3496,-1.3558999999999999,-1.3654,-1.3766,-1.3881999999999999,-1.3987,-1.4071,-1.4124999999999999,-1.4143,-1.4143,-1.4187999999999998,-1.4324999999999999,-1.4562,-1.4910999999999999,-1.5383,-1.5989,-1.6735,-1.762,-1.8637,-1.9776,-2.1021,-2.2353,-2.3754,-2.5204,-2.6684,-2.8175,-2.9661,-3.1121,-3.187,-3.1721,-3.1624,-3.1585,-3.1585,-3.1602,-3.1669,-3.0372,-2.8474,-2.6582,-2.4793,-2.3217,-2.1974,-2.1174999999999997,-2.0898,-2.0898,-2.0888,-2.0857,-2.0808,-2.0808,-2.0704000000000002,-2.0513,-2.0239000000000003,-1.9888,-1.9465,-1.8979,-1.8440999999999999,-1.7862,-1.7256,-1.6638,-1.6026,-1.5437999999999998,-1.4895,-1.4415,-1.4018,-1.3719999999999999,-1.3536,-1.3474,-2.0616,-2.0624000000000002,-2.0648999999999997,-2.0686,-2.0728999999999997,-2.0772,-2.0808],\"type\":\"scatter\"},{\"mode\":\"lines\",\"name\":\"band 14\",\"x\":[0.0,0.0478872804126051,0.0957745608252102,0.1436618412378153,0.1915491216504204,0.23943640206302552,0.2873236824756306,0.3352109628882357,0.3830982433008408,0.4309855237134459,0.4788727859288848,0.52676006634149,0.5746473467540951,0.6225346271667003,0.6704219075793054,0.7183091879919103,0.7661964684045154,0.8140837488171206,0.8619710292297257,0.9098583096423308,0.9098583096423308,0.9569885861732094,1.0041188627040878,1.0512491392349663,1.0983794157658449,1.1455096922967234,1.1926399376520829,1.2397702141829614,1.2869004907138402,1.3340307672447187,1.3811610437755972,1.4282913203064758,1.4754215968373545,1.4754215968373545,1.5250822343582693,1.5747428718791838,1.6244035094000986,1.6740641157454943,1.7237247532664088,1.7733853907873236,1.8230460283082381,1.872706665829153,1.9223673033500674,1.9720279096954632,2.0216885472163777,2.0713491847372922,2.121009822258207,2.1706704597791213,2.220331097300036,2.2699917348209504,2.319652341166346,2.3693129786872604,2.418973616208175,2.4686342537290895,2.4686342537290895,2.513249577372131,2.5578648929844148,2.6024802166274563,2.64709553223974,2.6917108558827816,2.7363261714950653,2.780941495138107,2.8255568107503906,2.870172134393432,2.870172134393432,2.9184525693424144,2.9667330042913966,3.015013439240379,3.063293874189361,3.1115743091383434,3.1598547440873257,3.208135179036308,3.2564156451608093,3.3046960801097915,3.352976515058774,3.401256950007756,3.4495373849567383,3.497817819905721,3.5460982548547033,3.5943786898036856,3.6426591247526683,3.6909395597016506,3.739219994650633,3.787500429599615,3.8357808645485973,3.8840612994975796,3.932341734446562,3.932341734446562,3.9820023682373975,4.031663002028234,4.081323635819069,4.130984269609904,4.18064490340074,4.230305537191575,4.279966139806894,4.329626773597729,4.379287407388564,4.4289480411794,4.4289480411794,4.475495226087596,4.522042403298337,4.568589588206533,4.568589588206533,4.61637556013767,4.664161532068808,4.71194748600075,4.759733457931888,4.807519429863025,4.855305401794163,4.9030913737253,4.950877345656438,4.998663299588381,5.046449271519519,5.094235243450656,5.142021197382599,5.189807169313736,5.237593141244874,5.2853790951768165,5.333165067107954,5.3809510390390916,5.428737010970229,5.428737010970229,5.4738430574267225,5.518949095939828,5.564055142396321,5.609161180909426,5.65426722736592,5.699373265879025],\"y\":[-0.7422,-0.7387999999999999,-0.7286000000000001,-0.7117999999999998,-0.6886999999999999,-0.6595,-0.6246999999999998,-0.6015000000000001,-0.6396999999999999,-0.6783999999999999,-0.718,-0.7614000000000001,-0.8098000000000001,-0.8628999999999998,-0.9186000000000001,-0.9737,-1.0236999999999998,-1.064,-1.0901999999999998,-1.0993,-1.0993,-1.0905,-1.0646,-1.0231,-0.968,-0.9018000000000002,-0.8275000000000001,-0.7483999999999997,-0.6680999999999999,-0.5903,-0.5185999999999997,-0.45569999999999977,-0.5049000000000001,-0.5049000000000001,-0.5587999999999997,-0.6019000000000001,-0.6311999999999998,-0.6452999999999998,-0.6442999999999999,-0.6299000000000001,-0.6044,-0.5709999999999997,-0.5326999999999997,-0.5756000000000001,-0.6656,-0.7616,-0.8592,-0.9539999999999997,-1.0419999999999998,-1.1198000000000001,-1.1846999999999999,-1.2356,-1.2738,-1.2965,-1.2965,-1.2825,-1.2415,-1.1767999999999998,-1.0937000000000001,-0.9996999999999998,-0.9047999999999998,-0.8214000000000001,-0.7631999999999999,-0.7422,-0.7422,-0.7380999999999998,-0.7258999999999998,-0.706,-0.6789999999999998,-0.6459999999999999,-0.6080000000000001,-0.6322000000000001,-0.6759,-0.7067999999999999,-0.7254999999999998,-0.7332000000000001,-0.7309000000000001,-0.7201,-0.7020999999999997,-0.6783000000000001,-0.6499999999999999,-0.6185,-0.5844999999999998,-0.5486999999999997,-0.5116,-0.4733999999999998,-0.47029999999999994,-0.47029999999999994,-0.516,-0.5629999999999997,-0.6097000000000001,-0.6541999999999999,-0.6947999999999999,-0.7302,-0.7589000000000001,-0.7801999999999998,-0.7932000000000001,-0.7976000000000001,-0.7976000000000001,-0.8052000000000001,-0.827,-0.8597000000000001,-0.8597000000000001,-0.8367999999999998,-0.8089,-0.7768999999999999,-0.7425000000000002,-0.7081,-0.6783999999999999,-0.6619999999999999,-0.6734,-0.7227000000000001,-0.7993999999999999,-0.887,-0.9750999999999999,-1.0575999999999999,-1.1305,-1.1912,-1.2389,-1.275,-1.2965,-1.0993,-1.0894,-1.0608999999999997,-1.0175,-0.9649000000000001,-0.9098000000000002,-0.8597000000000001],\"type\":\"scatter\"},{\"mode\":\"lines\",\"name\":\"band 15\",\"x\":[0.0,0.0478872804126051,0.0957745608252102,0.1436618412378153,0.1915491216504204,0.23943640206302552,0.2873236824756306,0.3352109628882357,0.3830982433008408,0.4309855237134459,0.4788727859288848,0.52676006634149,0.5746473467540951,0.6225346271667003,0.6704219075793054,0.7183091879919103,0.7661964684045154,0.8140837488171206,0.8619710292297257,0.9098583096423308,0.9098583096423308,0.9569885861732094,1.0041188627040878,1.0512491392349663,1.0983794157658449,1.1455096922967234,1.1926399376520829,1.2397702141829614,1.2869004907138402,1.3340307672447187,1.3811610437755972,1.4282913203064758,1.4754215968373545,1.4754215968373545,1.5250822343582693,1.5747428718791838,1.6244035094000986,1.6740641157454943,1.7237247532664088,1.7733853907873236,1.8230460283082381,1.872706665829153,1.9223673033500674,1.9720279096954632,2.0216885472163777,2.0713491847372922,2.121009822258207,2.1706704597791213,2.220331097300036,2.2699917348209504,2.319652341166346,2.3693129786872604,2.418973616208175,2.4686342537290895,2.4686342537290895,2.513249577372131,2.5578648929844148,2.6024802166274563,2.64709553223974,2.6917108558827816,2.7363261714950653,2.780941495138107,2.8255568107503906,2.870172134393432,2.870172134393432,2.9184525693424144,2.9667330042913966,3.015013439240379,3.063293874189361,3.1115743091383434,3.1598547440873257,3.208135179036308,3.2564156451608093,3.3046960801097915,3.352976515058774,3.401256950007756,3.4495373849567383,3.497817819905721,3.5460982548547033,3.5943786898036856,3.6426591247526683,3.6909395597016506,3.739219994650633,3.787500429599615,3.8357808645485973,3.8840612994975796,3.932341734446562,3.932341734446562,3.9820023682373975,4.031663002028234,4.081323635819069,4.130984269609904,4.18064490340074,4.230305537191575,4.279966139806894,4.329626773597729,4.379287407388564,4.4289480411794,4.4289480411794,4.475495226087596,4.522042403298337,4.568589588206533,4.568589588206533,4.61637556013767,4.664161532068808,4.71194748600075,4.759733457931888,4.807519429863025,4.855305401794163,4.9030913737253,4.950877345656438,4.998663299588381,5.046449271519519,5.094235243450656,5.142021197382599,5.189807169313736,5.237593141244874,5.2853790951768165,5.333165067107954,5.3809510390390916,5.428737010970229,5.428737010970229,5.4738430574267225,5.518949095939828,5.564055142396321,5.609161180909426,5.65426722736592,5.699373265879025],\"y\":[-0.17490000000000006,-0.19709999999999983,-0.2559,-0.3336000000000001,-0.41359999999999975,-0.48550000000000004,-0.5453000000000001,-0.5762999999999998,-0.5318,-0.4769000000000001,-0.41610000000000014,-0.35150000000000015,-0.2858999999999998,-0.2229000000000001,-0.16579999999999995,-0.11709999999999976,-0.09989999999999988,-0.09689999999999976,-0.09509999999999996,-0.09450000000000003,-0.09450000000000003,-0.09640000000000004,-0.10219999999999985,-0.11289999999999978,-0.12939999999999996,-0.1530999999999998,-0.18480000000000008,-0.22489999999999988,-0.2730999999999999,-0.3279000000000001,-0.387,-0.44720000000000004,-0.40379999999999994,-0.40379999999999994,-0.36209999999999987,-0.3336000000000001,-0.31769999999999987,-0.3138000000000001,-0.32189999999999985,-0.3428,-0.3782000000000001,-0.4291999999999998,-0.4956999999999998,-0.4925999999999999,-0.45310000000000006,-0.4163000000000001,-0.3839999999999999,-0.35729999999999995,-0.3367,-0.32189999999999985,-0.3123999999999998,-0.30689999999999973,-0.3043,-0.3035000000000001,-0.3035000000000001,-0.2995000000000001,-0.28790000000000004,-0.2704,-0.2492000000000001,-0.2269000000000001,-0.20619999999999994,-0.18949999999999978,-0.17859999999999987,-0.17490000000000006,-0.17490000000000006,-0.1974999999999998,-0.25780000000000003,-0.33899999999999997,-0.42510000000000003,-0.5055999999999998,-0.5752999999999999,-0.5665,-0.5230000000000001,-0.47909999999999986,-0.4367000000000001,-0.39759999999999973,-0.36370000000000013,-0.33679999999999977,-0.3182999999999998,-0.30909999999999993,-0.3092999999999999,-0.3184,-0.3357999999999999,-0.3605999999999998,-0.3919999999999999,-0.4289999999999998,-0.43379999999999974,-0.43379999999999974,-0.39170000000000016,-0.3479000000000001,-0.3022999999999998,-0.2549999999999999,-0.20650000000000013,-0.1583000000000001,-0.1126999999999998,-0.0737000000000001,-0.04679999999999973,-0.03710000000000013,-0.03710000000000013,-0.03839999999999977,-0.04249999999999998,-0.048799999999999955,-0.048799999999999955,-0.04820000000000002,-0.050599999999999756,-0.08930000000000016,-0.14129999999999976,-0.20359999999999978,-0.27170000000000005,-0.3363999999999998,-0.3818999999999999,-0.3965000000000001,-0.3881000000000001,-0.37060000000000004,-0.3517000000000001,-0.33489999999999975,-0.3216999999999999,-0.3123999999999998,-0.30689999999999973,-0.3041999999999998,-0.3035000000000001,-0.09450000000000003,-0.09260000000000002,-0.08689999999999998,-0.07850000000000001,-0.0682999999999998,-0.05799999999999983,-0.048799999999999955],\"type\":\"scatter\"},{\"mode\":\"lines\",\"name\":\"band 16\",\"x\":[0.0,0.0478872804126051,0.0957745608252102,0.1436618412378153,0.1915491216504204,0.23943640206302552,0.2873236824756306,0.3352109628882357,0.3830982433008408,0.4309855237134459,0.4788727859288848,0.52676006634149,0.5746473467540951,0.6225346271667003,0.6704219075793054,0.7183091879919103,0.7661964684045154,0.8140837488171206,0.8619710292297257,0.9098583096423308,0.9098583096423308,0.9569885861732094,1.0041188627040878,1.0512491392349663,1.0983794157658449,1.1455096922967234,1.1926399376520829,1.2397702141829614,1.2869004907138402,1.3340307672447187,1.3811610437755972,1.4282913203064758,1.4754215968373545,1.4754215968373545,1.5250822343582693,1.5747428718791838,1.6244035094000986,1.6740641157454943,1.7237247532664088,1.7733853907873236,1.8230460283082381,1.872706665829153,1.9223673033500674,1.9720279096954632,2.0216885472163777,2.0713491847372922,2.121009822258207,2.1706704597791213,2.220331097300036,2.2699917348209504,2.319652341166346,2.3693129786872604,2.418973616208175,2.4686342537290895,2.4686342537290895,2.513249577372131,2.5578648929844148,2.6024802166274563,2.64709553223974,2.6917108558827816,2.7363261714950653,2.780941495138107,2.8255568107503906,2.870172134393432,2.870172134393432,2.9184525693424144,2.9667330042913966,3.015013439240379,3.063293874189361,3.1115743091383434,3.1598547440873257,3.208135179036308,3.2564156451608093,3.3046960801097915,3.352976515058774,3.401256950007756,3.4495373849567383,3.497817819905721,3.5460982548547033,3.5943786898036856,3.6426591247526683,3.6909395597016506,3.739219994650633,3.787500429599615,3.8357808645485973,3.8840612994975796,3.932341734446562,3.932341734446562,3.9820023682373975,4.031663002028234,4.081323635819069,4.130984269609904,4.18064490340074,4.230305537191575,4.279966139806894,4.329626773597729,4.379287407388564,4.4289480411794,4.4289480411794,4.475495226087596,4.522042403298337,4.568589588206533,4.568589588206533,4.61637556013767,4.664161532068808,4.71194748600075,4.759733457931888,4.807519429863025,4.855305401794163,4.9030913737253,4.950877345656438,4.998663299588381,5.046449271519519,5.094235243450656,5.142021197382599,5.189807169313736,5.237593141244874,5.2853790951768165,5.333165067107954,5.3809510390390916,5.428737010970229,5.428737010970229,5.4738430574267225,5.518949095939828,5.564055142396321,5.609161180909426,5.65426722736592,5.699373265879025],\"y\":[-0.17490000000000006,-0.1751999999999998,-0.17589999999999995,-0.1766000000000001,-0.1764000000000001,-0.17490000000000006,-0.17149999999999999,-0.1661999999999999,-0.1591999999999998,-0.1509999999999998,-0.14210000000000012,-0.133,-0.12440000000000007,-0.11649999999999983,-0.1097999999999999,-0.10420000000000007,-0.07869999999999999,-0.0512999999999999,-0.03500000000000014,-0.02950000000000008,-0.02950000000000008,-0.02859999999999996,-0.02619999999999978,-0.0230999999999999,-0.020399999999999974,-0.01849999999999996,-0.01770000000000005,-0.017799999999999816,-0.01839999999999975,-0.019000000000000128,-0.019400000000000084,-0.019299999999999873,-0.01880000000000015,-0.01880000000000015,-0.018299999999999983,-0.019099999999999895,-0.02259999999999973,-0.030100000000000016,-0.042100000000000026,-0.05819999999999981,-0.07739999999999991,-0.0979000000000001,-0.1187999999999998,-0.13980000000000015,-0.16089999999999982,-0.1823999999999999,-0.20389999999999997,-0.22520000000000007,-0.24549999999999983,-0.2639999999999998,-0.2799999999999998,-0.2925,-0.30069999999999997,-0.3035000000000001,-0.3035000000000001,-0.2995000000000001,-0.28790000000000004,-0.2704,-0.2492000000000001,-0.2269000000000001,-0.20619999999999994,-0.18949999999999978,-0.17859999999999987,-0.17490000000000006,-0.17490000000000006,-0.1755,-0.1772999999999998,-0.17939999999999978,-0.18080000000000007,-0.18040000000000012,-0.17720000000000002,-0.17070000000000007,-0.16100000000000003,-0.14849999999999985,-0.13390000000000013,-0.11830000000000007,-0.10219999999999985,-0.08639999999999981,-0.07109999999999994,-0.05699999999999994,-0.04469999999999974,-0.034800000000000164,-0.027699999999999836,-0.02320000000000011,-0.02079999999999993,-0.019600000000000062,-0.019000000000000128,-0.019000000000000128,-0.018199999999999772,-0.016900000000000137,-0.014899999999999913,-0.012399999999999967,-0.009500000000000064,-0.006600000000000161,-0.0038999999999997925,-0.0017999999999998018,-0.00039999999999995595,0.0,0.0,-0.001100000000000101,-0.0043999999999999595,-0.009700000000000042,-0.009700000000000042,-0.02289999999999992,-0.0495000000000001,-0.05600000000000005,-0.06449999999999978,-0.07620000000000005,-0.09099999999999975,-0.10860000000000003,-0.12880000000000003,-0.15090000000000003,-0.1743999999999999,-0.1983999999999999,-0.22189999999999976,-0.24409999999999998,-0.2639999999999998,-0.28059999999999974,-0.2930999999999999,-0.30079999999999973,-0.3035000000000001,-0.02950000000000008,-0.028699999999999726,-0.026399999999999757,-0.02289999999999992,-0.01839999999999975,-0.013700000000000045,-0.009700000000000042],\"type\":\"scatter\"},{\"mode\":\"lines\",\"name\":\"band 17\",\"x\":[0.0,0.0478872804126051,0.0957745608252102,0.1436618412378153,0.1915491216504204,0.23943640206302552,0.2873236824756306,0.3352109628882357,0.3830982433008408,0.4309855237134459,0.4788727859288848,0.52676006634149,0.5746473467540951,0.6225346271667003,0.6704219075793054,0.7183091879919103,0.7661964684045154,0.8140837488171206,0.8619710292297257,0.9098583096423308,0.9098583096423308,0.9569885861732094,1.0041188627040878,1.0512491392349663,1.0983794157658449,1.1455096922967234,1.1926399376520829,1.2397702141829614,1.2869004907138402,1.3340307672447187,1.3811610437755972,1.4282913203064758,1.4754215968373545,1.4754215968373545,1.5250822343582693,1.5747428718791838,1.6244035094000986,1.6740641157454943,1.7237247532664088,1.7733853907873236,1.8230460283082381,1.872706665829153,1.9223673033500674,1.9720279096954632,2.0216885472163777,2.0713491847372922,2.121009822258207,2.1706704597791213,2.220331097300036,2.2699917348209504,2.319652341166346,2.3693129786872604,2.418973616208175,2.4686342537290895,2.4686342537290895,2.513249577372131,2.5578648929844148,2.6024802166274563,2.64709553223974,2.6917108558827816,2.7363261714950653,2.780941495138107,2.8255568107503906,2.870172134393432,2.870172134393432,2.9184525693424144,2.9667330042913966,3.015013439240379,3.063293874189361,3.1115743091383434,3.1598547440873257,3.208135179036308,3.2564156451608093,3.3046960801097915,3.352976515058774,3.401256950007756,3.4495373849567383,3.497817819905721,3.5460982548547033,3.5943786898036856,3.6426591247526683,3.6909395597016506,3.739219994650633,3.787500429599615,3.8357808645485973,3.8840612994975796,3.932341734446562,3.932341734446562,3.9820023682373975,4.031663002028234,4.081323635819069,4.130984269609904,4.18064490340074,4.230305537191575,4.279966139806894,4.329626773597729,4.379287407388564,4.4289480411794,4.4289480411794,4.475495226087596,4.522042403298337,4.568589588206533,4.568589588206533,4.61637556013767,4.664161532068808,4.71194748600075,4.759733457931888,4.807519429863025,4.855305401794163,4.9030913737253,4.950877345656438,4.998663299588381,5.046449271519519,5.094235243450656,5.142021197382599,5.189807169313736,5.237593141244874,5.2853790951768165,5.333165067107954,5.3809510390390916,5.428737010970229,5.428737010970229,5.4738430574267225,5.518949095939828,5.564055142396321,5.609161180909426,5.65426722736592,5.699373265879025],\"y\":[1.7923,1.8239,1.9124999999999996,2.0438,2.2028,2.3771000000000004,2.5555000000000003,2.7229,2.8326000000000002,2.8106,2.7380000000000004,2.6691000000000003,2.6124,2.5682,2.5349000000000004,2.5105000000000004,2.4934000000000003,2.482,2.4755000000000003,2.4734,2.4734,2.4835000000000003,2.5136000000000003,2.5629999999999997,2.6304999999999996,2.7141,2.8106999999999998,2.9147999999999996,3.0181000000000004,3.1073000000000004,3.1666999999999996,3.1619,3.0823,3.0823,2.9981,2.9143999999999997,2.8342,2.7618,2.702,2.6599000000000004,2.6394,2.6433999999999997,2.6734,2.7294,2.8102,2.9132,3.0351,3.1711,3.3148,3.4564000000000004,3.5793,3.6289,3.5919,3.5793,3.5793,3.439,3.1726,2.885,2.6046000000000005,2.346,2.1219,1.9457000000000004,1.8318000000000003,1.7923,1.7923,1.8241000000000005,1.9138000000000002,2.0479000000000003,2.2125000000000004,2.3966000000000003,2.5915999999999997,2.79,2.9852,2.9519,2.8808,2.8365,2.8196000000000003,2.83,2.8669000000000002,2.9291,3.0147000000000004,3.1218000000000004,3.2009999999999996,3.1581,3.1241000000000003,3.0972999999999997,3.0734000000000004,3.0734000000000004,3.0286999999999997,2.9135999999999997,2.7617000000000003,2.6021,2.4444999999999997,2.2958,2.1633000000000004,2.0563000000000002,1.9855999999999998,1.9607,1.9607,1.9702000000000002,1.9980000000000002,2.0427999999999997,2.0427999999999997,2.0331,2.0442,2.0766,2.1303,2.2045000000000003,2.2981,2.4093,2.5362,2.6765,2.8276000000000003,2.9863999999999997,3.149,3.3097000000000003,3.4596999999999998,3.583,3.6243,3.591,3.5793,2.4734,2.4486,2.3829000000000002,2.2948000000000004,2.2011000000000003,2.1140999999999996,2.0427999999999997],\"type\":\"scatter\"},{\"mode\":\"lines\",\"name\":\"band 18\",\"x\":[0.0,0.0478872804126051,0.0957745608252102,0.1436618412378153,0.1915491216504204,0.23943640206302552,0.2873236824756306,0.3352109628882357,0.3830982433008408,0.4309855237134459,0.4788727859288848,0.52676006634149,0.5746473467540951,0.6225346271667003,0.6704219075793054,0.7183091879919103,0.7661964684045154,0.8140837488171206,0.8619710292297257,0.9098583096423308,0.9098583096423308,0.9569885861732094,1.0041188627040878,1.0512491392349663,1.0983794157658449,1.1455096922967234,1.1926399376520829,1.2397702141829614,1.2869004907138402,1.3340307672447187,1.3811610437755972,1.4282913203064758,1.4754215968373545,1.4754215968373545,1.5250822343582693,1.5747428718791838,1.6244035094000986,1.6740641157454943,1.7237247532664088,1.7733853907873236,1.8230460283082381,1.872706665829153,1.9223673033500674,1.9720279096954632,2.0216885472163777,2.0713491847372922,2.121009822258207,2.1706704597791213,2.220331097300036,2.2699917348209504,2.319652341166346,2.3693129786872604,2.418973616208175,2.4686342537290895,2.4686342537290895,2.513249577372131,2.5578648929844148,2.6024802166274563,2.64709553223974,2.6917108558827816,2.7363261714950653,2.780941495138107,2.8255568107503906,2.870172134393432,2.870172134393432,2.9184525693424144,2.9667330042913966,3.015013439240379,3.063293874189361,3.1115743091383434,3.1598547440873257,3.208135179036308,3.2564156451608093,3.3046960801097915,3.352976515058774,3.401256950007756,3.4495373849567383,3.497817819905721,3.5460982548547033,3.5943786898036856,3.6426591247526683,3.6909395597016506,3.739219994650633,3.787500429599615,3.8357808645485973,3.8840612994975796,3.932341734446562,3.932341734446562,3.9820023682373975,4.031663002028234,4.081323635819069,4.130984269609904,4.18064490340074,4.230305537191575,4.279966139806894,4.329626773597729,4.379287407388564,4.4289480411794,4.4289480411794,4.475495226087596,4.522042403298337,4.568589588206533,4.568589588206533,4.61637556013767,4.664161532068808,4.71194748600075,4.759733457931888,4.807519429863025,4.855305401794163,4.9030913737253,4.950877345656438,4.998663299588381,5.046449271519519,5.094235243450656,5.142021197382599,5.189807169313736,5.237593141244874,5.2853790951768165,5.333165067107954,5.3809510390390916,5.428737010970229,5.428737010970229,5.4738430574267225,5.518949095939828,5.564055142396321,5.609161180909426,5.65426722736592,5.699373265879025],\"y\":[3.917,3.9466,3.9684999999999997,3.8098,3.6302000000000003,3.4552000000000005,3.2948000000000004,3.1612999999999998,3.0971,3.1711,3.295,3.4073,3.4907000000000004,3.5343,3.5353000000000003,3.5102,3.4789000000000003,3.4522000000000004,3.4349,3.4288999999999996,3.4288999999999996,3.4442000000000004,3.4833,3.5328,3.5833000000000004,3.6298000000000004,3.5942,3.5018000000000002,3.4110000000000005,3.3246,3.2420999999999998,3.1887,3.1817,3.1817,3.1604,3.1393000000000004,3.1271000000000004,3.1290000000000004,3.1477000000000004,3.1851000000000003,3.2419000000000002,3.3179999999999996,3.4120999999999997,3.521,3.6390000000000002,3.7553,3.8466000000000005,3.8734,3.8304,3.7586000000000004,3.6868,3.6578,3.6805000000000003,3.6801000000000004,3.6801000000000004,3.6858000000000004,3.7015000000000002,3.7267,3.76,3.7991,3.8405000000000005,3.8787000000000003,3.9066,3.917,3.917,3.9486999999999997,3.9962999999999997,3.8239,3.6449,3.4717000000000002,3.3116000000000003,3.1695,3.0487,3.1699,3.3369,3.4789000000000003,3.5896,3.5764000000000005,3.4777000000000005,3.3912000000000004,3.3167,3.2536000000000005,3.248,3.3912000000000004,3.4688,3.3678,3.2541,3.2541,3.1486,3.1082,3.1029,3.1077000000000004,3.1165000000000003,3.1264000000000003,3.1357,3.143,3.1475,3.1491,3.1491,3.1616999999999997,3.1978999999999997,3.2526,3.2526,3.2819000000000003,3.3045,3.3190999999999997,3.3304,3.3465,3.3752000000000004,3.4219999999999997,3.4894,3.5769,3.6809000000000003,3.7933000000000003,3.8849,3.8409000000000004,3.7579000000000002,3.6845999999999997,3.6619,3.6806,3.6801000000000004,3.4288999999999996,3.4293000000000005,3.4219,3.3962000000000003,3.3539000000000003,3.3034,3.2526],\"type\":\"scatter\"},{\"mode\":\"lines\",\"name\":\"band 19\",\"x\":[0.0,0.0478872804126051,0.0957745608252102,0.1436618412378153,0.1915491216504204,0.23943640206302552,0.2873236824756306,0.3352109628882357,0.3830982433008408,0.4309855237134459,0.4788727859288848,0.52676006634149,0.5746473467540951,0.6225346271667003,0.6704219075793054,0.7183091879919103,0.7661964684045154,0.8140837488171206,0.8619710292297257,0.9098583096423308,0.9098583096423308,0.9569885861732094,1.0041188627040878,1.0512491392349663,1.0983794157658449,1.1455096922967234,1.1926399376520829,1.2397702141829614,1.2869004907138402,1.3340307672447187,1.3811610437755972,1.4282913203064758,1.4754215968373545,1.4754215968373545,1.5250822343582693,1.5747428718791838,1.6244035094000986,1.6740641157454943,1.7237247532664088,1.7733853907873236,1.8230460283082381,1.872706665829153,1.9223673033500674,1.9720279096954632,2.0216885472163777,2.0713491847372922,2.121009822258207,2.1706704597791213,2.220331097300036,2.2699917348209504,2.319652341166346,2.3693129786872604,2.418973616208175,2.4686342537290895,2.4686342537290895,2.513249577372131,2.5578648929844148,2.6024802166274563,2.64709553223974,2.6917108558827816,2.7363261714950653,2.780941495138107,2.8255568107503906,2.870172134393432,2.870172134393432,2.9184525693424144,2.9667330042913966,3.015013439240379,3.063293874189361,3.1115743091383434,3.1598547440873257,3.208135179036308,3.2564156451608093,3.3046960801097915,3.352976515058774,3.401256950007756,3.4495373849567383,3.497817819905721,3.5460982548547033,3.5943786898036856,3.6426591247526683,3.6909395597016506,3.739219994650633,3.787500429599615,3.8357808645485973,3.8840612994975796,3.932341734446562,3.932341734446562,3.9820023682373975,4.031663002028234,4.081323635819069,4.130984269609904,4.18064490340074,4.230305537191575,4.279966139806894,4.329626773597729,4.379287407388564,4.4289480411794,4.4289480411794,4.475495226087596,4.522042403298337,4.568589588206533,4.568589588206533,4.61637556013767,4.664161532068808,4.71194748600075,4.759733457931888,4.807519429863025,4.855305401794163,4.9030913737253,4.950877345656438,4.998663299588381,5.046449271519519,5.094235243450656,5.142021197382599,5.189807169313736,5.237593141244874,5.2853790951768165,5.333165067107954,5.3809510390390916,5.428737010970229,5.428737010970229,5.4738430574267225,5.518949095939828,5.564055142396321,5.609161180909426,5.65426722736592,5.699373265879025],\"y\":[4.1987,4.1401,4.0671,4.1832,4.311,4.378,4.373,4.3255,4.2557,4.1731,4.084,3.9958,3.9211,3.8765,3.8715,3.8933999999999997,3.9203,3.9348,3.9383999999999997,3.9392000000000005,3.9392000000000005,3.9621000000000004,3.9409,3.8749000000000002,3.7919,3.7035,3.6948999999999996,3.7464000000000004,3.8030999999999997,3.8632,3.9265,3.9935,4.0642000000000005,4.0642000000000005,4.1415,4.2182,4.2866,4.336,4.3561,4.3432,4.3036,4.2491,4.192,4.1421,4.1056,4.0853,4.0811,4.0888,4.101,4.1065000000000005,4.0984,4.0937,4.1162,4.1352,4.1352,4.2562,4.3937,4.3587,4.3191,4.2804,4.2465,4.2205,4.2042,4.1987,4.1987,4.1377,4.0355,4.1479,4.2463,4.3229,4.3656,4.3334,4.2259,4.0884,3.9475,3.8129999999999997,3.6895,3.6673999999999998,3.7089999999999996,3.7202,3.7062,3.6719999999999997,3.6207000000000003,3.5530999999999997,3.5484999999999998,3.7169999999999996,3.8914999999999997,3.8914999999999997,4.0678,4.2243,4.353,4.4688,4.5867,4.3985,4.2242,4.0872,3.9999000000000002,3.9699999999999998,3.9699999999999998,3.9634,3.9459999999999997,3.9237,3.9237,3.8852,3.8657000000000004,3.8669000000000002,3.8859000000000004,3.9171000000000005,3.9552000000000005,3.9953000000000003,4.0327,4.0592,4.0609,4.0248,3.9737999999999998,4.0258,4.0805,4.0933,4.0943000000000005,4.1174,4.1352,3.9392000000000005,3.9448999999999996,3.9469000000000003,3.9404000000000003,3.9314,3.9245,3.9237],\"type\":\"scatter\"},{\"mode\":\"lines\",\"name\":\"band 20\",\"x\":[0.0,0.0478872804126051,0.0957745608252102,0.1436618412378153,0.1915491216504204,0.23943640206302552,0.2873236824756306,0.3352109628882357,0.3830982433008408,0.4309855237134459,0.4788727859288848,0.52676006634149,0.5746473467540951,0.6225346271667003,0.6704219075793054,0.7183091879919103,0.7661964684045154,0.8140837488171206,0.8619710292297257,0.9098583096423308,0.9098583096423308,0.9569885861732094,1.0041188627040878,1.0512491392349663,1.0983794157658449,1.1455096922967234,1.1926399376520829,1.2397702141829614,1.2869004907138402,1.3340307672447187,1.3811610437755972,1.4282913203064758,1.4754215968373545,1.4754215968373545,1.5250822343582693,1.5747428718791838,1.6244035094000986,1.6740641157454943,1.7237247532664088,1.7733853907873236,1.8230460283082381,1.872706665829153,1.9223673033500674,1.9720279096954632,2.0216885472163777,2.0713491847372922,2.121009822258207,2.1706704597791213,2.220331097300036,2.2699917348209504,2.319652341166346,2.3693129786872604,2.418973616208175,2.4686342537290895,2.4686342537290895,2.513249577372131,2.5578648929844148,2.6024802166274563,2.64709553223974,2.6917108558827816,2.7363261714950653,2.780941495138107,2.8255568107503906,2.870172134393432,2.870172134393432,2.9184525693424144,2.9667330042913966,3.015013439240379,3.063293874189361,3.1115743091383434,3.1598547440873257,3.208135179036308,3.2564156451608093,3.3046960801097915,3.352976515058774,3.401256950007756,3.4495373849567383,3.497817819905721,3.5460982548547033,3.5943786898036856,3.6426591247526683,3.6909395597016506,3.739219994650633,3.787500429599615,3.8357808645485973,3.8840612994975796,3.932341734446562,3.932341734446562,3.9820023682373975,4.031663002028234,4.081323635819069,4.130984269609904,4.18064490340074,4.230305537191575,4.279966139806894,4.329626773597729,4.379287407388564,4.4289480411794,4.4289480411794,4.475495226087596,4.522042403298337,4.568589588206533,4.568589588206533,4.61637556013767,4.664161532068808,4.71194748600075,4.759733457931888,4.807519429863025,4.855305401794163,4.9030913737253,4.950877345656438,4.998663299588381,5.046449271519519,5.094235243450656,5.142021197382599,5.189807169313736,5.237593141244874,5.2853790951768165,5.333165067107954,5.3809510390390916,5.428737010970229,5.428737010970229,5.4738430574267225,5.518949095939828,5.564055142396321,5.609161180909426,5.65426722736592,5.699373265879025],\"y\":[4.1987,4.2124,4.2532,4.3196,4.4094,4.519,4.6434,4.7747,4.6248000000000005,4.4845,4.3604,4.2542,4.1652000000000005,4.0924000000000005,4.0365,3.9989999999999997,3.9818,3.9869000000000003,4.0007,4.0067,4.0067,3.9979000000000005,4.0665000000000004,4.2238,4.4454,4.57,4.3945,4.2441,4.1273,4.0558,4.0426,4.0916,4.1889,4.1889,4.3184000000000005,4.4497,4.5595,4.627,4.6404,4.6058,4.543,4.4715,4.4042,4.347,4.3005,4.2628,4.2412,4.2673,4.3448,4.4192,4.4456,4.4409,4.4313,4.4272,4.4272,4.4183,4.3937,4.3587,4.3191,4.2804,4.2466,4.2205,4.2042,4.1987,4.1987,4.212,4.2559000000000005,4.3468,4.5038,4.7044,4.7981,4.8385,4.877300000000001,4.9026000000000005,4.8913,4.8235,4.7147,4.5938,4.4786,4.3786000000000005,4.2989,4.2419,4.2084,4.1976,4.208,4.2385,4.2896,4.2896,4.3694,4.49,4.6565,4.792,4.5937,4.712,4.8436,4.972700000000001,5.0782,5.121899999999999,5.121899999999999,5.080100000000001,4.967,4.8106,4.8106,4.882000000000001,4.9593,5.037400000000001,5.106000000000001,5.0401,4.957400000000001,4.8793999999999995,4.7844,4.6651,4.5769,4.5386,4.5518,4.5275,4.4915,4.4632,4.4431,4.4312000000000005,4.4272,4.0067,4.0259,4.1006,4.2338000000000005,4.4091000000000005,4.6079,4.8106],\"type\":\"scatter\"},{\"line\":{\"color\":\"red\",\"width\":3},\"mode\":\"lines+markers\",\"name\":\"Max Dispersion VBM (Bande 16)\",\"x\":[4.568589588206533,5.428737010970229],\"y\":[-0.009700000000000042,-0.3035000000000001],\"type\":\"scatter\"},{\"line\":{\"color\":\"green\",\"width\":3},\"mode\":\"lines+markers\",\"name\":\"Min Dispersion VBM (Bande 16)\",\"x\":[4.4289480411794,4.568589588206533],\"y\":[0.0,-0.009700000000000042],\"type\":\"scatter\"},{\"line\":{\"color\":\"blue\",\"width\":3},\"mode\":\"lines+markers\",\"name\":\"Max Dispersion CBM (Bande 17)\",\"x\":[2.4686342537290895,2.870172134393432],\"y\":[3.5793,1.7923],\"type\":\"scatter\"},{\"line\":{\"color\":\"purple\",\"width\":3},\"mode\":\"lines+markers\",\"name\":\"Min Dispersion CBM (Bande 17)\",\"x\":[4.4289480411794,4.568589588206533],\"y\":[1.9607,2.0427999999999997],\"type\":\"scatter\"}],                        {\"template\":{\"data\":{\"histogram2dcontour\":[{\"type\":\"histogram2dcontour\",\"colorbar\":{\"outlinewidth\":0,\"ticks\":\"\"},\"colorscale\":[[0.0,\"#0d0887\"],[0.1111111111111111,\"#46039f\"],[0.2222222222222222,\"#7201a8\"],[0.3333333333333333,\"#9c179e\"],[0.4444444444444444,\"#bd3786\"],[0.5555555555555556,\"#d8576b\"],[0.6666666666666666,\"#ed7953\"],[0.7777777777777778,\"#fb9f3a\"],[0.8888888888888888,\"#fdca26\"],[1.0,\"#f0f921\"]]}],\"choropleth\":[{\"type\":\"choropleth\",\"colorbar\":{\"outlinewidth\":0,\"ticks\":\"\"}}],\"histogram2d\":[{\"type\":\"histogram2d\",\"colorbar\":{\"outlinewidth\":0,\"ticks\":\"\"},\"colorscale\":[[0.0,\"#0d0887\"],[0.1111111111111111,\"#46039f\"],[0.2222222222222222,\"#7201a8\"],[0.3333333333333333,\"#9c179e\"],[0.4444444444444444,\"#bd3786\"],[0.5555555555555556,\"#d8576b\"],[0.6666666666666666,\"#ed7953\"],[0.7777777777777778,\"#fb9f3a\"],[0.8888888888888888,\"#fdca26\"],[1.0,\"#f0f921\"]]}],\"heatmap\":[{\"type\":\"heatmap\",\"colorbar\":{\"outlinewidth\":0,\"ticks\":\"\"},\"colorscale\":[[0.0,\"#0d0887\"],[0.1111111111111111,\"#46039f\"],[0.2222222222222222,\"#7201a8\"],[0.3333333333333333,\"#9c179e\"],[0.4444444444444444,\"#bd3786\"],[0.5555555555555556,\"#d8576b\"],[0.6666666666666666,\"#ed7953\"],[0.7777777777777778,\"#fb9f3a\"],[0.8888888888888888,\"#fdca26\"],[1.0,\"#f0f921\"]]}],\"heatmapgl\":[{\"type\":\"heatmapgl\",\"colorbar\":{\"outlinewidth\":0,\"ticks\":\"\"},\"colorscale\":[[0.0,\"#0d0887\"],[0.1111111111111111,\"#46039f\"],[0.2222222222222222,\"#7201a8\"],[0.3333333333333333,\"#9c179e\"],[0.4444444444444444,\"#bd3786\"],[0.5555555555555556,\"#d8576b\"],[0.6666666666666666,\"#ed7953\"],[0.7777777777777778,\"#fb9f3a\"],[0.8888888888888888,\"#fdca26\"],[1.0,\"#f0f921\"]]}],\"contourcarpet\":[{\"type\":\"contourcarpet\",\"colorbar\":{\"outlinewidth\":0,\"ticks\":\"\"}}],\"contour\":[{\"type\":\"contour\",\"colorbar\":{\"outlinewidth\":0,\"ticks\":\"\"},\"colorscale\":[[0.0,\"#0d0887\"],[0.1111111111111111,\"#46039f\"],[0.2222222222222222,\"#7201a8\"],[0.3333333333333333,\"#9c179e\"],[0.4444444444444444,\"#bd3786\"],[0.5555555555555556,\"#d8576b\"],[0.6666666666666666,\"#ed7953\"],[0.7777777777777778,\"#fb9f3a\"],[0.8888888888888888,\"#fdca26\"],[1.0,\"#f0f921\"]]}],\"surface\":[{\"type\":\"surface\",\"colorbar\":{\"outlinewidth\":0,\"ticks\":\"\"},\"colorscale\":[[0.0,\"#0d0887\"],[0.1111111111111111,\"#46039f\"],[0.2222222222222222,\"#7201a8\"],[0.3333333333333333,\"#9c179e\"],[0.4444444444444444,\"#bd3786\"],[0.5555555555555556,\"#d8576b\"],[0.6666666666666666,\"#ed7953\"],[0.7777777777777778,\"#fb9f3a\"],[0.8888888888888888,\"#fdca26\"],[1.0,\"#f0f921\"]]}],\"mesh3d\":[{\"type\":\"mesh3d\",\"colorbar\":{\"outlinewidth\":0,\"ticks\":\"\"}}],\"scatter\":[{\"fillpattern\":{\"fillmode\":\"overlay\",\"size\":10,\"solidity\":0.2},\"type\":\"scatter\"}],\"parcoords\":[{\"type\":\"parcoords\",\"line\":{\"colorbar\":{\"outlinewidth\":0,\"ticks\":\"\"}}}],\"scatterpolargl\":[{\"type\":\"scatterpolargl\",\"marker\":{\"colorbar\":{\"outlinewidth\":0,\"ticks\":\"\"}}}],\"bar\":[{\"error_x\":{\"color\":\"#2a3f5f\"},\"error_y\":{\"color\":\"#2a3f5f\"},\"marker\":{\"line\":{\"color\":\"#E5ECF6\",\"width\":0.5},\"pattern\":{\"fillmode\":\"overlay\",\"size\":10,\"solidity\":0.2}},\"type\":\"bar\"}],\"scattergeo\":[{\"type\":\"scattergeo\",\"marker\":{\"colorbar\":{\"outlinewidth\":0,\"ticks\":\"\"}}}],\"scatterpolar\":[{\"type\":\"scatterpolar\",\"marker\":{\"colorbar\":{\"outlinewidth\":0,\"ticks\":\"\"}}}],\"histogram\":[{\"marker\":{\"pattern\":{\"fillmode\":\"overlay\",\"size\":10,\"solidity\":0.2}},\"type\":\"histogram\"}],\"scattergl\":[{\"type\":\"scattergl\",\"marker\":{\"colorbar\":{\"outlinewidth\":0,\"ticks\":\"\"}}}],\"scatter3d\":[{\"type\":\"scatter3d\",\"line\":{\"colorbar\":{\"outlinewidth\":0,\"ticks\":\"\"}},\"marker\":{\"colorbar\":{\"outlinewidth\":0,\"ticks\":\"\"}}}],\"scattermapbox\":[{\"type\":\"scattermapbox\",\"marker\":{\"colorbar\":{\"outlinewidth\":0,\"ticks\":\"\"}}}],\"scatterternary\":[{\"type\":\"scatterternary\",\"marker\":{\"colorbar\":{\"outlinewidth\":0,\"ticks\":\"\"}}}],\"scattercarpet\":[{\"type\":\"scattercarpet\",\"marker\":{\"colorbar\":{\"outlinewidth\":0,\"ticks\":\"\"}}}],\"carpet\":[{\"aaxis\":{\"endlinecolor\":\"#2a3f5f\",\"gridcolor\":\"white\",\"linecolor\":\"white\",\"minorgridcolor\":\"white\",\"startlinecolor\":\"#2a3f5f\"},\"baxis\":{\"endlinecolor\":\"#2a3f5f\",\"gridcolor\":\"white\",\"linecolor\":\"white\",\"minorgridcolor\":\"white\",\"startlinecolor\":\"#2a3f5f\"},\"type\":\"carpet\"}],\"table\":[{\"cells\":{\"fill\":{\"color\":\"#EBF0F8\"},\"line\":{\"color\":\"white\"}},\"header\":{\"fill\":{\"color\":\"#C8D4E3\"},\"line\":{\"color\":\"white\"}},\"type\":\"table\"}],\"barpolar\":[{\"marker\":{\"line\":{\"color\":\"#E5ECF6\",\"width\":0.5},\"pattern\":{\"fillmode\":\"overlay\",\"size\":10,\"solidity\":0.2}},\"type\":\"barpolar\"}],\"pie\":[{\"automargin\":true,\"type\":\"pie\"}]},\"layout\":{\"autotypenumbers\":\"strict\",\"colorway\":[\"#636efa\",\"#EF553B\",\"#00cc96\",\"#ab63fa\",\"#FFA15A\",\"#19d3f3\",\"#FF6692\",\"#B6E880\",\"#FF97FF\",\"#FECB52\"],\"font\":{\"color\":\"#2a3f5f\"},\"hovermode\":\"closest\",\"hoverlabel\":{\"align\":\"left\"},\"paper_bgcolor\":\"white\",\"plot_bgcolor\":\"#E5ECF6\",\"polar\":{\"bgcolor\":\"#E5ECF6\",\"angularaxis\":{\"gridcolor\":\"white\",\"linecolor\":\"white\",\"ticks\":\"\"},\"radialaxis\":{\"gridcolor\":\"white\",\"linecolor\":\"white\",\"ticks\":\"\"}},\"ternary\":{\"bgcolor\":\"#E5ECF6\",\"aaxis\":{\"gridcolor\":\"white\",\"linecolor\":\"white\",\"ticks\":\"\"},\"baxis\":{\"gridcolor\":\"white\",\"linecolor\":\"white\",\"ticks\":\"\"},\"caxis\":{\"gridcolor\":\"white\",\"linecolor\":\"white\",\"ticks\":\"\"}},\"coloraxis\":{\"colorbar\":{\"outlinewidth\":0,\"ticks\":\"\"}},\"colorscale\":{\"sequential\":[[0.0,\"#0d0887\"],[0.1111111111111111,\"#46039f\"],[0.2222222222222222,\"#7201a8\"],[0.3333333333333333,\"#9c179e\"],[0.4444444444444444,\"#bd3786\"],[0.5555555555555556,\"#d8576b\"],[0.6666666666666666,\"#ed7953\"],[0.7777777777777778,\"#fb9f3a\"],[0.8888888888888888,\"#fdca26\"],[1.0,\"#f0f921\"]],\"sequentialminus\":[[0.0,\"#0d0887\"],[0.1111111111111111,\"#46039f\"],[0.2222222222222222,\"#7201a8\"],[0.3333333333333333,\"#9c179e\"],[0.4444444444444444,\"#bd3786\"],[0.5555555555555556,\"#d8576b\"],[0.6666666666666666,\"#ed7953\"],[0.7777777777777778,\"#fb9f3a\"],[0.8888888888888888,\"#fdca26\"],[1.0,\"#f0f921\"]],\"diverging\":[[0,\"#8e0152\"],[0.1,\"#c51b7d\"],[0.2,\"#de77ae\"],[0.3,\"#f1b6da\"],[0.4,\"#fde0ef\"],[0.5,\"#f7f7f7\"],[0.6,\"#e6f5d0\"],[0.7,\"#b8e186\"],[0.8,\"#7fbc41\"],[0.9,\"#4d9221\"],[1,\"#276419\"]]},\"xaxis\":{\"gridcolor\":\"white\",\"linecolor\":\"white\",\"ticks\":\"\",\"title\":{\"standoff\":15},\"zerolinecolor\":\"white\",\"automargin\":true,\"zerolinewidth\":2},\"yaxis\":{\"gridcolor\":\"white\",\"linecolor\":\"white\",\"ticks\":\"\",\"title\":{\"standoff\":15},\"zerolinecolor\":\"white\",\"automargin\":true,\"zerolinewidth\":2},\"scene\":{\"xaxis\":{\"backgroundcolor\":\"#E5ECF6\",\"gridcolor\":\"white\",\"linecolor\":\"white\",\"showbackground\":true,\"ticks\":\"\",\"zerolinecolor\":\"white\",\"gridwidth\":2},\"yaxis\":{\"backgroundcolor\":\"#E5ECF6\",\"gridcolor\":\"white\",\"linecolor\":\"white\",\"showbackground\":true,\"ticks\":\"\",\"zerolinecolor\":\"white\",\"gridwidth\":2},\"zaxis\":{\"backgroundcolor\":\"#E5ECF6\",\"gridcolor\":\"white\",\"linecolor\":\"white\",\"showbackground\":true,\"ticks\":\"\",\"zerolinecolor\":\"white\",\"gridwidth\":2}},\"shapedefaults\":{\"line\":{\"color\":\"#2a3f5f\"}},\"annotationdefaults\":{\"arrowcolor\":\"#2a3f5f\",\"arrowhead\":0,\"arrowwidth\":1},\"geo\":{\"bgcolor\":\"white\",\"landcolor\":\"#E5ECF6\",\"subunitcolor\":\"white\",\"showland\":true,\"showlakes\":true,\"lakecolor\":\"white\"},\"title\":{\"x\":0.05},\"mapbox\":{\"style\":\"light\"}}},\"shapes\":[{\"line\":{\"color\":\"black\",\"width\":1},\"type\":\"line\",\"x0\":0.9098583096423308,\"x1\":0.9098583096423308,\"xref\":\"x\",\"y0\":0,\"y1\":1,\"yref\":\"y domain\"},{\"line\":{\"color\":\"black\",\"width\":1},\"type\":\"line\",\"x0\":1.4754215968373545,\"x1\":1.4754215968373545,\"xref\":\"x\",\"y0\":0,\"y1\":1,\"yref\":\"y domain\"},{\"line\":{\"color\":\"black\",\"width\":1},\"type\":\"line\",\"x0\":2.4686342537290895,\"x1\":2.4686342537290895,\"xref\":\"x\",\"y0\":0,\"y1\":1,\"yref\":\"y domain\"},{\"line\":{\"color\":\"black\",\"width\":1},\"type\":\"line\",\"x0\":2.870172134393432,\"x1\":2.870172134393432,\"xref\":\"x\",\"y0\":0,\"y1\":1,\"yref\":\"y domain\"},{\"line\":{\"color\":\"black\",\"width\":1},\"type\":\"line\",\"x0\":3.932341734446562,\"x1\":3.932341734446562,\"xref\":\"x\",\"y0\":0,\"y1\":1,\"yref\":\"y domain\"},{\"line\":{\"color\":\"black\",\"width\":1},\"type\":\"line\",\"x0\":4.4289480411794,\"x1\":4.4289480411794,\"xref\":\"x\",\"y0\":0,\"y1\":1,\"yref\":\"y domain\"},{\"line\":{\"color\":\"black\",\"width\":1},\"type\":\"line\",\"x0\":4.568589588206533,\"x1\":4.568589588206533,\"xref\":\"x\",\"y0\":0,\"y1\":1,\"yref\":\"y domain\"},{\"line\":{\"color\":\"black\",\"width\":1},\"type\":\"line\",\"x0\":5.428737010970229,\"x1\":5.428737010970229,\"xref\":\"x\",\"y0\":0,\"y1\":1,\"yref\":\"y domain\"}],\"xaxis\":{\"mirror\":true,\"showgrid\":false,\"ticks\":\"inside\",\"tickvals\":[0.0,0.9098583096423308,1.4754215968373545,2.4686342537290895,2.870172134393432,3.932341734446562,4.4289480411794,4.568589588206533,5.428737010970229,5.699373265879025],\"ticktext\":[\"Î“\",\"L\",\"B_1|B\",\"Z\",\"Î“\",\"X|Q\",\"F\",\"P_1\",\"Z|L\",\"P\"],\"ticklen\":0,\"title\":{\"text\":\"Wave Vector\"},\"range\":[0.0,5.699373265879025]},\"yaxis\":{\"mirror\":true,\"showgrid\":false,\"ticks\":\"inside\",\"ticklen\":10,\"range\":[-2,4],\"title\":{\"text\":\"E - E\\u003csub\\u003ef\\u003c\\u002fsub\\u003e (eV)\"}}},                        {\"responsive\": true}                    ).then(function(){\n",
       "                            \n",
       "var gd = document.getElementById('199bf0c5-47c5-42cc-85b2-dd840a1a4e45');\n",
       "var x = new MutationObserver(function (mutations, observer) {{\n",
       "        var display = window.getComputedStyle(gd).display;\n",
       "        if (!display || display === 'none') {{\n",
       "            console.log([gd, 'removed!']);\n",
       "            Plotly.purge(gd);\n",
       "            observer.disconnect();\n",
       "        }}\n",
       "}});\n",
       "\n",
       "// Listen for the removal of the full notebook cells\n",
       "var notebookContainer = gd.closest('#notebook-container');\n",
       "if (notebookContainer) {{\n",
       "    x.observe(notebookContainer, {childList: true});\n",
       "}}\n",
       "\n",
       "// Listen for the clearing of the current output cell\n",
       "var outputEl = gd.closest('.output');\n",
       "if (outputEl) {{\n",
       "    x.observe(outputEl, {childList: true});\n",
       "}}\n",
       "\n",
       "                        })                };                });            </script>        </div>"
      ]
     },
     "metadata": {},
     "output_type": "display_data"
    }
   ],
   "source": [
    "# Ajout des flèches indiquant la dispersion maximale et minimale\n",
    "fig_el_bs.add_trace(go.Scatter(\n",
    "    x=[xvals[max_vbm_idx[0]], xvals[max_vbm_idx[1]]],\n",
    "    y=[yvals_vbm[max_vbm_idx[0]], yvals_vbm[max_vbm_idx[1]]],\n",
    "    mode=\"lines+markers\", line=dict(color=\"red\", width=3),\n",
    "    name=\"Max Dispersion VBM (Bande 16)\"))\n",
    "\n",
    "fig_el_bs.add_trace(go.Scatter(\n",
    "    x=[xvals[min_vbm_idx[0]], xvals[min_vbm_idx[1]]],\n",
    "    y=[yvals_vbm[min_vbm_idx[0]], yvals_vbm[min_vbm_idx[1]]],\n",
    "    mode=\"lines+markers\", line=dict(color=\"green\", width=3),\n",
    "    name=\"Min Dispersion VBM (Bande 16)\"))\n",
    "\n",
    "fig_el_bs.add_trace(go.Scatter(\n",
    "    x=[xvals[max_cbm_idx[0]], xvals[max_cbm_idx[1]]],\n",
    "    y=[yvals_cbm[max_cbm_idx[0]], yvals_cbm[max_cbm_idx[1]]],\n",
    "    mode=\"lines+markers\", line=dict(color=\"blue\", width=3),\n",
    "    name=\"Max Dispersion CBM (Bande 17)\"))\n",
    "\n",
    "fig_el_bs.add_trace(go.Scatter(\n",
    "    x=[xvals[min_cbm_idx[0]], xvals[min_cbm_idx[1]]],\n",
    "    y=[yvals_cbm[min_cbm_idx[0]], yvals_cbm[min_cbm_idx[1]]],\n",
    "    mode=\"lines+markers\", line=dict(color=\"purple\", width=3),\n",
    "    name=\"Min Dispersion CBM (Bande 17)\"))\n",
    "\n",
    "fig_el_bs.update_layout(xaxis_range=[xvals[0], xvals[-1]])\n",
    "fig_el_bs.show()\n"
   ]
  },
  {
   "cell_type": "markdown",
   "id": "08dee7ea",
   "metadata": {},
   "source": [
    "**3) Calcul des masses effectives**"
   ]
  },
  {
   "cell_type": "code",
   "execution_count": 117,
   "id": "a3c63c44",
   "metadata": {},
   "outputs": [],
   "source": [
    "# Calcul de la masse effective en supposant une dispersion parabolique\n",
    "hbar2 = ((6.62607004*10**(-34))/(2*np.pi))**2\n",
    "electronvolt = 1.602176634*10**(-19)\n",
    "angstrom = 10**(-10) "
   ]
  },
  {
   "cell_type": "code",
   "execution_count": 118,
   "id": "47020f4b",
   "metadata": {},
   "outputs": [
    {
     "name": "stderr",
     "output_type": "stream",
     "text": [
      "/tmp/ipykernel_2009443/4228186019.py:7: RankWarning:\n",
      "\n",
      "Polyfit may be poorly conditioned\n",
      "\n"
     ]
    }
   ],
   "source": [
    "ks_vbm = [xvals[i] for i in vbm_indices[-2:]] + [xvals[vbm_indices[0] - 1]]\n",
    "es_vbm = [yvals_vbm[i] for i in vbm_indices[-2:]] + [yvals_vbm[vbm_indices[0] - 1]]\n",
    "\n",
    "ks_cbm = [xvals[i] for i in cbm_indices[:2]] + [xvals[cbm_indices[-1] + 1]]\n",
    "es_cbm = [yvals_cbm[i] for i in cbm_indices[:2]] + [yvals_cbm[cbm_indices[-1] + 1]]\n",
    "\n",
    "a_vbm, _, _ = np.polyfit(np.array(ks_vbm), es_vbm, 2)\n",
    "a_cbm, _, _ = np.polyfit(np.array(ks_cbm), es_cbm, 2)"
   ]
  },
  {
   "cell_type": "code",
   "execution_count": 119,
   "id": "c6478c82",
   "metadata": {},
   "outputs": [
    {
     "name": "stdout",
     "output_type": "stream",
     "text": [
      "Masse effective au sommet de la bande de valence: 3.793114404297888e-27\n",
      "Masse effective à la base de la bande de conduction: 1.5378310015041937e-29\n"
     ]
    }
   ],
   "source": [
    "m_eff_vbm = hbar**2 / (2 * a_vbm * electronvolt*(angstrom)**2)\n",
    "m_eff_cbm = hbar**2 / (2 * a_cbm * electronvolt*(angstrom)**2)\n",
    "\n",
    "print(\"Masse effective au sommet de la bande de valence:\", m_eff_vbm)\n",
    "print(\"Masse effective à la base de la bande de conduction:\", m_eff_cbm)"
   ]
  },
  {
   "cell_type": "code",
   "execution_count": null,
   "id": "b49070b2",
   "metadata": {},
   "outputs": [],
   "source": []
  },
  {
   "cell_type": "code",
   "execution_count": null,
   "id": "c211121e",
   "metadata": {},
   "outputs": [],
   "source": []
  },
  {
   "cell_type": "code",
   "execution_count": null,
   "id": "97f5fe55",
   "metadata": {},
   "outputs": [],
   "source": []
  }
 ],
 "metadata": {
  "kernelspec": {
   "display_name": "Python 3 (ipykernel)",
   "language": "python",
   "name": "python3"
  },
  "language_info": {
   "codemirror_mode": {
    "name": "ipython",
    "version": 3
   },
   "file_extension": ".py",
   "mimetype": "text/x-python",
   "name": "python",
   "nbconvert_exporter": "python",
   "pygments_lexer": "ipython3",
   "version": "3.9.13"
  }
 },
 "nbformat": 4,
 "nbformat_minor": 5
}
