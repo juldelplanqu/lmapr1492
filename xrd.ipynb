{
 "cells": [
  {
   "cell_type": "code",
   "execution_count": 8,
   "id": "e024bf26",
   "metadata": {},
   "outputs": [],
   "source": [
    "import numpy as np\n",
    "from pymatgen.analysis.diffraction.xrd import XRDCalculator\n",
    "from mp_api.client import MPRester\n",
    "from pymatgen.symmetry.analyzer import SpacegroupAnalyzer"
   ]
  },
  {
   "cell_type": "code",
   "execution_count": 4,
   "id": "31ef7000",
   "metadata": {},
   "outputs": [],
   "source": [
    "mp_key = \"ER5V8i0JUw7k31Nk5IpkvogP61BDz9cw\"\n",
    "mp_id = \"mp-149\""
   ]
  },
  {
   "cell_type": "code",
   "execution_count": 6,
   "id": "f37f6c3d",
   "metadata": {},
   "outputs": [
    {
     "data": {
      "application/vnd.jupyter.widget-view+json": {
       "model_id": "10ab1c9314674b5db2e28e8f54937167",
       "version_major": 2,
       "version_minor": 0
      },
      "text/plain": [
       "Retrieving MaterialsDoc documents:   0%|          | 0/1 [00:00<?, ?it/s]"
      ]
     },
     "metadata": {},
     "output_type": "display_data"
    }
   ],
   "source": [
    "with MPRester(mp_key) as m:\n",
    "    prim_struc = m.get_structure_by_material_id(mp_id)\n",
    "    \n",
    "conv_struc = SpacegroupAnalyzer(prim_struc).get_conventional_standard_structure()"
   ]
  },
  {
   "cell_type": "code",
   "execution_count": 10,
   "id": "9765406d",
   "metadata": {},
   "outputs": [
    {
     "name": "stdout",
     "output_type": "stream",
     "text": [
      "3 premiers pics de diffraction :\n",
      "Angle 2θ: 28.37°, Intensité: 100.00, Indices (hkl): [{'hkl': (1, 1, 1), 'multiplicity': 8}]\n",
      "Angle 2θ: 47.19°, Intensité: 66.72, Indices (hkl): [{'hkl': (2, 2, 0), 'multiplicity': 12}]\n",
      "Angle 2θ: 55.98°, Intensité: 39.63, Indices (hkl): [{'hkl': (3, 1, 1), 'multiplicity': 24}]\n"
     ]
    }
   ],
   "source": [
    "xrd_calculator = XRDCalculator(wavelength=1.54060)\n",
    "xrd_pattern = xrd_calculator.get_pattern(conv_struc)\n",
    "angles = xrd_pattern.x\n",
    "intensities = xrd_pattern.y\n",
    "hkl_indices = xrd_pattern.hkls\n",
    "sorted_indices = np.argsort(intensities)[::-1][:3]\n",
    "print(\"3 premiers pics de diffraction :\")\n",
    "for idx in sorted_indices:\n",
    "    print(f\"Angle 2θ: {angles[idx]:.2f}°, Intensité: {intensities[idx]:.2f}, Indices (hkl): {hkl_indices[idx]}\")"
   ]
  },
  {
   "cell_type": "code",
   "execution_count": null,
   "id": "95600a98",
   "metadata": {},
   "outputs": [],
   "source": []
  }
 ],
 "metadata": {
  "kernelspec": {
   "display_name": "Python 3 (ipykernel)",
   "language": "python",
   "name": "python3"
  },
  "language_info": {
   "codemirror_mode": {
    "name": "ipython",
    "version": 3
   },
   "file_extension": ".py",
   "mimetype": "text/x-python",
   "name": "python",
   "nbconvert_exporter": "python",
   "pygments_lexer": "ipython3",
   "version": "3.9.13"
  }
 },
 "nbformat": 4,
 "nbformat_minor": 5
}
