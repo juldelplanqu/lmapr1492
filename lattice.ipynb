{
 "cells": [
  {
   "cell_type": "code",
   "execution_count": 11,
   "id": "e61a3fa7",
   "metadata": {},
   "outputs": [],
   "source": [
    "import numpy as np\n",
    "from mp_api.client import MPRester\n",
    "from pymatgen.symmetry.analyzer import SpacegroupAnalyzer"
   ]
  },
  {
   "cell_type": "code",
   "execution_count": 12,
   "id": "c1ca5d17",
   "metadata": {},
   "outputs": [],
   "source": [
    "mp_key = \"kPLAfUWZpfzd6GRd9caSEcAaWKf3DxYL\"\n",
    "mp_id = \"mp-569677 \""
   ]
  },
  {
   "cell_type": "code",
   "execution_count": 13,
   "id": "d556cd09",
   "metadata": {},
   "outputs": [
    {
     "data": {
      "application/vnd.jupyter.widget-view+json": {
       "model_id": "a14bc5508157452c8d3648c94001f9be",
       "version_major": 2,
       "version_minor": 0
      },
      "text/plain": [
       "Retrieving MaterialsDoc documents:   0%|          | 0/1 [00:00<?, ?it/s]"
      ]
     },
     "metadata": {},
     "output_type": "display_data"
    }
   ],
   "source": [
    "with MPRester(mp_key) as m:\n",
    "    prim_struc = m.get_structure_by_material_id(mp_id)\n",
    "conv_struc = SpacegroupAnalyzer(prim_struc).get_conventional_standard_structure()\n",
    "symmops = SpacegroupAnalyzer(conv_struc).get_space_group_operations()"
   ]
  },
  {
   "cell_type": "code",
   "execution_count": 14,
   "id": "c0748b8c",
   "metadata": {},
   "outputs": [
    {
     "name": "stdout",
     "output_type": "stream",
     "text": [
      "Réseau direct :\n",
      "Vecteur a1 : [ 2.01107748 -3.48328837  0.        ]\n",
      "Vecteur a2 : [2.01107748 3.48328837 0.        ]\n",
      "Vecteur a3 : [ 0.          0.         23.26259039]\n",
      "Angles entre les vecteurs du réseau direct (en degrés) :\n",
      "Angle α : 90.00°\n",
      "Angle β : 90.00°\n",
      "Angle γ : 120.00°\n"
     ]
    }
   ],
   "source": [
    "\n",
    "# Récupération des vecteurs des réseaux direct et réciproque\n",
    "direct_lattice = conv_struc.lattice\n",
    "direct_basis_vectors = direct_lattice.matrix\n",
    "\n",
    "print(\"Réseau direct :\")\n",
    "for i, vec in enumerate(direct_basis_vectors):\n",
    "    print(f\"Vecteur a{i+1} : {vec}\")\n",
    "\n",
    "# Correspondance des indices avec les noms des angles\n",
    "angles_noms = { (1, 2): \"α\", (0, 2): \"β\", (0, 1): \"γ\" }\n",
    "\n",
    "print(\"Angles entre les vecteurs du réseau direct (en degrés) :\")\n",
    "for (i, j), nom in angles_noms.items():\n",
    "    u = direct_basis_vectors[i]\n",
    "    v = direct_basis_vectors[j]\n",
    "    cos_theta = np.dot(u, v) / (np.linalg.norm(u) * np.linalg.norm(v))\n",
    "    angle = np.arccos(np.clip(cos_theta, -1.0, 1.0))  # Clip pour éviter des erreurs numériques\n",
    "    print(f\"Angle {nom} : {np.degrees(angle):.2f}°\")\n",
    "\n"
   ]
  },
  {
   "cell_type": "code",
   "execution_count": 15,
   "id": "181bb809",
   "metadata": {},
   "outputs": [
    {
     "name": "stdout",
     "output_type": "stream",
     "text": [
      "\n",
      "Réseau réciproque :\n",
      "Vecteur b1 : [ 1.56214402 -0.90190427  0.        ]\n",
      "Vecteur b2 : [1.56214402 0.90190427 0.        ]\n",
      "Vecteur b3 : [0.         0.         0.27009827]\n"
     ]
    }
   ],
   "source": [
    "reciprocal_lattice = direct_lattice.reciprocal_lattice\n",
    "reciprocal_basis_vectors = reciprocal_lattice.matrix\n",
    "\n",
    "print(\"\\nRéseau réciproque :\")\n",
    "for i, vec in enumerate(reciprocal_basis_vectors):\n",
    "    print(f\"Vecteur b{i+1} : {vec}\")"
   ]
  },
  {
   "cell_type": "code",
   "execution_count": 16,
   "id": "4ee4d88e",
   "metadata": {},
   "outputs": [
    {
     "name": "stdout",
     "output_type": "stream",
     "text": [
      "Système cristallin : trigonal\n",
      "Type de maille de Bravais : rhombohedral\n",
      "Groupe ponctuel : -3m\n"
     ]
    }
   ],
   "source": [
    "spa = SpacegroupAnalyzer(conv_struc)\n",
    "crystal_system = spa.get_crystal_system()\n",
    "bravais_lattice = spa.get_lattice_type()\n",
    "point_group = spa.get_point_group_symbol()\n",
    "\n",
    "print(f\"Système cristallin : {crystal_system}\")\n",
    "print(f\"Type de maille de Bravais : {bravais_lattice}\")\n",
    "print(f\"Groupe ponctuel : {point_group}\")"
   ]
  },
  {
   "cell_type": "code",
   "execution_count": null,
   "id": "f867525c",
   "metadata": {},
   "outputs": [],
   "source": []
  }
 ],
 "metadata": {
  "kernelspec": {
   "display_name": "base",
   "language": "python",
   "name": "python3"
  },
  "language_info": {
   "codemirror_mode": {
    "name": "ipython",
    "version": 3
   },
   "file_extension": ".py",
   "mimetype": "text/x-python",
   "name": "python",
   "nbconvert_exporter": "python",
   "pygments_lexer": "ipython3",
   "version": "3.11.5"
  }
 },
 "nbformat": 4,
 "nbformat_minor": 5
}
